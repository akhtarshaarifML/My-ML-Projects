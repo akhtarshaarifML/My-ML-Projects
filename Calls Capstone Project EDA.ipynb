{
 "cells": [
  {
   "cell_type": "markdown",
   "metadata": {},
   "source": [
    "For this capstone project we will be analyzing some 911 call data from [Kaggle](https://www.kaggle.com/mchirico/montcoalert). The data contains the following fields:\n",
    "\n",
    "* lat : String variable, Latitude\n",
    "* lng: String variable, Longitude\n",
    "* desc: String variable, Description of the Emergency Call\n",
    "* zip: String variable, Zipcode\n",
    "* title: String variable, Title\n",
    "* timeStamp: String variable, YYYY-MM-DD HH:MM:SS\n",
    "* twp: String variable, Township\n",
    "* addr: String variable, Address\n",
    "* e: String variable, Dummy variable (always 1)\n"
   ]
  },
  {
   "cell_type": "code",
   "execution_count": null,
   "metadata": {},
   "outputs": [],
   "source": [
    "import numpy as np\n",
    "import pandas as pd\n",
    "import matplotlib.pyplot as plt\n",
    "import seaborn as sns\n",
    "\n",
    "%matplotlib inline # this line is needed to display the plots in the notebook"
   ]
  },
  {
   "cell_type": "code",
   "execution_count": 7,
   "metadata": {},
   "outputs": [
    {
     "data": {
      "text/html": [
       "<div>\n",
       "<style scoped>\n",
       "    .dataframe tbody tr th:only-of-type {\n",
       "        vertical-align: middle;\n",
       "    }\n",
       "\n",
       "    .dataframe tbody tr th {\n",
       "        vertical-align: top;\n",
       "    }\n",
       "\n",
       "    .dataframe thead th {\n",
       "        text-align: right;\n",
       "    }\n",
       "</style>\n",
       "<table border=\"1\" class=\"dataframe\">\n",
       "  <thead>\n",
       "    <tr style=\"text-align: right;\">\n",
       "      <th></th>\n",
       "      <th>lat</th>\n",
       "      <th>lng</th>\n",
       "      <th>desc</th>\n",
       "      <th>zip</th>\n",
       "      <th>title</th>\n",
       "      <th>timeStamp</th>\n",
       "      <th>twp</th>\n",
       "      <th>addr</th>\n",
       "      <th>e</th>\n",
       "    </tr>\n",
       "  </thead>\n",
       "  <tbody>\n",
       "    <tr>\n",
       "      <th>0</th>\n",
       "      <td>40.297876</td>\n",
       "      <td>-75.581294</td>\n",
       "      <td>REINDEER CT &amp; DEAD END;  NEW HANOVER; Station ...</td>\n",
       "      <td>19525.0</td>\n",
       "      <td>EMS: BACK PAINS/INJURY</td>\n",
       "      <td>2015-12-10 17:40:00</td>\n",
       "      <td>NEW HANOVER</td>\n",
       "      <td>REINDEER CT &amp; DEAD END</td>\n",
       "      <td>1</td>\n",
       "    </tr>\n",
       "    <tr>\n",
       "      <th>1</th>\n",
       "      <td>40.258061</td>\n",
       "      <td>-75.264680</td>\n",
       "      <td>BRIAR PATH &amp; WHITEMARSH LN;  HATFIELD TOWNSHIP...</td>\n",
       "      <td>19446.0</td>\n",
       "      <td>EMS: DIABETIC EMERGENCY</td>\n",
       "      <td>2015-12-10 17:40:00</td>\n",
       "      <td>HATFIELD TOWNSHIP</td>\n",
       "      <td>BRIAR PATH &amp; WHITEMARSH LN</td>\n",
       "      <td>1</td>\n",
       "    </tr>\n",
       "    <tr>\n",
       "      <th>2</th>\n",
       "      <td>40.121182</td>\n",
       "      <td>-75.351975</td>\n",
       "      <td>HAWS AVE; NORRISTOWN; 2015-12-10 @ 14:39:21-St...</td>\n",
       "      <td>19401.0</td>\n",
       "      <td>Fire: GAS-ODOR/LEAK</td>\n",
       "      <td>2015-12-10 17:40:00</td>\n",
       "      <td>NORRISTOWN</td>\n",
       "      <td>HAWS AVE</td>\n",
       "      <td>1</td>\n",
       "    </tr>\n",
       "    <tr>\n",
       "      <th>3</th>\n",
       "      <td>40.116153</td>\n",
       "      <td>-75.343513</td>\n",
       "      <td>AIRY ST &amp; SWEDE ST;  NORRISTOWN; Station 308A;...</td>\n",
       "      <td>19401.0</td>\n",
       "      <td>EMS: CARDIAC EMERGENCY</td>\n",
       "      <td>2015-12-10 17:40:01</td>\n",
       "      <td>NORRISTOWN</td>\n",
       "      <td>AIRY ST &amp; SWEDE ST</td>\n",
       "      <td>1</td>\n",
       "    </tr>\n",
       "    <tr>\n",
       "      <th>4</th>\n",
       "      <td>40.251492</td>\n",
       "      <td>-75.603350</td>\n",
       "      <td>CHERRYWOOD CT &amp; DEAD END;  LOWER POTTSGROVE; S...</td>\n",
       "      <td>NaN</td>\n",
       "      <td>EMS: DIZZINESS</td>\n",
       "      <td>2015-12-10 17:40:01</td>\n",
       "      <td>LOWER POTTSGROVE</td>\n",
       "      <td>CHERRYWOOD CT &amp; DEAD END</td>\n",
       "      <td>1</td>\n",
       "    </tr>\n",
       "  </tbody>\n",
       "</table>\n",
       "</div>"
      ],
      "text/plain": [
       "         lat        lng                                               desc  \\\n",
       "0  40.297876 -75.581294  REINDEER CT & DEAD END;  NEW HANOVER; Station ...   \n",
       "1  40.258061 -75.264680  BRIAR PATH & WHITEMARSH LN;  HATFIELD TOWNSHIP...   \n",
       "2  40.121182 -75.351975  HAWS AVE; NORRISTOWN; 2015-12-10 @ 14:39:21-St...   \n",
       "3  40.116153 -75.343513  AIRY ST & SWEDE ST;  NORRISTOWN; Station 308A;...   \n",
       "4  40.251492 -75.603350  CHERRYWOOD CT & DEAD END;  LOWER POTTSGROVE; S...   \n",
       "\n",
       "       zip                    title            timeStamp                twp  \\\n",
       "0  19525.0   EMS: BACK PAINS/INJURY  2015-12-10 17:40:00        NEW HANOVER   \n",
       "1  19446.0  EMS: DIABETIC EMERGENCY  2015-12-10 17:40:00  HATFIELD TOWNSHIP   \n",
       "2  19401.0      Fire: GAS-ODOR/LEAK  2015-12-10 17:40:00         NORRISTOWN   \n",
       "3  19401.0   EMS: CARDIAC EMERGENCY  2015-12-10 17:40:01         NORRISTOWN   \n",
       "4      NaN           EMS: DIZZINESS  2015-12-10 17:40:01   LOWER POTTSGROVE   \n",
       "\n",
       "                         addr  e  \n",
       "0      REINDEER CT & DEAD END  1  \n",
       "1  BRIAR PATH & WHITEMARSH LN  1  \n",
       "2                    HAWS AVE  1  \n",
       "3          AIRY ST & SWEDE ST  1  \n",
       "4    CHERRYWOOD CT & DEAD END  1  "
      ]
     },
     "execution_count": 7,
     "metadata": {},
     "output_type": "execute_result"
    }
   ],
   "source": [
    "# read the data\n",
    "df = pd.read_csv('911.csv')\n",
    "\n",
    "df.head()\n"
   ]
  },
  {
   "cell_type": "code",
   "execution_count": 8,
   "metadata": {},
   "outputs": [
    {
     "name": "stdout",
     "output_type": "stream",
     "text": [
      "<class 'pandas.core.frame.DataFrame'>\n",
      "RangeIndex: 99492 entries, 0 to 99491\n",
      "Data columns (total 9 columns):\n",
      " #   Column     Non-Null Count  Dtype  \n",
      "---  ------     --------------  -----  \n",
      " 0   lat        99492 non-null  float64\n",
      " 1   lng        99492 non-null  float64\n",
      " 2   desc       99492 non-null  object \n",
      " 3   zip        86637 non-null  float64\n",
      " 4   title      99492 non-null  object \n",
      " 5   timeStamp  99492 non-null  object \n",
      " 6   twp        99449 non-null  object \n",
      " 7   addr       98973 non-null  object \n",
      " 8   e          99492 non-null  int64  \n",
      "dtypes: float64(3), int64(1), object(5)\n",
      "memory usage: 6.8+ MB\n"
     ]
    }
   ],
   "source": [
    "df.info()"
   ]
  },
  {
   "cell_type": "code",
   "execution_count": null,
   "metadata": {},
   "outputs": [
    {
     "data": {
      "text/plain": [
       "zip\n",
       "19401.0    6979\n",
       "19464.0    6643\n",
       "19403.0    4854\n",
       "19446.0    4748\n",
       "19406.0    3174\n",
       "Name: count, dtype: int64"
      ]
     },
     "execution_count": 10,
     "metadata": {},
     "output_type": "execute_result"
    }
   ],
   "source": [
    "df.zip.value_counts().head(5)\n",
    "#Top 5 zipcodes for 911 calls"
   ]
  },
  {
   "cell_type": "code",
   "execution_count": 11,
   "metadata": {},
   "outputs": [
    {
     "data": {
      "text/plain": [
       "twp\n",
       "LOWER MERION    8443\n",
       "ABINGTON        5977\n",
       "NORRISTOWN      5890\n",
       "UPPER MERION    5227\n",
       "CHELTENHAM      4575\n",
       "Name: count, dtype: int64"
      ]
     },
     "execution_count": 11,
     "metadata": {},
     "output_type": "execute_result"
    }
   ],
   "source": [
    "#top 5 townships for 911 calls\n",
    "df.twp.value_counts().head(5)"
   ]
  },
  {
   "cell_type": "code",
   "execution_count": null,
   "metadata": {},
   "outputs": [
    {
     "data": {
      "text/plain": [
       "110"
      ]
     },
     "execution_count": 12,
     "metadata": {},
     "output_type": "execute_result"
    }
   ],
   "source": [
    "df.title.nunique()\n",
    "#no of unique titles"
   ]
  },
  {
   "cell_type": "code",
   "execution_count": null,
   "metadata": {},
   "outputs": [
    {
     "data": {
      "text/plain": [
       "title\n",
       "Traffic: VEHICLE ACCIDENT -       0.231838\n",
       "Traffic: DISABLED VEHICLE -       0.077413\n",
       "Fire: FIRE ALARM                  0.055241\n",
       "EMS: RESPIRATORY EMERGENCY        0.051381\n",
       "EMS: CARDIAC EMERGENCY            0.050376\n",
       "EMS: FALL VICTIM                  0.048878\n",
       "EMS: VEHICLE ACCIDENT             0.039551\n",
       "Traffic: ROAD OBSTRUCTION -       0.031601\n",
       "EMS: SUBJECT IN PAIN              0.027007\n",
       "EMS: HEAD INJURY                  0.026444\n",
       "EMS: UNKNOWN MEDICAL EMERGENCY    0.018826\n",
       "EMS: SYNCOPAL EPISODE             0.017258\n",
       "Fire: VEHICLE ACCIDENT            0.016464\n",
       "EMS: SEIZURES                     0.016383\n",
       "EMS: GENERAL WEAKNESS             0.014715\n",
       "Name: proportion, dtype: float64"
      ]
     },
     "execution_count": 14,
     "metadata": {},
     "output_type": "execute_result"
    }
   ],
   "source": [
    "df.title.value_counts(normalize=True).head(15)\n",
    "#top 15 titles"
   ]
  },
  {
   "cell_type": "code",
   "execution_count": 18,
   "metadata": {},
   "outputs": [
    {
     "data": {
      "image/png": "[encoded data removed]",
      "text/plain": [
       "<Figure size 640x480 with 1 Axes>"
      ]
     },
     "metadata": {},
     "output_type": "display_data"
    }
   ],
   "source": [
    "#creating new features from the title column\n",
    "df['reason'] = df.title.apply(lambda x: x.split(':')[0])\n",
    "df['reason'] = df['reason'].astype('category')\n",
    "reason_counts = df['reason'].value_counts()\n",
    "reason_counts.plot(kind='bar', title='Counts of Reasons')\n",
    "plt.title('Counts of Reasons')\n",
    "plt.xlabel('Reason')\n",
    "plt.ylabel('Count')\n",
    "plt.xticks(rotation=45)\n",
    "plt.tight_layout()\n",
    "plt.show()\n",
    "\n",
    "#observations\n",
    "#EMS is the most common reason for 911 calls\n",
    "#fire is the least common reason for 911 calls\n"
   ]
  },
  {
   "cell_type": "code",
   "execution_count": null,
   "metadata": {},
   "outputs": [
    {
     "data": {
      "text/html": [
       "        <script type=\"text/javascript\">\n",
       "        window.PlotlyConfig = {MathJaxConfig: 'local'};\n",
       "        if (window.MathJax && window.MathJax.Hub && window.MathJax.Hub.Config) {window.MathJax.Hub.Config({SVG: {font: \"STIX-Web\"}});}\n",
       "        if (typeof require !== 'undefined') {\n",
       "        require.undef(\"plotly\");\n",
       "        requirejs.config({\n",
       "            paths: {\n",
       "                'plotly': ['https://cdn.plot.ly/plotly-2.35.2.min']\n",
       "            }\n",
       "        });\n",
       "        require(['plotly'], function(Plotly) {\n",
       "            window._Plotly = Plotly;\n",
       "        });\n",
       "        }\n",
       "        </script>\n",
       "        "
      ]
     },
     "metadata": {},
     "output_type": "display_data"
    },
    {
     "data": {
      "application/vnd.plotly.v1+json": {
       "config": {
        "linkText": "Export to plot.ly",
        "plotlyServerURL": "https://plot.ly",
        "showLink": true
       },
       "data": [
        {
         "marker": {
          "color": "rgba(255, 153, 51, 0.6)",
          "line": {
           "color": "rgba(255, 153, 51, 1.0)",
           "width": 1
          }
         },
         "name": "count",
         "orientation": "v",
         "text": "",
         "type": "bar",
         "x": [
          "EMS",
          "Traffic",
          "Fire"
         ],
         "y": [
          48877,
          35695,
          14920
         ]
        }
       ],
       "layout": {
        "legend": {
         "bgcolor": "#F5F6F9",
         "font": {
          "color": "#4D5663"
         }
        },
        "paper_bgcolor": "#F5F6F9",
        "plot_bgcolor": "#F5F6F9",
        "template": {
         "data": {
          "bar": [
           {
            "error_x": {
             "color": "#2a3f5f"
            },
            "error_y": {
             "color": "#2a3f5f"
            },
            "marker": {
             "line": {
              "color": "#E5ECF6",
              "width": 0.5
             },
             "pattern": {
              "fillmode": "overlay",
              "size": 10,
              "solidity": 0.2
             }
            },
            "type": "bar"
           }
          ],
          "barpolar": [
           {
            "marker": {
             "line": {
              "color": "#E5ECF6",
              "width": 0.5
             },
             "pattern": {
              "fillmode": "overlay",
              "size": 10,
              "solidity": 0.2
             }
            },
            "type": "barpolar"
           }
          ],
          "carpet": [
           {
            "aaxis": {
             "endlinecolor": "#2a3f5f",
             "gridcolor": "white",
             "linecolor": "white",
             "minorgridcolor": "white",
             "startlinecolor": "#2a3f5f"
            },
            "baxis": {
             "endlinecolor": "#2a3f5f",
             "gridcolor": "white",
             "linecolor": "white",
             "minorgridcolor": "white",
             "startlinecolor": "#2a3f5f"
            },
            "type": "carpet"
           }
          ],
          "choropleth": [
           {
            "colorbar": {
             "outlinewidth": 0,
             "ticks": ""
            },
            "type": "choropleth"
           }
          ],
          "contour": [
           {
            "colorbar": {
             "outlinewidth": 0,
             "ticks": ""
            },
            "colorscale": [
             [
              0,
              "#0d0887"
             ],
             [
              0.1111111111111111,
              "#46039f"
             ],
             [
              0.2222222222222222,
              "#7201a8"
             ],
             [
              0.3333333333333333,
              "#9c179e"
             ],
             [
              0.4444444444444444,
              "#bd3786"
             ],
             [
              0.5555555555555556,
              "#d8576b"
             ],
             [
              0.6666666666666666,
              "#ed7953"
             ],
             [
              0.7777777777777778,
              "#fb9f3a"
             ],
             [
              0.8888888888888888,
              "#fdca26"
             ],
             [
              1,
              "#f0f921"
             ]
            ],
            "type": "contour"
           }
          ],
          "contourcarpet": [
           {
            "colorbar": {
             "outlinewidth": 0,
             "ticks": ""
            },
            "type": "contourcarpet"
           }
          ],
          "heatmap": [
           {
            "colorbar": {
             "outlinewidth": 0,
             "ticks": ""
            },
            "colorscale": [
             [
              0,
              "#0d0887"
             ],
             [
              0.1111111111111111,
              "#46039f"
             ],
             [
              0.2222222222222222,
              "#7201a8"
             ],
             [
              0.3333333333333333,
              "#9c179e"
             ],
             [
              0.4444444444444444,
              "#bd3786"
             ],
             [
              0.5555555555555556,
              "#d8576b"
             ],
             [
              0.6666666666666666,
              "#ed7953"
             ],
             [
              0.7777777777777778,
              "#fb9f3a"
             ],
             [
              0.8888888888888888,
              "#fdca26"
             ],
             [
              1,
              "#f0f921"
             ]
            ],
            "type": "heatmap"
           }
          ],
          "heatmapgl": [
           {
            "colorbar": {
             "outlinewidth": 0,
             "ticks": ""
            },
            "colorscale": [
             [
              0,
              "#0d0887"
             ],
             [
              0.1111111111111111,
              "#46039f"
             ],
             [
              0.2222222222222222,
              "#7201a8"
             ],
             [
              0.3333333333333333,
              "#9c179e"
             ],
             [
              0.4444444444444444,
              "#bd3786"
             ],
             [
              0.5555555555555556,
              "#d8576b"
             ],
             [
              0.6666666666666666,
              "#ed7953"
             ],
             [
              0.7777777777777778,
              "#fb9f3a"
             ],
             [
              0.8888888888888888,
              "#fdca26"
             ],
             [
              1,
              "#f0f921"
             ]
            ],
            "type": "heatmapgl"
           }
          ],
          "histogram": [
           {
            "marker": {
             "pattern": {
              "fillmode": "overlay",
              "size": 10,
              "solidity": 0.2
             }
            },
            "type": "histogram"
           }
          ],
          "histogram2d": [
           {
            "colorbar": {
             "outlinewidth": 0,
             "ticks": ""
            },
            "colorscale": [
             [
              0,
              "#0d0887"
             ],
             [
              0.1111111111111111,
              "#46039f"
             ],
             [
              0.2222222222222222,
              "#7201a8"
             ],
             [
              0.3333333333333333,
              "#9c179e"
             ],
             [
              0.4444444444444444,
              "#bd3786"
             ],
             [
              0.5555555555555556,
              "#d8576b"
             ],
             [
              0.6666666666666666,
              "#ed7953"
             ],
             [
              0.7777777777777778,
              "#fb9f3a"
             ],
             [
              0.8888888888888888,
              "#fdca26"
             ],
             [
              1,
              "#f0f921"
             ]
            ],
            "type": "histogram2d"
           }
          ],
          "histogram2dcontour": [
           {
            "colorbar": {
             "outlinewidth": 0,
             "ticks": ""
            },
            "colorscale": [
             [
              0,
              "#0d0887"
             ],
             [
              0.1111111111111111,
              "#46039f"
             ],
             [
              0.2222222222222222,
              "#7201a8"
             ],
             [
              0.3333333333333333,
              "#9c179e"
             ],
             [
              0.4444444444444444,
              "#bd3786"
             ],
             [
              0.5555555555555556,
              "#d8576b"
             ],
             [
              0.6666666666666666,
              "#ed7953"
             ],
             [
              0.7777777777777778,
              "#fb9f3a"
             ],
             [
              0.8888888888888888,
              "#fdca26"
             ],
             [
              1,
              "#f0f921"
             ]
            ],
            "type": "histogram2dcontour"
           }
          ],
          "mesh3d": [
           {
            "colorbar": {
             "outlinewidth": 0,
             "ticks": ""
            },
            "type": "mesh3d"
           }
          ],
          "parcoords": [
           {
            "line": {
             "colorbar": {
              "outlinewidth": 0,
              "ticks": ""
             }
            },
            "type": "parcoords"
           }
          ],
          "pie": [
           {
            "automargin": true,
            "type": "pie"
           }
          ],
          "scatter": [
           {
            "fillpattern": {
             "fillmode": "overlay",
             "size": 10,
             "solidity": 0.2
            },
            "type": "scatter"
           }
          ],
          "scatter3d": [
           {
            "line": {
             "colorbar": {
              "outlinewidth": 0,
              "ticks": ""
             }
            },
            "marker": {
             "colorbar": {
              "outlinewidth": 0,
              "ticks": ""
             }
            },
            "type": "scatter3d"
           }
          ],
          "scattercarpet": [
           {
            "marker": {
             "colorbar": {
              "outlinewidth": 0,
              "ticks": ""
             }
            },
            "type": "scattercarpet"
           }
          ],
          "scattergeo": [
           {
            "marker": {
             "colorbar": {
              "outlinewidth": 0,
              "ticks": ""
             }
            },
            "type": "scattergeo"
           }
          ],
          "scattergl": [
           {
            "marker": {
             "colorbar": {
              "outlinewidth": 0,
              "ticks": ""
             }
            },
            "type": "scattergl"
           }
          ],
          "scattermapbox": [
           {
            "marker": {
             "colorbar": {
              "outlinewidth": 0,
              "ticks": ""
             }
            },
            "type": "scattermapbox"
           }
          ],
          "scatterpolar": [
           {
            "marker": {
             "colorbar": {
              "outlinewidth": 0,
              "ticks": ""
             }
            },
            "type": "scatterpolar"
           }
          ],
          "scatterpolargl": [
           {
            "marker": {
             "colorbar": {
              "outlinewidth": 0,
              "ticks": ""
             }
            },
            "type": "scatterpolargl"
           }
          ],
          "scatterternary": [
           {
            "marker": {
             "colorbar": {
              "outlinewidth": 0,
              "ticks": ""
             }
            },
            "type": "scatterternary"
           }
          ],
          "surface": [
           {
            "colorbar": {
             "outlinewidth": 0,
             "ticks": ""
            },
            "colorscale": [
             [
              0,
              "#0d0887"
             ],
             [
              0.1111111111111111,
              "#46039f"
             ],
             [
              0.2222222222222222,
              "#7201a8"
             ],
             [
              0.3333333333333333,
              "#9c179e"
             ],
             [
              0.4444444444444444,
              "#bd3786"
             ],
             [
              0.5555555555555556,
              "#d8576b"
             ],
             [
              0.6666666666666666,
              "#ed7953"
             ],
             [
              0.7777777777777778,
              "#fb9f3a"
             ],
             [
              0.8888888888888888,
              "#fdca26"
             ],
             [
              1,
              "#f0f921"
             ]
            ],
            "type": "surface"
           }
          ],
          "table": [
           {
            "cells": {
             "fill": {
              "color": "#EBF0F8"
             },
             "line": {
              "color": "white"
             }
            },
            "header": {
             "fill": {
              "color": "#C8D4E3"
             },
             "line": {
              "color": "white"
             }
            },
            "type": "table"
           }
          ]
         },
         "layout": {
          "annotationdefaults": {
           "arrowcolor": "#2a3f5f",
           "arrowhead": 0,
           "arrowwidth": 1
          },
          "autotypenumbers": "strict",
          "coloraxis": {
           "colorbar": {
            "outlinewidth": 0,
            "ticks": ""
           }
          },
          "colorscale": {
           "diverging": [
            [
             0,
             "#8e0152"
            ],
            [
             0.1,
             "#c51b7d"
            ],
            [
             0.2,
             "#de77ae"
            ],
            [
             0.3,
             "#f1b6da"
            ],
            [
             0.4,
             "#fde0ef"
            ],
            [
             0.5,
             "#f7f7f7"
            ],
            [
             0.6,
             "#e6f5d0"
            ],
            [
             0.7,
             "#b8e186"
            ],
            [
             0.8,
             "#7fbc41"
            ],
            [
             0.9,
             "#4d9221"
            ],
            [
             1,
             "#276419"
            ]
           ],
           "sequential": [
            [
             0,
             "#0d0887"
            ],
            [
             0.1111111111111111,
             "#46039f"
            ],
            [
             0.2222222222222222,
             "#7201a8"
            ],
            [
             0.3333333333333333,
             "#9c179e"
            ],
            [
             0.4444444444444444,
             "#bd3786"
            ],
            [
             0.5555555555555556,
             "#d8576b"
            ],
            [
             0.6666666666666666,
             "#ed7953"
            ],
            [
             0.7777777777777778,
             "#fb9f3a"
            ],
            [
             0.8888888888888888,
             "#fdca26"
            ],
            [
             1,
             "#f0f921"
            ]
           ],
           "sequentialminus": [
            [
             0,
             "#0d0887"
            ],
            [
             0.1111111111111111,
             "#46039f"
            ],
            [
             0.2222222222222222,
             "#7201a8"
            ],
            [
             0.3333333333333333,
             "#9c179e"
            ],
            [
             0.4444444444444444,
             "#bd3786"
            ],
            [
             0.5555555555555556,
             "#d8576b"
            ],
            [
             0.6666666666666666,
             "#ed7953"
            ],
            [
             0.7777777777777778,
             "#fb9f3a"
            ],
            [
             0.8888888888888888,
             "#fdca26"
            ],
            [
             1,
             "#f0f921"
            ]
           ]
          },
          "colorway": [
           "#636efa",
           "#EF553B",
           "#00cc96",
           "#ab63fa",
           "#FFA15A",
           "#19d3f3",
           "#FF6692",
           "#B6E880",
           "#FF97FF",
           "#FECB52"
          ],
          "font": {
           "color": "#2a3f5f"
          },
          "geo": {
           "bgcolor": "white",
           "lakecolor": "white",
           "landcolor": "#E5ECF6",
           "showlakes": true,
           "showland": true,
           "subunitcolor": "white"
          },
          "hoverlabel": {
           "align": "left"
          },
          "hovermode": "closest",
          "mapbox": {
           "style": "light"
          },
          "paper_bgcolor": "white",
          "plot_bgcolor": "#E5ECF6",
          "polar": {
           "angularaxis": {
            "gridcolor": "white",
            "linecolor": "white",
            "ticks": ""
           },
           "bgcolor": "#E5ECF6",
           "radialaxis": {
            "gridcolor": "white",
            "linecolor": "white",
            "ticks": ""
           }
          },
          "scene": {
           "xaxis": {
            "backgroundcolor": "#E5ECF6",
            "gridcolor": "white",
            "gridwidth": 2,
            "linecolor": "white",
            "showbackground": true,
            "ticks": "",
            "zerolinecolor": "white"
           },
           "yaxis": {
            "backgroundcolor": "#E5ECF6",
            "gridcolor": "white",
            "gridwidth": 2,
            "linecolor": "white",
            "showbackground": true,
            "ticks": "",
            "zerolinecolor": "white"
           },
           "zaxis": {
            "backgroundcolor": "#E5ECF6",
            "gridcolor": "white",
            "gridwidth": 2,
            "linecolor": "white",
            "showbackground": true,
            "ticks": "",
            "zerolinecolor": "white"
           }
          },
          "shapedefaults": {
           "line": {
            "color": "#2a3f5f"
           }
          },
          "ternary": {
           "aaxis": {
            "gridcolor": "white",
            "linecolor": "white",
            "ticks": ""
           },
           "baxis": {
            "gridcolor": "white",
            "linecolor": "white",
            "ticks": ""
           },
           "bgcolor": "#E5ECF6",
           "caxis": {
            "gridcolor": "white",
            "linecolor": "white",
            "ticks": ""
           }
          },
          "title": {
           "x": 0.05
          },
          "xaxis": {
           "automargin": true,
           "gridcolor": "white",
           "linecolor": "white",
           "ticks": "",
           "title": {
            "standoff": 15
           },
           "zerolinecolor": "white",
           "zerolinewidth": 2
          },
          "yaxis": {
           "automargin": true,
           "gridcolor": "white",
           "linecolor": "white",
           "ticks": "",
           "title": {
            "standoff": 15
           },
           "zerolinecolor": "white",
           "zerolinewidth": 2
          }
         }
        },
        "title": {
         "font": {
          "color": "#4D5663"
         },
         "text": "Counts of Reasons"
        },
        "xaxis": {
         "gridcolor": "#E1E5ED",
         "showgrid": true,
         "tickfont": {
          "color": "#4D5663"
         },
         "title": {
          "font": {
           "color": "#4D5663"
          },
          "text": "Reason"
         },
         "zerolinecolor": "#E1E5ED"
        },
        "yaxis": {
         "gridcolor": "#E1E5ED",
         "showgrid": true,
         "tickfont": {
          "color": "#4D5663"
         },
         "title": {
          "font": {
           "color": "#4D5663"
          },
          "text": "Count"
         },
         "zerolinecolor": "#E1E5ED"
        }
       }
      },
      "text/html": [
       "<div>                            <div id=\"ce8b7102-ff60-45fc-93f3-b6844e1c48ec\" class=\"plotly-graph-div\" style=\"height:525px; width:100%;\"></div>            <script type=\"text/javascript\">                require([\"plotly\"], function(Plotly) {                    window.PLOTLYENV=window.PLOTLYENV || {};\n",
       "                    window.PLOTLYENV.BASE_URL='https://plot.ly';                                    if (document.getElementById(\"ce8b7102-ff60-45fc-93f3-b6844e1c48ec\")) {                    Plotly.newPlot(                        \"ce8b7102-ff60-45fc-93f3-b6844e1c48ec\",                        [{\"marker\":{\"color\":\"rgba(255, 153, 51, 0.6)\",\"line\":{\"color\":\"rgba(255, 153, 51, 1.0)\",\"width\":1}},\"name\":\"count\",\"orientation\":\"v\",\"text\":\"\",\"x\":[\"EMS\",\"Traffic\",\"Fire\"],\"y\":[48877,35695,14920],\"type\":\"bar\"}],                        {\"legend\":{\"bgcolor\":\"#F5F6F9\",\"font\":{\"color\":\"#4D5663\"}},\"paper_bgcolor\":\"#F5F6F9\",\"plot_bgcolor\":\"#F5F6F9\",\"template\":{\"data\":{\"barpolar\":[{\"marker\":{\"line\":{\"color\":\"#E5ECF6\",\"width\":0.5},\"pattern\":{\"fillmode\":\"overlay\",\"size\":10,\"solidity\":0.2}},\"type\":\"barpolar\"}],\"bar\":[{\"error_x\":{\"color\":\"#2a3f5f\"},\"error_y\":{\"color\":\"#2a3f5f\"},\"marker\":{\"line\":{\"color\":\"#E5ECF6\",\"width\":0.5},\"pattern\":{\"fillmode\":\"overlay\",\"size\":10,\"solidity\":0.2}},\"type\":\"bar\"}],\"carpet\":[{\"aaxis\":{\"endlinecolor\":\"#2a3f5f\",\"gridcolor\":\"white\",\"linecolor\":\"white\",\"minorgridcolor\":\"white\",\"startlinecolor\":\"#2a3f5f\"},\"baxis\":{\"endlinecolor\":\"#2a3f5f\",\"gridcolor\":\"white\",\"linecolor\":\"white\",\"minorgridcolor\":\"white\",\"startlinecolor\":\"#2a3f5f\"},\"type\":\"carpet\"}],\"choropleth\":[{\"colorbar\":{\"outlinewidth\":0,\"ticks\":\"\"},\"type\":\"choropleth\"}],\"contourcarpet\":[{\"colorbar\":{\"outlinewidth\":0,\"ticks\":\"\"},\"type\":\"contourcarpet\"}],\"contour\":[{\"colorbar\":{\"outlinewidth\":0,\"ticks\":\"\"},\"colorscale\":[[0.0,\"#0d0887\"],[0.1111111111111111,\"#46039f\"],[0.2222222222222222,\"#7201a8\"],[0.3333333333333333,\"#9c179e\"],[0.4444444444444444,\"#bd3786\"],[0.5555555555555556,\"#d8576b\"],[0.6666666666666666,\"#ed7953\"],[0.7777777777777778,\"#fb9f3a\"],[0.8888888888888888,\"#fdca26\"],[1.0,\"#f0f921\"]],\"type\":\"contour\"}],\"heatmapgl\":[{\"colorbar\":{\"outlinewidth\":0,\"ticks\":\"\"},\"colorscale\":[[0.0,\"#0d0887\"],[0.1111111111111111,\"#46039f\"],[0.2222222222222222,\"#7201a8\"],[0.3333333333333333,\"#9c179e\"],[0.4444444444444444,\"#bd3786\"],[0.5555555555555556,\"#d8576b\"],[0.6666666666666666,\"#ed7953\"],[0.7777777777777778,\"#fb9f3a\"],[0.8888888888888888,\"#fdca26\"],[1.0,\"#f0f921\"]],\"type\":\"heatmapgl\"}],\"heatmap\":[{\"colorbar\":{\"outlinewidth\":0,\"ticks\":\"\"},\"colorscale\":[[0.0,\"#0d0887\"],[0.1111111111111111,\"#46039f\"],[0.2222222222222222,\"#7201a8\"],[0.3333333333333333,\"#9c179e\"],[0.4444444444444444,\"#bd3786\"],[0.5555555555555556,\"#d8576b\"],[0.6666666666666666,\"#ed7953\"],[0.7777777777777778,\"#fb9f3a\"],[0.8888888888888888,\"#fdca26\"],[1.0,\"#f0f921\"]],\"type\":\"heatmap\"}],\"histogram2dcontour\":[{\"colorbar\":{\"outlinewidth\":0,\"ticks\":\"\"},\"colorscale\":[[0.0,\"#0d0887\"],[0.1111111111111111,\"#46039f\"],[0.2222222222222222,\"#7201a8\"],[0.3333333333333333,\"#9c179e\"],[0.4444444444444444,\"#bd3786\"],[0.5555555555555556,\"#d8576b\"],[0.6666666666666666,\"#ed7953\"],[0.7777777777777778,\"#fb9f3a\"],[0.8888888888888888,\"#fdca26\"],[1.0,\"#f0f921\"]],\"type\":\"histogram2dcontour\"}],\"histogram2d\":[{\"colorbar\":{\"outlinewidth\":0,\"ticks\":\"\"},\"colorscale\":[[0.0,\"#0d0887\"],[0.1111111111111111,\"#46039f\"],[0.2222222222222222,\"#7201a8\"],[0.3333333333333333,\"#9c179e\"],[0.4444444444444444,\"#bd3786\"],[0.5555555555555556,\"#d8576b\"],[0.6666666666666666,\"#ed7953\"],[0.7777777777777778,\"#fb9f3a\"],[0.8888888888888888,\"#fdca26\"],[1.0,\"#f0f921\"]],\"type\":\"histogram2d\"}],\"histogram\":[{\"marker\":{\"pattern\":{\"fillmode\":\"overlay\",\"size\":10,\"solidity\":0.2}},\"type\":\"histogram\"}],\"mesh3d\":[{\"colorbar\":{\"outlinewidth\":0,\"ticks\":\"\"},\"type\":\"mesh3d\"}],\"parcoords\":[{\"line\":{\"colorbar\":{\"outlinewidth\":0,\"ticks\":\"\"}},\"type\":\"parcoords\"}],\"pie\":[{\"automargin\":true,\"type\":\"pie\"}],\"scatter3d\":[{\"line\":{\"colorbar\":{\"outlinewidth\":0,\"ticks\":\"\"}},\"marker\":{\"colorbar\":{\"outlinewidth\":0,\"ticks\":\"\"}},\"type\":\"scatter3d\"}],\"scattercarpet\":[{\"marker\":{\"colorbar\":{\"outlinewidth\":0,\"ticks\":\"\"}},\"type\":\"scattercarpet\"}],\"scattergeo\":[{\"marker\":{\"colorbar\":{\"outlinewidth\":0,\"ticks\":\"\"}},\"type\":\"scattergeo\"}],\"scattergl\":[{\"marker\":{\"colorbar\":{\"outlinewidth\":0,\"ticks\":\"\"}},\"type\":\"scattergl\"}],\"scattermapbox\":[{\"marker\":{\"colorbar\":{\"outlinewidth\":0,\"ticks\":\"\"}},\"type\":\"scattermapbox\"}],\"scatterpolargl\":[{\"marker\":{\"colorbar\":{\"outlinewidth\":0,\"ticks\":\"\"}},\"type\":\"scatterpolargl\"}],\"scatterpolar\":[{\"marker\":{\"colorbar\":{\"outlinewidth\":0,\"ticks\":\"\"}},\"type\":\"scatterpolar\"}],\"scatter\":[{\"fillpattern\":{\"fillmode\":\"overlay\",\"size\":10,\"solidity\":0.2},\"type\":\"scatter\"}],\"scatterternary\":[{\"marker\":{\"colorbar\":{\"outlinewidth\":0,\"ticks\":\"\"}},\"type\":\"scatterternary\"}],\"surface\":[{\"colorbar\":{\"outlinewidth\":0,\"ticks\":\"\"},\"colorscale\":[[0.0,\"#0d0887\"],[0.1111111111111111,\"#46039f\"],[0.2222222222222222,\"#7201a8\"],[0.3333333333333333,\"#9c179e\"],[0.4444444444444444,\"#bd3786\"],[0.5555555555555556,\"#d8576b\"],[0.6666666666666666,\"#ed7953\"],[0.7777777777777778,\"#fb9f3a\"],[0.8888888888888888,\"#fdca26\"],[1.0,\"#f0f921\"]],\"type\":\"surface\"}],\"table\":[{\"cells\":{\"fill\":{\"color\":\"#EBF0F8\"},\"line\":{\"color\":\"white\"}},\"header\":{\"fill\":{\"color\":\"#C8D4E3\"},\"line\":{\"color\":\"white\"}},\"type\":\"table\"}]},\"layout\":{\"annotationdefaults\":{\"arrowcolor\":\"#2a3f5f\",\"arrowhead\":0,\"arrowwidth\":1},\"autotypenumbers\":\"strict\",\"coloraxis\":{\"colorbar\":{\"outlinewidth\":0,\"ticks\":\"\"}},\"colorscale\":{\"diverging\":[[0,\"#8e0152\"],[0.1,\"#c51b7d\"],[0.2,\"#de77ae\"],[0.3,\"#f1b6da\"],[0.4,\"#fde0ef\"],[0.5,\"#f7f7f7\"],[0.6,\"#e6f5d0\"],[0.7,\"#b8e186\"],[0.8,\"#7fbc41\"],[0.9,\"#4d9221\"],[1,\"#276419\"]],\"sequential\":[[0.0,\"#0d0887\"],[0.1111111111111111,\"#46039f\"],[0.2222222222222222,\"#7201a8\"],[0.3333333333333333,\"#9c179e\"],[0.4444444444444444,\"#bd3786\"],[0.5555555555555556,\"#d8576b\"],[0.6666666666666666,\"#ed7953\"],[0.7777777777777778,\"#fb9f3a\"],[0.8888888888888888,\"#fdca26\"],[1.0,\"#f0f921\"]],\"sequentialminus\":[[0.0,\"#0d0887\"],[0.1111111111111111,\"#46039f\"],[0.2222222222222222,\"#7201a8\"],[0.3333333333333333,\"#9c179e\"],[0.4444444444444444,\"#bd3786\"],[0.5555555555555556,\"#d8576b\"],[0.6666666666666666,\"#ed7953\"],[0.7777777777777778,\"#fb9f3a\"],[0.8888888888888888,\"#fdca26\"],[1.0,\"#f0f921\"]]},\"colorway\":[\"#636efa\",\"#EF553B\",\"#00cc96\",\"#ab63fa\",\"#FFA15A\",\"#19d3f3\",\"#FF6692\",\"#B6E880\",\"#FF97FF\",\"#FECB52\"],\"font\":{\"color\":\"#2a3f5f\"},\"geo\":{\"bgcolor\":\"white\",\"lakecolor\":\"white\",\"landcolor\":\"#E5ECF6\",\"showlakes\":true,\"showland\":true,\"subunitcolor\":\"white\"},\"hoverlabel\":{\"align\":\"left\"},\"hovermode\":\"closest\",\"mapbox\":{\"style\":\"light\"},\"paper_bgcolor\":\"white\",\"plot_bgcolor\":\"#E5ECF6\",\"polar\":{\"angularaxis\":{\"gridcolor\":\"white\",\"linecolor\":\"white\",\"ticks\":\"\"},\"bgcolor\":\"#E5ECF6\",\"radialaxis\":{\"gridcolor\":\"white\",\"linecolor\":\"white\",\"ticks\":\"\"}},\"scene\":{\"xaxis\":{\"backgroundcolor\":\"#E5ECF6\",\"gridcolor\":\"white\",\"gridwidth\":2,\"linecolor\":\"white\",\"showbackground\":true,\"ticks\":\"\",\"zerolinecolor\":\"white\"},\"yaxis\":{\"backgroundcolor\":\"#E5ECF6\",\"gridcolor\":\"white\",\"gridwidth\":2,\"linecolor\":\"white\",\"showbackground\":true,\"ticks\":\"\",\"zerolinecolor\":\"white\"},\"zaxis\":{\"backgroundcolor\":\"#E5ECF6\",\"gridcolor\":\"white\",\"gridwidth\":2,\"linecolor\":\"white\",\"showbackground\":true,\"ticks\":\"\",\"zerolinecolor\":\"white\"}},\"shapedefaults\":{\"line\":{\"color\":\"#2a3f5f\"}},\"ternary\":{\"aaxis\":{\"gridcolor\":\"white\",\"linecolor\":\"white\",\"ticks\":\"\"},\"baxis\":{\"gridcolor\":\"white\",\"linecolor\":\"white\",\"ticks\":\"\"},\"bgcolor\":\"#E5ECF6\",\"caxis\":{\"gridcolor\":\"white\",\"linecolor\":\"white\",\"ticks\":\"\"}},\"title\":{\"x\":0.05},\"xaxis\":{\"automargin\":true,\"gridcolor\":\"white\",\"linecolor\":\"white\",\"ticks\":\"\",\"title\":{\"standoff\":15},\"zerolinecolor\":\"white\",\"zerolinewidth\":2},\"yaxis\":{\"automargin\":true,\"gridcolor\":\"white\",\"linecolor\":\"white\",\"ticks\":\"\",\"title\":{\"standoff\":15},\"zerolinecolor\":\"white\",\"zerolinewidth\":2}}},\"title\":{\"font\":{\"color\":\"#4D5663\"},\"text\":\"Counts of Reasons\"},\"xaxis\":{\"gridcolor\":\"#E1E5ED\",\"showgrid\":true,\"tickfont\":{\"color\":\"#4D5663\"},\"title\":{\"font\":{\"color\":\"#4D5663\"},\"text\":\"Reason\"},\"zerolinecolor\":\"#E1E5ED\"},\"yaxis\":{\"gridcolor\":\"#E1E5ED\",\"showgrid\":true,\"tickfont\":{\"color\":\"#4D5663\"},\"title\":{\"font\":{\"color\":\"#4D5663\"},\"text\":\"Count\"},\"zerolinecolor\":\"#E1E5ED\"}},                        {\"showLink\": true, \"linkText\": \"Export to plot.ly\", \"plotlyServerURL\": \"https://plot.ly\", \"responsive\": true}                    ).then(function(){\n",
       "                            \n",
       "var gd = document.getElementById('ce8b7102-ff60-45fc-93f3-b6844e1c48ec');\n",
       "var x = new MutationObserver(function (mutations, observer) {{\n",
       "        var display = window.getComputedStyle(gd).display;\n",
       "        if (!display || display === 'none') {{\n",
       "            console.log([gd, 'removed!']);\n",
       "            Plotly.purge(gd);\n",
       "            observer.disconnect();\n",
       "        }}\n",
       "}});\n",
       "\n",
       "// Listen for the removal of the full notebook cells\n",
       "var notebookContainer = gd.closest('#notebook-container');\n",
       "if (notebookContainer) {{\n",
       "    x.observe(notebookContainer, {childList: true});\n",
       "}}\n",
       "\n",
       "// Listen for the clearing of the current output cell\n",
       "var outputEl = gd.closest('.output');\n",
       "if (outputEl) {{\n",
       "    x.observe(outputEl, {childList: true});\n",
       "}}\n",
       "\n",
       "                        })                };                });            </script>        </div>"
      ]
     },
     "metadata": {},
     "output_type": "display_data"
    }
   ],
   "source": [
    "#doing the above plot using plotly and cufflinks\n",
    "import cufflinks as cf\n",
    "cf.go_offline()\n",
    "reason_counts.iplot(kind='bar', title='Counts of Reasons',\n",
    "                     xTitle='Reason', yTitle='Count')\n",
    "\n",
    "#iplot is an interactive plot"
   ]
  },
  {
   "cell_type": "code",
   "execution_count": null,
   "metadata": {},
   "outputs": [
    {
     "data": {
      "text/plain": [
       "0    2015-12-10 17:40:00\n",
       "1    2015-12-10 17:40:00\n",
       "2    2015-12-10 17:40:00\n",
       "3    2015-12-10 17:40:01\n",
       "4    2015-12-10 17:40:01\n",
       "Name: timeStamp, dtype: object"
      ]
     },
     "execution_count": 20,
     "metadata": {},
     "output_type": "execute_result"
    }
   ],
   "source": [
    "#Look at timestamps\n",
    "df.timeStamp.head()\n",
    "#its data type is string\n"
   ]
  },
  {
   "cell_type": "code",
   "execution_count": 22,
   "metadata": {},
   "outputs": [
    {
     "data": {
      "text/plain": [
       "0   2015-12-10 17:40:00\n",
       "1   2015-12-10 17:40:00\n",
       "2   2015-12-10 17:40:00\n",
       "3   2015-12-10 17:40:01\n",
       "4   2015-12-10 17:40:01\n",
       "Name: timeStamp, dtype: datetime64[ns]"
      ]
     },
     "execution_count": 22,
     "metadata": {},
     "output_type": "execute_result"
    }
   ],
   "source": [
    "#converting the timeStamp column to datetime type\n",
    "df['timeStamp'] = pd.to_datetime(df['timeStamp'])\n",
    "df['timeStamp'].head()\n"
   ]
  },
  {
   "cell_type": "code",
   "execution_count": null,
   "metadata": {},
   "outputs": [
    {
     "data": {
      "text/plain": [
       "Timestamp('2015-12-10 17:40:00')"
      ]
     },
     "execution_count": 24,
     "metadata": {},
     "output_type": "execute_result"
    }
   ],
   "source": [
    "df['timeStamp'].iloc[0] #iloc is used to access the element at the specified \n",
    "#index position"
   ]
  },
  {
   "cell_type": "code",
   "execution_count": 28,
   "metadata": {},
   "outputs": [
    {
     "name": "stdout",
     "output_type": "stream",
     "text": [
      "The hour extracted from the timestamp is: 17\n"
     ]
    }
   ],
   "source": [
    "time = df['timeStamp'].iloc[0]\n",
    "hour = time.hour #extracting the hour from the timestamp\n",
    "print(\"The hour extracted from the timestamp is:\", hour) #displaying the \n",
    "#extracted hour"
   ]
  },
  {
   "cell_type": "code",
   "execution_count": 29,
   "metadata": {},
   "outputs": [
    {
     "name": "stdout",
     "output_type": "stream",
     "text": [
      "The month extracted from the timestamp is: 12\n",
      "The day extracted from the timestamp is: 10\n"
     ]
    }
   ],
   "source": [
    "month = time.month #extracting the month from the timestamp\n",
    "print(\"The month extracted from the timestamp is:\", month) #displaying the month\n",
    "\n",
    "day = time.day #extracting the day from the timestamp\n",
    "print(\"The day extracted from the timestamp is:\", day) #displaying the day"
   ]
  },
  {
   "cell_type": "code",
   "execution_count": 30,
   "metadata": {},
   "outputs": [
    {
     "data": {
      "text/html": [
       "<div>\n",
       "<style scoped>\n",
       "    .dataframe tbody tr th:only-of-type {\n",
       "        vertical-align: middle;\n",
       "    }\n",
       "\n",
       "    .dataframe tbody tr th {\n",
       "        vertical-align: top;\n",
       "    }\n",
       "\n",
       "    .dataframe thead th {\n",
       "        text-align: right;\n",
       "    }\n",
       "</style>\n",
       "<table border=\"1\" class=\"dataframe\">\n",
       "  <thead>\n",
       "    <tr style=\"text-align: right;\">\n",
       "      <th></th>\n",
       "      <th>lat</th>\n",
       "      <th>lng</th>\n",
       "      <th>desc</th>\n",
       "      <th>zip</th>\n",
       "      <th>title</th>\n",
       "      <th>timeStamp</th>\n",
       "      <th>twp</th>\n",
       "      <th>addr</th>\n",
       "      <th>e</th>\n",
       "      <th>reason</th>\n",
       "      <th>hour</th>\n",
       "      <th>month</th>\n",
       "      <th>day_of_week</th>\n",
       "    </tr>\n",
       "  </thead>\n",
       "  <tbody>\n",
       "    <tr>\n",
       "      <th>0</th>\n",
       "      <td>40.297876</td>\n",
       "      <td>-75.581294</td>\n",
       "      <td>REINDEER CT &amp; DEAD END;  NEW HANOVER; Station ...</td>\n",
       "      <td>19525.0</td>\n",
       "      <td>EMS: BACK PAINS/INJURY</td>\n",
       "      <td>2015-12-10 17:40:00</td>\n",
       "      <td>NEW HANOVER</td>\n",
       "      <td>REINDEER CT &amp; DEAD END</td>\n",
       "      <td>1</td>\n",
       "      <td>EMS</td>\n",
       "      <td>17</td>\n",
       "      <td>12</td>\n",
       "      <td>3</td>\n",
       "    </tr>\n",
       "    <tr>\n",
       "      <th>1</th>\n",
       "      <td>40.258061</td>\n",
       "      <td>-75.264680</td>\n",
       "      <td>BRIAR PATH &amp; WHITEMARSH LN;  HATFIELD TOWNSHIP...</td>\n",
       "      <td>19446.0</td>\n",
       "      <td>EMS: DIABETIC EMERGENCY</td>\n",
       "      <td>2015-12-10 17:40:00</td>\n",
       "      <td>HATFIELD TOWNSHIP</td>\n",
       "      <td>BRIAR PATH &amp; WHITEMARSH LN</td>\n",
       "      <td>1</td>\n",
       "      <td>EMS</td>\n",
       "      <td>17</td>\n",
       "      <td>12</td>\n",
       "      <td>3</td>\n",
       "    </tr>\n",
       "    <tr>\n",
       "      <th>2</th>\n",
       "      <td>40.121182</td>\n",
       "      <td>-75.351975</td>\n",
       "      <td>HAWS AVE; NORRISTOWN; 2015-12-10 @ 14:39:21-St...</td>\n",
       "      <td>19401.0</td>\n",
       "      <td>Fire: GAS-ODOR/LEAK</td>\n",
       "      <td>2015-12-10 17:40:00</td>\n",
       "      <td>NORRISTOWN</td>\n",
       "      <td>HAWS AVE</td>\n",
       "      <td>1</td>\n",
       "      <td>Fire</td>\n",
       "      <td>17</td>\n",
       "      <td>12</td>\n",
       "      <td>3</td>\n",
       "    </tr>\n",
       "    <tr>\n",
       "      <th>3</th>\n",
       "      <td>40.116153</td>\n",
       "      <td>-75.343513</td>\n",
       "      <td>AIRY ST &amp; SWEDE ST;  NORRISTOWN; Station 308A;...</td>\n",
       "      <td>19401.0</td>\n",
       "      <td>EMS: CARDIAC EMERGENCY</td>\n",
       "      <td>2015-12-10 17:40:01</td>\n",
       "      <td>NORRISTOWN</td>\n",
       "      <td>AIRY ST &amp; SWEDE ST</td>\n",
       "      <td>1</td>\n",
       "      <td>EMS</td>\n",
       "      <td>17</td>\n",
       "      <td>12</td>\n",
       "      <td>3</td>\n",
       "    </tr>\n",
       "    <tr>\n",
       "      <th>4</th>\n",
       "      <td>40.251492</td>\n",
       "      <td>-75.603350</td>\n",
       "      <td>CHERRYWOOD CT &amp; DEAD END;  LOWER POTTSGROVE; S...</td>\n",
       "      <td>NaN</td>\n",
       "      <td>EMS: DIZZINESS</td>\n",
       "      <td>2015-12-10 17:40:01</td>\n",
       "      <td>LOWER POTTSGROVE</td>\n",
       "      <td>CHERRYWOOD CT &amp; DEAD END</td>\n",
       "      <td>1</td>\n",
       "      <td>EMS</td>\n",
       "      <td>17</td>\n",
       "      <td>12</td>\n",
       "      <td>3</td>\n",
       "    </tr>\n",
       "  </tbody>\n",
       "</table>\n",
       "</div>"
      ],
      "text/plain": [
       "         lat        lng                                               desc  \\\n",
       "0  40.297876 -75.581294  REINDEER CT & DEAD END;  NEW HANOVER; Station ...   \n",
       "1  40.258061 -75.264680  BRIAR PATH & WHITEMARSH LN;  HATFIELD TOWNSHIP...   \n",
       "2  40.121182 -75.351975  HAWS AVE; NORRISTOWN; 2015-12-10 @ 14:39:21-St...   \n",
       "3  40.116153 -75.343513  AIRY ST & SWEDE ST;  NORRISTOWN; Station 308A;...   \n",
       "4  40.251492 -75.603350  CHERRYWOOD CT & DEAD END;  LOWER POTTSGROVE; S...   \n",
       "\n",
       "       zip                    title           timeStamp                twp  \\\n",
       "0  19525.0   EMS: BACK PAINS/INJURY 2015-12-10 17:40:00        NEW HANOVER   \n",
       "1  19446.0  EMS: DIABETIC EMERGENCY 2015-12-10 17:40:00  HATFIELD TOWNSHIP   \n",
       "2  19401.0      Fire: GAS-ODOR/LEAK 2015-12-10 17:40:00         NORRISTOWN   \n",
       "3  19401.0   EMS: CARDIAC EMERGENCY 2015-12-10 17:40:01         NORRISTOWN   \n",
       "4      NaN           EMS: DIZZINESS 2015-12-10 17:40:01   LOWER POTTSGROVE   \n",
       "\n",
       "                         addr  e reason  hour  month  day_of_week  \n",
       "0      REINDEER CT & DEAD END  1    EMS    17     12            3  \n",
       "1  BRIAR PATH & WHITEMARSH LN  1    EMS    17     12            3  \n",
       "2                    HAWS AVE  1   Fire    17     12            3  \n",
       "3          AIRY ST & SWEDE ST  1    EMS    17     12            3  \n",
       "4    CHERRYWOOD CT & DEAD END  1    EMS    17     12            3  "
      ]
     },
     "execution_count": 30,
     "metadata": {},
     "output_type": "execute_result"
    }
   ],
   "source": [
    "#Creating new columns for hour, month and day of the week\n",
    "df['hour'] = df['timeStamp'].apply(lambda x: x.hour)\n",
    "df['month'] = df['timeStamp'].apply(lambda x: x.month)\n",
    "df['day_of_week'] = df['timeStamp'].apply(lambda x: x.dayofweek)\n",
    "df.head()"
   ]
  },
  {
   "cell_type": "code",
   "execution_count": 31,
   "metadata": {},
   "outputs": [
    {
     "name": "stdout",
     "output_type": "stream",
     "text": [
      "Day of Week Mapping Completed:\n"
     ]
    },
    {
     "data": {
      "text/html": [
       "<div>\n",
       "<style scoped>\n",
       "    .dataframe tbody tr th:only-of-type {\n",
       "        vertical-align: middle;\n",
       "    }\n",
       "\n",
       "    .dataframe tbody tr th {\n",
       "        vertical-align: top;\n",
       "    }\n",
       "\n",
       "    .dataframe thead th {\n",
       "        text-align: right;\n",
       "    }\n",
       "</style>\n",
       "<table border=\"1\" class=\"dataframe\">\n",
       "  <thead>\n",
       "    <tr style=\"text-align: right;\">\n",
       "      <th></th>\n",
       "      <th>lat</th>\n",
       "      <th>lng</th>\n",
       "      <th>desc</th>\n",
       "      <th>zip</th>\n",
       "      <th>title</th>\n",
       "      <th>timeStamp</th>\n",
       "      <th>twp</th>\n",
       "      <th>addr</th>\n",
       "      <th>e</th>\n",
       "      <th>reason</th>\n",
       "      <th>hour</th>\n",
       "      <th>month</th>\n",
       "      <th>day_of_week</th>\n",
       "    </tr>\n",
       "  </thead>\n",
       "  <tbody>\n",
       "    <tr>\n",
       "      <th>0</th>\n",
       "      <td>40.297876</td>\n",
       "      <td>-75.581294</td>\n",
       "      <td>REINDEER CT &amp; DEAD END;  NEW HANOVER; Station ...</td>\n",
       "      <td>19525.0</td>\n",
       "      <td>EMS: BACK PAINS/INJURY</td>\n",
       "      <td>2015-12-10 17:40:00</td>\n",
       "      <td>NEW HANOVER</td>\n",
       "      <td>REINDEER CT &amp; DEAD END</td>\n",
       "      <td>1</td>\n",
       "      <td>EMS</td>\n",
       "      <td>17</td>\n",
       "      <td>12</td>\n",
       "      <td>Thu</td>\n",
       "    </tr>\n",
       "    <tr>\n",
       "      <th>1</th>\n",
       "      <td>40.258061</td>\n",
       "      <td>-75.264680</td>\n",
       "      <td>BRIAR PATH &amp; WHITEMARSH LN;  HATFIELD TOWNSHIP...</td>\n",
       "      <td>19446.0</td>\n",
       "      <td>EMS: DIABETIC EMERGENCY</td>\n",
       "      <td>2015-12-10 17:40:00</td>\n",
       "      <td>HATFIELD TOWNSHIP</td>\n",
       "      <td>BRIAR PATH &amp; WHITEMARSH LN</td>\n",
       "      <td>1</td>\n",
       "      <td>EMS</td>\n",
       "      <td>17</td>\n",
       "      <td>12</td>\n",
       "      <td>Thu</td>\n",
       "    </tr>\n",
       "    <tr>\n",
       "      <th>2</th>\n",
       "      <td>40.121182</td>\n",
       "      <td>-75.351975</td>\n",
       "      <td>HAWS AVE; NORRISTOWN; 2015-12-10 @ 14:39:21-St...</td>\n",
       "      <td>19401.0</td>\n",
       "      <td>Fire: GAS-ODOR/LEAK</td>\n",
       "      <td>2015-12-10 17:40:00</td>\n",
       "      <td>NORRISTOWN</td>\n",
       "      <td>HAWS AVE</td>\n",
       "      <td>1</td>\n",
       "      <td>Fire</td>\n",
       "      <td>17</td>\n",
       "      <td>12</td>\n",
       "      <td>Thu</td>\n",
       "    </tr>\n",
       "    <tr>\n",
       "      <th>3</th>\n",
       "      <td>40.116153</td>\n",
       "      <td>-75.343513</td>\n",
       "      <td>AIRY ST &amp; SWEDE ST;  NORRISTOWN; Station 308A;...</td>\n",
       "      <td>19401.0</td>\n",
       "      <td>EMS: CARDIAC EMERGENCY</td>\n",
       "      <td>2015-12-10 17:40:01</td>\n",
       "      <td>NORRISTOWN</td>\n",
       "      <td>AIRY ST &amp; SWEDE ST</td>\n",
       "      <td>1</td>\n",
       "      <td>EMS</td>\n",
       "      <td>17</td>\n",
       "      <td>12</td>\n",
       "      <td>Thu</td>\n",
       "    </tr>\n",
       "    <tr>\n",
       "      <th>4</th>\n",
       "      <td>40.251492</td>\n",
       "      <td>-75.603350</td>\n",
       "      <td>CHERRYWOOD CT &amp; DEAD END;  LOWER POTTSGROVE; S...</td>\n",
       "      <td>NaN</td>\n",
       "      <td>EMS: DIZZINESS</td>\n",
       "      <td>2015-12-10 17:40:01</td>\n",
       "      <td>LOWER POTTSGROVE</td>\n",
       "      <td>CHERRYWOOD CT &amp; DEAD END</td>\n",
       "      <td>1</td>\n",
       "      <td>EMS</td>\n",
       "      <td>17</td>\n",
       "      <td>12</td>\n",
       "      <td>Thu</td>\n",
       "    </tr>\n",
       "  </tbody>\n",
       "</table>\n",
       "</div>"
      ],
      "text/plain": [
       "         lat        lng                                               desc  \\\n",
       "0  40.297876 -75.581294  REINDEER CT & DEAD END;  NEW HANOVER; Station ...   \n",
       "1  40.258061 -75.264680  BRIAR PATH & WHITEMARSH LN;  HATFIELD TOWNSHIP...   \n",
       "2  40.121182 -75.351975  HAWS AVE; NORRISTOWN; 2015-12-10 @ 14:39:21-St...   \n",
       "3  40.116153 -75.343513  AIRY ST & SWEDE ST;  NORRISTOWN; Station 308A;...   \n",
       "4  40.251492 -75.603350  CHERRYWOOD CT & DEAD END;  LOWER POTTSGROVE; S...   \n",
       "\n",
       "       zip                    title           timeStamp                twp  \\\n",
       "0  19525.0   EMS: BACK PAINS/INJURY 2015-12-10 17:40:00        NEW HANOVER   \n",
       "1  19446.0  EMS: DIABETIC EMERGENCY 2015-12-10 17:40:00  HATFIELD TOWNSHIP   \n",
       "2  19401.0      Fire: GAS-ODOR/LEAK 2015-12-10 17:40:00         NORRISTOWN   \n",
       "3  19401.0   EMS: CARDIAC EMERGENCY 2015-12-10 17:40:01         NORRISTOWN   \n",
       "4      NaN           EMS: DIZZINESS 2015-12-10 17:40:01   LOWER POTTSGROVE   \n",
       "\n",
       "                         addr  e reason  hour  month day_of_week  \n",
       "0      REINDEER CT & DEAD END  1    EMS    17     12         Thu  \n",
       "1  BRIAR PATH & WHITEMARSH LN  1    EMS    17     12         Thu  \n",
       "2                    HAWS AVE  1   Fire    17     12         Thu  \n",
       "3          AIRY ST & SWEDE ST  1    EMS    17     12         Thu  \n",
       "4    CHERRYWOOD CT & DEAD END  1    EMS    17     12         Thu  "
      ]
     },
     "execution_count": 31,
     "metadata": {},
     "output_type": "execute_result"
    }
   ],
   "source": [
    "#mapping the day of the week to the actual day\n",
    "dmap = {0:'Mon',1:'Tue',2:'Wed',3:'Thu',4:'Fri',5:'Sat',6:'Sun'}\n",
    "df['day_of_week'] = df['day_of_week'].map(dmap)\n",
    "\n",
    "\n",
    "print(\"Day of Week Mapping Completed:\")\n",
    "df.head()"
   ]
  },
  {
   "cell_type": "code",
   "execution_count": null,
   "metadata": {},
   "outputs": [
    {
     "data": {
      "image/png": "[encoded data removed]",
      "text/plain": [
       "<Figure size 640x480 with 1 Axes>"
      ]
     },
     "metadata": {},
     "output_type": "display_data"
    }
   ],
   "source": [
    "#countplot of the day of the week column with the hue based off of the reason column\n",
    "\n",
    "sns.countplot(x='day_of_week', data=df,hue='reason')\n",
    "plt.title('911 Calls by Day of Week')\n",
    "plt.xlabel('Day of Week')\n",
    "plt.ylabel('Count')\n",
    "plt.legend(loc='upper right', bbox_to_anchor=(1.25, 1))\n",
    "plt.show()\n",
    "\n"
   ]
  },
  {
   "cell_type": "code",
   "execution_count": null,
   "metadata": {},
   "outputs": [
    {
     "data": {
      "image/png": "[encoded data removed]",
      "text/plain": [
       "<Figure size 640x480 with 1 Axes>"
      ]
     },
     "metadata": {},
     "output_type": "display_data"
    }
   ],
   "source": [
    "#countplot of the month column with the hue based off of the reason column\n",
    "sns.countplot(x='month', data=df,hue='reason')\n",
    "plt.title('911 Calls by Month')\n",
    "plt.xlabel('Month')\n",
    "plt.ylabel('Count')\n",
    "plt.legend(loc='upper right', bbox_to_anchor=(1.25, 1))\n",
    "plt.show()\n",
    "\n",
    "#month 9,10 and 11 are missing"
   ]
  },
  {
   "cell_type": "code",
   "execution_count": 38,
   "metadata": {},
   "outputs": [
    {
     "name": "stdout",
     "output_type": "stream",
     "text": [
      "Missing months count: 0\n",
      "         lat    lng   desc    zip  title  timeStamp    twp   addr      e  \\\n",
      "month                                                                      \n",
      "1      13205  13205  13205  11527  13205      13205  13203  13096  13205   \n",
      "2      11467  11467  11467   9930  11467      11467  11465  11396  11467   \n",
      "3      11101  11101  11101   9755  11101      11101  11092  11059  11101   \n",
      "4      11326  11326  11326   9895  11326      11326  11323  11283  11326   \n",
      "5      11423  11423  11423   9946  11423      11423  11420  11378  11423   \n",
      "6      11786  11786  11786  10212  11786      11786  11777  11732  11786   \n",
      "7      12137  12137  12137  10633  12137      12137  12133  12088  12137   \n",
      "8       9078   9078   9078   7832   9078       9078   9073   9025   9078   \n",
      "12      7969   7969   7969   6907   7969       7969   7963   7916   7969   \n",
      "\n",
      "       reason   hour  day_of_week  \n",
      "month                              \n",
      "1       13205  13205        13205  \n",
      "2       11467  11467        11467  \n",
      "3       11101  11101        11101  \n",
      "4       11326  11326        11326  \n",
      "5       11423  11423        11423  \n",
      "6       11786  11786        11786  \n",
      "7       12137  12137        12137  \n",
      "8        9078   9078         9078  \n",
      "12       7969   7969         7969  \n"
     ]
    }
   ],
   "source": [
    "missing_months = df['month'].isin([9, 10, 11]).sum()\n",
    "print(f'Missing months count: {missing_months}')\n",
    "month_counts = df.groupby('month').count()\n",
    "print(month_counts)\n",
    "#missing months are 9,10 and 11"
   ]
  },
  {
   "cell_type": "code",
   "execution_count": 45,
   "metadata": {},
   "outputs": [
    {
     "data": {
      "image/png": "[encoded data removed]",
      "text/plain": [
       "<Figure size 640x480 with 1 Axes>"
      ]
     },
     "metadata": {},
     "output_type": "display_data"
    }
   ],
   "source": [
    "#plotting the count of calls per month\n",
    "month_counts['lat'].plot()\n",
    "plt.title('911 Calls by Month')\n",
    "plt.xlabel('Month')\n",
    "plt.ylabel('Count')\n",
    "plt.show()"
   ]
  },
  {
   "cell_type": "code",
   "execution_count": null,
   "metadata": {},
   "outputs": [
    {
     "data": {
      "image/png": "[encoded data removed]",
      "text/plain": [
       "<Figure size 500x500 with 1 Axes>"
      ]
     },
     "metadata": {},
     "output_type": "display_data"
    }
   ],
   "source": [
    "#create a linear fit on the number of calls per month\n",
    "sns.lmplot(x='month', y='lat', data=month_counts.reset_index())#reset_index() is \n",
    "#used to reset the index of the dataframe to the default integer index \n",
    "plt.title('911 Calls by Month')\n",
    "#increase xticks to show all months\n",
    "plt.xticks(np.arange(0, 12, step=1))\n",
    "plt.xlabel('Month')\n",
    "plt.ylabel('Count')\n",
    "\n",
    "plt.grid(True)\n",
    "plt.tight_layout()\n",
    "plt.show()\n",
    "\n"
   ]
  },
  {
   "cell_type": "code",
   "execution_count": null,
   "metadata": {},
   "outputs": [
    {
     "data": {
      "application/vnd.plotly.v1+json": {
       "config": {
        "linkText": "Export to plot.ly",
        "plotlyServerURL": "https://plot.ly",
        "showLink": true
       },
       "data": [
        {
         "line": {
          "color": "rgba(255, 153, 51, 1.0)",
          "dash": "solid",
          "shape": "linear",
          "width": 1.3
         },
         "marker": {
          "size": 12,
          "symbol": "circle"
         },
         "mode": "markers+lines",
         "name": "lat",
         "text": "",
         "type": "scatter",
         "x": [
          1,
          2,
          3,
          4,
          5,
          6,
          7,
          8,
          12
         ],
         "y": [
          13205,
          11467,
          11101,
          11326,
          11423,
          11786,
          12137,
          9078,
          7969
         ]
        }
       ],
       "layout": {
        "legend": {
         "bgcolor": "#F5F6F9",
         "font": {
          "color": "#4D5663"
         }
        },
        "paper_bgcolor": "#F5F6F9",
        "plot_bgcolor": "#F5F6F9",
        "template": {
         "data": {
          "bar": [
           {
            "error_x": {
             "color": "#2a3f5f"
            },
            "error_y": {
             "color": "#2a3f5f"
            },
            "marker": {
             "line": {
              "color": "#E5ECF6",
              "width": 0.5
             },
             "pattern": {
              "fillmode": "overlay",
              "size": 10,
              "solidity": 0.2
             }
            },
            "type": "bar"
           }
          ],
          "barpolar": [
           {
            "marker": {
             "line": {
              "color": "#E5ECF6",
              "width": 0.5
             },
             "pattern": {
              "fillmode": "overlay",
              "size": 10,
              "solidity": 0.2
             }
            },
            "type": "barpolar"
           }
          ],
          "carpet": [
           {
            "aaxis": {
             "endlinecolor": "#2a3f5f",
             "gridcolor": "white",
             "linecolor": "white",
             "minorgridcolor": "white",
             "startlinecolor": "#2a3f5f"
            },
            "baxis": {
             "endlinecolor": "#2a3f5f",
             "gridcolor": "white",
             "linecolor": "white",
             "minorgridcolor": "white",
             "startlinecolor": "#2a3f5f"
            },
            "type": "carpet"
           }
          ],
          "choropleth": [
           {
            "colorbar": {
             "outlinewidth": 0,
             "ticks": ""
            },
            "type": "choropleth"
           }
          ],
          "contour": [
           {
            "colorbar": {
             "outlinewidth": 0,
             "ticks": ""
            },
            "colorscale": [
             [
              0,
              "#0d0887"
             ],
             [
              0.1111111111111111,
              "#46039f"
             ],
             [
              0.2222222222222222,
              "#7201a8"
             ],
             [
              0.3333333333333333,
              "#9c179e"
             ],
             [
              0.4444444444444444,
              "#bd3786"
             ],
             [
              0.5555555555555556,
              "#d8576b"
             ],
             [
              0.6666666666666666,
              "#ed7953"
             ],
             [
              0.7777777777777778,
              "#fb9f3a"
             ],
             [
              0.8888888888888888,
              "#fdca26"
             ],
             [
              1,
              "#f0f921"
             ]
            ],
            "type": "contour"
           }
          ],
          "contourcarpet": [
           {
            "colorbar": {
             "outlinewidth": 0,
             "ticks": ""
            },
            "type": "contourcarpet"
           }
          ],
          "heatmap": [
           {
            "colorbar": {
             "outlinewidth": 0,
             "ticks": ""
            },
            "colorscale": [
             [
              0,
              "#0d0887"
             ],
             [
              0.1111111111111111,
              "#46039f"
             ],
             [
              0.2222222222222222,
              "#7201a8"
             ],
             [
              0.3333333333333333,
              "#9c179e"
             ],
             [
              0.4444444444444444,
              "#bd3786"
             ],
             [
              0.5555555555555556,
              "#d8576b"
             ],
             [
              0.6666666666666666,
              "#ed7953"
             ],
             [
              0.7777777777777778,
              "#fb9f3a"
             ],
             [
              0.8888888888888888,
              "#fdca26"
             ],
             [
              1,
              "#f0f921"
             ]
            ],
            "type": "heatmap"
           }
          ],
          "heatmapgl": [
           {
            "colorbar": {
             "outlinewidth": 0,
             "ticks": ""
            },
            "colorscale": [
             [
              0,
              "#0d0887"
             ],
             [
              0.1111111111111111,
              "#46039f"
             ],
             [
              0.2222222222222222,
              "#7201a8"
             ],
             [
              0.3333333333333333,
              "#9c179e"
             ],
             [
              0.4444444444444444,
              "#bd3786"
             ],
             [
              0.5555555555555556,
              "#d8576b"
             ],
             [
              0.6666666666666666,
              "#ed7953"
             ],
             [
              0.7777777777777778,
              "#fb9f3a"
             ],
             [
              0.8888888888888888,
              "#fdca26"
             ],
             [
              1,
              "#f0f921"
             ]
            ],
            "type": "heatmapgl"
           }
          ],
          "histogram": [
           {
            "marker": {
             "pattern": {
              "fillmode": "overlay",
              "size": 10,
              "solidity": 0.2
             }
            },
            "type": "histogram"
           }
          ],
          "histogram2d": [
           {
            "colorbar": {
             "outlinewidth": 0,
             "ticks": ""
            },
            "colorscale": [
             [
              0,
              "#0d0887"
             ],
             [
              0.1111111111111111,
              "#46039f"
             ],
             [
              0.2222222222222222,
              "#7201a8"
             ],
             [
              0.3333333333333333,
              "#9c179e"
             ],
             [
              0.4444444444444444,
              "#bd3786"
             ],
             [
              0.5555555555555556,
              "#d8576b"
             ],
             [
              0.6666666666666666,
              "#ed7953"
             ],
             [
              0.7777777777777778,
              "#fb9f3a"
             ],
             [
              0.8888888888888888,
              "#fdca26"
             ],
             [
              1,
              "#f0f921"
             ]
            ],
            "type": "histogram2d"
           }
          ],
          "histogram2dcontour": [
           {
            "colorbar": {
             "outlinewidth": 0,
             "ticks": ""
            },
            "colorscale": [
             [
              0,
              "#0d0887"
             ],
             [
              0.1111111111111111,
              "#46039f"
             ],
             [
              0.2222222222222222,
              "#7201a8"
             ],
             [
              0.3333333333333333,
              "#9c179e"
             ],
             [
              0.4444444444444444,
              "#bd3786"
             ],
             [
              0.5555555555555556,
              "#d8576b"
             ],
             [
              0.6666666666666666,
              "#ed7953"
             ],
             [
              0.7777777777777778,
              "#fb9f3a"
             ],
             [
              0.8888888888888888,
              "#fdca26"
             ],
             [
              1,
              "#f0f921"
             ]
            ],
            "type": "histogram2dcontour"
           }
          ],
          "mesh3d": [
           {
            "colorbar": {
             "outlinewidth": 0,
             "ticks": ""
            },
            "type": "mesh3d"
           }
          ],
          "parcoords": [
           {
            "line": {
             "colorbar": {
              "outlinewidth": 0,
              "ticks": ""
             }
            },
            "type": "parcoords"
           }
          ],
          "pie": [
           {
            "automargin": true,
            "type": "pie"
           }
          ],
          "scatter": [
           {
            "fillpattern": {
             "fillmode": "overlay",
             "size": 10,
             "solidity": 0.2
            },
            "type": "scatter"
           }
          ],
          "scatter3d": [
           {
            "line": {
             "colorbar": {
              "outlinewidth": 0,
              "ticks": ""
             }
            },
            "marker": {
             "colorbar": {
              "outlinewidth": 0,
              "ticks": ""
             }
            },
            "type": "scatter3d"
           }
          ],
          "scattercarpet": [
           {
            "marker": {
             "colorbar": {
              "outlinewidth": 0,
              "ticks": ""
             }
            },
            "type": "scattercarpet"
           }
          ],
          "scattergeo": [
           {
            "marker": {
             "colorbar": {
              "outlinewidth": 0,
              "ticks": ""
             }
            },
            "type": "scattergeo"
           }
          ],
          "scattergl": [
           {
            "marker": {
             "colorbar": {
              "outlinewidth": 0,
              "ticks": ""
             }
            },
            "type": "scattergl"
           }
          ],
          "scattermapbox": [
           {
            "marker": {
             "colorbar": {
              "outlinewidth": 0,
              "ticks": ""
             }
            },
            "type": "scattermapbox"
           }
          ],
          "scatterpolar": [
           {
            "marker": {
             "colorbar": {
              "outlinewidth": 0,
              "ticks": ""
             }
            },
            "type": "scatterpolar"
           }
          ],
          "scatterpolargl": [
           {
            "marker": {
             "colorbar": {
              "outlinewidth": 0,
              "ticks": ""
             }
            },
            "type": "scatterpolargl"
           }
          ],
          "scatterternary": [
           {
            "marker": {
             "colorbar": {
              "outlinewidth": 0,
              "ticks": ""
             }
            },
            "type": "scatterternary"
           }
          ],
          "surface": [
           {
            "colorbar": {
             "outlinewidth": 0,
             "ticks": ""
            },
            "colorscale": [
             [
              0,
              "#0d0887"
             ],
             [
              0.1111111111111111,
              "#46039f"
             ],
             [
              0.2222222222222222,
              "#7201a8"
             ],
             [
              0.3333333333333333,
              "#9c179e"
             ],
             [
              0.4444444444444444,
              "#bd3786"
             ],
             [
              0.5555555555555556,
              "#d8576b"
             ],
             [
              0.6666666666666666,
              "#ed7953"
             ],
             [
              0.7777777777777778,
              "#fb9f3a"
             ],
             [
              0.8888888888888888,
              "#fdca26"
             ],
             [
              1,
              "#f0f921"
             ]
            ],
            "type": "surface"
           }
          ],
          "table": [
           {
            "cells": {
             "fill": {
              "color": "#EBF0F8"
             },
             "line": {
              "color": "white"
             }
            },
            "header": {
             "fill": {
              "color": "#C8D4E3"
             },
             "line": {
              "color": "white"
             }
            },
            "type": "table"
           }
          ]
         },
         "layout": {
          "annotationdefaults": {
           "arrowcolor": "#2a3f5f",
           "arrowhead": 0,
           "arrowwidth": 1
          },
          "autotypenumbers": "strict",
          "coloraxis": {
           "colorbar": {
            "outlinewidth": 0,
            "ticks": ""
           }
          },
          "colorscale": {
           "diverging": [
            [
             0,
             "#8e0152"
            ],
            [
             0.1,
             "#c51b7d"
            ],
            [
             0.2,
             "#de77ae"
            ],
            [
             0.3,
             "#f1b6da"
            ],
            [
             0.4,
             "#fde0ef"
            ],
            [
             0.5,
             "#f7f7f7"
            ],
            [
             0.6,
             "#e6f5d0"
            ],
            [
             0.7,
             "#b8e186"
            ],
            [
             0.8,
             "#7fbc41"
            ],
            [
             0.9,
             "#4d9221"
            ],
            [
             1,
             "#276419"
            ]
           ],
           "sequential": [
            [
             0,
             "#0d0887"
            ],
            [
             0.1111111111111111,
             "#46039f"
            ],
            [
             0.2222222222222222,
             "#7201a8"
            ],
            [
             0.3333333333333333,
             "#9c179e"
            ],
            [
             0.4444444444444444,
             "#bd3786"
            ],
            [
             0.5555555555555556,
             "#d8576b"
            ],
            [
             0.6666666666666666,
             "#ed7953"
            ],
            [
             0.7777777777777778,
             "#fb9f3a"
            ],
            [
             0.8888888888888888,
             "#fdca26"
            ],
            [
             1,
             "#f0f921"
            ]
           ],
           "sequentialminus": [
            [
             0,
             "#0d0887"
            ],
            [
             0.1111111111111111,
             "#46039f"
            ],
            [
             0.2222222222222222,
             "#7201a8"
            ],
            [
             0.3333333333333333,
             "#9c179e"
            ],
            [
             0.4444444444444444,
             "#bd3786"
            ],
            [
             0.5555555555555556,
             "#d8576b"
            ],
            [
             0.6666666666666666,
             "#ed7953"
            ],
            [
             0.7777777777777778,
             "#fb9f3a"
            ],
            [
             0.8888888888888888,
             "#fdca26"
            ],
            [
             1,
             "#f0f921"
            ]
           ]
          },
          "colorway": [
           "#636efa",
           "#EF553B",
           "#00cc96",
           "#ab63fa",
           "#FFA15A",
           "#19d3f3",
           "#FF6692",
           "#B6E880",
           "#FF97FF",
           "#FECB52"
          ],
          "font": {
           "color": "#2a3f5f"
          },
          "geo": {
           "bgcolor": "white",
           "lakecolor": "white",
           "landcolor": "#E5ECF6",
           "showlakes": true,
           "showland": true,
           "subunitcolor": "white"
          },
          "hoverlabel": {
           "align": "left"
          },
          "hovermode": "closest",
          "mapbox": {
           "style": "light"
          },
          "paper_bgcolor": "white",
          "plot_bgcolor": "#E5ECF6",
          "polar": {
           "angularaxis": {
            "gridcolor": "white",
            "linecolor": "white",
            "ticks": ""
           },
           "bgcolor": "#E5ECF6",
           "radialaxis": {
            "gridcolor": "white",
            "linecolor": "white",
            "ticks": ""
           }
          },
          "scene": {
           "xaxis": {
            "backgroundcolor": "#E5ECF6",
            "gridcolor": "white",
            "gridwidth": 2,
            "linecolor": "white",
            "showbackground": true,
            "ticks": "",
            "zerolinecolor": "white"
           },
           "yaxis": {
            "backgroundcolor": "#E5ECF6",
            "gridcolor": "white",
            "gridwidth": 2,
            "linecolor": "white",
            "showbackground": true,
            "ticks": "",
            "zerolinecolor": "white"
           },
           "zaxis": {
            "backgroundcolor": "#E5ECF6",
            "gridcolor": "white",
            "gridwidth": 2,
            "linecolor": "white",
            "showbackground": true,
            "ticks": "",
            "zerolinecolor": "white"
           }
          },
          "shapedefaults": {
           "line": {
            "color": "#2a3f5f"
           }
          },
          "ternary": {
           "aaxis": {
            "gridcolor": "white",
            "linecolor": "white",
            "ticks": ""
           },
           "baxis": {
            "gridcolor": "white",
            "linecolor": "white",
            "ticks": ""
           },
           "bgcolor": "#E5ECF6",
           "caxis": {
            "gridcolor": "white",
            "linecolor": "white",
            "ticks": ""
           }
          },
          "title": {
           "x": 0.05
          },
          "xaxis": {
           "automargin": true,
           "gridcolor": "white",
           "linecolor": "white",
           "ticks": "",
           "title": {
            "standoff": 15
           },
           "zerolinecolor": "white",
           "zerolinewidth": 2
          },
          "yaxis": {
           "automargin": true,
           "gridcolor": "white",
           "linecolor": "white",
           "ticks": "",
           "title": {
            "standoff": 15
           },
           "zerolinecolor": "white",
           "zerolinewidth": 2
          }
         }
        },
        "title": {
         "font": {
          "color": "#4D5663"
         },
         "text": "911 Calls by Month"
        },
        "xaxis": {
         "gridcolor": "#E1E5ED",
         "showgrid": true,
         "tickfont": {
          "color": "#4D5663"
         },
         "title": {
          "font": {
           "color": "#4D5663"
          },
          "text": "Month"
         },
         "zerolinecolor": "#E1E5ED"
        },
        "yaxis": {
         "gridcolor": "#E1E5ED",
         "showgrid": true,
         "tickfont": {
          "color": "#4D5663"
         },
         "title": {
          "font": {
           "color": "#4D5663"
          },
          "text": "Count"
         },
         "zerolinecolor": "#E1E5ED"
        }
       }
      },
      "text/html": [
       "<div>                            <div id=\"4faeb020-1d3b-4617-a4a9-6a082f436882\" class=\"plotly-graph-div\" style=\"height:525px; width:100%;\"></div>            <script type=\"text/javascript\">                require([\"plotly\"], function(Plotly) {                    window.PLOTLYENV=window.PLOTLYENV || {};\n",
       "                    window.PLOTLYENV.BASE_URL='https://plot.ly';                                    if (document.getElementById(\"4faeb020-1d3b-4617-a4a9-6a082f436882\")) {                    Plotly.newPlot(                        \"4faeb020-1d3b-4617-a4a9-6a082f436882\",                        [{\"line\":{\"color\":\"rgba(255, 153, 51, 1.0)\",\"dash\":\"solid\",\"shape\":\"linear\",\"width\":1.3},\"marker\":{\"size\":12,\"symbol\":\"circle\"},\"mode\":\"markers+lines\",\"name\":\"lat\",\"text\":\"\",\"x\":[1,2,3,4,5,6,7,8,12],\"y\":[13205,11467,11101,11326,11423,11786,12137,9078,7969],\"type\":\"scatter\"}],                        {\"legend\":{\"bgcolor\":\"#F5F6F9\",\"font\":{\"color\":\"#4D5663\"}},\"paper_bgcolor\":\"#F5F6F9\",\"plot_bgcolor\":\"#F5F6F9\",\"template\":{\"data\":{\"barpolar\":[{\"marker\":{\"line\":{\"color\":\"#E5ECF6\",\"width\":0.5},\"pattern\":{\"fillmode\":\"overlay\",\"size\":10,\"solidity\":0.2}},\"type\":\"barpolar\"}],\"bar\":[{\"error_x\":{\"color\":\"#2a3f5f\"},\"error_y\":{\"color\":\"#2a3f5f\"},\"marker\":{\"line\":{\"color\":\"#E5ECF6\",\"width\":0.5},\"pattern\":{\"fillmode\":\"overlay\",\"size\":10,\"solidity\":0.2}},\"type\":\"bar\"}],\"carpet\":[{\"aaxis\":{\"endlinecolor\":\"#2a3f5f\",\"gridcolor\":\"white\",\"linecolor\":\"white\",\"minorgridcolor\":\"white\",\"startlinecolor\":\"#2a3f5f\"},\"baxis\":{\"endlinecolor\":\"#2a3f5f\",\"gridcolor\":\"white\",\"linecolor\":\"white\",\"minorgridcolor\":\"white\",\"startlinecolor\":\"#2a3f5f\"},\"type\":\"carpet\"}],\"choropleth\":[{\"colorbar\":{\"outlinewidth\":0,\"ticks\":\"\"},\"type\":\"choropleth\"}],\"contourcarpet\":[{\"colorbar\":{\"outlinewidth\":0,\"ticks\":\"\"},\"type\":\"contourcarpet\"}],\"contour\":[{\"colorbar\":{\"outlinewidth\":0,\"ticks\":\"\"},\"colorscale\":[[0.0,\"#0d0887\"],[0.1111111111111111,\"#46039f\"],[0.2222222222222222,\"#7201a8\"],[0.3333333333333333,\"#9c179e\"],[0.4444444444444444,\"#bd3786\"],[0.5555555555555556,\"#d8576b\"],[0.6666666666666666,\"#ed7953\"],[0.7777777777777778,\"#fb9f3a\"],[0.8888888888888888,\"#fdca26\"],[1.0,\"#f0f921\"]],\"type\":\"contour\"}],\"heatmapgl\":[{\"colorbar\":{\"outlinewidth\":0,\"ticks\":\"\"},\"colorscale\":[[0.0,\"#0d0887\"],[0.1111111111111111,\"#46039f\"],[0.2222222222222222,\"#7201a8\"],[0.3333333333333333,\"#9c179e\"],[0.4444444444444444,\"#bd3786\"],[0.5555555555555556,\"#d8576b\"],[0.6666666666666666,\"#ed7953\"],[0.7777777777777778,\"#fb9f3a\"],[0.8888888888888888,\"#fdca26\"],[1.0,\"#f0f921\"]],\"type\":\"heatmapgl\"}],\"heatmap\":[{\"colorbar\":{\"outlinewidth\":0,\"ticks\":\"\"},\"colorscale\":[[0.0,\"#0d0887\"],[0.1111111111111111,\"#46039f\"],[0.2222222222222222,\"#7201a8\"],[0.3333333333333333,\"#9c179e\"],[0.4444444444444444,\"#bd3786\"],[0.5555555555555556,\"#d8576b\"],[0.6666666666666666,\"#ed7953\"],[0.7777777777777778,\"#fb9f3a\"],[0.8888888888888888,\"#fdca26\"],[1.0,\"#f0f921\"]],\"type\":\"heatmap\"}],\"histogram2dcontour\":[{\"colorbar\":{\"outlinewidth\":0,\"ticks\":\"\"},\"colorscale\":[[0.0,\"#0d0887\"],[0.1111111111111111,\"#46039f\"],[0.2222222222222222,\"#7201a8\"],[0.3333333333333333,\"#9c179e\"],[0.4444444444444444,\"#bd3786\"],[0.5555555555555556,\"#d8576b\"],[0.6666666666666666,\"#ed7953\"],[0.7777777777777778,\"#fb9f3a\"],[0.8888888888888888,\"#fdca26\"],[1.0,\"#f0f921\"]],\"type\":\"histogram2dcontour\"}],\"histogram2d\":[{\"colorbar\":{\"outlinewidth\":0,\"ticks\":\"\"},\"colorscale\":[[0.0,\"#0d0887\"],[0.1111111111111111,\"#46039f\"],[0.2222222222222222,\"#7201a8\"],[0.3333333333333333,\"#9c179e\"],[0.4444444444444444,\"#bd3786\"],[0.5555555555555556,\"#d8576b\"],[0.6666666666666666,\"#ed7953\"],[0.7777777777777778,\"#fb9f3a\"],[0.8888888888888888,\"#fdca26\"],[1.0,\"#f0f921\"]],\"type\":\"histogram2d\"}],\"histogram\":[{\"marker\":{\"pattern\":{\"fillmode\":\"overlay\",\"size\":10,\"solidity\":0.2}},\"type\":\"histogram\"}],\"mesh3d\":[{\"colorbar\":{\"outlinewidth\":0,\"ticks\":\"\"},\"type\":\"mesh3d\"}],\"parcoords\":[{\"line\":{\"colorbar\":{\"outlinewidth\":0,\"ticks\":\"\"}},\"type\":\"parcoords\"}],\"pie\":[{\"automargin\":true,\"type\":\"pie\"}],\"scatter3d\":[{\"line\":{\"colorbar\":{\"outlinewidth\":0,\"ticks\":\"\"}},\"marker\":{\"colorbar\":{\"outlinewidth\":0,\"ticks\":\"\"}},\"type\":\"scatter3d\"}],\"scattercarpet\":[{\"marker\":{\"colorbar\":{\"outlinewidth\":0,\"ticks\":\"\"}},\"type\":\"scattercarpet\"}],\"scattergeo\":[{\"marker\":{\"colorbar\":{\"outlinewidth\":0,\"ticks\":\"\"}},\"type\":\"scattergeo\"}],\"scattergl\":[{\"marker\":{\"colorbar\":{\"outlinewidth\":0,\"ticks\":\"\"}},\"type\":\"scattergl\"}],\"scattermapbox\":[{\"marker\":{\"colorbar\":{\"outlinewidth\":0,\"ticks\":\"\"}},\"type\":\"scattermapbox\"}],\"scatterpolargl\":[{\"marker\":{\"colorbar\":{\"outlinewidth\":0,\"ticks\":\"\"}},\"type\":\"scatterpolargl\"}],\"scatterpolar\":[{\"marker\":{\"colorbar\":{\"outlinewidth\":0,\"ticks\":\"\"}},\"type\":\"scatterpolar\"}],\"scatter\":[{\"fillpattern\":{\"fillmode\":\"overlay\",\"size\":10,\"solidity\":0.2},\"type\":\"scatter\"}],\"scatterternary\":[{\"marker\":{\"colorbar\":{\"outlinewidth\":0,\"ticks\":\"\"}},\"type\":\"scatterternary\"}],\"surface\":[{\"colorbar\":{\"outlinewidth\":0,\"ticks\":\"\"},\"colorscale\":[[0.0,\"#0d0887\"],[0.1111111111111111,\"#46039f\"],[0.2222222222222222,\"#7201a8\"],[0.3333333333333333,\"#9c179e\"],[0.4444444444444444,\"#bd3786\"],[0.5555555555555556,\"#d8576b\"],[0.6666666666666666,\"#ed7953\"],[0.7777777777777778,\"#fb9f3a\"],[0.8888888888888888,\"#fdca26\"],[1.0,\"#f0f921\"]],\"type\":\"surface\"}],\"table\":[{\"cells\":{\"fill\":{\"color\":\"#EBF0F8\"},\"line\":{\"color\":\"white\"}},\"header\":{\"fill\":{\"color\":\"#C8D4E3\"},\"line\":{\"color\":\"white\"}},\"type\":\"table\"}]},\"layout\":{\"annotationdefaults\":{\"arrowcolor\":\"#2a3f5f\",\"arrowhead\":0,\"arrowwidth\":1},\"autotypenumbers\":\"strict\",\"coloraxis\":{\"colorbar\":{\"outlinewidth\":0,\"ticks\":\"\"}},\"colorscale\":{\"diverging\":[[0,\"#8e0152\"],[0.1,\"#c51b7d\"],[0.2,\"#de77ae\"],[0.3,\"#f1b6da\"],[0.4,\"#fde0ef\"],[0.5,\"#f7f7f7\"],[0.6,\"#e6f5d0\"],[0.7,\"#b8e186\"],[0.8,\"#7fbc41\"],[0.9,\"#4d9221\"],[1,\"#276419\"]],\"sequential\":[[0.0,\"#0d0887\"],[0.1111111111111111,\"#46039f\"],[0.2222222222222222,\"#7201a8\"],[0.3333333333333333,\"#9c179e\"],[0.4444444444444444,\"#bd3786\"],[0.5555555555555556,\"#d8576b\"],[0.6666666666666666,\"#ed7953\"],[0.7777777777777778,\"#fb9f3a\"],[0.8888888888888888,\"#fdca26\"],[1.0,\"#f0f921\"]],\"sequentialminus\":[[0.0,\"#0d0887\"],[0.1111111111111111,\"#46039f\"],[0.2222222222222222,\"#7201a8\"],[0.3333333333333333,\"#9c179e\"],[0.4444444444444444,\"#bd3786\"],[0.5555555555555556,\"#d8576b\"],[0.6666666666666666,\"#ed7953\"],[0.7777777777777778,\"#fb9f3a\"],[0.8888888888888888,\"#fdca26\"],[1.0,\"#f0f921\"]]},\"colorway\":[\"#636efa\",\"#EF553B\",\"#00cc96\",\"#ab63fa\",\"#FFA15A\",\"#19d3f3\",\"#FF6692\",\"#B6E880\",\"#FF97FF\",\"#FECB52\"],\"font\":{\"color\":\"#2a3f5f\"},\"geo\":{\"bgcolor\":\"white\",\"lakecolor\":\"white\",\"landcolor\":\"#E5ECF6\",\"showlakes\":true,\"showland\":true,\"subunitcolor\":\"white\"},\"hoverlabel\":{\"align\":\"left\"},\"hovermode\":\"closest\",\"mapbox\":{\"style\":\"light\"},\"paper_bgcolor\":\"white\",\"plot_bgcolor\":\"#E5ECF6\",\"polar\":{\"angularaxis\":{\"gridcolor\":\"white\",\"linecolor\":\"white\",\"ticks\":\"\"},\"bgcolor\":\"#E5ECF6\",\"radialaxis\":{\"gridcolor\":\"white\",\"linecolor\":\"white\",\"ticks\":\"\"}},\"scene\":{\"xaxis\":{\"backgroundcolor\":\"#E5ECF6\",\"gridcolor\":\"white\",\"gridwidth\":2,\"linecolor\":\"white\",\"showbackground\":true,\"ticks\":\"\",\"zerolinecolor\":\"white\"},\"yaxis\":{\"backgroundcolor\":\"#E5ECF6\",\"gridcolor\":\"white\",\"gridwidth\":2,\"linecolor\":\"white\",\"showbackground\":true,\"ticks\":\"\",\"zerolinecolor\":\"white\"},\"zaxis\":{\"backgroundcolor\":\"#E5ECF6\",\"gridcolor\":\"white\",\"gridwidth\":2,\"linecolor\":\"white\",\"showbackground\":true,\"ticks\":\"\",\"zerolinecolor\":\"white\"}},\"shapedefaults\":{\"line\":{\"color\":\"#2a3f5f\"}},\"ternary\":{\"aaxis\":{\"gridcolor\":\"white\",\"linecolor\":\"white\",\"ticks\":\"\"},\"baxis\":{\"gridcolor\":\"white\",\"linecolor\":\"white\",\"ticks\":\"\"},\"bgcolor\":\"#E5ECF6\",\"caxis\":{\"gridcolor\":\"white\",\"linecolor\":\"white\",\"ticks\":\"\"}},\"title\":{\"x\":0.05},\"xaxis\":{\"automargin\":true,\"gridcolor\":\"white\",\"linecolor\":\"white\",\"ticks\":\"\",\"title\":{\"standoff\":15},\"zerolinecolor\":\"white\",\"zerolinewidth\":2},\"yaxis\":{\"automargin\":true,\"gridcolor\":\"white\",\"linecolor\":\"white\",\"ticks\":\"\",\"title\":{\"standoff\":15},\"zerolinecolor\":\"white\",\"zerolinewidth\":2}}},\"title\":{\"font\":{\"color\":\"#4D5663\"},\"text\":\"911 Calls by Month\"},\"xaxis\":{\"gridcolor\":\"#E1E5ED\",\"showgrid\":true,\"tickfont\":{\"color\":\"#4D5663\"},\"title\":{\"font\":{\"color\":\"#4D5663\"},\"text\":\"Month\"},\"zerolinecolor\":\"#E1E5ED\"},\"yaxis\":{\"gridcolor\":\"#E1E5ED\",\"showgrid\":true,\"tickfont\":{\"color\":\"#4D5663\"},\"title\":{\"font\":{\"color\":\"#4D5663\"},\"text\":\"Count\"},\"zerolinecolor\":\"#E1E5ED\"}},                        {\"showLink\": true, \"linkText\": \"Export to plot.ly\", \"plotlyServerURL\": \"https://plot.ly\", \"responsive\": true}                    ).then(function(){\n",
       "                            \n",
       "var gd = document.getElementById('4faeb020-1d3b-4617-a4a9-6a082f436882');\n",
       "var x = new MutationObserver(function (mutations, observer) {{\n",
       "        var display = window.getComputedStyle(gd).display;\n",
       "        if (!display || display === 'none') {{\n",
       "            console.log([gd, 'removed!']);\n",
       "            Plotly.purge(gd);\n",
       "            observer.disconnect();\n",
       "        }}\n",
       "}});\n",
       "\n",
       "// Listen for the removal of the full notebook cells\n",
       "var notebookContainer = gd.closest('#notebook-container');\n",
       "if (notebookContainer) {{\n",
       "    x.observe(notebookContainer, {childList: true});\n",
       "}}\n",
       "\n",
       "// Listen for the clearing of the current output cell\n",
       "var outputEl = gd.closest('.output');\n",
       "if (outputEl) {{\n",
       "    x.observe(outputEl, {childList: true});\n",
       "}}\n",
       "\n",
       "                        })                };                });            </script>        </div>"
      ]
     },
     "metadata": {},
     "output_type": "display_data"
    }
   ],
   "source": [
    "#can we make this plot more interactive using plotly and cufflinks\n",
    "month_counts.reset_index().iplot(kind='scatter', x='month', y='lat', mode='markers+lines',\n",
    "                    xTitle='Month', yTitle='Count', title='911 Calls by Month')"
   ]
  },
  {
   "cell_type": "code",
   "execution_count": null,
   "metadata": {},
   "outputs": [
    {
     "data": {
      "application/vnd.plotly.v1+json": {
       "config": {
        "linkText": "Export to plot.ly",
        "plotlyServerURL": "https://plot.ly",
        "showLink": true
       },
       "data": [
        {
         "line": {
          "color": "rgba(255, 153, 51, 1.0)",
          "dash": "solid",
          "shape": "linear",
          "width": 1.3
         },
         "mode": "lines",
         "name": "lat",
         "text": "",
         "type": "scatter",
         "x": [
          1,
          2,
          3,
          4,
          5,
          6,
          7,
          8,
          12
         ],
         "y": [
          13205,
          11467,
          11101,
          11326,
          11423,
          11786,
          12137,
          9078,
          7969
         ]
        }
       ],
       "layout": {
        "template": {
         "data": {
          "bar": [
           {
            "error_x": {
             "color": "#2a3f5f"
            },
            "error_y": {
             "color": "#2a3f5f"
            },
            "marker": {
             "line": {
              "color": "#E5ECF6",
              "width": 0.5
             },
             "pattern": {
              "fillmode": "overlay",
              "size": 10,
              "solidity": 0.2
             }
            },
            "type": "bar"
           }
          ],
          "barpolar": [
           {
            "marker": {
             "line": {
              "color": "#E5ECF6",
              "width": 0.5
             },
             "pattern": {
              "fillmode": "overlay",
              "size": 10,
              "solidity": 0.2
             }
            },
            "type": "barpolar"
           }
          ],
          "carpet": [
           {
            "aaxis": {
             "endlinecolor": "#2a3f5f",
             "gridcolor": "white",
             "linecolor": "white",
             "minorgridcolor": "white",
             "startlinecolor": "#2a3f5f"
            },
            "baxis": {
             "endlinecolor": "#2a3f5f",
             "gridcolor": "white",
             "linecolor": "white",
             "minorgridcolor": "white",
             "startlinecolor": "#2a3f5f"
            },
            "type": "carpet"
           }
          ],
          "choropleth": [
           {
            "colorbar": {
             "outlinewidth": 0,
             "ticks": ""
            },
            "type": "choropleth"
           }
          ],
          "contour": [
           {
            "colorbar": {
             "outlinewidth": 0,
             "ticks": ""
            },
            "colorscale": [
             [
              0,
              "#0d0887"
             ],
             [
              0.1111111111111111,
              "#46039f"
             ],
             [
              0.2222222222222222,
              "#7201a8"
             ],
             [
              0.3333333333333333,
              "#9c179e"
             ],
             [
              0.4444444444444444,
              "#bd3786"
             ],
             [
              0.5555555555555556,
              "#d8576b"
             ],
             [
              0.6666666666666666,
              "#ed7953"
             ],
             [
              0.7777777777777778,
              "#fb9f3a"
             ],
             [
              0.8888888888888888,
              "#fdca26"
             ],
             [
              1,
              "#f0f921"
             ]
            ],
            "type": "contour"
           }
          ],
          "contourcarpet": [
           {
            "colorbar": {
             "outlinewidth": 0,
             "ticks": ""
            },
            "type": "contourcarpet"
           }
          ],
          "heatmap": [
           {
            "colorbar": {
             "outlinewidth": 0,
             "ticks": ""
            },
            "colorscale": [
             [
              0,
              "#0d0887"
             ],
             [
              0.1111111111111111,
              "#46039f"
             ],
             [
              0.2222222222222222,
              "#7201a8"
             ],
             [
              0.3333333333333333,
              "#9c179e"
             ],
             [
              0.4444444444444444,
              "#bd3786"
             ],
             [
              0.5555555555555556,
              "#d8576b"
             ],
             [
              0.6666666666666666,
              "#ed7953"
             ],
             [
              0.7777777777777778,
              "#fb9f3a"
             ],
             [
              0.8888888888888888,
              "#fdca26"
             ],
             [
              1,
              "#f0f921"
             ]
            ],
            "type": "heatmap"
           }
          ],
          "heatmapgl": [
           {
            "colorbar": {
             "outlinewidth": 0,
             "ticks": ""
            },
            "colorscale": [
             [
              0,
              "#0d0887"
             ],
             [
              0.1111111111111111,
              "#46039f"
             ],
             [
              0.2222222222222222,
              "#7201a8"
             ],
             [
              0.3333333333333333,
              "#9c179e"
             ],
             [
              0.4444444444444444,
              "#bd3786"
             ],
             [
              0.5555555555555556,
              "#d8576b"
             ],
             [
              0.6666666666666666,
              "#ed7953"
             ],
             [
              0.7777777777777778,
              "#fb9f3a"
             ],
             [
              0.8888888888888888,
              "#fdca26"
             ],
             [
              1,
              "#f0f921"
             ]
            ],
            "type": "heatmapgl"
           }
          ],
          "histogram": [
           {
            "marker": {
             "pattern": {
              "fillmode": "overlay",
              "size": 10,
              "solidity": 0.2
             }
            },
            "type": "histogram"
           }
          ],
          "histogram2d": [
           {
            "colorbar": {
             "outlinewidth": 0,
             "ticks": ""
            },
            "colorscale": [
             [
              0,
              "#0d0887"
             ],
             [
              0.1111111111111111,
              "#46039f"
             ],
             [
              0.2222222222222222,
              "#7201a8"
             ],
             [
              0.3333333333333333,
              "#9c179e"
             ],
             [
              0.4444444444444444,
              "#bd3786"
             ],
             [
              0.5555555555555556,
              "#d8576b"
             ],
             [
              0.6666666666666666,
              "#ed7953"
             ],
             [
              0.7777777777777778,
              "#fb9f3a"
             ],
             [
              0.8888888888888888,
              "#fdca26"
             ],
             [
              1,
              "#f0f921"
             ]
            ],
            "type": "histogram2d"
           }
          ],
          "histogram2dcontour": [
           {
            "colorbar": {
             "outlinewidth": 0,
             "ticks": ""
            },
            "colorscale": [
             [
              0,
              "#0d0887"
             ],
             [
              0.1111111111111111,
              "#46039f"
             ],
             [
              0.2222222222222222,
              "#7201a8"
             ],
             [
              0.3333333333333333,
              "#9c179e"
             ],
             [
              0.4444444444444444,
              "#bd3786"
             ],
             [
              0.5555555555555556,
              "#d8576b"
             ],
             [
              0.6666666666666666,
              "#ed7953"
             ],
             [
              0.7777777777777778,
              "#fb9f3a"
             ],
             [
              0.8888888888888888,
              "#fdca26"
             ],
             [
              1,
              "#f0f921"
             ]
            ],
            "type": "histogram2dcontour"
           }
          ],
          "mesh3d": [
           {
            "colorbar": {
             "outlinewidth": 0,
             "ticks": ""
            },
            "type": "mesh3d"
           }
          ],
          "parcoords": [
           {
            "line": {
             "colorbar": {
              "outlinewidth": 0,
              "ticks": ""
             }
            },
            "type": "parcoords"
           }
          ],
          "pie": [
           {
            "automargin": true,
            "type": "pie"
           }
          ],
          "scatter": [
           {
            "fillpattern": {
             "fillmode": "overlay",
             "size": 10,
             "solidity": 0.2
            },
            "type": "scatter"
           }
          ],
          "scatter3d": [
           {
            "line": {
             "colorbar": {
              "outlinewidth": 0,
              "ticks": ""
             }
            },
            "marker": {
             "colorbar": {
              "outlinewidth": 0,
              "ticks": ""
             }
            },
            "type": "scatter3d"
           }
          ],
          "scattercarpet": [
           {
            "marker": {
             "colorbar": {
              "outlinewidth": 0,
              "ticks": ""
             }
            },
            "type": "scattercarpet"
           }
          ],
          "scattergeo": [
           {
            "marker": {
             "colorbar": {
              "outlinewidth": 0,
              "ticks": ""
             }
            },
            "type": "scattergeo"
           }
          ],
          "scattergl": [
           {
            "marker": {
             "colorbar": {
              "outlinewidth": 0,
              "ticks": ""
             }
            },
            "type": "scattergl"
           }
          ],
          "scattermapbox": [
           {
            "marker": {
             "colorbar": {
              "outlinewidth": 0,
              "ticks": ""
             }
            },
            "type": "scattermapbox"
           }
          ],
          "scatterpolar": [
           {
            "marker": {
             "colorbar": {
              "outlinewidth": 0,
              "ticks": ""
             }
            },
            "type": "scatterpolar"
           }
          ],
          "scatterpolargl": [
           {
            "marker": {
             "colorbar": {
              "outlinewidth": 0,
              "ticks": ""
             }
            },
            "type": "scatterpolargl"
           }
          ],
          "scatterternary": [
           {
            "marker": {
             "colorbar": {
              "outlinewidth": 0,
              "ticks": ""
             }
            },
            "type": "scatterternary"
           }
          ],
          "surface": [
           {
            "colorbar": {
             "outlinewidth": 0,
             "ticks": ""
            },
            "colorscale": [
             [
              0,
              "#0d0887"
             ],
             [
              0.1111111111111111,
              "#46039f"
             ],
             [
              0.2222222222222222,
              "#7201a8"
             ],
             [
              0.3333333333333333,
              "#9c179e"
             ],
             [
              0.4444444444444444,
              "#bd3786"
             ],
             [
              0.5555555555555556,
              "#d8576b"
             ],
             [
              0.6666666666666666,
              "#ed7953"
             ],
             [
              0.7777777777777778,
              "#fb9f3a"
             ],
             [
              0.8888888888888888,
              "#fdca26"
             ],
             [
              1,
              "#f0f921"
             ]
            ],
            "type": "surface"
           }
          ],
          "table": [
           {
            "cells": {
             "fill": {
              "color": "#EBF0F8"
             },
             "line": {
              "color": "white"
             }
            },
            "header": {
             "fill": {
              "color": "#C8D4E3"
             },
             "line": {
              "color": "white"
             }
            },
            "type": "table"
           }
          ]
         },
         "layout": {
          "annotationdefaults": {
           "arrowcolor": "#2a3f5f",
           "arrowhead": 0,
           "arrowwidth": 1
          },
          "autotypenumbers": "strict",
          "coloraxis": {
           "colorbar": {
            "outlinewidth": 0,
            "ticks": ""
           }
          },
          "colorscale": {
           "diverging": [
            [
             0,
             "#8e0152"
            ],
            [
             0.1,
             "#c51b7d"
            ],
            [
             0.2,
             "#de77ae"
            ],
            [
             0.3,
             "#f1b6da"
            ],
            [
             0.4,
             "#fde0ef"
            ],
            [
             0.5,
             "#f7f7f7"
            ],
            [
             0.6,
             "#e6f5d0"
            ],
            [
             0.7,
             "#b8e186"
            ],
            [
             0.8,
             "#7fbc41"
            ],
            [
             0.9,
             "#4d9221"
            ],
            [
             1,
             "#276419"
            ]
           ],
           "sequential": [
            [
             0,
             "#0d0887"
            ],
            [
             0.1111111111111111,
             "#46039f"
            ],
            [
             0.2222222222222222,
             "#7201a8"
            ],
            [
             0.3333333333333333,
             "#9c179e"
            ],
            [
             0.4444444444444444,
             "#bd3786"
            ],
            [
             0.5555555555555556,
             "#d8576b"
            ],
            [
             0.6666666666666666,
             "#ed7953"
            ],
            [
             0.7777777777777778,
             "#fb9f3a"
            ],
            [
             0.8888888888888888,
             "#fdca26"
            ],
            [
             1,
             "#f0f921"
            ]
           ],
           "sequentialminus": [
            [
             0,
             "#0d0887"
            ],
            [
             0.1111111111111111,
             "#46039f"
            ],
            [
             0.2222222222222222,
             "#7201a8"
            ],
            [
             0.3333333333333333,
             "#9c179e"
            ],
            [
             0.4444444444444444,
             "#bd3786"
            ],
            [
             0.5555555555555556,
             "#d8576b"
            ],
            [
             0.6666666666666666,
             "#ed7953"
            ],
            [
             0.7777777777777778,
             "#fb9f3a"
            ],
            [
             0.8888888888888888,
             "#fdca26"
            ],
            [
             1,
             "#f0f921"
            ]
           ]
          },
          "colorway": [
           "#636efa",
           "#EF553B",
           "#00cc96",
           "#ab63fa",
           "#FFA15A",
           "#19d3f3",
           "#FF6692",
           "#B6E880",
           "#FF97FF",
           "#FECB52"
          ],
          "font": {
           "color": "#2a3f5f"
          },
          "geo": {
           "bgcolor": "white",
           "lakecolor": "white",
           "landcolor": "#E5ECF6",
           "showlakes": true,
           "showland": true,
           "subunitcolor": "white"
          },
          "hoverlabel": {
           "align": "left"
          },
          "hovermode": "closest",
          "mapbox": {
           "style": "light"
          },
          "paper_bgcolor": "white",
          "plot_bgcolor": "#E5ECF6",
          "polar": {
           "angularaxis": {
            "gridcolor": "white",
            "linecolor": "white",
            "ticks": ""
           },
           "bgcolor": "#E5ECF6",
           "radialaxis": {
            "gridcolor": "white",
            "linecolor": "white",
            "ticks": ""
           }
          },
          "scene": {
           "xaxis": {
            "backgroundcolor": "#E5ECF6",
            "gridcolor": "white",
            "gridwidth": 2,
            "linecolor": "white",
            "showbackground": true,
            "ticks": "",
            "zerolinecolor": "white"
           },
           "yaxis": {
            "backgroundcolor": "#E5ECF6",
            "gridcolor": "white",
            "gridwidth": 2,
            "linecolor": "white",
            "showbackground": true,
            "ticks": "",
            "zerolinecolor": "white"
           },
           "zaxis": {
            "backgroundcolor": "#E5ECF6",
            "gridcolor": "white",
            "gridwidth": 2,
            "linecolor": "white",
            "showbackground": true,
            "ticks": "",
            "zerolinecolor": "white"
           }
          },
          "shapedefaults": {
           "line": {
            "color": "#2a3f5f"
           }
          },
          "ternary": {
           "aaxis": {
            "gridcolor": "white",
            "linecolor": "white",
            "ticks": ""
           },
           "baxis": {
            "gridcolor": "white",
            "linecolor": "white",
            "ticks": ""
           },
           "bgcolor": "#E5ECF6",
           "caxis": {
            "gridcolor": "white",
            "linecolor": "white",
            "ticks": ""
           }
          },
          "title": {
           "x": 0.05
          },
          "xaxis": {
           "automargin": true,
           "gridcolor": "white",
           "linecolor": "white",
           "ticks": "",
           "title": {
            "standoff": 15
           },
           "zerolinecolor": "white",
           "zerolinewidth": 2
          },
          "yaxis": {
           "automargin": true,
           "gridcolor": "white",
           "linecolor": "white",
           "ticks": "",
           "title": {
            "standoff": 15
           },
           "zerolinecolor": "white",
           "zerolinewidth": 2
          }
         }
        },
        "xaxis": {
         "ticktext": [
          "Jan",
          "Feb",
          "Mar",
          "Apr",
          "May",
          "Jun",
          "Jul",
          "Aug",
          "Sep",
          "Oct",
          "Nov",
          "Dec"
         ],
         "tickvals": [
          1,
          2,
          3,
          4,
          5,
          6,
          7,
          8,
          9,
          10,
          11,
          12
         ]
        }
       }
      },
      "text/html": [
       "<div>                            <div id=\"b231a3df-1f33-4958-b4c1-6a154397f1ef\" class=\"plotly-graph-div\" style=\"height:525px; width:100%;\"></div>            <script type=\"text/javascript\">                require([\"plotly\"], function(Plotly) {                    window.PLOTLYENV=window.PLOTLYENV || {};\n",
       "                    window.PLOTLYENV.BASE_URL='https://plot.ly';                                    if (document.getElementById(\"b231a3df-1f33-4958-b4c1-6a154397f1ef\")) {                    Plotly.newPlot(                        \"b231a3df-1f33-4958-b4c1-6a154397f1ef\",                        [{\"line\":{\"color\":\"rgba(255, 153, 51, 1.0)\",\"dash\":\"solid\",\"shape\":\"linear\",\"width\":1.3},\"mode\":\"lines\",\"name\":\"lat\",\"text\":\"\",\"x\":[1,2,3,4,5,6,7,8,12],\"y\":[13205,11467,11101,11326,11423,11786,12137,9078,7969],\"type\":\"scatter\"}],                        {\"template\":{\"data\":{\"barpolar\":[{\"marker\":{\"line\":{\"color\":\"#E5ECF6\",\"width\":0.5},\"pattern\":{\"fillmode\":\"overlay\",\"size\":10,\"solidity\":0.2}},\"type\":\"barpolar\"}],\"bar\":[{\"error_x\":{\"color\":\"#2a3f5f\"},\"error_y\":{\"color\":\"#2a3f5f\"},\"marker\":{\"line\":{\"color\":\"#E5ECF6\",\"width\":0.5},\"pattern\":{\"fillmode\":\"overlay\",\"size\":10,\"solidity\":0.2}},\"type\":\"bar\"}],\"carpet\":[{\"aaxis\":{\"endlinecolor\":\"#2a3f5f\",\"gridcolor\":\"white\",\"linecolor\":\"white\",\"minorgridcolor\":\"white\",\"startlinecolor\":\"#2a3f5f\"},\"baxis\":{\"endlinecolor\":\"#2a3f5f\",\"gridcolor\":\"white\",\"linecolor\":\"white\",\"minorgridcolor\":\"white\",\"startlinecolor\":\"#2a3f5f\"},\"type\":\"carpet\"}],\"choropleth\":[{\"colorbar\":{\"outlinewidth\":0,\"ticks\":\"\"},\"type\":\"choropleth\"}],\"contourcarpet\":[{\"colorbar\":{\"outlinewidth\":0,\"ticks\":\"\"},\"type\":\"contourcarpet\"}],\"contour\":[{\"colorbar\":{\"outlinewidth\":0,\"ticks\":\"\"},\"colorscale\":[[0.0,\"#0d0887\"],[0.1111111111111111,\"#46039f\"],[0.2222222222222222,\"#7201a8\"],[0.3333333333333333,\"#9c179e\"],[0.4444444444444444,\"#bd3786\"],[0.5555555555555556,\"#d8576b\"],[0.6666666666666666,\"#ed7953\"],[0.7777777777777778,\"#fb9f3a\"],[0.8888888888888888,\"#fdca26\"],[1.0,\"#f0f921\"]],\"type\":\"contour\"}],\"heatmapgl\":[{\"colorbar\":{\"outlinewidth\":0,\"ticks\":\"\"},\"colorscale\":[[0.0,\"#0d0887\"],[0.1111111111111111,\"#46039f\"],[0.2222222222222222,\"#7201a8\"],[0.3333333333333333,\"#9c179e\"],[0.4444444444444444,\"#bd3786\"],[0.5555555555555556,\"#d8576b\"],[0.6666666666666666,\"#ed7953\"],[0.7777777777777778,\"#fb9f3a\"],[0.8888888888888888,\"#fdca26\"],[1.0,\"#f0f921\"]],\"type\":\"heatmapgl\"}],\"heatmap\":[{\"colorbar\":{\"outlinewidth\":0,\"ticks\":\"\"},\"colorscale\":[[0.0,\"#0d0887\"],[0.1111111111111111,\"#46039f\"],[0.2222222222222222,\"#7201a8\"],[0.3333333333333333,\"#9c179e\"],[0.4444444444444444,\"#bd3786\"],[0.5555555555555556,\"#d8576b\"],[0.6666666666666666,\"#ed7953\"],[0.7777777777777778,\"#fb9f3a\"],[0.8888888888888888,\"#fdca26\"],[1.0,\"#f0f921\"]],\"type\":\"heatmap\"}],\"histogram2dcontour\":[{\"colorbar\":{\"outlinewidth\":0,\"ticks\":\"\"},\"colorscale\":[[0.0,\"#0d0887\"],[0.1111111111111111,\"#46039f\"],[0.2222222222222222,\"#7201a8\"],[0.3333333333333333,\"#9c179e\"],[0.4444444444444444,\"#bd3786\"],[0.5555555555555556,\"#d8576b\"],[0.6666666666666666,\"#ed7953\"],[0.7777777777777778,\"#fb9f3a\"],[0.8888888888888888,\"#fdca26\"],[1.0,\"#f0f921\"]],\"type\":\"histogram2dcontour\"}],\"histogram2d\":[{\"colorbar\":{\"outlinewidth\":0,\"ticks\":\"\"},\"colorscale\":[[0.0,\"#0d0887\"],[0.1111111111111111,\"#46039f\"],[0.2222222222222222,\"#7201a8\"],[0.3333333333333333,\"#9c179e\"],[0.4444444444444444,\"#bd3786\"],[0.5555555555555556,\"#d8576b\"],[0.6666666666666666,\"#ed7953\"],[0.7777777777777778,\"#fb9f3a\"],[0.8888888888888888,\"#fdca26\"],[1.0,\"#f0f921\"]],\"type\":\"histogram2d\"}],\"histogram\":[{\"marker\":{\"pattern\":{\"fillmode\":\"overlay\",\"size\":10,\"solidity\":0.2}},\"type\":\"histogram\"}],\"mesh3d\":[{\"colorbar\":{\"outlinewidth\":0,\"ticks\":\"\"},\"type\":\"mesh3d\"}],\"parcoords\":[{\"line\":{\"colorbar\":{\"outlinewidth\":0,\"ticks\":\"\"}},\"type\":\"parcoords\"}],\"pie\":[{\"automargin\":true,\"type\":\"pie\"}],\"scatter3d\":[{\"line\":{\"colorbar\":{\"outlinewidth\":0,\"ticks\":\"\"}},\"marker\":{\"colorbar\":{\"outlinewidth\":0,\"ticks\":\"\"}},\"type\":\"scatter3d\"}],\"scattercarpet\":[{\"marker\":{\"colorbar\":{\"outlinewidth\":0,\"ticks\":\"\"}},\"type\":\"scattercarpet\"}],\"scattergeo\":[{\"marker\":{\"colorbar\":{\"outlinewidth\":0,\"ticks\":\"\"}},\"type\":\"scattergeo\"}],\"scattergl\":[{\"marker\":{\"colorbar\":{\"outlinewidth\":0,\"ticks\":\"\"}},\"type\":\"scattergl\"}],\"scattermapbox\":[{\"marker\":{\"colorbar\":{\"outlinewidth\":0,\"ticks\":\"\"}},\"type\":\"scattermapbox\"}],\"scatterpolargl\":[{\"marker\":{\"colorbar\":{\"outlinewidth\":0,\"ticks\":\"\"}},\"type\":\"scatterpolargl\"}],\"scatterpolar\":[{\"marker\":{\"colorbar\":{\"outlinewidth\":0,\"ticks\":\"\"}},\"type\":\"scatterpolar\"}],\"scatter\":[{\"fillpattern\":{\"fillmode\":\"overlay\",\"size\":10,\"solidity\":0.2},\"type\":\"scatter\"}],\"scatterternary\":[{\"marker\":{\"colorbar\":{\"outlinewidth\":0,\"ticks\":\"\"}},\"type\":\"scatterternary\"}],\"surface\":[{\"colorbar\":{\"outlinewidth\":0,\"ticks\":\"\"},\"colorscale\":[[0.0,\"#0d0887\"],[0.1111111111111111,\"#46039f\"],[0.2222222222222222,\"#7201a8\"],[0.3333333333333333,\"#9c179e\"],[0.4444444444444444,\"#bd3786\"],[0.5555555555555556,\"#d8576b\"],[0.6666666666666666,\"#ed7953\"],[0.7777777777777778,\"#fb9f3a\"],[0.8888888888888888,\"#fdca26\"],[1.0,\"#f0f921\"]],\"type\":\"surface\"}],\"table\":[{\"cells\":{\"fill\":{\"color\":\"#EBF0F8\"},\"line\":{\"color\":\"white\"}},\"header\":{\"fill\":{\"color\":\"#C8D4E3\"},\"line\":{\"color\":\"white\"}},\"type\":\"table\"}]},\"layout\":{\"annotationdefaults\":{\"arrowcolor\":\"#2a3f5f\",\"arrowhead\":0,\"arrowwidth\":1},\"autotypenumbers\":\"strict\",\"coloraxis\":{\"colorbar\":{\"outlinewidth\":0,\"ticks\":\"\"}},\"colorscale\":{\"diverging\":[[0,\"#8e0152\"],[0.1,\"#c51b7d\"],[0.2,\"#de77ae\"],[0.3,\"#f1b6da\"],[0.4,\"#fde0ef\"],[0.5,\"#f7f7f7\"],[0.6,\"#e6f5d0\"],[0.7,\"#b8e186\"],[0.8,\"#7fbc41\"],[0.9,\"#4d9221\"],[1,\"#276419\"]],\"sequential\":[[0.0,\"#0d0887\"],[0.1111111111111111,\"#46039f\"],[0.2222222222222222,\"#7201a8\"],[0.3333333333333333,\"#9c179e\"],[0.4444444444444444,\"#bd3786\"],[0.5555555555555556,\"#d8576b\"],[0.6666666666666666,\"#ed7953\"],[0.7777777777777778,\"#fb9f3a\"],[0.8888888888888888,\"#fdca26\"],[1.0,\"#f0f921\"]],\"sequentialminus\":[[0.0,\"#0d0887\"],[0.1111111111111111,\"#46039f\"],[0.2222222222222222,\"#7201a8\"],[0.3333333333333333,\"#9c179e\"],[0.4444444444444444,\"#bd3786\"],[0.5555555555555556,\"#d8576b\"],[0.6666666666666666,\"#ed7953\"],[0.7777777777777778,\"#fb9f3a\"],[0.8888888888888888,\"#fdca26\"],[1.0,\"#f0f921\"]]},\"colorway\":[\"#636efa\",\"#EF553B\",\"#00cc96\",\"#ab63fa\",\"#FFA15A\",\"#19d3f3\",\"#FF6692\",\"#B6E880\",\"#FF97FF\",\"#FECB52\"],\"font\":{\"color\":\"#2a3f5f\"},\"geo\":{\"bgcolor\":\"white\",\"lakecolor\":\"white\",\"landcolor\":\"#E5ECF6\",\"showlakes\":true,\"showland\":true,\"subunitcolor\":\"white\"},\"hoverlabel\":{\"align\":\"left\"},\"hovermode\":\"closest\",\"mapbox\":{\"style\":\"light\"},\"paper_bgcolor\":\"white\",\"plot_bgcolor\":\"#E5ECF6\",\"polar\":{\"angularaxis\":{\"gridcolor\":\"white\",\"linecolor\":\"white\",\"ticks\":\"\"},\"bgcolor\":\"#E5ECF6\",\"radialaxis\":{\"gridcolor\":\"white\",\"linecolor\":\"white\",\"ticks\":\"\"}},\"scene\":{\"xaxis\":{\"backgroundcolor\":\"#E5ECF6\",\"gridcolor\":\"white\",\"gridwidth\":2,\"linecolor\":\"white\",\"showbackground\":true,\"ticks\":\"\",\"zerolinecolor\":\"white\"},\"yaxis\":{\"backgroundcolor\":\"#E5ECF6\",\"gridcolor\":\"white\",\"gridwidth\":2,\"linecolor\":\"white\",\"showbackground\":true,\"ticks\":\"\",\"zerolinecolor\":\"white\"},\"zaxis\":{\"backgroundcolor\":\"#E5ECF6\",\"gridcolor\":\"white\",\"gridwidth\":2,\"linecolor\":\"white\",\"showbackground\":true,\"ticks\":\"\",\"zerolinecolor\":\"white\"}},\"shapedefaults\":{\"line\":{\"color\":\"#2a3f5f\"}},\"ternary\":{\"aaxis\":{\"gridcolor\":\"white\",\"linecolor\":\"white\",\"ticks\":\"\"},\"baxis\":{\"gridcolor\":\"white\",\"linecolor\":\"white\",\"ticks\":\"\"},\"bgcolor\":\"#E5ECF6\",\"caxis\":{\"gridcolor\":\"white\",\"linecolor\":\"white\",\"ticks\":\"\"}},\"title\":{\"x\":0.05},\"xaxis\":{\"automargin\":true,\"gridcolor\":\"white\",\"linecolor\":\"white\",\"ticks\":\"\",\"title\":{\"standoff\":15},\"zerolinecolor\":\"white\",\"zerolinewidth\":2},\"yaxis\":{\"automargin\":true,\"gridcolor\":\"white\",\"linecolor\":\"white\",\"ticks\":\"\",\"title\":{\"standoff\":15},\"zerolinecolor\":\"white\",\"zerolinewidth\":2}}},\"xaxis\":{\"ticktext\":[\"Jan\",\"Feb\",\"Mar\",\"Apr\",\"May\",\"Jun\",\"Jul\",\"Aug\",\"Sep\",\"Oct\",\"Nov\",\"Dec\"],\"tickvals\":[1,2,3,4,5,6,7,8,9,10,11,12]}},                        {\"showLink\": true, \"linkText\": \"Export to plot.ly\", \"plotlyServerURL\": \"https://plot.ly\", \"responsive\": true}                    ).then(function(){\n",
       "                            \n",
       "var gd = document.getElementById('b231a3df-1f33-4958-b4c1-6a154397f1ef');\n",
       "var x = new MutationObserver(function (mutations, observer) {{\n",
       "        var display = window.getComputedStyle(gd).display;\n",
       "        if (!display || display === 'none') {{\n",
       "            console.log([gd, 'removed!']);\n",
       "            Plotly.purge(gd);\n",
       "            observer.disconnect();\n",
       "        }}\n",
       "}});\n",
       "\n",
       "// Listen for the removal of the full notebook cells\n",
       "var notebookContainer = gd.closest('#notebook-container');\n",
       "if (notebookContainer) {{\n",
       "    x.observe(notebookContainer, {childList: true});\n",
       "}}\n",
       "\n",
       "// Listen for the clearing of the current output cell\n",
       "var outputEl = gd.closest('.output');\n",
       "if (outputEl) {{\n",
       "    x.observe(outputEl, {childList: true});\n",
       "}}\n",
       "\n",
       "                        })                };                });            </script>        </div>"
      ]
     },
     "metadata": {},
     "output_type": "display_data"
    }
   ],
   "source": [
    "#doing the above plot using plotly and cufflinks\n",
    "\n",
    "#increase xticks to show all months\n",
    "layout = {\n",
    "    'xaxis':{\n",
    "    \n",
    "        'tickvals': list(range(1, 13)),\n",
    "        'ticktext': ['Jan', 'Feb', 'Mar', 'Apr', 'May', 'Jun', 'Jul', 'Aug', 'Sep', 'Oct', 'Nov', 'Dec'],\n",
    "    }\n",
    "}\n",
    "month_counts['lat'].iplot(title='911 Calls by Month',\n",
    "                          xTitle='Month', yTitle='Count', layout=layout)\n",
    "#Fit an lmplot on the number of calls per month using plotly and cufflinks\n",
    "#Not possible to fit a line in plotly\n",
    "\n",
    "\n"
   ]
  },
  {
   "cell_type": "code",
   "execution_count": 68,
   "metadata": {},
   "outputs": [
    {
     "name": "stdout",
     "output_type": "stream",
     "text": [
      "Date column created:\n",
      "0   2015-12-10\n",
      "1   2015-12-10\n",
      "2   2015-12-10\n",
      "3   2015-12-10\n",
      "4   2015-12-10\n",
      "Name: date, dtype: datetime64[ns]\n",
      "Date column data type:\n",
      "datetime64[ns]\n"
     ]
    }
   ],
   "source": [
    "#Creating a new column called 'Date' that contains the date from the timeStamp column\n",
    "df['date'] = df['timeStamp'].apply(lambda x: x.date())\n",
    "df['date'] = pd.to_datetime(df['date'])#converting the date column to datetime type\n",
    "print(\"Date column created:\")\n",
    "print(df['date'].head())\n",
    "print(\"Date column data type:\")\n",
    "print(df['date'].dtype)\n",
    "\n"
   ]
  },
  {
   "cell_type": "code",
   "execution_count": null,
   "metadata": {},
   "outputs": [
    {
     "data": {
      "text/plain": [
       "date\n",
       "2015-12-10    115\n",
       "2015-12-11    396\n",
       "2015-12-12    403\n",
       "2015-12-13    319\n",
       "2015-12-14    447\n",
       "             ... \n",
       "2016-08-20    328\n",
       "2016-08-21    357\n",
       "2016-08-22    389\n",
       "2016-08-23    439\n",
       "2016-08-24    132\n",
       "Name: lat, Length: 259, dtype: int64"
      ]
     },
     "execution_count": 69,
     "metadata": {},
     "output_type": "execute_result"
    }
   ],
   "source": [
    "df.groupby('date').count()['lat']\n",
    "#grouping data by date and counting the number of calls per date"
   ]
  },
  {
   "cell_type": "code",
   "execution_count": null,
   "metadata": {},
   "outputs": [
    {
     "data": {
      "image/png": "[encoded data removed]",
      "text/plain": [
       "<Figure size 640x480 with 1 Axes>"
      ]
     },
     "metadata": {},
     "output_type": "display_data"
    }
   ],
   "source": [
    "#plotting the number of calls per date\n",
    "df.groupby('date').count()['lat'].plot()\n",
    "plt.title('911 Calls by Date')\n",
    "plt.xlabel('Date')\n",
    "plt.xlim(df['date'].min(), df['date'].max())\n",
    "plt.ylabel('Count')\n",
    "plt.xticks(rotation=30)\n",
    "plt.tight_layout()\n",
    "plt.show()"
   ]
  },
  {
   "cell_type": "code",
   "execution_count": null,
   "metadata": {},
   "outputs": [
    {
     "name": "stderr",
     "output_type": "stream",
     "text": [
      "/Users/shaarifakhtar/Documents/python/anaconda3/lib/python3.12/site-packages/cufflinks/plotlytools.py:117: FutureWarning:\n",
      "\n",
      "DatetimeIndex.format is deprecated and will be removed in a future version. Convert using index.astype(str) or index.map(formatter) instead.\n",
      "\n"
     ]
    },
    {
     "data": {
      "application/vnd.plotly.v1+json": {
       "config": {
        "linkText": "Export to plot.ly",
        "plotlyServerURL": "https://plot.ly",
        "showLink": true
       },
       "data": [
        {
         "line": {
          "color": "rgba(255, 153, 51, 1.0)",
          "dash": "solid",
          "shape": "linear",
          "width": 1.3
         },
         "mode": "lines",
         "name": "lat",
         "text": "",
         "type": "scatter",
         "x": [
          "2015-12-10",
          "2015-12-11",
          "2015-12-12",
          "2015-12-13",
          "2015-12-14",
          "2015-12-15",
          "2015-12-16",
          "2015-12-17",
          "2015-12-18",
          "2015-12-19",
          "2015-12-20",
          "2015-12-21",
          "2015-12-22",
          "2015-12-23",
          "2015-12-24",
          "2015-12-25",
          "2015-12-26",
          "2015-12-27",
          "2015-12-28",
          "2015-12-29",
          "2015-12-30",
          "2015-12-31",
          "2016-01-01",
          "2016-01-02",
          "2016-01-03",
          "2016-01-04",
          "2016-01-05",
          "2016-01-06",
          "2016-01-07",
          "2016-01-08",
          "2016-01-09",
          "2016-01-10",
          "2016-01-11",
          "2016-01-12",
          "2016-01-13",
          "2016-01-14",
          "2016-01-15",
          "2016-01-16",
          "2016-01-17",
          "2016-01-18",
          "2016-01-19",
          "2016-01-20",
          "2016-01-21",
          "2016-01-22",
          "2016-01-23",
          "2016-01-24",
          "2016-01-25",
          "2016-01-26",
          "2016-01-27",
          "2016-01-28",
          "2016-01-29",
          "2016-01-30",
          "2016-01-31",
          "2016-02-01",
          "2016-02-02",
          "2016-02-03",
          "2016-02-04",
          "2016-02-05",
          "2016-02-06",
          "2016-02-07",
          "2016-02-08",
          "2016-02-09",
          "2016-02-10",
          "2016-02-11",
          "2016-02-12",
          "2016-02-13",
          "2016-02-14",
          "2016-02-15",
          "2016-02-16",
          "2016-02-17",
          "2016-02-18",
          "2016-02-19",
          "2016-02-20",
          "2016-02-21",
          "2016-02-22",
          "2016-02-23",
          "2016-02-24",
          "2016-02-25",
          "2016-02-26",
          "2016-02-27",
          "2016-02-28",
          "2016-02-29",
          "2016-03-01",
          "2016-03-02",
          "2016-03-03",
          "2016-03-04",
          "2016-03-05",
          "2016-03-06",
          "2016-03-07",
          "2016-03-08",
          "2016-03-09",
          "2016-03-10",
          "2016-03-11",
          "2016-03-12",
          "2016-03-13",
          "2016-03-14",
          "2016-03-15",
          "2016-03-16",
          "2016-03-17",
          "2016-03-18",
          "2016-03-19",
          "2016-03-20",
          "2016-03-21",
          "2016-03-22",
          "2016-03-23",
          "2016-03-24",
          "2016-03-25",
          "2016-03-26",
          "2016-03-27",
          "2016-03-28",
          "2016-03-29",
          "2016-03-30",
          "2016-03-31",
          "2016-04-01",
          "2016-04-02",
          "2016-04-03",
          "2016-04-04",
          "2016-04-05",
          "2016-04-06",
          "2016-04-07",
          "2016-04-08",
          "2016-04-09",
          "2016-04-10",
          "2016-04-11",
          "2016-04-12",
          "2016-04-13",
          "2016-04-14",
          "2016-04-15",
          "2016-04-16",
          "2016-04-17",
          "2016-04-18",
          "2016-04-19",
          "2016-04-20",
          "2016-04-21",
          "2016-04-22",
          "2016-04-23",
          "2016-04-24",
          "2016-04-25",
          "2016-04-26",
          "2016-04-27",
          "2016-04-28",
          "2016-04-29",
          "2016-04-30",
          "2016-05-01",
          "2016-05-02",
          "2016-05-03",
          "2016-05-04",
          "2016-05-05",
          "2016-05-06",
          "2016-05-07",
          "2016-05-08",
          "2016-05-09",
          "2016-05-10",
          "2016-05-11",
          "2016-05-12",
          "2016-05-13",
          "2016-05-14",
          "2016-05-15",
          "2016-05-16",
          "2016-05-17",
          "2016-05-18",
          "2016-05-19",
          "2016-05-20",
          "2016-05-21",
          "2016-05-22",
          "2016-05-23",
          "2016-05-24",
          "2016-05-25",
          "2016-05-26",
          "2016-05-27",
          "2016-05-28",
          "2016-05-29",
          "2016-05-30",
          "2016-05-31",
          "2016-06-01",
          "2016-06-02",
          "2016-06-03",
          "2016-06-04",
          "2016-06-05",
          "2016-06-06",
          "2016-06-07",
          "2016-06-08",
          "2016-06-09",
          "2016-06-10",
          "2016-06-11",
          "2016-06-12",
          "2016-06-13",
          "2016-06-14",
          "2016-06-15",
          "2016-06-16",
          "2016-06-17",
          "2016-06-18",
          "2016-06-19",
          "2016-06-20",
          "2016-06-21",
          "2016-06-22",
          "2016-06-23",
          "2016-06-24",
          "2016-06-25",
          "2016-06-26",
          "2016-06-27",
          "2016-06-28",
          "2016-06-29",
          "2016-06-30",
          "2016-07-01",
          "2016-07-02",
          "2016-07-03",
          "2016-07-04",
          "2016-07-05",
          "2016-07-06",
          "2016-07-07",
          "2016-07-08",
          "2016-07-09",
          "2016-07-10",
          "2016-07-11",
          "2016-07-12",
          "2016-07-13",
          "2016-07-14",
          "2016-07-15",
          "2016-07-16",
          "2016-07-17",
          "2016-07-18",
          "2016-07-19",
          "2016-07-20",
          "2016-07-21",
          "2016-07-22",
          "2016-07-23",
          "2016-07-24",
          "2016-07-25",
          "2016-07-26",
          "2016-07-27",
          "2016-07-28",
          "2016-07-29",
          "2016-07-30",
          "2016-07-31",
          "2016-08-01",
          "2016-08-02",
          "2016-08-03",
          "2016-08-04",
          "2016-08-05",
          "2016-08-06",
          "2016-08-07",
          "2016-08-08",
          "2016-08-09",
          "2016-08-10",
          "2016-08-11",
          "2016-08-12",
          "2016-08-13",
          "2016-08-14",
          "2016-08-15",
          "2016-08-16",
          "2016-08-17",
          "2016-08-18",
          "2016-08-19",
          "2016-08-20",
          "2016-08-21",
          "2016-08-22",
          "2016-08-23",
          "2016-08-24"
         ],
         "y": [
          115,
          396,
          403,
          319,
          447,
          421,
          377,
          388,
          346,
          279,
          271,
          430,
          448,
          524,
          445,
          323,
          296,
          317,
          380,
          365,
          361,
          318,
          263,
          335,
          324,
          402,
          448,
          434,
          385,
          359,
          365,
          406,
          417,
          588,
          430,
          399,
          440,
          327,
          285,
          333,
          432,
          395,
          364,
          486,
          913,
          662,
          575,
          505,
          441,
          436,
          422,
          351,
          283,
          374,
          471,
          433,
          366,
          402,
          350,
          255,
          363,
          380,
          413,
          439,
          384,
          328,
          344,
          541,
          560,
          378,
          344,
          399,
          376,
          300,
          343,
          342,
          679,
          447,
          396,
          387,
          330,
          343,
          407,
          401,
          368,
          368,
          297,
          286,
          381,
          407,
          396,
          406,
          384,
          350,
          304,
          384,
          382,
          359,
          412,
          418,
          306,
          244,
          368,
          303,
          365,
          350,
          355,
          313,
          268,
          402,
          385,
          368,
          364,
          456,
          386,
          586,
          409,
          334,
          391,
          396,
          370,
          302,
          281,
          381,
          264,
          385,
          360,
          393,
          377,
          309,
          390,
          416,
          405,
          404,
          384,
          363,
          312,
          418,
          416,
          336,
          441,
          355,
          306,
          140,
          343,
          361,
          342,
          362,
          415,
          369,
          332,
          357,
          378,
          404,
          393,
          466,
          359,
          263,
          386,
          395,
          348,
          377,
          420,
          334,
          316,
          398,
          365,
          444,
          458,
          429,
          382,
          373,
          295,
          419,
          441,
          406,
          431,
          356,
          307,
          435,
          435,
          467,
          441,
          404,
          360,
          416,
          419,
          408,
          392,
          391,
          427,
          341,
          324,
          356,
          418,
          372,
          419,
          387,
          331,
          286,
          407,
          415,
          386,
          408,
          411,
          298,
          309,
          290,
          392,
          409,
          373,
          444,
          279,
          323,
          417,
          389,
          481,
          435,
          393,
          343,
          330,
          405,
          443,
          406,
          395,
          366,
          422,
          329,
          580,
          446,
          421,
          443,
          431,
          353,
          381,
          384,
          404,
          403,
          422,
          422,
          378,
          332,
          378,
          350,
          345,
          449,
          441,
          393,
          332,
          360,
          419,
          415,
          359,
          447,
          328,
          357,
          389,
          439,
          132
         ]
        }
       ],
       "layout": {
        "legend": {
         "bgcolor": "#F5F6F9",
         "font": {
          "color": "#4D5663"
         }
        },
        "paper_bgcolor": "#F5F6F9",
        "plot_bgcolor": "#F5F6F9",
        "template": {
         "data": {
          "bar": [
           {
            "error_x": {
             "color": "#2a3f5f"
            },
            "error_y": {
             "color": "#2a3f5f"
            },
            "marker": {
             "line": {
              "color": "#E5ECF6",
              "width": 0.5
             },
             "pattern": {
              "fillmode": "overlay",
              "size": 10,
              "solidity": 0.2
             }
            },
            "type": "bar"
           }
          ],
          "barpolar": [
           {
            "marker": {
             "line": {
              "color": "#E5ECF6",
              "width": 0.5
             },
             "pattern": {
              "fillmode": "overlay",
              "size": 10,
              "solidity": 0.2
             }
            },
            "type": "barpolar"
           }
          ],
          "carpet": [
           {
            "aaxis": {
             "endlinecolor": "#2a3f5f",
             "gridcolor": "white",
             "linecolor": "white",
             "minorgridcolor": "white",
             "startlinecolor": "#2a3f5f"
            },
            "baxis": {
             "endlinecolor": "#2a3f5f",
             "gridcolor": "white",
             "linecolor": "white",
             "minorgridcolor": "white",
             "startlinecolor": "#2a3f5f"
            },
            "type": "carpet"
           }
          ],
          "choropleth": [
           {
            "colorbar": {
             "outlinewidth": 0,
             "ticks": ""
            },
            "type": "choropleth"
           }
          ],
          "contour": [
           {
            "colorbar": {
             "outlinewidth": 0,
             "ticks": ""
            },
            "colorscale": [
             [
              0,
              "#0d0887"
             ],
             [
              0.1111111111111111,
              "#46039f"
             ],
             [
              0.2222222222222222,
              "#7201a8"
             ],
             [
              0.3333333333333333,
              "#9c179e"
             ],
             [
              0.4444444444444444,
              "#bd3786"
             ],
             [
              0.5555555555555556,
              "#d8576b"
             ],
             [
              0.6666666666666666,
              "#ed7953"
             ],
             [
              0.7777777777777778,
              "#fb9f3a"
             ],
             [
              0.8888888888888888,
              "#fdca26"
             ],
             [
              1,
              "#f0f921"
             ]
            ],
            "type": "contour"
           }
          ],
          "contourcarpet": [
           {
            "colorbar": {
             "outlinewidth": 0,
             "ticks": ""
            },
            "type": "contourcarpet"
           }
          ],
          "heatmap": [
           {
            "colorbar": {
             "outlinewidth": 0,
             "ticks": ""
            },
            "colorscale": [
             [
              0,
              "#0d0887"
             ],
             [
              0.1111111111111111,
              "#46039f"
             ],
             [
              0.2222222222222222,
              "#7201a8"
             ],
             [
              0.3333333333333333,
              "#9c179e"
             ],
             [
              0.4444444444444444,
              "#bd3786"
             ],
             [
              0.5555555555555556,
              "#d8576b"
             ],
             [
              0.6666666666666666,
              "#ed7953"
             ],
             [
              0.7777777777777778,
              "#fb9f3a"
             ],
             [
              0.8888888888888888,
              "#fdca26"
             ],
             [
              1,
              "#f0f921"
             ]
            ],
            "type": "heatmap"
           }
          ],
          "heatmapgl": [
           {
            "colorbar": {
             "outlinewidth": 0,
             "ticks": ""
            },
            "colorscale": [
             [
              0,
              "#0d0887"
             ],
             [
              0.1111111111111111,
              "#46039f"
             ],
             [
              0.2222222222222222,
              "#7201a8"
             ],
             [
              0.3333333333333333,
              "#9c179e"
             ],
             [
              0.4444444444444444,
              "#bd3786"
             ],
             [
              0.5555555555555556,
              "#d8576b"
             ],
             [
              0.6666666666666666,
              "#ed7953"
             ],
             [
              0.7777777777777778,
              "#fb9f3a"
             ],
             [
              0.8888888888888888,
              "#fdca26"
             ],
             [
              1,
              "#f0f921"
             ]
            ],
            "type": "heatmapgl"
           }
          ],
          "histogram": [
           {
            "marker": {
             "pattern": {
              "fillmode": "overlay",
              "size": 10,
              "solidity": 0.2
             }
            },
            "type": "histogram"
           }
          ],
          "histogram2d": [
           {
            "colorbar": {
             "outlinewidth": 0,
             "ticks": ""
            },
            "colorscale": [
             [
              0,
              "#0d0887"
             ],
             [
              0.1111111111111111,
              "#46039f"
             ],
             [
              0.2222222222222222,
              "#7201a8"
             ],
             [
              0.3333333333333333,
              "#9c179e"
             ],
             [
              0.4444444444444444,
              "#bd3786"
             ],
             [
              0.5555555555555556,
              "#d8576b"
             ],
             [
              0.6666666666666666,
              "#ed7953"
             ],
             [
              0.7777777777777778,
              "#fb9f3a"
             ],
             [
              0.8888888888888888,
              "#fdca26"
             ],
             [
              1,
              "#f0f921"
             ]
            ],
            "type": "histogram2d"
           }
          ],
          "histogram2dcontour": [
           {
            "colorbar": {
             "outlinewidth": 0,
             "ticks": ""
            },
            "colorscale": [
             [
              0,
              "#0d0887"
             ],
             [
              0.1111111111111111,
              "#46039f"
             ],
             [
              0.2222222222222222,
              "#7201a8"
             ],
             [
              0.3333333333333333,
              "#9c179e"
             ],
             [
              0.4444444444444444,
              "#bd3786"
             ],
             [
              0.5555555555555556,
              "#d8576b"
             ],
             [
              0.6666666666666666,
              "#ed7953"
             ],
             [
              0.7777777777777778,
              "#fb9f3a"
             ],
             [
              0.8888888888888888,
              "#fdca26"
             ],
             [
              1,
              "#f0f921"
             ]
            ],
            "type": "histogram2dcontour"
           }
          ],
          "mesh3d": [
           {
            "colorbar": {
             "outlinewidth": 0,
             "ticks": ""
            },
            "type": "mesh3d"
           }
          ],
          "parcoords": [
           {
            "line": {
             "colorbar": {
              "outlinewidth": 0,
              "ticks": ""
             }
            },
            "type": "parcoords"
           }
          ],
          "pie": [
           {
            "automargin": true,
            "type": "pie"
           }
          ],
          "scatter": [
           {
            "fillpattern": {
             "fillmode": "overlay",
             "size": 10,
             "solidity": 0.2
            },
            "type": "scatter"
           }
          ],
          "scatter3d": [
           {
            "line": {
             "colorbar": {
              "outlinewidth": 0,
              "ticks": ""
             }
            },
            "marker": {
             "colorbar": {
              "outlinewidth": 0,
              "ticks": ""
             }
            },
            "type": "scatter3d"
           }
          ],
          "scattercarpet": [
           {
            "marker": {
             "colorbar": {
              "outlinewidth": 0,
              "ticks": ""
             }
            },
            "type": "scattercarpet"
           }
          ],
          "scattergeo": [
           {
            "marker": {
             "colorbar": {
              "outlinewidth": 0,
              "ticks": ""
             }
            },
            "type": "scattergeo"
           }
          ],
          "scattergl": [
           {
            "marker": {
             "colorbar": {
              "outlinewidth": 0,
              "ticks": ""
             }
            },
            "type": "scattergl"
           }
          ],
          "scattermapbox": [
           {
            "marker": {
             "colorbar": {
              "outlinewidth": 0,
              "ticks": ""
             }
            },
            "type": "scattermapbox"
           }
          ],
          "scatterpolar": [
           {
            "marker": {
             "colorbar": {
              "outlinewidth": 0,
              "ticks": ""
             }
            },
            "type": "scatterpolar"
           }
          ],
          "scatterpolargl": [
           {
            "marker": {
             "colorbar": {
              "outlinewidth": 0,
              "ticks": ""
             }
            },
            "type": "scatterpolargl"
           }
          ],
          "scatterternary": [
           {
            "marker": {
             "colorbar": {
              "outlinewidth": 0,
              "ticks": ""
             }
            },
            "type": "scatterternary"
           }
          ],
          "surface": [
           {
            "colorbar": {
             "outlinewidth": 0,
             "ticks": ""
            },
            "colorscale": [
             [
              0,
              "#0d0887"
             ],
             [
              0.1111111111111111,
              "#46039f"
             ],
             [
              0.2222222222222222,
              "#7201a8"
             ],
             [
              0.3333333333333333,
              "#9c179e"
             ],
             [
              0.4444444444444444,
              "#bd3786"
             ],
             [
              0.5555555555555556,
              "#d8576b"
             ],
             [
              0.6666666666666666,
              "#ed7953"
             ],
             [
              0.7777777777777778,
              "#fb9f3a"
             ],
             [
              0.8888888888888888,
              "#fdca26"
             ],
             [
              1,
              "#f0f921"
             ]
            ],
            "type": "surface"
           }
          ],
          "table": [
           {
            "cells": {
             "fill": {
              "color": "#EBF0F8"
             },
             "line": {
              "color": "white"
             }
            },
            "header": {
             "fill": {
              "color": "#C8D4E3"
             },
             "line": {
              "color": "white"
             }
            },
            "type": "table"
           }
          ]
         },
         "layout": {
          "annotationdefaults": {
           "arrowcolor": "#2a3f5f",
           "arrowhead": 0,
           "arrowwidth": 1
          },
          "autotypenumbers": "strict",
          "coloraxis": {
           "colorbar": {
            "outlinewidth": 0,
            "ticks": ""
           }
          },
          "colorscale": {
           "diverging": [
            [
             0,
             "#8e0152"
            ],
            [
             0.1,
             "#c51b7d"
            ],
            [
             0.2,
             "#de77ae"
            ],
            [
             0.3,
             "#f1b6da"
            ],
            [
             0.4,
             "#fde0ef"
            ],
            [
             0.5,
             "#f7f7f7"
            ],
            [
             0.6,
             "#e6f5d0"
            ],
            [
             0.7,
             "#b8e186"
            ],
            [
             0.8,
             "#7fbc41"
            ],
            [
             0.9,
             "#4d9221"
            ],
            [
             1,
             "#276419"
            ]
           ],
           "sequential": [
            [
             0,
             "#0d0887"
            ],
            [
             0.1111111111111111,
             "#46039f"
            ],
            [
             0.2222222222222222,
             "#7201a8"
            ],
            [
             0.3333333333333333,
             "#9c179e"
            ],
            [
             0.4444444444444444,
             "#bd3786"
            ],
            [
             0.5555555555555556,
             "#d8576b"
            ],
            [
             0.6666666666666666,
             "#ed7953"
            ],
            [
             0.7777777777777778,
             "#fb9f3a"
            ],
            [
             0.8888888888888888,
             "#fdca26"
            ],
            [
             1,
             "#f0f921"
            ]
           ],
           "sequentialminus": [
            [
             0,
             "#0d0887"
            ],
            [
             0.1111111111111111,
             "#46039f"
            ],
            [
             0.2222222222222222,
             "#7201a8"
            ],
            [
             0.3333333333333333,
             "#9c179e"
            ],
            [
             0.4444444444444444,
             "#bd3786"
            ],
            [
             0.5555555555555556,
             "#d8576b"
            ],
            [
             0.6666666666666666,
             "#ed7953"
            ],
            [
             0.7777777777777778,
             "#fb9f3a"
            ],
            [
             0.8888888888888888,
             "#fdca26"
            ],
            [
             1,
             "#f0f921"
            ]
           ]
          },
          "colorway": [
           "#636efa",
           "#EF553B",
           "#00cc96",
           "#ab63fa",
           "#FFA15A",
           "#19d3f3",
           "#FF6692",
           "#B6E880",
           "#FF97FF",
           "#FECB52"
          ],
          "font": {
           "color": "#2a3f5f"
          },
          "geo": {
           "bgcolor": "white",
           "lakecolor": "white",
           "landcolor": "#E5ECF6",
           "showlakes": true,
           "showland": true,
           "subunitcolor": "white"
          },
          "hoverlabel": {
           "align": "left"
          },
          "hovermode": "closest",
          "mapbox": {
           "style": "light"
          },
          "paper_bgcolor": "white",
          "plot_bgcolor": "#E5ECF6",
          "polar": {
           "angularaxis": {
            "gridcolor": "white",
            "linecolor": "white",
            "ticks": ""
           },
           "bgcolor": "#E5ECF6",
           "radialaxis": {
            "gridcolor": "white",
            "linecolor": "white",
            "ticks": ""
           }
          },
          "scene": {
           "xaxis": {
            "backgroundcolor": "#E5ECF6",
            "gridcolor": "white",
            "gridwidth": 2,
            "linecolor": "white",
            "showbackground": true,
            "ticks": "",
            "zerolinecolor": "white"
           },
           "yaxis": {
            "backgroundcolor": "#E5ECF6",
            "gridcolor": "white",
            "gridwidth": 2,
            "linecolor": "white",
            "showbackground": true,
            "ticks": "",
            "zerolinecolor": "white"
           },
           "zaxis": {
            "backgroundcolor": "#E5ECF6",
            "gridcolor": "white",
            "gridwidth": 2,
            "linecolor": "white",
            "showbackground": true,
            "ticks": "",
            "zerolinecolor": "white"
           }
          },
          "shapedefaults": {
           "line": {
            "color": "#2a3f5f"
           }
          },
          "ternary": {
           "aaxis": {
            "gridcolor": "white",
            "linecolor": "white",
            "ticks": ""
           },
           "baxis": {
            "gridcolor": "white",
            "linecolor": "white",
            "ticks": ""
           },
           "bgcolor": "#E5ECF6",
           "caxis": {
            "gridcolor": "white",
            "linecolor": "white",
            "ticks": ""
           }
          },
          "title": {
           "x": 0.05
          },
          "xaxis": {
           "automargin": true,
           "gridcolor": "white",
           "linecolor": "white",
           "ticks": "",
           "title": {
            "standoff": 15
           },
           "zerolinecolor": "white",
           "zerolinewidth": 2
          },
          "yaxis": {
           "automargin": true,
           "gridcolor": "white",
           "linecolor": "white",
           "ticks": "",
           "title": {
            "standoff": 15
           },
           "zerolinecolor": "white",
           "zerolinewidth": 2
          }
         }
        },
        "title": {
         "font": {
          "color": "#4D5663"
         },
         "text": "911 Calls by Date"
        },
        "xaxis": {
         "gridcolor": "#E1E5ED",
         "showgrid": true,
         "tickfont": {
          "color": "#4D5663"
         },
         "title": {
          "font": {
           "color": "#4D5663"
          },
          "text": "Date"
         },
         "zerolinecolor": "#E1E5ED"
        },
        "yaxis": {
         "gridcolor": "#E1E5ED",
         "showgrid": true,
         "tickfont": {
          "color": "#4D5663"
         },
         "title": {
          "font": {
           "color": "#4D5663"
          },
          "text": "Count"
         },
         "zerolinecolor": "#E1E5ED"
        }
       }
      },
      "text/html": [
       "<div>                            <div id=\"81d7022c-6bfd-457f-93cb-b0ad84238df4\" class=\"plotly-graph-div\" style=\"height:525px; width:100%;\"></div>            <script type=\"text/javascript\">                require([\"plotly\"], function(Plotly) {                    window.PLOTLYENV=window.PLOTLYENV || {};\n",
       "                    window.PLOTLYENV.BASE_URL='https://plot.ly';                                    if (document.getElementById(\"81d7022c-6bfd-457f-93cb-b0ad84238df4\")) {                    Plotly.newPlot(                        \"81d7022c-6bfd-457f-93cb-b0ad84238df4\",                        [{\"line\":{\"color\":\"rgba(255, 153, 51, 1.0)\",\"dash\":\"solid\",\"shape\":\"linear\",\"width\":1.3},\"mode\":\"lines\",\"name\":\"lat\",\"text\":\"\",\"x\":[\"2015-12-10\",\"2015-12-11\",\"2015-12-12\",\"2015-12-13\",\"2015-12-14\",\"2015-12-15\",\"2015-12-16\",\"2015-12-17\",\"2015-12-18\",\"2015-12-19\",\"2015-12-20\",\"2015-12-21\",\"2015-12-22\",\"2015-12-23\",\"2015-12-24\",\"2015-12-25\",\"2015-12-26\",\"2015-12-27\",\"2015-12-28\",\"2015-12-29\",\"2015-12-30\",\"2015-12-31\",\"2016-01-01\",\"2016-01-02\",\"2016-01-03\",\"2016-01-04\",\"2016-01-05\",\"2016-01-06\",\"2016-01-07\",\"2016-01-08\",\"2016-01-09\",\"2016-01-10\",\"2016-01-11\",\"2016-01-12\",\"2016-01-13\",\"2016-01-14\",\"2016-01-15\",\"2016-01-16\",\"2016-01-17\",\"2016-01-18\",\"2016-01-19\",\"2016-01-20\",\"2016-01-21\",\"2016-01-22\",\"2016-01-23\",\"2016-01-24\",\"2016-01-25\",\"2016-01-26\",\"2016-01-27\",\"2016-01-28\",\"2016-01-29\",\"2016-01-30\",\"2016-01-31\",\"2016-02-01\",\"2016-02-02\",\"2016-02-03\",\"2016-02-04\",\"2016-02-05\",\"2016-02-06\",\"2016-02-07\",\"2016-02-08\",\"2016-02-09\",\"2016-02-10\",\"2016-02-11\",\"2016-02-12\",\"2016-02-13\",\"2016-02-14\",\"2016-02-15\",\"2016-02-16\",\"2016-02-17\",\"2016-02-18\",\"2016-02-19\",\"2016-02-20\",\"2016-02-21\",\"2016-02-22\",\"2016-02-23\",\"2016-02-24\",\"2016-02-25\",\"2016-02-26\",\"2016-02-27\",\"2016-02-28\",\"2016-02-29\",\"2016-03-01\",\"2016-03-02\",\"2016-03-03\",\"2016-03-04\",\"2016-03-05\",\"2016-03-06\",\"2016-03-07\",\"2016-03-08\",\"2016-03-09\",\"2016-03-10\",\"2016-03-11\",\"2016-03-12\",\"2016-03-13\",\"2016-03-14\",\"2016-03-15\",\"2016-03-16\",\"2016-03-17\",\"2016-03-18\",\"2016-03-19\",\"2016-03-20\",\"2016-03-21\",\"2016-03-22\",\"2016-03-23\",\"2016-03-24\",\"2016-03-25\",\"2016-03-26\",\"2016-03-27\",\"2016-03-28\",\"2016-03-29\",\"2016-03-30\",\"2016-03-31\",\"2016-04-01\",\"2016-04-02\",\"2016-04-03\",\"2016-04-04\",\"2016-04-05\",\"2016-04-06\",\"2016-04-07\",\"2016-04-08\",\"2016-04-09\",\"2016-04-10\",\"2016-04-11\",\"2016-04-12\",\"2016-04-13\",\"2016-04-14\",\"2016-04-15\",\"2016-04-16\",\"2016-04-17\",\"2016-04-18\",\"2016-04-19\",\"2016-04-20\",\"2016-04-21\",\"2016-04-22\",\"2016-04-23\",\"2016-04-24\",\"2016-04-25\",\"2016-04-26\",\"2016-04-27\",\"2016-04-28\",\"2016-04-29\",\"2016-04-30\",\"2016-05-01\",\"2016-05-02\",\"2016-05-03\",\"2016-05-04\",\"2016-05-05\",\"2016-05-06\",\"2016-05-07\",\"2016-05-08\",\"2016-05-09\",\"2016-05-10\",\"2016-05-11\",\"2016-05-12\",\"2016-05-13\",\"2016-05-14\",\"2016-05-15\",\"2016-05-16\",\"2016-05-17\",\"2016-05-18\",\"2016-05-19\",\"2016-05-20\",\"2016-05-21\",\"2016-05-22\",\"2016-05-23\",\"2016-05-24\",\"2016-05-25\",\"2016-05-26\",\"2016-05-27\",\"2016-05-28\",\"2016-05-29\",\"2016-05-30\",\"2016-05-31\",\"2016-06-01\",\"2016-06-02\",\"2016-06-03\",\"2016-06-04\",\"2016-06-05\",\"2016-06-06\",\"2016-06-07\",\"2016-06-08\",\"2016-06-09\",\"2016-06-10\",\"2016-06-11\",\"2016-06-12\",\"2016-06-13\",\"2016-06-14\",\"2016-06-15\",\"2016-06-16\",\"2016-06-17\",\"2016-06-18\",\"2016-06-19\",\"2016-06-20\",\"2016-06-21\",\"2016-06-22\",\"2016-06-23\",\"2016-06-24\",\"2016-06-25\",\"2016-06-26\",\"2016-06-27\",\"2016-06-28\",\"2016-06-29\",\"2016-06-30\",\"2016-07-01\",\"2016-07-02\",\"2016-07-03\",\"2016-07-04\",\"2016-07-05\",\"2016-07-06\",\"2016-07-07\",\"2016-07-08\",\"2016-07-09\",\"2016-07-10\",\"2016-07-11\",\"2016-07-12\",\"2016-07-13\",\"2016-07-14\",\"2016-07-15\",\"2016-07-16\",\"2016-07-17\",\"2016-07-18\",\"2016-07-19\",\"2016-07-20\",\"2016-07-21\",\"2016-07-22\",\"2016-07-23\",\"2016-07-24\",\"2016-07-25\",\"2016-07-26\",\"2016-07-27\",\"2016-07-28\",\"2016-07-29\",\"2016-07-30\",\"2016-07-31\",\"2016-08-01\",\"2016-08-02\",\"2016-08-03\",\"2016-08-04\",\"2016-08-05\",\"2016-08-06\",\"2016-08-07\",\"2016-08-08\",\"2016-08-09\",\"2016-08-10\",\"2016-08-11\",\"2016-08-12\",\"2016-08-13\",\"2016-08-14\",\"2016-08-15\",\"2016-08-16\",\"2016-08-17\",\"2016-08-18\",\"2016-08-19\",\"2016-08-20\",\"2016-08-21\",\"2016-08-22\",\"2016-08-23\",\"2016-08-24\"],\"y\":[115,396,403,319,447,421,377,388,346,279,271,430,448,524,445,323,296,317,380,365,361,318,263,335,324,402,448,434,385,359,365,406,417,588,430,399,440,327,285,333,432,395,364,486,913,662,575,505,441,436,422,351,283,374,471,433,366,402,350,255,363,380,413,439,384,328,344,541,560,378,344,399,376,300,343,342,679,447,396,387,330,343,407,401,368,368,297,286,381,407,396,406,384,350,304,384,382,359,412,418,306,244,368,303,365,350,355,313,268,402,385,368,364,456,386,586,409,334,391,396,370,302,281,381,264,385,360,393,377,309,390,416,405,404,384,363,312,418,416,336,441,355,306,140,343,361,342,362,415,369,332,357,378,404,393,466,359,263,386,395,348,377,420,334,316,398,365,444,458,429,382,373,295,419,441,406,431,356,307,435,435,467,441,404,360,416,419,408,392,391,427,341,324,356,418,372,419,387,331,286,407,415,386,408,411,298,309,290,392,409,373,444,279,323,417,389,481,435,393,343,330,405,443,406,395,366,422,329,580,446,421,443,431,353,381,384,404,403,422,422,378,332,378,350,345,449,441,393,332,360,419,415,359,447,328,357,389,439,132],\"type\":\"scatter\"}],                        {\"legend\":{\"bgcolor\":\"#F5F6F9\",\"font\":{\"color\":\"#4D5663\"}},\"paper_bgcolor\":\"#F5F6F9\",\"plot_bgcolor\":\"#F5F6F9\",\"template\":{\"data\":{\"barpolar\":[{\"marker\":{\"line\":{\"color\":\"#E5ECF6\",\"width\":0.5},\"pattern\":{\"fillmode\":\"overlay\",\"size\":10,\"solidity\":0.2}},\"type\":\"barpolar\"}],\"bar\":[{\"error_x\":{\"color\":\"#2a3f5f\"},\"error_y\":{\"color\":\"#2a3f5f\"},\"marker\":{\"line\":{\"color\":\"#E5ECF6\",\"width\":0.5},\"pattern\":{\"fillmode\":\"overlay\",\"size\":10,\"solidity\":0.2}},\"type\":\"bar\"}],\"carpet\":[{\"aaxis\":{\"endlinecolor\":\"#2a3f5f\",\"gridcolor\":\"white\",\"linecolor\":\"white\",\"minorgridcolor\":\"white\",\"startlinecolor\":\"#2a3f5f\"},\"baxis\":{\"endlinecolor\":\"#2a3f5f\",\"gridcolor\":\"white\",\"linecolor\":\"white\",\"minorgridcolor\":\"white\",\"startlinecolor\":\"#2a3f5f\"},\"type\":\"carpet\"}],\"choropleth\":[{\"colorbar\":{\"outlinewidth\":0,\"ticks\":\"\"},\"type\":\"choropleth\"}],\"contourcarpet\":[{\"colorbar\":{\"outlinewidth\":0,\"ticks\":\"\"},\"type\":\"contourcarpet\"}],\"contour\":[{\"colorbar\":{\"outlinewidth\":0,\"ticks\":\"\"},\"colorscale\":[[0.0,\"#0d0887\"],[0.1111111111111111,\"#46039f\"],[0.2222222222222222,\"#7201a8\"],[0.3333333333333333,\"#9c179e\"],[0.4444444444444444,\"#bd3786\"],[0.5555555555555556,\"#d8576b\"],[0.6666666666666666,\"#ed7953\"],[0.7777777777777778,\"#fb9f3a\"],[0.8888888888888888,\"#fdca26\"],[1.0,\"#f0f921\"]],\"type\":\"contour\"}],\"heatmapgl\":[{\"colorbar\":{\"outlinewidth\":0,\"ticks\":\"\"},\"colorscale\":[[0.0,\"#0d0887\"],[0.1111111111111111,\"#46039f\"],[0.2222222222222222,\"#7201a8\"],[0.3333333333333333,\"#9c179e\"],[0.4444444444444444,\"#bd3786\"],[0.5555555555555556,\"#d8576b\"],[0.6666666666666666,\"#ed7953\"],[0.7777777777777778,\"#fb9f3a\"],[0.8888888888888888,\"#fdca26\"],[1.0,\"#f0f921\"]],\"type\":\"heatmapgl\"}],\"heatmap\":[{\"colorbar\":{\"outlinewidth\":0,\"ticks\":\"\"},\"colorscale\":[[0.0,\"#0d0887\"],[0.1111111111111111,\"#46039f\"],[0.2222222222222222,\"#7201a8\"],[0.3333333333333333,\"#9c179e\"],[0.4444444444444444,\"#bd3786\"],[0.5555555555555556,\"#d8576b\"],[0.6666666666666666,\"#ed7953\"],[0.7777777777777778,\"#fb9f3a\"],[0.8888888888888888,\"#fdca26\"],[1.0,\"#f0f921\"]],\"type\":\"heatmap\"}],\"histogram2dcontour\":[{\"colorbar\":{\"outlinewidth\":0,\"ticks\":\"\"},\"colorscale\":[[0.0,\"#0d0887\"],[0.1111111111111111,\"#46039f\"],[0.2222222222222222,\"#7201a8\"],[0.3333333333333333,\"#9c179e\"],[0.4444444444444444,\"#bd3786\"],[0.5555555555555556,\"#d8576b\"],[0.6666666666666666,\"#ed7953\"],[0.7777777777777778,\"#fb9f3a\"],[0.8888888888888888,\"#fdca26\"],[1.0,\"#f0f921\"]],\"type\":\"histogram2dcontour\"}],\"histogram2d\":[{\"colorbar\":{\"outlinewidth\":0,\"ticks\":\"\"},\"colorscale\":[[0.0,\"#0d0887\"],[0.1111111111111111,\"#46039f\"],[0.2222222222222222,\"#7201a8\"],[0.3333333333333333,\"#9c179e\"],[0.4444444444444444,\"#bd3786\"],[0.5555555555555556,\"#d8576b\"],[0.6666666666666666,\"#ed7953\"],[0.7777777777777778,\"#fb9f3a\"],[0.8888888888888888,\"#fdca26\"],[1.0,\"#f0f921\"]],\"type\":\"histogram2d\"}],\"histogram\":[{\"marker\":{\"pattern\":{\"fillmode\":\"overlay\",\"size\":10,\"solidity\":0.2}},\"type\":\"histogram\"}],\"mesh3d\":[{\"colorbar\":{\"outlinewidth\":0,\"ticks\":\"\"},\"type\":\"mesh3d\"}],\"parcoords\":[{\"line\":{\"colorbar\":{\"outlinewidth\":0,\"ticks\":\"\"}},\"type\":\"parcoords\"}],\"pie\":[{\"automargin\":true,\"type\":\"pie\"}],\"scatter3d\":[{\"line\":{\"colorbar\":{\"outlinewidth\":0,\"ticks\":\"\"}},\"marker\":{\"colorbar\":{\"outlinewidth\":0,\"ticks\":\"\"}},\"type\":\"scatter3d\"}],\"scattercarpet\":[{\"marker\":{\"colorbar\":{\"outlinewidth\":0,\"ticks\":\"\"}},\"type\":\"scattercarpet\"}],\"scattergeo\":[{\"marker\":{\"colorbar\":{\"outlinewidth\":0,\"ticks\":\"\"}},\"type\":\"scattergeo\"}],\"scattergl\":[{\"marker\":{\"colorbar\":{\"outlinewidth\":0,\"ticks\":\"\"}},\"type\":\"scattergl\"}],\"scattermapbox\":[{\"marker\":{\"colorbar\":{\"outlinewidth\":0,\"ticks\":\"\"}},\"type\":\"scattermapbox\"}],\"scatterpolargl\":[{\"marker\":{\"colorbar\":{\"outlinewidth\":0,\"ticks\":\"\"}},\"type\":\"scatterpolargl\"}],\"scatterpolar\":[{\"marker\":{\"colorbar\":{\"outlinewidth\":0,\"ticks\":\"\"}},\"type\":\"scatterpolar\"}],\"scatter\":[{\"fillpattern\":{\"fillmode\":\"overlay\",\"size\":10,\"solidity\":0.2},\"type\":\"scatter\"}],\"scatterternary\":[{\"marker\":{\"colorbar\":{\"outlinewidth\":0,\"ticks\":\"\"}},\"type\":\"scatterternary\"}],\"surface\":[{\"colorbar\":{\"outlinewidth\":0,\"ticks\":\"\"},\"colorscale\":[[0.0,\"#0d0887\"],[0.1111111111111111,\"#46039f\"],[0.2222222222222222,\"#7201a8\"],[0.3333333333333333,\"#9c179e\"],[0.4444444444444444,\"#bd3786\"],[0.5555555555555556,\"#d8576b\"],[0.6666666666666666,\"#ed7953\"],[0.7777777777777778,\"#fb9f3a\"],[0.8888888888888888,\"#fdca26\"],[1.0,\"#f0f921\"]],\"type\":\"surface\"}],\"table\":[{\"cells\":{\"fill\":{\"color\":\"#EBF0F8\"},\"line\":{\"color\":\"white\"}},\"header\":{\"fill\":{\"color\":\"#C8D4E3\"},\"line\":{\"color\":\"white\"}},\"type\":\"table\"}]},\"layout\":{\"annotationdefaults\":{\"arrowcolor\":\"#2a3f5f\",\"arrowhead\":0,\"arrowwidth\":1},\"autotypenumbers\":\"strict\",\"coloraxis\":{\"colorbar\":{\"outlinewidth\":0,\"ticks\":\"\"}},\"colorscale\":{\"diverging\":[[0,\"#8e0152\"],[0.1,\"#c51b7d\"],[0.2,\"#de77ae\"],[0.3,\"#f1b6da\"],[0.4,\"#fde0ef\"],[0.5,\"#f7f7f7\"],[0.6,\"#e6f5d0\"],[0.7,\"#b8e186\"],[0.8,\"#7fbc41\"],[0.9,\"#4d9221\"],[1,\"#276419\"]],\"sequential\":[[0.0,\"#0d0887\"],[0.1111111111111111,\"#46039f\"],[0.2222222222222222,\"#7201a8\"],[0.3333333333333333,\"#9c179e\"],[0.4444444444444444,\"#bd3786\"],[0.5555555555555556,\"#d8576b\"],[0.6666666666666666,\"#ed7953\"],[0.7777777777777778,\"#fb9f3a\"],[0.8888888888888888,\"#fdca26\"],[1.0,\"#f0f921\"]],\"sequentialminus\":[[0.0,\"#0d0887\"],[0.1111111111111111,\"#46039f\"],[0.2222222222222222,\"#7201a8\"],[0.3333333333333333,\"#9c179e\"],[0.4444444444444444,\"#bd3786\"],[0.5555555555555556,\"#d8576b\"],[0.6666666666666666,\"#ed7953\"],[0.7777777777777778,\"#fb9f3a\"],[0.8888888888888888,\"#fdca26\"],[1.0,\"#f0f921\"]]},\"colorway\":[\"#636efa\",\"#EF553B\",\"#00cc96\",\"#ab63fa\",\"#FFA15A\",\"#19d3f3\",\"#FF6692\",\"#B6E880\",\"#FF97FF\",\"#FECB52\"],\"font\":{\"color\":\"#2a3f5f\"},\"geo\":{\"bgcolor\":\"white\",\"lakecolor\":\"white\",\"landcolor\":\"#E5ECF6\",\"showlakes\":true,\"showland\":true,\"subunitcolor\":\"white\"},\"hoverlabel\":{\"align\":\"left\"},\"hovermode\":\"closest\",\"mapbox\":{\"style\":\"light\"},\"paper_bgcolor\":\"white\",\"plot_bgcolor\":\"#E5ECF6\",\"polar\":{\"angularaxis\":{\"gridcolor\":\"white\",\"linecolor\":\"white\",\"ticks\":\"\"},\"bgcolor\":\"#E5ECF6\",\"radialaxis\":{\"gridcolor\":\"white\",\"linecolor\":\"white\",\"ticks\":\"\"}},\"scene\":{\"xaxis\":{\"backgroundcolor\":\"#E5ECF6\",\"gridcolor\":\"white\",\"gridwidth\":2,\"linecolor\":\"white\",\"showbackground\":true,\"ticks\":\"\",\"zerolinecolor\":\"white\"},\"yaxis\":{\"backgroundcolor\":\"#E5ECF6\",\"gridcolor\":\"white\",\"gridwidth\":2,\"linecolor\":\"white\",\"showbackground\":true,\"ticks\":\"\",\"zerolinecolor\":\"white\"},\"zaxis\":{\"backgroundcolor\":\"#E5ECF6\",\"gridcolor\":\"white\",\"gridwidth\":2,\"linecolor\":\"white\",\"showbackground\":true,\"ticks\":\"\",\"zerolinecolor\":\"white\"}},\"shapedefaults\":{\"line\":{\"color\":\"#2a3f5f\"}},\"ternary\":{\"aaxis\":{\"gridcolor\":\"white\",\"linecolor\":\"white\",\"ticks\":\"\"},\"baxis\":{\"gridcolor\":\"white\",\"linecolor\":\"white\",\"ticks\":\"\"},\"bgcolor\":\"#E5ECF6\",\"caxis\":{\"gridcolor\":\"white\",\"linecolor\":\"white\",\"ticks\":\"\"}},\"title\":{\"x\":0.05},\"xaxis\":{\"automargin\":true,\"gridcolor\":\"white\",\"linecolor\":\"white\",\"ticks\":\"\",\"title\":{\"standoff\":15},\"zerolinecolor\":\"white\",\"zerolinewidth\":2},\"yaxis\":{\"automargin\":true,\"gridcolor\":\"white\",\"linecolor\":\"white\",\"ticks\":\"\",\"title\":{\"standoff\":15},\"zerolinecolor\":\"white\",\"zerolinewidth\":2}}},\"title\":{\"font\":{\"color\":\"#4D5663\"},\"text\":\"911 Calls by Date\"},\"xaxis\":{\"gridcolor\":\"#E1E5ED\",\"showgrid\":true,\"tickfont\":{\"color\":\"#4D5663\"},\"title\":{\"font\":{\"color\":\"#4D5663\"},\"text\":\"Date\"},\"zerolinecolor\":\"#E1E5ED\"},\"yaxis\":{\"gridcolor\":\"#E1E5ED\",\"showgrid\":true,\"tickfont\":{\"color\":\"#4D5663\"},\"title\":{\"font\":{\"color\":\"#4D5663\"},\"text\":\"Count\"},\"zerolinecolor\":\"#E1E5ED\"}},                        {\"showLink\": true, \"linkText\": \"Export to plot.ly\", \"plotlyServerURL\": \"https://plot.ly\", \"responsive\": true}                    ).then(function(){\n",
       "                            \n",
       "var gd = document.getElementById('81d7022c-6bfd-457f-93cb-b0ad84238df4');\n",
       "var x = new MutationObserver(function (mutations, observer) {{\n",
       "        var display = window.getComputedStyle(gd).display;\n",
       "        if (!display || display === 'none') {{\n",
       "            console.log([gd, 'removed!']);\n",
       "            Plotly.purge(gd);\n",
       "            observer.disconnect();\n",
       "        }}\n",
       "}});\n",
       "\n",
       "// Listen for the removal of the full notebook cells\n",
       "var notebookContainer = gd.closest('#notebook-container');\n",
       "if (notebookContainer) {{\n",
       "    x.observe(notebookContainer, {childList: true});\n",
       "}}\n",
       "\n",
       "// Listen for the clearing of the current output cell\n",
       "var outputEl = gd.closest('.output');\n",
       "if (outputEl) {{\n",
       "    x.observe(outputEl, {childList: true});\n",
       "}}\n",
       "\n",
       "                        })                };                });            </script>        </div>"
      ]
     },
     "metadata": {},
     "output_type": "display_data"
    }
   ],
   "source": [
    "calls_by_date = df.groupby('date').count()['lat']\n",
    "#plotting the number of calls per date using plotly and cufflinks\n",
    "calls_by_date.iplot(title='911 Calls by Date',\n",
    "                    xTitle='Date', yTitle='Count')\n",
    "\n",
    "#observations:\n",
    "#There are some spikes in the number of calls on certain dates\n",
    "#Seems like January 23, 2016 had the highest number of calls\n",
    "#We can inspect into this further by looking at the reason for the calls on this date"
   ]
  },
  {
   "cell_type": "code",
   "execution_count": 81,
   "metadata": {},
   "outputs": [
    {
     "name": "stdout",
     "output_type": "stream",
     "text": [
      "Traffic Calls by Date:\n",
      " date\n",
      "2015-12-10     43\n",
      "2015-12-11    141\n",
      "2015-12-12    146\n",
      "2015-12-13     78\n",
      "2015-12-14    186\n",
      "             ... \n",
      "2016-08-20    117\n",
      "2016-08-21    138\n",
      "2016-08-22    156\n",
      "2016-08-23    151\n",
      "2016-08-24     42\n",
      "Name: lat, Length: 259, dtype: int64\n"
     ]
    }
   ],
   "source": [
    "#making the plot for traffic calls first\n",
    "calls_by_date_traffic = df[df['reason'] == 'Traffic'].groupby('date').count()['lat']\n",
    "print(\"Traffic Calls by Date:\\n\",calls_by_date_traffic)"
   ]
  },
  {
   "cell_type": "code",
   "execution_count": null,
   "metadata": {},
   "outputs": [
    {
     "name": "stderr",
     "output_type": "stream",
     "text": [
      "/Users/shaarifakhtar/Documents/python/anaconda3/lib/python3.12/site-packages/cufflinks/plotlytools.py:117: FutureWarning:\n",
      "\n",
      "DatetimeIndex.format is deprecated and will be removed in a future version. Convert using index.astype(str) or index.map(formatter) instead.\n",
      "\n"
     ]
    },
    {
     "data": {
      "application/vnd.plotly.v1+json": {
       "config": {
        "linkText": "Export to plot.ly",
        "plotlyServerURL": "https://plot.ly",
        "showLink": true
       },
       "data": [
        {
         "line": {
          "color": "rgba(255, 153, 51, 1.0)",
          "dash": "solid",
          "shape": "linear",
          "width": 1.3
         },
         "mode": "lines",
         "name": "lat",
         "text": "",
         "type": "scatter",
         "x": [
          "2015-12-10",
          "2015-12-11",
          "2015-12-12",
          "2015-12-13",
          "2015-12-14",
          "2015-12-15",
          "2015-12-16",
          "2015-12-17",
          "2015-12-18",
          "2015-12-19",
          "2015-12-20",
          "2015-12-21",
          "2015-12-22",
          "2015-12-23",
          "2015-12-24",
          "2015-12-25",
          "2015-12-26",
          "2015-12-27",
          "2015-12-28",
          "2015-12-29",
          "2015-12-30",
          "2015-12-31",
          "2016-01-01",
          "2016-01-02",
          "2016-01-03",
          "2016-01-04",
          "2016-01-05",
          "2016-01-06",
          "2016-01-07",
          "2016-01-08",
          "2016-01-09",
          "2016-01-10",
          "2016-01-11",
          "2016-01-12",
          "2016-01-13",
          "2016-01-14",
          "2016-01-15",
          "2016-01-16",
          "2016-01-17",
          "2016-01-18",
          "2016-01-19",
          "2016-01-20",
          "2016-01-21",
          "2016-01-22",
          "2016-01-23",
          "2016-01-24",
          "2016-01-25",
          "2016-01-26",
          "2016-01-27",
          "2016-01-28",
          "2016-01-29",
          "2016-01-30",
          "2016-01-31",
          "2016-02-01",
          "2016-02-02",
          "2016-02-03",
          "2016-02-04",
          "2016-02-05",
          "2016-02-06",
          "2016-02-07",
          "2016-02-08",
          "2016-02-09",
          "2016-02-10",
          "2016-02-11",
          "2016-02-12",
          "2016-02-13",
          "2016-02-14",
          "2016-02-15",
          "2016-02-16",
          "2016-02-17",
          "2016-02-18",
          "2016-02-19",
          "2016-02-20",
          "2016-02-21",
          "2016-02-22",
          "2016-02-23",
          "2016-02-24",
          "2016-02-25",
          "2016-02-26",
          "2016-02-27",
          "2016-02-28",
          "2016-02-29",
          "2016-03-01",
          "2016-03-02",
          "2016-03-03",
          "2016-03-04",
          "2016-03-05",
          "2016-03-06",
          "2016-03-07",
          "2016-03-08",
          "2016-03-09",
          "2016-03-10",
          "2016-03-11",
          "2016-03-12",
          "2016-03-13",
          "2016-03-14",
          "2016-03-15",
          "2016-03-16",
          "2016-03-17",
          "2016-03-18",
          "2016-03-19",
          "2016-03-20",
          "2016-03-21",
          "2016-03-22",
          "2016-03-23",
          "2016-03-24",
          "2016-03-25",
          "2016-03-26",
          "2016-03-27",
          "2016-03-28",
          "2016-03-29",
          "2016-03-30",
          "2016-03-31",
          "2016-04-01",
          "2016-04-02",
          "2016-04-03",
          "2016-04-04",
          "2016-04-05",
          "2016-04-06",
          "2016-04-07",
          "2016-04-08",
          "2016-04-09",
          "2016-04-10",
          "2016-04-11",
          "2016-04-12",
          "2016-04-13",
          "2016-04-14",
          "2016-04-15",
          "2016-04-16",
          "2016-04-17",
          "2016-04-18",
          "2016-04-19",
          "2016-04-20",
          "2016-04-21",
          "2016-04-22",
          "2016-04-23",
          "2016-04-24",
          "2016-04-25",
          "2016-04-26",
          "2016-04-27",
          "2016-04-28",
          "2016-04-29",
          "2016-04-30",
          "2016-05-01",
          "2016-05-02",
          "2016-05-03",
          "2016-05-04",
          "2016-05-05",
          "2016-05-06",
          "2016-05-07",
          "2016-05-08",
          "2016-05-09",
          "2016-05-10",
          "2016-05-11",
          "2016-05-12",
          "2016-05-13",
          "2016-05-14",
          "2016-05-15",
          "2016-05-16",
          "2016-05-17",
          "2016-05-18",
          "2016-05-19",
          "2016-05-20",
          "2016-05-21",
          "2016-05-22",
          "2016-05-23",
          "2016-05-24",
          "2016-05-25",
          "2016-05-26",
          "2016-05-27",
          "2016-05-28",
          "2016-05-29",
          "2016-05-30",
          "2016-05-31",
          "2016-06-01",
          "2016-06-02",
          "2016-06-03",
          "2016-06-04",
          "2016-06-05",
          "2016-06-06",
          "2016-06-07",
          "2016-06-08",
          "2016-06-09",
          "2016-06-10",
          "2016-06-11",
          "2016-06-12",
          "2016-06-13",
          "2016-06-14",
          "2016-06-15",
          "2016-06-16",
          "2016-06-17",
          "2016-06-18",
          "2016-06-19",
          "2016-06-20",
          "2016-06-21",
          "2016-06-22",
          "2016-06-23",
          "2016-06-24",
          "2016-06-25",
          "2016-06-26",
          "2016-06-27",
          "2016-06-28",
          "2016-06-29",
          "2016-06-30",
          "2016-07-01",
          "2016-07-02",
          "2016-07-03",
          "2016-07-04",
          "2016-07-05",
          "2016-07-06",
          "2016-07-07",
          "2016-07-08",
          "2016-07-09",
          "2016-07-10",
          "2016-07-11",
          "2016-07-12",
          "2016-07-13",
          "2016-07-14",
          "2016-07-15",
          "2016-07-16",
          "2016-07-17",
          "2016-07-18",
          "2016-07-19",
          "2016-07-20",
          "2016-07-21",
          "2016-07-22",
          "2016-07-23",
          "2016-07-24",
          "2016-07-25",
          "2016-07-26",
          "2016-07-27",
          "2016-07-28",
          "2016-07-29",
          "2016-07-30",
          "2016-07-31",
          "2016-08-01",
          "2016-08-02",
          "2016-08-03",
          "2016-08-04",
          "2016-08-05",
          "2016-08-06",
          "2016-08-07",
          "2016-08-08",
          "2016-08-09",
          "2016-08-10",
          "2016-08-11",
          "2016-08-12",
          "2016-08-13",
          "2016-08-14",
          "2016-08-15",
          "2016-08-16",
          "2016-08-17",
          "2016-08-18",
          "2016-08-19",
          "2016-08-20",
          "2016-08-21",
          "2016-08-22",
          "2016-08-23",
          "2016-08-24"
         ],
         "y": [
          43,
          141,
          146,
          78,
          186,
          183,
          132,
          167,
          148,
          108,
          78,
          150,
          196,
          277,
          175,
          76,
          92,
          90,
          115,
          136,
          146,
          112,
          57,
          105,
          97,
          139,
          174,
          157,
          115,
          111,
          117,
          135,
          172,
          324,
          179,
          139,
          145,
          123,
          81,
          98,
          145,
          148,
          138,
          247,
          557,
          251,
          277,
          244,
          189,
          188,
          173,
          134,
          78,
          146,
          175,
          179,
          147,
          160,
          116,
          59,
          124,
          137,
          140,
          177,
          138,
          120,
          104,
          239,
          230,
          140,
          127,
          148,
          121,
          73,
          96,
          125,
          309,
          158,
          164,
          125,
          92,
          116,
          145,
          156,
          143,
          146,
          101,
          73,
          115,
          140,
          140,
          145,
          137,
          88,
          68,
          129,
          133,
          131,
          154,
          166,
          79,
          50,
          120,
          89,
          114,
          120,
          100,
          109,
          68,
          154,
          124,
          133,
          109,
          165,
          138,
          281,
          151,
          127,
          135,
          129,
          123,
          94,
          70,
          125,
          103,
          120,
          143,
          145,
          122,
          90,
          137,
          138,
          142,
          153,
          115,
          124,
          62,
          154,
          164,
          92,
          166,
          128,
          93,
          39,
          128,
          133,
          122,
          106,
          193,
          137,
          95,
          126,
          140,
          140,
          164,
          186,
          120,
          84,
          145,
          160,
          133,
          131,
          160,
          118,
          90,
          137,
          128,
          177,
          163,
          155,
          123,
          112,
          80,
          191,
          183,
          160,
          177,
          107,
          106,
          148,
          179,
          219,
          175,
          135,
          115,
          143,
          160,
          164,
          142,
          141,
          159,
          111,
          89,
          125,
          136,
          118,
          148,
          153,
          97,
          77,
          142,
          161,
          153,
          147,
          138,
          83,
          78,
          75,
          146,
          153,
          125,
          166,
          63,
          93,
          143,
          155,
          212,
          167,
          131,
          93,
          99,
          146,
          152,
          149,
          139,
          125,
          149,
          89,
          223,
          185,
          144,
          177,
          160,
          125,
          124,
          119,
          131,
          154,
          150,
          143,
          110,
          84,
          126,
          122,
          117,
          162,
          145,
          103,
          86,
          114,
          141,
          169,
          146,
          171,
          117,
          138,
          156,
          151,
          42
         ]
        }
       ],
       "layout": {
        "legend": {
         "bgcolor": "#F5F6F9",
         "font": {
          "color": "#4D5663"
         }
        },
        "paper_bgcolor": "#F5F6F9",
        "plot_bgcolor": "#F5F6F9",
        "template": {
         "data": {
          "bar": [
           {
            "error_x": {
             "color": "#2a3f5f"
            },
            "error_y": {
             "color": "#2a3f5f"
            },
            "marker": {
             "line": {
              "color": "#E5ECF6",
              "width": 0.5
             },
             "pattern": {
              "fillmode": "overlay",
              "size": 10,
              "solidity": 0.2
             }
            },
            "type": "bar"
           }
          ],
          "barpolar": [
           {
            "marker": {
             "line": {
              "color": "#E5ECF6",
              "width": 0.5
             },
             "pattern": {
              "fillmode": "overlay",
              "size": 10,
              "solidity": 0.2
             }
            },
            "type": "barpolar"
           }
          ],
          "carpet": [
           {
            "aaxis": {
             "endlinecolor": "#2a3f5f",
             "gridcolor": "white",
             "linecolor": "white",
             "minorgridcolor": "white",
             "startlinecolor": "#2a3f5f"
            },
            "baxis": {
             "endlinecolor": "#2a3f5f",
             "gridcolor": "white",
             "linecolor": "white",
             "minorgridcolor": "white",
             "startlinecolor": "#2a3f5f"
            },
            "type": "carpet"
           }
          ],
          "choropleth": [
           {
            "colorbar": {
             "outlinewidth": 0,
             "ticks": ""
            },
            "type": "choropleth"
           }
          ],
          "contour": [
           {
            "colorbar": {
             "outlinewidth": 0,
             "ticks": ""
            },
            "colorscale": [
             [
              0,
              "#0d0887"
             ],
             [
              0.1111111111111111,
              "#46039f"
             ],
             [
              0.2222222222222222,
              "#7201a8"
             ],
             [
              0.3333333333333333,
              "#9c179e"
             ],
             [
              0.4444444444444444,
              "#bd3786"
             ],
             [
              0.5555555555555556,
              "#d8576b"
             ],
             [
              0.6666666666666666,
              "#ed7953"
             ],
             [
              0.7777777777777778,
              "#fb9f3a"
             ],
             [
              0.8888888888888888,
              "#fdca26"
             ],
             [
              1,
              "#f0f921"
             ]
            ],
            "type": "contour"
           }
          ],
          "contourcarpet": [
           {
            "colorbar": {
             "outlinewidth": 0,
             "ticks": ""
            },
            "type": "contourcarpet"
           }
          ],
          "heatmap": [
           {
            "colorbar": {
             "outlinewidth": 0,
             "ticks": ""
            },
            "colorscale": [
             [
              0,
              "#0d0887"
             ],
             [
              0.1111111111111111,
              "#46039f"
             ],
             [
              0.2222222222222222,
              "#7201a8"
             ],
             [
              0.3333333333333333,
              "#9c179e"
             ],
             [
              0.4444444444444444,
              "#bd3786"
             ],
             [
              0.5555555555555556,
              "#d8576b"
             ],
             [
              0.6666666666666666,
              "#ed7953"
             ],
             [
              0.7777777777777778,
              "#fb9f3a"
             ],
             [
              0.8888888888888888,
              "#fdca26"
             ],
             [
              1,
              "#f0f921"
             ]
            ],
            "type": "heatmap"
           }
          ],
          "heatmapgl": [
           {
            "colorbar": {
             "outlinewidth": 0,
             "ticks": ""
            },
            "colorscale": [
             [
              0,
              "#0d0887"
             ],
             [
              0.1111111111111111,
              "#46039f"
             ],
             [
              0.2222222222222222,
              "#7201a8"
             ],
             [
              0.3333333333333333,
              "#9c179e"
             ],
             [
              0.4444444444444444,
              "#bd3786"
             ],
             [
              0.5555555555555556,
              "#d8576b"
             ],
             [
              0.6666666666666666,
              "#ed7953"
             ],
             [
              0.7777777777777778,
              "#fb9f3a"
             ],
             [
              0.8888888888888888,
              "#fdca26"
             ],
             [
              1,
              "#f0f921"
             ]
            ],
            "type": "heatmapgl"
           }
          ],
          "histogram": [
           {
            "marker": {
             "pattern": {
              "fillmode": "overlay",
              "size": 10,
              "solidity": 0.2
             }
            },
            "type": "histogram"
           }
          ],
          "histogram2d": [
           {
            "colorbar": {
             "outlinewidth": 0,
             "ticks": ""
            },
            "colorscale": [
             [
              0,
              "#0d0887"
             ],
             [
              0.1111111111111111,
              "#46039f"
             ],
             [
              0.2222222222222222,
              "#7201a8"
             ],
             [
              0.3333333333333333,
              "#9c179e"
             ],
             [
              0.4444444444444444,
              "#bd3786"
             ],
             [
              0.5555555555555556,
              "#d8576b"
             ],
             [
              0.6666666666666666,
              "#ed7953"
             ],
             [
              0.7777777777777778,
              "#fb9f3a"
             ],
             [
              0.8888888888888888,
              "#fdca26"
             ],
             [
              1,
              "#f0f921"
             ]
            ],
            "type": "histogram2d"
           }
          ],
          "histogram2dcontour": [
           {
            "colorbar": {
             "outlinewidth": 0,
             "ticks": ""
            },
            "colorscale": [
             [
              0,
              "#0d0887"
             ],
             [
              0.1111111111111111,
              "#46039f"
             ],
             [
              0.2222222222222222,
              "#7201a8"
             ],
             [
              0.3333333333333333,
              "#9c179e"
             ],
             [
              0.4444444444444444,
              "#bd3786"
             ],
             [
              0.5555555555555556,
              "#d8576b"
             ],
             [
              0.6666666666666666,
              "#ed7953"
             ],
             [
              0.7777777777777778,
              "#fb9f3a"
             ],
             [
              0.8888888888888888,
              "#fdca26"
             ],
             [
              1,
              "#f0f921"
             ]
            ],
            "type": "histogram2dcontour"
           }
          ],
          "mesh3d": [
           {
            "colorbar": {
             "outlinewidth": 0,
             "ticks": ""
            },
            "type": "mesh3d"
           }
          ],
          "parcoords": [
           {
            "line": {
             "colorbar": {
              "outlinewidth": 0,
              "ticks": ""
             }
            },
            "type": "parcoords"
           }
          ],
          "pie": [
           {
            "automargin": true,
            "type": "pie"
           }
          ],
          "scatter": [
           {
            "fillpattern": {
             "fillmode": "overlay",
             "size": 10,
             "solidity": 0.2
            },
            "type": "scatter"
           }
          ],
          "scatter3d": [
           {
            "line": {
             "colorbar": {
              "outlinewidth": 0,
              "ticks": ""
             }
            },
            "marker": {
             "colorbar": {
              "outlinewidth": 0,
              "ticks": ""
             }
            },
            "type": "scatter3d"
           }
          ],
          "scattercarpet": [
           {
            "marker": {
             "colorbar": {
              "outlinewidth": 0,
              "ticks": ""
             }
            },
            "type": "scattercarpet"
           }
          ],
          "scattergeo": [
           {
            "marker": {
             "colorbar": {
              "outlinewidth": 0,
              "ticks": ""
             }
            },
            "type": "scattergeo"
           }
          ],
          "scattergl": [
           {
            "marker": {
             "colorbar": {
              "outlinewidth": 0,
              "ticks": ""
             }
            },
            "type": "scattergl"
           }
          ],
          "scattermapbox": [
           {
            "marker": {
             "colorbar": {
              "outlinewidth": 0,
              "ticks": ""
             }
            },
            "type": "scattermapbox"
           }
          ],
          "scatterpolar": [
           {
            "marker": {
             "colorbar": {
              "outlinewidth": 0,
              "ticks": ""
             }
            },
            "type": "scatterpolar"
           }
          ],
          "scatterpolargl": [
           {
            "marker": {
             "colorbar": {
              "outlinewidth": 0,
              "ticks": ""
             }
            },
            "type": "scatterpolargl"
           }
          ],
          "scatterternary": [
           {
            "marker": {
             "colorbar": {
              "outlinewidth": 0,
              "ticks": ""
             }
            },
            "type": "scatterternary"
           }
          ],
          "surface": [
           {
            "colorbar": {
             "outlinewidth": 0,
             "ticks": ""
            },
            "colorscale": [
             [
              0,
              "#0d0887"
             ],
             [
              0.1111111111111111,
              "#46039f"
             ],
             [
              0.2222222222222222,
              "#7201a8"
             ],
             [
              0.3333333333333333,
              "#9c179e"
             ],
             [
              0.4444444444444444,
              "#bd3786"
             ],
             [
              0.5555555555555556,
              "#d8576b"
             ],
             [
              0.6666666666666666,
              "#ed7953"
             ],
             [
              0.7777777777777778,
              "#fb9f3a"
             ],
             [
              0.8888888888888888,
              "#fdca26"
             ],
             [
              1,
              "#f0f921"
             ]
            ],
            "type": "surface"
           }
          ],
          "table": [
           {
            "cells": {
             "fill": {
              "color": "#EBF0F8"
             },
             "line": {
              "color": "white"
             }
            },
            "header": {
             "fill": {
              "color": "#C8D4E3"
             },
             "line": {
              "color": "white"
             }
            },
            "type": "table"
           }
          ]
         },
         "layout": {
          "annotationdefaults": {
           "arrowcolor": "#2a3f5f",
           "arrowhead": 0,
           "arrowwidth": 1
          },
          "autotypenumbers": "strict",
          "coloraxis": {
           "colorbar": {
            "outlinewidth": 0,
            "ticks": ""
           }
          },
          "colorscale": {
           "diverging": [
            [
             0,
             "#8e0152"
            ],
            [
             0.1,
             "#c51b7d"
            ],
            [
             0.2,
             "#de77ae"
            ],
            [
             0.3,
             "#f1b6da"
            ],
            [
             0.4,
             "#fde0ef"
            ],
            [
             0.5,
             "#f7f7f7"
            ],
            [
             0.6,
             "#e6f5d0"
            ],
            [
             0.7,
             "#b8e186"
            ],
            [
             0.8,
             "#7fbc41"
            ],
            [
             0.9,
             "#4d9221"
            ],
            [
             1,
             "#276419"
            ]
           ],
           "sequential": [
            [
             0,
             "#0d0887"
            ],
            [
             0.1111111111111111,
             "#46039f"
            ],
            [
             0.2222222222222222,
             "#7201a8"
            ],
            [
             0.3333333333333333,
             "#9c179e"
            ],
            [
             0.4444444444444444,
             "#bd3786"
            ],
            [
             0.5555555555555556,
             "#d8576b"
            ],
            [
             0.6666666666666666,
             "#ed7953"
            ],
            [
             0.7777777777777778,
             "#fb9f3a"
            ],
            [
             0.8888888888888888,
             "#fdca26"
            ],
            [
             1,
             "#f0f921"
            ]
           ],
           "sequentialminus": [
            [
             0,
             "#0d0887"
            ],
            [
             0.1111111111111111,
             "#46039f"
            ],
            [
             0.2222222222222222,
             "#7201a8"
            ],
            [
             0.3333333333333333,
             "#9c179e"
            ],
            [
             0.4444444444444444,
             "#bd3786"
            ],
            [
             0.5555555555555556,
             "#d8576b"
            ],
            [
             0.6666666666666666,
             "#ed7953"
            ],
            [
             0.7777777777777778,
             "#fb9f3a"
            ],
            [
             0.8888888888888888,
             "#fdca26"
            ],
            [
             1,
             "#f0f921"
            ]
           ]
          },
          "colorway": [
           "#636efa",
           "#EF553B",
           "#00cc96",
           "#ab63fa",
           "#FFA15A",
           "#19d3f3",
           "#FF6692",
           "#B6E880",
           "#FF97FF",
           "#FECB52"
          ],
          "font": {
           "color": "#2a3f5f"
          },
          "geo": {
           "bgcolor": "white",
           "lakecolor": "white",
           "landcolor": "#E5ECF6",
           "showlakes": true,
           "showland": true,
           "subunitcolor": "white"
          },
          "hoverlabel": {
           "align": "left"
          },
          "hovermode": "closest",
          "mapbox": {
           "style": "light"
          },
          "paper_bgcolor": "white",
          "plot_bgcolor": "#E5ECF6",
          "polar": {
           "angularaxis": {
            "gridcolor": "white",
            "linecolor": "white",
            "ticks": ""
           },
           "bgcolor": "#E5ECF6",
           "radialaxis": {
            "gridcolor": "white",
            "linecolor": "white",
            "ticks": ""
           }
          },
          "scene": {
           "xaxis": {
            "backgroundcolor": "#E5ECF6",
            "gridcolor": "white",
            "gridwidth": 2,
            "linecolor": "white",
            "showbackground": true,
            "ticks": "",
            "zerolinecolor": "white"
           },
           "yaxis": {
            "backgroundcolor": "#E5ECF6",
            "gridcolor": "white",
            "gridwidth": 2,
            "linecolor": "white",
            "showbackground": true,
            "ticks": "",
            "zerolinecolor": "white"
           },
           "zaxis": {
            "backgroundcolor": "#E5ECF6",
            "gridcolor": "white",
            "gridwidth": 2,
            "linecolor": "white",
            "showbackground": true,
            "ticks": "",
            "zerolinecolor": "white"
           }
          },
          "shapedefaults": {
           "line": {
            "color": "#2a3f5f"
           }
          },
          "ternary": {
           "aaxis": {
            "gridcolor": "white",
            "linecolor": "white",
            "ticks": ""
           },
           "baxis": {
            "gridcolor": "white",
            "linecolor": "white",
            "ticks": ""
           },
           "bgcolor": "#E5ECF6",
           "caxis": {
            "gridcolor": "white",
            "linecolor": "white",
            "ticks": ""
           }
          },
          "title": {
           "x": 0.05
          },
          "xaxis": {
           "automargin": true,
           "gridcolor": "white",
           "linecolor": "white",
           "ticks": "",
           "title": {
            "standoff": 15
           },
           "zerolinecolor": "white",
           "zerolinewidth": 2
          },
          "yaxis": {
           "automargin": true,
           "gridcolor": "white",
           "linecolor": "white",
           "ticks": "",
           "title": {
            "standoff": 15
           },
           "zerolinecolor": "white",
           "zerolinewidth": 2
          }
         }
        },
        "title": {
         "font": {
          "color": "#4D5663"
         },
         "text": "Traffic Calls by Date"
        },
        "xaxis": {
         "gridcolor": "#E1E5ED",
         "showgrid": true,
         "tickfont": {
          "color": "#4D5663"
         },
         "title": {
          "font": {
           "color": "#4D5663"
          },
          "text": "Date"
         },
         "zerolinecolor": "#E1E5ED"
        },
        "yaxis": {
         "gridcolor": "#E1E5ED",
         "showgrid": true,
         "tickfont": {
          "color": "#4D5663"
         },
         "title": {
          "font": {
           "color": "#4D5663"
          },
          "text": "Count"
         },
         "zerolinecolor": "#E1E5ED"
        }
       }
      },
      "text/html": [
       "<div>                            <div id=\"6e5ccd54-4c7f-45be-9b8c-4dfecc4d1855\" class=\"plotly-graph-div\" style=\"height:525px; width:100%;\"></div>            <script type=\"text/javascript\">                require([\"plotly\"], function(Plotly) {                    window.PLOTLYENV=window.PLOTLYENV || {};\n",
       "                    window.PLOTLYENV.BASE_URL='https://plot.ly';                                    if (document.getElementById(\"6e5ccd54-4c7f-45be-9b8c-4dfecc4d1855\")) {                    Plotly.newPlot(                        \"6e5ccd54-4c7f-45be-9b8c-4dfecc4d1855\",                        [{\"line\":{\"color\":\"rgba(255, 153, 51, 1.0)\",\"dash\":\"solid\",\"shape\":\"linear\",\"width\":1.3},\"mode\":\"lines\",\"name\":\"lat\",\"text\":\"\",\"x\":[\"2015-12-10\",\"2015-12-11\",\"2015-12-12\",\"2015-12-13\",\"2015-12-14\",\"2015-12-15\",\"2015-12-16\",\"2015-12-17\",\"2015-12-18\",\"2015-12-19\",\"2015-12-20\",\"2015-12-21\",\"2015-12-22\",\"2015-12-23\",\"2015-12-24\",\"2015-12-25\",\"2015-12-26\",\"2015-12-27\",\"2015-12-28\",\"2015-12-29\",\"2015-12-30\",\"2015-12-31\",\"2016-01-01\",\"2016-01-02\",\"2016-01-03\",\"2016-01-04\",\"2016-01-05\",\"2016-01-06\",\"2016-01-07\",\"2016-01-08\",\"2016-01-09\",\"2016-01-10\",\"2016-01-11\",\"2016-01-12\",\"2016-01-13\",\"2016-01-14\",\"2016-01-15\",\"2016-01-16\",\"2016-01-17\",\"2016-01-18\",\"2016-01-19\",\"2016-01-20\",\"2016-01-21\",\"2016-01-22\",\"2016-01-23\",\"2016-01-24\",\"2016-01-25\",\"2016-01-26\",\"2016-01-27\",\"2016-01-28\",\"2016-01-29\",\"2016-01-30\",\"2016-01-31\",\"2016-02-01\",\"2016-02-02\",\"2016-02-03\",\"2016-02-04\",\"2016-02-05\",\"2016-02-06\",\"2016-02-07\",\"2016-02-08\",\"2016-02-09\",\"2016-02-10\",\"2016-02-11\",\"2016-02-12\",\"2016-02-13\",\"2016-02-14\",\"2016-02-15\",\"2016-02-16\",\"2016-02-17\",\"2016-02-18\",\"2016-02-19\",\"2016-02-20\",\"2016-02-21\",\"2016-02-22\",\"2016-02-23\",\"2016-02-24\",\"2016-02-25\",\"2016-02-26\",\"2016-02-27\",\"2016-02-28\",\"2016-02-29\",\"2016-03-01\",\"2016-03-02\",\"2016-03-03\",\"2016-03-04\",\"2016-03-05\",\"2016-03-06\",\"2016-03-07\",\"2016-03-08\",\"2016-03-09\",\"2016-03-10\",\"2016-03-11\",\"2016-03-12\",\"2016-03-13\",\"2016-03-14\",\"2016-03-15\",\"2016-03-16\",\"2016-03-17\",\"2016-03-18\",\"2016-03-19\",\"2016-03-20\",\"2016-03-21\",\"2016-03-22\",\"2016-03-23\",\"2016-03-24\",\"2016-03-25\",\"2016-03-26\",\"2016-03-27\",\"2016-03-28\",\"2016-03-29\",\"2016-03-30\",\"2016-03-31\",\"2016-04-01\",\"2016-04-02\",\"2016-04-03\",\"2016-04-04\",\"2016-04-05\",\"2016-04-06\",\"2016-04-07\",\"2016-04-08\",\"2016-04-09\",\"2016-04-10\",\"2016-04-11\",\"2016-04-12\",\"2016-04-13\",\"2016-04-14\",\"2016-04-15\",\"2016-04-16\",\"2016-04-17\",\"2016-04-18\",\"2016-04-19\",\"2016-04-20\",\"2016-04-21\",\"2016-04-22\",\"2016-04-23\",\"2016-04-24\",\"2016-04-25\",\"2016-04-26\",\"2016-04-27\",\"2016-04-28\",\"2016-04-29\",\"2016-04-30\",\"2016-05-01\",\"2016-05-02\",\"2016-05-03\",\"2016-05-04\",\"2016-05-05\",\"2016-05-06\",\"2016-05-07\",\"2016-05-08\",\"2016-05-09\",\"2016-05-10\",\"2016-05-11\",\"2016-05-12\",\"2016-05-13\",\"2016-05-14\",\"2016-05-15\",\"2016-05-16\",\"2016-05-17\",\"2016-05-18\",\"2016-05-19\",\"2016-05-20\",\"2016-05-21\",\"2016-05-22\",\"2016-05-23\",\"2016-05-24\",\"2016-05-25\",\"2016-05-26\",\"2016-05-27\",\"2016-05-28\",\"2016-05-29\",\"2016-05-30\",\"2016-05-31\",\"2016-06-01\",\"2016-06-02\",\"2016-06-03\",\"2016-06-04\",\"2016-06-05\",\"2016-06-06\",\"2016-06-07\",\"2016-06-08\",\"2016-06-09\",\"2016-06-10\",\"2016-06-11\",\"2016-06-12\",\"2016-06-13\",\"2016-06-14\",\"2016-06-15\",\"2016-06-16\",\"2016-06-17\",\"2016-06-18\",\"2016-06-19\",\"2016-06-20\",\"2016-06-21\",\"2016-06-22\",\"2016-06-23\",\"2016-06-24\",\"2016-06-25\",\"2016-06-26\",\"2016-06-27\",\"2016-06-28\",\"2016-06-29\",\"2016-06-30\",\"2016-07-01\",\"2016-07-02\",\"2016-07-03\",\"2016-07-04\",\"2016-07-05\",\"2016-07-06\",\"2016-07-07\",\"2016-07-08\",\"2016-07-09\",\"2016-07-10\",\"2016-07-11\",\"2016-07-12\",\"2016-07-13\",\"2016-07-14\",\"2016-07-15\",\"2016-07-16\",\"2016-07-17\",\"2016-07-18\",\"2016-07-19\",\"2016-07-20\",\"2016-07-21\",\"2016-07-22\",\"2016-07-23\",\"2016-07-24\",\"2016-07-25\",\"2016-07-26\",\"2016-07-27\",\"2016-07-28\",\"2016-07-29\",\"2016-07-30\",\"2016-07-31\",\"2016-08-01\",\"2016-08-02\",\"2016-08-03\",\"2016-08-04\",\"2016-08-05\",\"2016-08-06\",\"2016-08-07\",\"2016-08-08\",\"2016-08-09\",\"2016-08-10\",\"2016-08-11\",\"2016-08-12\",\"2016-08-13\",\"2016-08-14\",\"2016-08-15\",\"2016-08-16\",\"2016-08-17\",\"2016-08-18\",\"2016-08-19\",\"2016-08-20\",\"2016-08-21\",\"2016-08-22\",\"2016-08-23\",\"2016-08-24\"],\"y\":[43,141,146,78,186,183,132,167,148,108,78,150,196,277,175,76,92,90,115,136,146,112,57,105,97,139,174,157,115,111,117,135,172,324,179,139,145,123,81,98,145,148,138,247,557,251,277,244,189,188,173,134,78,146,175,179,147,160,116,59,124,137,140,177,138,120,104,239,230,140,127,148,121,73,96,125,309,158,164,125,92,116,145,156,143,146,101,73,115,140,140,145,137,88,68,129,133,131,154,166,79,50,120,89,114,120,100,109,68,154,124,133,109,165,138,281,151,127,135,129,123,94,70,125,103,120,143,145,122,90,137,138,142,153,115,124,62,154,164,92,166,128,93,39,128,133,122,106,193,137,95,126,140,140,164,186,120,84,145,160,133,131,160,118,90,137,128,177,163,155,123,112,80,191,183,160,177,107,106,148,179,219,175,135,115,143,160,164,142,141,159,111,89,125,136,118,148,153,97,77,142,161,153,147,138,83,78,75,146,153,125,166,63,93,143,155,212,167,131,93,99,146,152,149,139,125,149,89,223,185,144,177,160,125,124,119,131,154,150,143,110,84,126,122,117,162,145,103,86,114,141,169,146,171,117,138,156,151,42],\"type\":\"scatter\"}],                        {\"legend\":{\"bgcolor\":\"#F5F6F9\",\"font\":{\"color\":\"#4D5663\"}},\"paper_bgcolor\":\"#F5F6F9\",\"plot_bgcolor\":\"#F5F6F9\",\"template\":{\"data\":{\"barpolar\":[{\"marker\":{\"line\":{\"color\":\"#E5ECF6\",\"width\":0.5},\"pattern\":{\"fillmode\":\"overlay\",\"size\":10,\"solidity\":0.2}},\"type\":\"barpolar\"}],\"bar\":[{\"error_x\":{\"color\":\"#2a3f5f\"},\"error_y\":{\"color\":\"#2a3f5f\"},\"marker\":{\"line\":{\"color\":\"#E5ECF6\",\"width\":0.5},\"pattern\":{\"fillmode\":\"overlay\",\"size\":10,\"solidity\":0.2}},\"type\":\"bar\"}],\"carpet\":[{\"aaxis\":{\"endlinecolor\":\"#2a3f5f\",\"gridcolor\":\"white\",\"linecolor\":\"white\",\"minorgridcolor\":\"white\",\"startlinecolor\":\"#2a3f5f\"},\"baxis\":{\"endlinecolor\":\"#2a3f5f\",\"gridcolor\":\"white\",\"linecolor\":\"white\",\"minorgridcolor\":\"white\",\"startlinecolor\":\"#2a3f5f\"},\"type\":\"carpet\"}],\"choropleth\":[{\"colorbar\":{\"outlinewidth\":0,\"ticks\":\"\"},\"type\":\"choropleth\"}],\"contourcarpet\":[{\"colorbar\":{\"outlinewidth\":0,\"ticks\":\"\"},\"type\":\"contourcarpet\"}],\"contour\":[{\"colorbar\":{\"outlinewidth\":0,\"ticks\":\"\"},\"colorscale\":[[0.0,\"#0d0887\"],[0.1111111111111111,\"#46039f\"],[0.2222222222222222,\"#7201a8\"],[0.3333333333333333,\"#9c179e\"],[0.4444444444444444,\"#bd3786\"],[0.5555555555555556,\"#d8576b\"],[0.6666666666666666,\"#ed7953\"],[0.7777777777777778,\"#fb9f3a\"],[0.8888888888888888,\"#fdca26\"],[1.0,\"#f0f921\"]],\"type\":\"contour\"}],\"heatmapgl\":[{\"colorbar\":{\"outlinewidth\":0,\"ticks\":\"\"},\"colorscale\":[[0.0,\"#0d0887\"],[0.1111111111111111,\"#46039f\"],[0.2222222222222222,\"#7201a8\"],[0.3333333333333333,\"#9c179e\"],[0.4444444444444444,\"#bd3786\"],[0.5555555555555556,\"#d8576b\"],[0.6666666666666666,\"#ed7953\"],[0.7777777777777778,\"#fb9f3a\"],[0.8888888888888888,\"#fdca26\"],[1.0,\"#f0f921\"]],\"type\":\"heatmapgl\"}],\"heatmap\":[{\"colorbar\":{\"outlinewidth\":0,\"ticks\":\"\"},\"colorscale\":[[0.0,\"#0d0887\"],[0.1111111111111111,\"#46039f\"],[0.2222222222222222,\"#7201a8\"],[0.3333333333333333,\"#9c179e\"],[0.4444444444444444,\"#bd3786\"],[0.5555555555555556,\"#d8576b\"],[0.6666666666666666,\"#ed7953\"],[0.7777777777777778,\"#fb9f3a\"],[0.8888888888888888,\"#fdca26\"],[1.0,\"#f0f921\"]],\"type\":\"heatmap\"}],\"histogram2dcontour\":[{\"colorbar\":{\"outlinewidth\":0,\"ticks\":\"\"},\"colorscale\":[[0.0,\"#0d0887\"],[0.1111111111111111,\"#46039f\"],[0.2222222222222222,\"#7201a8\"],[0.3333333333333333,\"#9c179e\"],[0.4444444444444444,\"#bd3786\"],[0.5555555555555556,\"#d8576b\"],[0.6666666666666666,\"#ed7953\"],[0.7777777777777778,\"#fb9f3a\"],[0.8888888888888888,\"#fdca26\"],[1.0,\"#f0f921\"]],\"type\":\"histogram2dcontour\"}],\"histogram2d\":[{\"colorbar\":{\"outlinewidth\":0,\"ticks\":\"\"},\"colorscale\":[[0.0,\"#0d0887\"],[0.1111111111111111,\"#46039f\"],[0.2222222222222222,\"#7201a8\"],[0.3333333333333333,\"#9c179e\"],[0.4444444444444444,\"#bd3786\"],[0.5555555555555556,\"#d8576b\"],[0.6666666666666666,\"#ed7953\"],[0.7777777777777778,\"#fb9f3a\"],[0.8888888888888888,\"#fdca26\"],[1.0,\"#f0f921\"]],\"type\":\"histogram2d\"}],\"histogram\":[{\"marker\":{\"pattern\":{\"fillmode\":\"overlay\",\"size\":10,\"solidity\":0.2}},\"type\":\"histogram\"}],\"mesh3d\":[{\"colorbar\":{\"outlinewidth\":0,\"ticks\":\"\"},\"type\":\"mesh3d\"}],\"parcoords\":[{\"line\":{\"colorbar\":{\"outlinewidth\":0,\"ticks\":\"\"}},\"type\":\"parcoords\"}],\"pie\":[{\"automargin\":true,\"type\":\"pie\"}],\"scatter3d\":[{\"line\":{\"colorbar\":{\"outlinewidth\":0,\"ticks\":\"\"}},\"marker\":{\"colorbar\":{\"outlinewidth\":0,\"ticks\":\"\"}},\"type\":\"scatter3d\"}],\"scattercarpet\":[{\"marker\":{\"colorbar\":{\"outlinewidth\":0,\"ticks\":\"\"}},\"type\":\"scattercarpet\"}],\"scattergeo\":[{\"marker\":{\"colorbar\":{\"outlinewidth\":0,\"ticks\":\"\"}},\"type\":\"scattergeo\"}],\"scattergl\":[{\"marker\":{\"colorbar\":{\"outlinewidth\":0,\"ticks\":\"\"}},\"type\":\"scattergl\"}],\"scattermapbox\":[{\"marker\":{\"colorbar\":{\"outlinewidth\":0,\"ticks\":\"\"}},\"type\":\"scattermapbox\"}],\"scatterpolargl\":[{\"marker\":{\"colorbar\":{\"outlinewidth\":0,\"ticks\":\"\"}},\"type\":\"scatterpolargl\"}],\"scatterpolar\":[{\"marker\":{\"colorbar\":{\"outlinewidth\":0,\"ticks\":\"\"}},\"type\":\"scatterpolar\"}],\"scatter\":[{\"fillpattern\":{\"fillmode\":\"overlay\",\"size\":10,\"solidity\":0.2},\"type\":\"scatter\"}],\"scatterternary\":[{\"marker\":{\"colorbar\":{\"outlinewidth\":0,\"ticks\":\"\"}},\"type\":\"scatterternary\"}],\"surface\":[{\"colorbar\":{\"outlinewidth\":0,\"ticks\":\"\"},\"colorscale\":[[0.0,\"#0d0887\"],[0.1111111111111111,\"#46039f\"],[0.2222222222222222,\"#7201a8\"],[0.3333333333333333,\"#9c179e\"],[0.4444444444444444,\"#bd3786\"],[0.5555555555555556,\"#d8576b\"],[0.6666666666666666,\"#ed7953\"],[0.7777777777777778,\"#fb9f3a\"],[0.8888888888888888,\"#fdca26\"],[1.0,\"#f0f921\"]],\"type\":\"surface\"}],\"table\":[{\"cells\":{\"fill\":{\"color\":\"#EBF0F8\"},\"line\":{\"color\":\"white\"}},\"header\":{\"fill\":{\"color\":\"#C8D4E3\"},\"line\":{\"color\":\"white\"}},\"type\":\"table\"}]},\"layout\":{\"annotationdefaults\":{\"arrowcolor\":\"#2a3f5f\",\"arrowhead\":0,\"arrowwidth\":1},\"autotypenumbers\":\"strict\",\"coloraxis\":{\"colorbar\":{\"outlinewidth\":0,\"ticks\":\"\"}},\"colorscale\":{\"diverging\":[[0,\"#8e0152\"],[0.1,\"#c51b7d\"],[0.2,\"#de77ae\"],[0.3,\"#f1b6da\"],[0.4,\"#fde0ef\"],[0.5,\"#f7f7f7\"],[0.6,\"#e6f5d0\"],[0.7,\"#b8e186\"],[0.8,\"#7fbc41\"],[0.9,\"#4d9221\"],[1,\"#276419\"]],\"sequential\":[[0.0,\"#0d0887\"],[0.1111111111111111,\"#46039f\"],[0.2222222222222222,\"#7201a8\"],[0.3333333333333333,\"#9c179e\"],[0.4444444444444444,\"#bd3786\"],[0.5555555555555556,\"#d8576b\"],[0.6666666666666666,\"#ed7953\"],[0.7777777777777778,\"#fb9f3a\"],[0.8888888888888888,\"#fdca26\"],[1.0,\"#f0f921\"]],\"sequentialminus\":[[0.0,\"#0d0887\"],[0.1111111111111111,\"#46039f\"],[0.2222222222222222,\"#7201a8\"],[0.3333333333333333,\"#9c179e\"],[0.4444444444444444,\"#bd3786\"],[0.5555555555555556,\"#d8576b\"],[0.6666666666666666,\"#ed7953\"],[0.7777777777777778,\"#fb9f3a\"],[0.8888888888888888,\"#fdca26\"],[1.0,\"#f0f921\"]]},\"colorway\":[\"#636efa\",\"#EF553B\",\"#00cc96\",\"#ab63fa\",\"#FFA15A\",\"#19d3f3\",\"#FF6692\",\"#B6E880\",\"#FF97FF\",\"#FECB52\"],\"font\":{\"color\":\"#2a3f5f\"},\"geo\":{\"bgcolor\":\"white\",\"lakecolor\":\"white\",\"landcolor\":\"#E5ECF6\",\"showlakes\":true,\"showland\":true,\"subunitcolor\":\"white\"},\"hoverlabel\":{\"align\":\"left\"},\"hovermode\":\"closest\",\"mapbox\":{\"style\":\"light\"},\"paper_bgcolor\":\"white\",\"plot_bgcolor\":\"#E5ECF6\",\"polar\":{\"angularaxis\":{\"gridcolor\":\"white\",\"linecolor\":\"white\",\"ticks\":\"\"},\"bgcolor\":\"#E5ECF6\",\"radialaxis\":{\"gridcolor\":\"white\",\"linecolor\":\"white\",\"ticks\":\"\"}},\"scene\":{\"xaxis\":{\"backgroundcolor\":\"#E5ECF6\",\"gridcolor\":\"white\",\"gridwidth\":2,\"linecolor\":\"white\",\"showbackground\":true,\"ticks\":\"\",\"zerolinecolor\":\"white\"},\"yaxis\":{\"backgroundcolor\":\"#E5ECF6\",\"gridcolor\":\"white\",\"gridwidth\":2,\"linecolor\":\"white\",\"showbackground\":true,\"ticks\":\"\",\"zerolinecolor\":\"white\"},\"zaxis\":{\"backgroundcolor\":\"#E5ECF6\",\"gridcolor\":\"white\",\"gridwidth\":2,\"linecolor\":\"white\",\"showbackground\":true,\"ticks\":\"\",\"zerolinecolor\":\"white\"}},\"shapedefaults\":{\"line\":{\"color\":\"#2a3f5f\"}},\"ternary\":{\"aaxis\":{\"gridcolor\":\"white\",\"linecolor\":\"white\",\"ticks\":\"\"},\"baxis\":{\"gridcolor\":\"white\",\"linecolor\":\"white\",\"ticks\":\"\"},\"bgcolor\":\"#E5ECF6\",\"caxis\":{\"gridcolor\":\"white\",\"linecolor\":\"white\",\"ticks\":\"\"}},\"title\":{\"x\":0.05},\"xaxis\":{\"automargin\":true,\"gridcolor\":\"white\",\"linecolor\":\"white\",\"ticks\":\"\",\"title\":{\"standoff\":15},\"zerolinecolor\":\"white\",\"zerolinewidth\":2},\"yaxis\":{\"automargin\":true,\"gridcolor\":\"white\",\"linecolor\":\"white\",\"ticks\":\"\",\"title\":{\"standoff\":15},\"zerolinecolor\":\"white\",\"zerolinewidth\":2}}},\"title\":{\"font\":{\"color\":\"#4D5663\"},\"text\":\"Traffic Calls by Date\"},\"xaxis\":{\"gridcolor\":\"#E1E5ED\",\"showgrid\":true,\"tickfont\":{\"color\":\"#4D5663\"},\"title\":{\"font\":{\"color\":\"#4D5663\"},\"text\":\"Date\"},\"zerolinecolor\":\"#E1E5ED\"},\"yaxis\":{\"gridcolor\":\"#E1E5ED\",\"showgrid\":true,\"tickfont\":{\"color\":\"#4D5663\"},\"title\":{\"font\":{\"color\":\"#4D5663\"},\"text\":\"Count\"},\"zerolinecolor\":\"#E1E5ED\"}},                        {\"showLink\": true, \"linkText\": \"Export to plot.ly\", \"plotlyServerURL\": \"https://plot.ly\", \"responsive\": true}                    ).then(function(){\n",
       "                            \n",
       "var gd = document.getElementById('6e5ccd54-4c7f-45be-9b8c-4dfecc4d1855');\n",
       "var x = new MutationObserver(function (mutations, observer) {{\n",
       "        var display = window.getComputedStyle(gd).display;\n",
       "        if (!display || display === 'none') {{\n",
       "            console.log([gd, 'removed!']);\n",
       "            Plotly.purge(gd);\n",
       "            observer.disconnect();\n",
       "        }}\n",
       "}});\n",
       "\n",
       "// Listen for the removal of the full notebook cells\n",
       "var notebookContainer = gd.closest('#notebook-container');\n",
       "if (notebookContainer) {{\n",
       "    x.observe(notebookContainer, {childList: true});\n",
       "}}\n",
       "\n",
       "// Listen for the clearing of the current output cell\n",
       "var outputEl = gd.closest('.output');\n",
       "if (outputEl) {{\n",
       "    x.observe(outputEl, {childList: true});\n",
       "}}\n",
       "\n",
       "                        })                };                });            </script>        </div>"
      ]
     },
     "metadata": {},
     "output_type": "display_data"
    }
   ],
   "source": [
    "calls_by_date_traffic.iplot(title='Traffic Calls by Date',\n",
    "                            xTitle='Date', yTitle='Count')\n",
    "\n",
    "#January 23, 2016 had the highest number of traffic calls \n",
    "# confirming our suspicion"
   ]
  },
  {
   "cell_type": "code",
   "execution_count": null,
   "metadata": {},
   "outputs": [
    {
     "name": "stdout",
     "output_type": "stream",
     "text": [
      "Fire Calls by Date:\n",
      " date\n",
      "2015-12-10    15\n",
      "2015-12-11    69\n",
      "2015-12-12    68\n",
      "2015-12-13    51\n",
      "2015-12-14    39\n",
      "              ..\n",
      "2016-08-20    52\n",
      "2016-08-21    54\n",
      "2016-08-22    51\n",
      "2016-08-23    70\n",
      "2016-08-24    19\n",
      "Name: lat, Length: 259, dtype: int64\n"
     ]
    },
    {
     "name": "stderr",
     "output_type": "stream",
     "text": [
      "/Users/shaarifakhtar/Documents/python/anaconda3/lib/python3.12/site-packages/cufflinks/plotlytools.py:117: FutureWarning:\n",
      "\n",
      "DatetimeIndex.format is deprecated and will be removed in a future version. Convert using index.astype(str) or index.map(formatter) instead.\n",
      "\n"
     ]
    },
    {
     "data": {
      "application/vnd.plotly.v1+json": {
       "config": {
        "linkText": "Export to plot.ly",
        "plotlyServerURL": "https://plot.ly",
        "showLink": true
       },
       "data": [
        {
         "line": {
          "color": "rgba(255, 153, 51, 1.0)",
          "dash": "solid",
          "shape": "linear",
          "width": 1.3
         },
         "mode": "lines",
         "name": "lat",
         "text": "",
         "type": "scatter",
         "x": [
          "2015-12-10",
          "2015-12-11",
          "2015-12-12",
          "2015-12-13",
          "2015-12-14",
          "2015-12-15",
          "2015-12-16",
          "2015-12-17",
          "2015-12-18",
          "2015-12-19",
          "2015-12-20",
          "2015-12-21",
          "2015-12-22",
          "2015-12-23",
          "2015-12-24",
          "2015-12-25",
          "2015-12-26",
          "2015-12-27",
          "2015-12-28",
          "2015-12-29",
          "2015-12-30",
          "2015-12-31",
          "2016-01-01",
          "2016-01-02",
          "2016-01-03",
          "2016-01-04",
          "2016-01-05",
          "2016-01-06",
          "2016-01-07",
          "2016-01-08",
          "2016-01-09",
          "2016-01-10",
          "2016-01-11",
          "2016-01-12",
          "2016-01-13",
          "2016-01-14",
          "2016-01-15",
          "2016-01-16",
          "2016-01-17",
          "2016-01-18",
          "2016-01-19",
          "2016-01-20",
          "2016-01-21",
          "2016-01-22",
          "2016-01-23",
          "2016-01-24",
          "2016-01-25",
          "2016-01-26",
          "2016-01-27",
          "2016-01-28",
          "2016-01-29",
          "2016-01-30",
          "2016-01-31",
          "2016-02-01",
          "2016-02-02",
          "2016-02-03",
          "2016-02-04",
          "2016-02-05",
          "2016-02-06",
          "2016-02-07",
          "2016-02-08",
          "2016-02-09",
          "2016-02-10",
          "2016-02-11",
          "2016-02-12",
          "2016-02-13",
          "2016-02-14",
          "2016-02-15",
          "2016-02-16",
          "2016-02-17",
          "2016-02-18",
          "2016-02-19",
          "2016-02-20",
          "2016-02-21",
          "2016-02-22",
          "2016-02-23",
          "2016-02-24",
          "2016-02-25",
          "2016-02-26",
          "2016-02-27",
          "2016-02-28",
          "2016-02-29",
          "2016-03-01",
          "2016-03-02",
          "2016-03-03",
          "2016-03-04",
          "2016-03-05",
          "2016-03-06",
          "2016-03-07",
          "2016-03-08",
          "2016-03-09",
          "2016-03-10",
          "2016-03-11",
          "2016-03-12",
          "2016-03-13",
          "2016-03-14",
          "2016-03-15",
          "2016-03-16",
          "2016-03-17",
          "2016-03-18",
          "2016-03-19",
          "2016-03-20",
          "2016-03-21",
          "2016-03-22",
          "2016-03-23",
          "2016-03-24",
          "2016-03-25",
          "2016-03-26",
          "2016-03-27",
          "2016-03-28",
          "2016-03-29",
          "2016-03-30",
          "2016-03-31",
          "2016-04-01",
          "2016-04-02",
          "2016-04-03",
          "2016-04-04",
          "2016-04-05",
          "2016-04-06",
          "2016-04-07",
          "2016-04-08",
          "2016-04-09",
          "2016-04-10",
          "2016-04-11",
          "2016-04-12",
          "2016-04-13",
          "2016-04-14",
          "2016-04-15",
          "2016-04-16",
          "2016-04-17",
          "2016-04-18",
          "2016-04-19",
          "2016-04-20",
          "2016-04-21",
          "2016-04-22",
          "2016-04-23",
          "2016-04-24",
          "2016-04-25",
          "2016-04-26",
          "2016-04-27",
          "2016-04-28",
          "2016-04-29",
          "2016-04-30",
          "2016-05-01",
          "2016-05-02",
          "2016-05-03",
          "2016-05-04",
          "2016-05-05",
          "2016-05-06",
          "2016-05-07",
          "2016-05-08",
          "2016-05-09",
          "2016-05-10",
          "2016-05-11",
          "2016-05-12",
          "2016-05-13",
          "2016-05-14",
          "2016-05-15",
          "2016-05-16",
          "2016-05-17",
          "2016-05-18",
          "2016-05-19",
          "2016-05-20",
          "2016-05-21",
          "2016-05-22",
          "2016-05-23",
          "2016-05-24",
          "2016-05-25",
          "2016-05-26",
          "2016-05-27",
          "2016-05-28",
          "2016-05-29",
          "2016-05-30",
          "2016-05-31",
          "2016-06-01",
          "2016-06-02",
          "2016-06-03",
          "2016-06-04",
          "2016-06-05",
          "2016-06-06",
          "2016-06-07",
          "2016-06-08",
          "2016-06-09",
          "2016-06-10",
          "2016-06-11",
          "2016-06-12",
          "2016-06-13",
          "2016-06-14",
          "2016-06-15",
          "2016-06-16",
          "2016-06-17",
          "2016-06-18",
          "2016-06-19",
          "2016-06-20",
          "2016-06-21",
          "2016-06-22",
          "2016-06-23",
          "2016-06-24",
          "2016-06-25",
          "2016-06-26",
          "2016-06-27",
          "2016-06-28",
          "2016-06-29",
          "2016-06-30",
          "2016-07-01",
          "2016-07-02",
          "2016-07-03",
          "2016-07-04",
          "2016-07-05",
          "2016-07-06",
          "2016-07-07",
          "2016-07-08",
          "2016-07-09",
          "2016-07-10",
          "2016-07-11",
          "2016-07-12",
          "2016-07-13",
          "2016-07-14",
          "2016-07-15",
          "2016-07-16",
          "2016-07-17",
          "2016-07-18",
          "2016-07-19",
          "2016-07-20",
          "2016-07-21",
          "2016-07-22",
          "2016-07-23",
          "2016-07-24",
          "2016-07-25",
          "2016-07-26",
          "2016-07-27",
          "2016-07-28",
          "2016-07-29",
          "2016-07-30",
          "2016-07-31",
          "2016-08-01",
          "2016-08-02",
          "2016-08-03",
          "2016-08-04",
          "2016-08-05",
          "2016-08-06",
          "2016-08-07",
          "2016-08-08",
          "2016-08-09",
          "2016-08-10",
          "2016-08-11",
          "2016-08-12",
          "2016-08-13",
          "2016-08-14",
          "2016-08-15",
          "2016-08-16",
          "2016-08-17",
          "2016-08-18",
          "2016-08-19",
          "2016-08-20",
          "2016-08-21",
          "2016-08-22",
          "2016-08-23",
          "2016-08-24"
         ],
         "y": [
          15,
          69,
          68,
          51,
          39,
          43,
          53,
          55,
          34,
          48,
          45,
          55,
          57,
          70,
          84,
          68,
          36,
          38,
          49,
          48,
          32,
          39,
          34,
          36,
          43,
          65,
          77,
          77,
          71,
          55,
          47,
          70,
          44,
          62,
          66,
          60,
          56,
          33,
          38,
          53,
          63,
          54,
          49,
          64,
          159,
          161,
          80,
          53,
          48,
          55,
          46,
          49,
          37,
          50,
          64,
          77,
          48,
          52,
          58,
          37,
          53,
          54,
          45,
          55,
          58,
          50,
          81,
          94,
          120,
          61,
          51,
          50,
          64,
          43,
          64,
          54,
          173,
          87,
          46,
          66,
          66,
          48,
          49,
          67,
          39,
          41,
          40,
          46,
          64,
          63,
          53,
          50,
          56,
          54,
          41,
          53,
          56,
          47,
          59,
          49,
          41,
          35,
          49,
          42,
          53,
          47,
          50,
          58,
          38,
          62,
          71,
          56,
          61,
          60,
          62,
          147,
          61,
          43,
          54,
          60,
          44,
          46,
          32,
          37,
          28,
          45,
          51,
          60,
          62,
          53,
          59,
          73,
          72,
          61,
          68,
          53,
          60,
          61,
          55,
          46,
          68,
          48,
          48,
          19,
          42,
          51,
          46,
          48,
          46,
          49,
          56,
          44,
          52,
          53,
          39,
          66,
          52,
          35,
          54,
          49,
          38,
          51,
          66,
          45,
          46,
          65,
          49,
          68,
          71,
          48,
          75,
          56,
          46,
          48,
          55,
          49,
          75,
          55,
          53,
          63,
          49,
          84,
          81,
          65,
          56,
          82,
          55,
          62,
          70,
          58,
          47,
          39,
          68,
          58,
          54,
          60,
          68,
          60,
          53,
          50,
          69,
          45,
          48,
          65,
          59,
          53,
          52,
          53,
          71,
          59,
          59,
          63,
          42,
          52,
          57,
          50,
          69,
          60,
          55,
          55,
          49,
          69,
          67,
          58,
          62,
          53,
          77,
          67,
          159,
          54,
          62,
          56,
          55,
          48,
          56,
          75,
          58,
          63,
          64,
          68,
          63,
          61,
          50,
          52,
          64,
          79,
          87,
          76,
          58,
          54,
          65,
          62,
          61,
          67,
          52,
          54,
          51,
          70,
          19
         ]
        }
       ],
       "layout": {
        "legend": {
         "bgcolor": "#F5F6F9",
         "font": {
          "color": "#4D5663"
         }
        },
        "paper_bgcolor": "#F5F6F9",
        "plot_bgcolor": "#F5F6F9",
        "template": {
         "data": {
          "bar": [
           {
            "error_x": {
             "color": "#2a3f5f"
            },
            "error_y": {
             "color": "#2a3f5f"
            },
            "marker": {
             "line": {
              "color": "#E5ECF6",
              "width": 0.5
             },
             "pattern": {
              "fillmode": "overlay",
              "size": 10,
              "solidity": 0.2
             }
            },
            "type": "bar"
           }
          ],
          "barpolar": [
           {
            "marker": {
             "line": {
              "color": "#E5ECF6",
              "width": 0.5
             },
             "pattern": {
              "fillmode": "overlay",
              "size": 10,
              "solidity": 0.2
             }
            },
            "type": "barpolar"
           }
          ],
          "carpet": [
           {
            "aaxis": {
             "endlinecolor": "#2a3f5f",
             "gridcolor": "white",
             "linecolor": "white",
             "minorgridcolor": "white",
             "startlinecolor": "#2a3f5f"
            },
            "baxis": {
             "endlinecolor": "#2a3f5f",
             "gridcolor": "white",
             "linecolor": "white",
             "minorgridcolor": "white",
             "startlinecolor": "#2a3f5f"
            },
            "type": "carpet"
           }
          ],
          "choropleth": [
           {
            "colorbar": {
             "outlinewidth": 0,
             "ticks": ""
            },
            "type": "choropleth"
           }
          ],
          "contour": [
           {
            "colorbar": {
             "outlinewidth": 0,
             "ticks": ""
            },
            "colorscale": [
             [
              0,
              "#0d0887"
             ],
             [
              0.1111111111111111,
              "#46039f"
             ],
             [
              0.2222222222222222,
              "#7201a8"
             ],
             [
              0.3333333333333333,
              "#9c179e"
             ],
             [
              0.4444444444444444,
              "#bd3786"
             ],
             [
              0.5555555555555556,
              "#d8576b"
             ],
             [
              0.6666666666666666,
              "#ed7953"
             ],
             [
              0.7777777777777778,
              "#fb9f3a"
             ],
             [
              0.8888888888888888,
              "#fdca26"
             ],
             [
              1,
              "#f0f921"
             ]
            ],
            "type": "contour"
           }
          ],
          "contourcarpet": [
           {
            "colorbar": {
             "outlinewidth": 0,
             "ticks": ""
            },
            "type": "contourcarpet"
           }
          ],
          "heatmap": [
           {
            "colorbar": {
             "outlinewidth": 0,
             "ticks": ""
            },
            "colorscale": [
             [
              0,
              "#0d0887"
             ],
             [
              0.1111111111111111,
              "#46039f"
             ],
             [
              0.2222222222222222,
              "#7201a8"
             ],
             [
              0.3333333333333333,
              "#9c179e"
             ],
             [
              0.4444444444444444,
              "#bd3786"
             ],
             [
              0.5555555555555556,
              "#d8576b"
             ],
             [
              0.6666666666666666,
              "#ed7953"
             ],
             [
              0.7777777777777778,
              "#fb9f3a"
             ],
             [
              0.8888888888888888,
              "#fdca26"
             ],
             [
              1,
              "#f0f921"
             ]
            ],
            "type": "heatmap"
           }
          ],
          "heatmapgl": [
           {
            "colorbar": {
             "outlinewidth": 0,
             "ticks": ""
            },
            "colorscale": [
             [
              0,
              "#0d0887"
             ],
             [
              0.1111111111111111,
              "#46039f"
             ],
             [
              0.2222222222222222,
              "#7201a8"
             ],
             [
              0.3333333333333333,
              "#9c179e"
             ],
             [
              0.4444444444444444,
              "#bd3786"
             ],
             [
              0.5555555555555556,
              "#d8576b"
             ],
             [
              0.6666666666666666,
              "#ed7953"
             ],
             [
              0.7777777777777778,
              "#fb9f3a"
             ],
             [
              0.8888888888888888,
              "#fdca26"
             ],
             [
              1,
              "#f0f921"
             ]
            ],
            "type": "heatmapgl"
           }
          ],
          "histogram": [
           {
            "marker": {
             "pattern": {
              "fillmode": "overlay",
              "size": 10,
              "solidity": 0.2
             }
            },
            "type": "histogram"
           }
          ],
          "histogram2d": [
           {
            "colorbar": {
             "outlinewidth": 0,
             "ticks": ""
            },
            "colorscale": [
             [
              0,
              "#0d0887"
             ],
             [
              0.1111111111111111,
              "#46039f"
             ],
             [
              0.2222222222222222,
              "#7201a8"
             ],
             [
              0.3333333333333333,
              "#9c179e"
             ],
             [
              0.4444444444444444,
              "#bd3786"
             ],
             [
              0.5555555555555556,
              "#d8576b"
             ],
             [
              0.6666666666666666,
              "#ed7953"
             ],
             [
              0.7777777777777778,
              "#fb9f3a"
             ],
             [
              0.8888888888888888,
              "#fdca26"
             ],
             [
              1,
              "#f0f921"
             ]
            ],
            "type": "histogram2d"
           }
          ],
          "histogram2dcontour": [
           {
            "colorbar": {
             "outlinewidth": 0,
             "ticks": ""
            },
            "colorscale": [
             [
              0,
              "#0d0887"
             ],
             [
              0.1111111111111111,
              "#46039f"
             ],
             [
              0.2222222222222222,
              "#7201a8"
             ],
             [
              0.3333333333333333,
              "#9c179e"
             ],
             [
              0.4444444444444444,
              "#bd3786"
             ],
             [
              0.5555555555555556,
              "#d8576b"
             ],
             [
              0.6666666666666666,
              "#ed7953"
             ],
             [
              0.7777777777777778,
              "#fb9f3a"
             ],
             [
              0.8888888888888888,
              "#fdca26"
             ],
             [
              1,
              "#f0f921"
             ]
            ],
            "type": "histogram2dcontour"
           }
          ],
          "mesh3d": [
           {
            "colorbar": {
             "outlinewidth": 0,
             "ticks": ""
            },
            "type": "mesh3d"
           }
          ],
          "parcoords": [
           {
            "line": {
             "colorbar": {
              "outlinewidth": 0,
              "ticks": ""
             }
            },
            "type": "parcoords"
           }
          ],
          "pie": [
           {
            "automargin": true,
            "type": "pie"
           }
          ],
          "scatter": [
           {
            "fillpattern": {
             "fillmode": "overlay",
             "size": 10,
             "solidity": 0.2
            },
            "type": "scatter"
           }
          ],
          "scatter3d": [
           {
            "line": {
             "colorbar": {
              "outlinewidth": 0,
              "ticks": ""
             }
            },
            "marker": {
             "colorbar": {
              "outlinewidth": 0,
              "ticks": ""
             }
            },
            "type": "scatter3d"
           }
          ],
          "scattercarpet": [
           {
            "marker": {
             "colorbar": {
              "outlinewidth": 0,
              "ticks": ""
             }
            },
            "type": "scattercarpet"
           }
          ],
          "scattergeo": [
           {
            "marker": {
             "colorbar": {
              "outlinewidth": 0,
              "ticks": ""
             }
            },
            "type": "scattergeo"
           }
          ],
          "scattergl": [
           {
            "marker": {
             "colorbar": {
              "outlinewidth": 0,
              "ticks": ""
             }
            },
            "type": "scattergl"
           }
          ],
          "scattermapbox": [
           {
            "marker": {
             "colorbar": {
              "outlinewidth": 0,
              "ticks": ""
             }
            },
            "type": "scattermapbox"
           }
          ],
          "scatterpolar": [
           {
            "marker": {
             "colorbar": {
              "outlinewidth": 0,
              "ticks": ""
             }
            },
            "type": "scatterpolar"
           }
          ],
          "scatterpolargl": [
           {
            "marker": {
             "colorbar": {
              "outlinewidth": 0,
              "ticks": ""
             }
            },
            "type": "scatterpolargl"
           }
          ],
          "scatterternary": [
           {
            "marker": {
             "colorbar": {
              "outlinewidth": 0,
              "ticks": ""
             }
            },
            "type": "scatterternary"
           }
          ],
          "surface": [
           {
            "colorbar": {
             "outlinewidth": 0,
             "ticks": ""
            },
            "colorscale": [
             [
              0,
              "#0d0887"
             ],
             [
              0.1111111111111111,
              "#46039f"
             ],
             [
              0.2222222222222222,
              "#7201a8"
             ],
             [
              0.3333333333333333,
              "#9c179e"
             ],
             [
              0.4444444444444444,
              "#bd3786"
             ],
             [
              0.5555555555555556,
              "#d8576b"
             ],
             [
              0.6666666666666666,
              "#ed7953"
             ],
             [
              0.7777777777777778,
              "#fb9f3a"
             ],
             [
              0.8888888888888888,
              "#fdca26"
             ],
             [
              1,
              "#f0f921"
             ]
            ],
            "type": "surface"
           }
          ],
          "table": [
           {
            "cells": {
             "fill": {
              "color": "#EBF0F8"
             },
             "line": {
              "color": "white"
             }
            },
            "header": {
             "fill": {
              "color": "#C8D4E3"
             },
             "line": {
              "color": "white"
             }
            },
            "type": "table"
           }
          ]
         },
         "layout": {
          "annotationdefaults": {
           "arrowcolor": "#2a3f5f",
           "arrowhead": 0,
           "arrowwidth": 1
          },
          "autotypenumbers": "strict",
          "coloraxis": {
           "colorbar": {
            "outlinewidth": 0,
            "ticks": ""
           }
          },
          "colorscale": {
           "diverging": [
            [
             0,
             "#8e0152"
            ],
            [
             0.1,
             "#c51b7d"
            ],
            [
             0.2,
             "#de77ae"
            ],
            [
             0.3,
             "#f1b6da"
            ],
            [
             0.4,
             "#fde0ef"
            ],
            [
             0.5,
             "#f7f7f7"
            ],
            [
             0.6,
             "#e6f5d0"
            ],
            [
             0.7,
             "#b8e186"
            ],
            [
             0.8,
             "#7fbc41"
            ],
            [
             0.9,
             "#4d9221"
            ],
            [
             1,
             "#276419"
            ]
           ],
           "sequential": [
            [
             0,
             "#0d0887"
            ],
            [
             0.1111111111111111,
             "#46039f"
            ],
            [
             0.2222222222222222,
             "#7201a8"
            ],
            [
             0.3333333333333333,
             "#9c179e"
            ],
            [
             0.4444444444444444,
             "#bd3786"
            ],
            [
             0.5555555555555556,
             "#d8576b"
            ],
            [
             0.6666666666666666,
             "#ed7953"
            ],
            [
             0.7777777777777778,
             "#fb9f3a"
            ],
            [
             0.8888888888888888,
             "#fdca26"
            ],
            [
             1,
             "#f0f921"
            ]
           ],
           "sequentialminus": [
            [
             0,
             "#0d0887"
            ],
            [
             0.1111111111111111,
             "#46039f"
            ],
            [
             0.2222222222222222,
             "#7201a8"
            ],
            [
             0.3333333333333333,
             "#9c179e"
            ],
            [
             0.4444444444444444,
             "#bd3786"
            ],
            [
             0.5555555555555556,
             "#d8576b"
            ],
            [
             0.6666666666666666,
             "#ed7953"
            ],
            [
             0.7777777777777778,
             "#fb9f3a"
            ],
            [
             0.8888888888888888,
             "#fdca26"
            ],
            [
             1,
             "#f0f921"
            ]
           ]
          },
          "colorway": [
           "#636efa",
           "#EF553B",
           "#00cc96",
           "#ab63fa",
           "#FFA15A",
           "#19d3f3",
           "#FF6692",
           "#B6E880",
           "#FF97FF",
           "#FECB52"
          ],
          "font": {
           "color": "#2a3f5f"
          },
          "geo": {
           "bgcolor": "white",
           "lakecolor": "white",
           "landcolor": "#E5ECF6",
           "showlakes": true,
           "showland": true,
           "subunitcolor": "white"
          },
          "hoverlabel": {
           "align": "left"
          },
          "hovermode": "closest",
          "mapbox": {
           "style": "light"
          },
          "paper_bgcolor": "white",
          "plot_bgcolor": "#E5ECF6",
          "polar": {
           "angularaxis": {
            "gridcolor": "white",
            "linecolor": "white",
            "ticks": ""
           },
           "bgcolor": "#E5ECF6",
           "radialaxis": {
            "gridcolor": "white",
            "linecolor": "white",
            "ticks": ""
           }
          },
          "scene": {
           "xaxis": {
            "backgroundcolor": "#E5ECF6",
            "gridcolor": "white",
            "gridwidth": 2,
            "linecolor": "white",
            "showbackground": true,
            "ticks": "",
            "zerolinecolor": "white"
           },
           "yaxis": {
            "backgroundcolor": "#E5ECF6",
            "gridcolor": "white",
            "gridwidth": 2,
            "linecolor": "white",
            "showbackground": true,
            "ticks": "",
            "zerolinecolor": "white"
           },
           "zaxis": {
            "backgroundcolor": "#E5ECF6",
            "gridcolor": "white",
            "gridwidth": 2,
            "linecolor": "white",
            "showbackground": true,
            "ticks": "",
            "zerolinecolor": "white"
           }
          },
          "shapedefaults": {
           "line": {
            "color": "#2a3f5f"
           }
          },
          "ternary": {
           "aaxis": {
            "gridcolor": "white",
            "linecolor": "white",
            "ticks": ""
           },
           "baxis": {
            "gridcolor": "white",
            "linecolor": "white",
            "ticks": ""
           },
           "bgcolor": "#E5ECF6",
           "caxis": {
            "gridcolor": "white",
            "linecolor": "white",
            "ticks": ""
           }
          },
          "title": {
           "x": 0.05
          },
          "xaxis": {
           "automargin": true,
           "gridcolor": "white",
           "linecolor": "white",
           "ticks": "",
           "title": {
            "standoff": 15
           },
           "zerolinecolor": "white",
           "zerolinewidth": 2
          },
          "yaxis": {
           "automargin": true,
           "gridcolor": "white",
           "linecolor": "white",
           "ticks": "",
           "title": {
            "standoff": 15
           },
           "zerolinecolor": "white",
           "zerolinewidth": 2
          }
         }
        },
        "title": {
         "font": {
          "color": "#4D5663"
         },
         "text": "Fire Calls by Date"
        },
        "xaxis": {
         "gridcolor": "#E1E5ED",
         "showgrid": true,
         "tickfont": {
          "color": "#4D5663"
         },
         "title": {
          "font": {
           "color": "#4D5663"
          },
          "text": "Date"
         },
         "zerolinecolor": "#E1E5ED"
        },
        "yaxis": {
         "gridcolor": "#E1E5ED",
         "showgrid": true,
         "tickfont": {
          "color": "#4D5663"
         },
         "title": {
          "font": {
           "color": "#4D5663"
          },
          "text": "Count"
         },
         "zerolinecolor": "#E1E5ED"
        }
       }
      },
      "text/html": [
       "<div>                            <div id=\"e4bfc16a-4a0b-4bb8-b102-2fe2688875f7\" class=\"plotly-graph-div\" style=\"height:525px; width:100%;\"></div>            <script type=\"text/javascript\">                require([\"plotly\"], function(Plotly) {                    window.PLOTLYENV=window.PLOTLYENV || {};\n",
       "                    window.PLOTLYENV.BASE_URL='https://plot.ly';                                    if (document.getElementById(\"e4bfc16a-4a0b-4bb8-b102-2fe2688875f7\")) {                    Plotly.newPlot(                        \"e4bfc16a-4a0b-4bb8-b102-2fe2688875f7\",                        [{\"line\":{\"color\":\"rgba(255, 153, 51, 1.0)\",\"dash\":\"solid\",\"shape\":\"linear\",\"width\":1.3},\"mode\":\"lines\",\"name\":\"lat\",\"text\":\"\",\"x\":[\"2015-12-10\",\"2015-12-11\",\"2015-12-12\",\"2015-12-13\",\"2015-12-14\",\"2015-12-15\",\"2015-12-16\",\"2015-12-17\",\"2015-12-18\",\"2015-12-19\",\"2015-12-20\",\"2015-12-21\",\"2015-12-22\",\"2015-12-23\",\"2015-12-24\",\"2015-12-25\",\"2015-12-26\",\"2015-12-27\",\"2015-12-28\",\"2015-12-29\",\"2015-12-30\",\"2015-12-31\",\"2016-01-01\",\"2016-01-02\",\"2016-01-03\",\"2016-01-04\",\"2016-01-05\",\"2016-01-06\",\"2016-01-07\",\"2016-01-08\",\"2016-01-09\",\"2016-01-10\",\"2016-01-11\",\"2016-01-12\",\"2016-01-13\",\"2016-01-14\",\"2016-01-15\",\"2016-01-16\",\"2016-01-17\",\"2016-01-18\",\"2016-01-19\",\"2016-01-20\",\"2016-01-21\",\"2016-01-22\",\"2016-01-23\",\"2016-01-24\",\"2016-01-25\",\"2016-01-26\",\"2016-01-27\",\"2016-01-28\",\"2016-01-29\",\"2016-01-30\",\"2016-01-31\",\"2016-02-01\",\"2016-02-02\",\"2016-02-03\",\"2016-02-04\",\"2016-02-05\",\"2016-02-06\",\"2016-02-07\",\"2016-02-08\",\"2016-02-09\",\"2016-02-10\",\"2016-02-11\",\"2016-02-12\",\"2016-02-13\",\"2016-02-14\",\"2016-02-15\",\"2016-02-16\",\"2016-02-17\",\"2016-02-18\",\"2016-02-19\",\"2016-02-20\",\"2016-02-21\",\"2016-02-22\",\"2016-02-23\",\"2016-02-24\",\"2016-02-25\",\"2016-02-26\",\"2016-02-27\",\"2016-02-28\",\"2016-02-29\",\"2016-03-01\",\"2016-03-02\",\"2016-03-03\",\"2016-03-04\",\"2016-03-05\",\"2016-03-06\",\"2016-03-07\",\"2016-03-08\",\"2016-03-09\",\"2016-03-10\",\"2016-03-11\",\"2016-03-12\",\"2016-03-13\",\"2016-03-14\",\"2016-03-15\",\"2016-03-16\",\"2016-03-17\",\"2016-03-18\",\"2016-03-19\",\"2016-03-20\",\"2016-03-21\",\"2016-03-22\",\"2016-03-23\",\"2016-03-24\",\"2016-03-25\",\"2016-03-26\",\"2016-03-27\",\"2016-03-28\",\"2016-03-29\",\"2016-03-30\",\"2016-03-31\",\"2016-04-01\",\"2016-04-02\",\"2016-04-03\",\"2016-04-04\",\"2016-04-05\",\"2016-04-06\",\"2016-04-07\",\"2016-04-08\",\"2016-04-09\",\"2016-04-10\",\"2016-04-11\",\"2016-04-12\",\"2016-04-13\",\"2016-04-14\",\"2016-04-15\",\"2016-04-16\",\"2016-04-17\",\"2016-04-18\",\"2016-04-19\",\"2016-04-20\",\"2016-04-21\",\"2016-04-22\",\"2016-04-23\",\"2016-04-24\",\"2016-04-25\",\"2016-04-26\",\"2016-04-27\",\"2016-04-28\",\"2016-04-29\",\"2016-04-30\",\"2016-05-01\",\"2016-05-02\",\"2016-05-03\",\"2016-05-04\",\"2016-05-05\",\"2016-05-06\",\"2016-05-07\",\"2016-05-08\",\"2016-05-09\",\"2016-05-10\",\"2016-05-11\",\"2016-05-12\",\"2016-05-13\",\"2016-05-14\",\"2016-05-15\",\"2016-05-16\",\"2016-05-17\",\"2016-05-18\",\"2016-05-19\",\"2016-05-20\",\"2016-05-21\",\"2016-05-22\",\"2016-05-23\",\"2016-05-24\",\"2016-05-25\",\"2016-05-26\",\"2016-05-27\",\"2016-05-28\",\"2016-05-29\",\"2016-05-30\",\"2016-05-31\",\"2016-06-01\",\"2016-06-02\",\"2016-06-03\",\"2016-06-04\",\"2016-06-05\",\"2016-06-06\",\"2016-06-07\",\"2016-06-08\",\"2016-06-09\",\"2016-06-10\",\"2016-06-11\",\"2016-06-12\",\"2016-06-13\",\"2016-06-14\",\"2016-06-15\",\"2016-06-16\",\"2016-06-17\",\"2016-06-18\",\"2016-06-19\",\"2016-06-20\",\"2016-06-21\",\"2016-06-22\",\"2016-06-23\",\"2016-06-24\",\"2016-06-25\",\"2016-06-26\",\"2016-06-27\",\"2016-06-28\",\"2016-06-29\",\"2016-06-30\",\"2016-07-01\",\"2016-07-02\",\"2016-07-03\",\"2016-07-04\",\"2016-07-05\",\"2016-07-06\",\"2016-07-07\",\"2016-07-08\",\"2016-07-09\",\"2016-07-10\",\"2016-07-11\",\"2016-07-12\",\"2016-07-13\",\"2016-07-14\",\"2016-07-15\",\"2016-07-16\",\"2016-07-17\",\"2016-07-18\",\"2016-07-19\",\"2016-07-20\",\"2016-07-21\",\"2016-07-22\",\"2016-07-23\",\"2016-07-24\",\"2016-07-25\",\"2016-07-26\",\"2016-07-27\",\"2016-07-28\",\"2016-07-29\",\"2016-07-30\",\"2016-07-31\",\"2016-08-01\",\"2016-08-02\",\"2016-08-03\",\"2016-08-04\",\"2016-08-05\",\"2016-08-06\",\"2016-08-07\",\"2016-08-08\",\"2016-08-09\",\"2016-08-10\",\"2016-08-11\",\"2016-08-12\",\"2016-08-13\",\"2016-08-14\",\"2016-08-15\",\"2016-08-16\",\"2016-08-17\",\"2016-08-18\",\"2016-08-19\",\"2016-08-20\",\"2016-08-21\",\"2016-08-22\",\"2016-08-23\",\"2016-08-24\"],\"y\":[15,69,68,51,39,43,53,55,34,48,45,55,57,70,84,68,36,38,49,48,32,39,34,36,43,65,77,77,71,55,47,70,44,62,66,60,56,33,38,53,63,54,49,64,159,161,80,53,48,55,46,49,37,50,64,77,48,52,58,37,53,54,45,55,58,50,81,94,120,61,51,50,64,43,64,54,173,87,46,66,66,48,49,67,39,41,40,46,64,63,53,50,56,54,41,53,56,47,59,49,41,35,49,42,53,47,50,58,38,62,71,56,61,60,62,147,61,43,54,60,44,46,32,37,28,45,51,60,62,53,59,73,72,61,68,53,60,61,55,46,68,48,48,19,42,51,46,48,46,49,56,44,52,53,39,66,52,35,54,49,38,51,66,45,46,65,49,68,71,48,75,56,46,48,55,49,75,55,53,63,49,84,81,65,56,82,55,62,70,58,47,39,68,58,54,60,68,60,53,50,69,45,48,65,59,53,52,53,71,59,59,63,42,52,57,50,69,60,55,55,49,69,67,58,62,53,77,67,159,54,62,56,55,48,56,75,58,63,64,68,63,61,50,52,64,79,87,76,58,54,65,62,61,67,52,54,51,70,19],\"type\":\"scatter\"}],                        {\"legend\":{\"bgcolor\":\"#F5F6F9\",\"font\":{\"color\":\"#4D5663\"}},\"paper_bgcolor\":\"#F5F6F9\",\"plot_bgcolor\":\"#F5F6F9\",\"template\":{\"data\":{\"barpolar\":[{\"marker\":{\"line\":{\"color\":\"#E5ECF6\",\"width\":0.5},\"pattern\":{\"fillmode\":\"overlay\",\"size\":10,\"solidity\":0.2}},\"type\":\"barpolar\"}],\"bar\":[{\"error_x\":{\"color\":\"#2a3f5f\"},\"error_y\":{\"color\":\"#2a3f5f\"},\"marker\":{\"line\":{\"color\":\"#E5ECF6\",\"width\":0.5},\"pattern\":{\"fillmode\":\"overlay\",\"size\":10,\"solidity\":0.2}},\"type\":\"bar\"}],\"carpet\":[{\"aaxis\":{\"endlinecolor\":\"#2a3f5f\",\"gridcolor\":\"white\",\"linecolor\":\"white\",\"minorgridcolor\":\"white\",\"startlinecolor\":\"#2a3f5f\"},\"baxis\":{\"endlinecolor\":\"#2a3f5f\",\"gridcolor\":\"white\",\"linecolor\":\"white\",\"minorgridcolor\":\"white\",\"startlinecolor\":\"#2a3f5f\"},\"type\":\"carpet\"}],\"choropleth\":[{\"colorbar\":{\"outlinewidth\":0,\"ticks\":\"\"},\"type\":\"choropleth\"}],\"contourcarpet\":[{\"colorbar\":{\"outlinewidth\":0,\"ticks\":\"\"},\"type\":\"contourcarpet\"}],\"contour\":[{\"colorbar\":{\"outlinewidth\":0,\"ticks\":\"\"},\"colorscale\":[[0.0,\"#0d0887\"],[0.1111111111111111,\"#46039f\"],[0.2222222222222222,\"#7201a8\"],[0.3333333333333333,\"#9c179e\"],[0.4444444444444444,\"#bd3786\"],[0.5555555555555556,\"#d8576b\"],[0.6666666666666666,\"#ed7953\"],[0.7777777777777778,\"#fb9f3a\"],[0.8888888888888888,\"#fdca26\"],[1.0,\"#f0f921\"]],\"type\":\"contour\"}],\"heatmapgl\":[{\"colorbar\":{\"outlinewidth\":0,\"ticks\":\"\"},\"colorscale\":[[0.0,\"#0d0887\"],[0.1111111111111111,\"#46039f\"],[0.2222222222222222,\"#7201a8\"],[0.3333333333333333,\"#9c179e\"],[0.4444444444444444,\"#bd3786\"],[0.5555555555555556,\"#d8576b\"],[0.6666666666666666,\"#ed7953\"],[0.7777777777777778,\"#fb9f3a\"],[0.8888888888888888,\"#fdca26\"],[1.0,\"#f0f921\"]],\"type\":\"heatmapgl\"}],\"heatmap\":[{\"colorbar\":{\"outlinewidth\":0,\"ticks\":\"\"},\"colorscale\":[[0.0,\"#0d0887\"],[0.1111111111111111,\"#46039f\"],[0.2222222222222222,\"#7201a8\"],[0.3333333333333333,\"#9c179e\"],[0.4444444444444444,\"#bd3786\"],[0.5555555555555556,\"#d8576b\"],[0.6666666666666666,\"#ed7953\"],[0.7777777777777778,\"#fb9f3a\"],[0.8888888888888888,\"#fdca26\"],[1.0,\"#f0f921\"]],\"type\":\"heatmap\"}],\"histogram2dcontour\":[{\"colorbar\":{\"outlinewidth\":0,\"ticks\":\"\"},\"colorscale\":[[0.0,\"#0d0887\"],[0.1111111111111111,\"#46039f\"],[0.2222222222222222,\"#7201a8\"],[0.3333333333333333,\"#9c179e\"],[0.4444444444444444,\"#bd3786\"],[0.5555555555555556,\"#d8576b\"],[0.6666666666666666,\"#ed7953\"],[0.7777777777777778,\"#fb9f3a\"],[0.8888888888888888,\"#fdca26\"],[1.0,\"#f0f921\"]],\"type\":\"histogram2dcontour\"}],\"histogram2d\":[{\"colorbar\":{\"outlinewidth\":0,\"ticks\":\"\"},\"colorscale\":[[0.0,\"#0d0887\"],[0.1111111111111111,\"#46039f\"],[0.2222222222222222,\"#7201a8\"],[0.3333333333333333,\"#9c179e\"],[0.4444444444444444,\"#bd3786\"],[0.5555555555555556,\"#d8576b\"],[0.6666666666666666,\"#ed7953\"],[0.7777777777777778,\"#fb9f3a\"],[0.8888888888888888,\"#fdca26\"],[1.0,\"#f0f921\"]],\"type\":\"histogram2d\"}],\"histogram\":[{\"marker\":{\"pattern\":{\"fillmode\":\"overlay\",\"size\":10,\"solidity\":0.2}},\"type\":\"histogram\"}],\"mesh3d\":[{\"colorbar\":{\"outlinewidth\":0,\"ticks\":\"\"},\"type\":\"mesh3d\"}],\"parcoords\":[{\"line\":{\"colorbar\":{\"outlinewidth\":0,\"ticks\":\"\"}},\"type\":\"parcoords\"}],\"pie\":[{\"automargin\":true,\"type\":\"pie\"}],\"scatter3d\":[{\"line\":{\"colorbar\":{\"outlinewidth\":0,\"ticks\":\"\"}},\"marker\":{\"colorbar\":{\"outlinewidth\":0,\"ticks\":\"\"}},\"type\":\"scatter3d\"}],\"scattercarpet\":[{\"marker\":{\"colorbar\":{\"outlinewidth\":0,\"ticks\":\"\"}},\"type\":\"scattercarpet\"}],\"scattergeo\":[{\"marker\":{\"colorbar\":{\"outlinewidth\":0,\"ticks\":\"\"}},\"type\":\"scattergeo\"}],\"scattergl\":[{\"marker\":{\"colorbar\":{\"outlinewidth\":0,\"ticks\":\"\"}},\"type\":\"scattergl\"}],\"scattermapbox\":[{\"marker\":{\"colorbar\":{\"outlinewidth\":0,\"ticks\":\"\"}},\"type\":\"scattermapbox\"}],\"scatterpolargl\":[{\"marker\":{\"colorbar\":{\"outlinewidth\":0,\"ticks\":\"\"}},\"type\":\"scatterpolargl\"}],\"scatterpolar\":[{\"marker\":{\"colorbar\":{\"outlinewidth\":0,\"ticks\":\"\"}},\"type\":\"scatterpolar\"}],\"scatter\":[{\"fillpattern\":{\"fillmode\":\"overlay\",\"size\":10,\"solidity\":0.2},\"type\":\"scatter\"}],\"scatterternary\":[{\"marker\":{\"colorbar\":{\"outlinewidth\":0,\"ticks\":\"\"}},\"type\":\"scatterternary\"}],\"surface\":[{\"colorbar\":{\"outlinewidth\":0,\"ticks\":\"\"},\"colorscale\":[[0.0,\"#0d0887\"],[0.1111111111111111,\"#46039f\"],[0.2222222222222222,\"#7201a8\"],[0.3333333333333333,\"#9c179e\"],[0.4444444444444444,\"#bd3786\"],[0.5555555555555556,\"#d8576b\"],[0.6666666666666666,\"#ed7953\"],[0.7777777777777778,\"#fb9f3a\"],[0.8888888888888888,\"#fdca26\"],[1.0,\"#f0f921\"]],\"type\":\"surface\"}],\"table\":[{\"cells\":{\"fill\":{\"color\":\"#EBF0F8\"},\"line\":{\"color\":\"white\"}},\"header\":{\"fill\":{\"color\":\"#C8D4E3\"},\"line\":{\"color\":\"white\"}},\"type\":\"table\"}]},\"layout\":{\"annotationdefaults\":{\"arrowcolor\":\"#2a3f5f\",\"arrowhead\":0,\"arrowwidth\":1},\"autotypenumbers\":\"strict\",\"coloraxis\":{\"colorbar\":{\"outlinewidth\":0,\"ticks\":\"\"}},\"colorscale\":{\"diverging\":[[0,\"#8e0152\"],[0.1,\"#c51b7d\"],[0.2,\"#de77ae\"],[0.3,\"#f1b6da\"],[0.4,\"#fde0ef\"],[0.5,\"#f7f7f7\"],[0.6,\"#e6f5d0\"],[0.7,\"#b8e186\"],[0.8,\"#7fbc41\"],[0.9,\"#4d9221\"],[1,\"#276419\"]],\"sequential\":[[0.0,\"#0d0887\"],[0.1111111111111111,\"#46039f\"],[0.2222222222222222,\"#7201a8\"],[0.3333333333333333,\"#9c179e\"],[0.4444444444444444,\"#bd3786\"],[0.5555555555555556,\"#d8576b\"],[0.6666666666666666,\"#ed7953\"],[0.7777777777777778,\"#fb9f3a\"],[0.8888888888888888,\"#fdca26\"],[1.0,\"#f0f921\"]],\"sequentialminus\":[[0.0,\"#0d0887\"],[0.1111111111111111,\"#46039f\"],[0.2222222222222222,\"#7201a8\"],[0.3333333333333333,\"#9c179e\"],[0.4444444444444444,\"#bd3786\"],[0.5555555555555556,\"#d8576b\"],[0.6666666666666666,\"#ed7953\"],[0.7777777777777778,\"#fb9f3a\"],[0.8888888888888888,\"#fdca26\"],[1.0,\"#f0f921\"]]},\"colorway\":[\"#636efa\",\"#EF553B\",\"#00cc96\",\"#ab63fa\",\"#FFA15A\",\"#19d3f3\",\"#FF6692\",\"#B6E880\",\"#FF97FF\",\"#FECB52\"],\"font\":{\"color\":\"#2a3f5f\"},\"geo\":{\"bgcolor\":\"white\",\"lakecolor\":\"white\",\"landcolor\":\"#E5ECF6\",\"showlakes\":true,\"showland\":true,\"subunitcolor\":\"white\"},\"hoverlabel\":{\"align\":\"left\"},\"hovermode\":\"closest\",\"mapbox\":{\"style\":\"light\"},\"paper_bgcolor\":\"white\",\"plot_bgcolor\":\"#E5ECF6\",\"polar\":{\"angularaxis\":{\"gridcolor\":\"white\",\"linecolor\":\"white\",\"ticks\":\"\"},\"bgcolor\":\"#E5ECF6\",\"radialaxis\":{\"gridcolor\":\"white\",\"linecolor\":\"white\",\"ticks\":\"\"}},\"scene\":{\"xaxis\":{\"backgroundcolor\":\"#E5ECF6\",\"gridcolor\":\"white\",\"gridwidth\":2,\"linecolor\":\"white\",\"showbackground\":true,\"ticks\":\"\",\"zerolinecolor\":\"white\"},\"yaxis\":{\"backgroundcolor\":\"#E5ECF6\",\"gridcolor\":\"white\",\"gridwidth\":2,\"linecolor\":\"white\",\"showbackground\":true,\"ticks\":\"\",\"zerolinecolor\":\"white\"},\"zaxis\":{\"backgroundcolor\":\"#E5ECF6\",\"gridcolor\":\"white\",\"gridwidth\":2,\"linecolor\":\"white\",\"showbackground\":true,\"ticks\":\"\",\"zerolinecolor\":\"white\"}},\"shapedefaults\":{\"line\":{\"color\":\"#2a3f5f\"}},\"ternary\":{\"aaxis\":{\"gridcolor\":\"white\",\"linecolor\":\"white\",\"ticks\":\"\"},\"baxis\":{\"gridcolor\":\"white\",\"linecolor\":\"white\",\"ticks\":\"\"},\"bgcolor\":\"#E5ECF6\",\"caxis\":{\"gridcolor\":\"white\",\"linecolor\":\"white\",\"ticks\":\"\"}},\"title\":{\"x\":0.05},\"xaxis\":{\"automargin\":true,\"gridcolor\":\"white\",\"linecolor\":\"white\",\"ticks\":\"\",\"title\":{\"standoff\":15},\"zerolinecolor\":\"white\",\"zerolinewidth\":2},\"yaxis\":{\"automargin\":true,\"gridcolor\":\"white\",\"linecolor\":\"white\",\"ticks\":\"\",\"title\":{\"standoff\":15},\"zerolinecolor\":\"white\",\"zerolinewidth\":2}}},\"title\":{\"font\":{\"color\":\"#4D5663\"},\"text\":\"Fire Calls by Date\"},\"xaxis\":{\"gridcolor\":\"#E1E5ED\",\"showgrid\":true,\"tickfont\":{\"color\":\"#4D5663\"},\"title\":{\"font\":{\"color\":\"#4D5663\"},\"text\":\"Date\"},\"zerolinecolor\":\"#E1E5ED\"},\"yaxis\":{\"gridcolor\":\"#E1E5ED\",\"showgrid\":true,\"tickfont\":{\"color\":\"#4D5663\"},\"title\":{\"font\":{\"color\":\"#4D5663\"},\"text\":\"Count\"},\"zerolinecolor\":\"#E1E5ED\"}},                        {\"showLink\": true, \"linkText\": \"Export to plot.ly\", \"plotlyServerURL\": \"https://plot.ly\", \"responsive\": true}                    ).then(function(){\n",
       "                            \n",
       "var gd = document.getElementById('e4bfc16a-4a0b-4bb8-b102-2fe2688875f7');\n",
       "var x = new MutationObserver(function (mutations, observer) {{\n",
       "        var display = window.getComputedStyle(gd).display;\n",
       "        if (!display || display === 'none') {{\n",
       "            console.log([gd, 'removed!']);\n",
       "            Plotly.purge(gd);\n",
       "            observer.disconnect();\n",
       "        }}\n",
       "}});\n",
       "\n",
       "// Listen for the removal of the full notebook cells\n",
       "var notebookContainer = gd.closest('#notebook-container');\n",
       "if (notebookContainer) {{\n",
       "    x.observe(notebookContainer, {childList: true});\n",
       "}}\n",
       "\n",
       "// Listen for the clearing of the current output cell\n",
       "var outputEl = gd.closest('.output');\n",
       "if (outputEl) {{\n",
       "    x.observe(outputEl, {childList: true});\n",
       "}}\n",
       "\n",
       "                        })                };                });            </script>        </div>"
      ]
     },
     "metadata": {},
     "output_type": "display_data"
    }
   ],
   "source": [
    "#Calls by Fire reason\n",
    "calls_by_date_fire = df[df['reason'] == 'Fire'].groupby('date').count()['lat']\n",
    "print(\"Fire Calls by Date:\\n\",calls_by_date_fire)\n",
    "calls_by_date_fire.iplot(title='Fire Calls by Date',\n",
    "                         xTitle='Date', yTitle='Count')\n",
    "#Fire incidents are showing peaks on certain dates not just 23rd Jan 2016\n",
    "#there must be traffic issues on 23rd Jan 2016 not as much as fire incidents"
   ]
  },
  {
   "cell_type": "code",
   "execution_count": null,
   "metadata": {},
   "outputs": [
    {
     "name": "stdout",
     "output_type": "stream",
     "text": [
      "EMS Calls by Date:\n",
      " date\n",
      "2015-12-10     57\n",
      "2015-12-11    186\n",
      "2015-12-12    189\n",
      "2015-12-13    190\n",
      "2015-12-14    222\n",
      "             ... \n",
      "2016-08-20    159\n",
      "2016-08-21    165\n",
      "2016-08-22    182\n",
      "2016-08-23    218\n",
      "2016-08-24     71\n",
      "Name: lat, Length: 259, dtype: int64\n"
     ]
    },
    {
     "name": "stderr",
     "output_type": "stream",
     "text": [
      "/Users/shaarifakhtar/Documents/python/anaconda3/lib/python3.12/site-packages/cufflinks/plotlytools.py:117: FutureWarning:\n",
      "\n",
      "DatetimeIndex.format is deprecated and will be removed in a future version. Convert using index.astype(str) or index.map(formatter) instead.\n",
      "\n"
     ]
    },
    {
     "data": {
      "application/vnd.plotly.v1+json": {
       "config": {
        "linkText": "Export to plot.ly",
        "plotlyServerURL": "https://plot.ly",
        "showLink": true
       },
       "data": [
        {
         "line": {
          "color": "rgba(255, 153, 51, 1.0)",
          "dash": "solid",
          "shape": "linear",
          "width": 1.3
         },
         "mode": "lines",
         "name": "lat",
         "text": "",
         "type": "scatter",
         "x": [
          "2015-12-10",
          "2015-12-11",
          "2015-12-12",
          "2015-12-13",
          "2015-12-14",
          "2015-12-15",
          "2015-12-16",
          "2015-12-17",
          "2015-12-18",
          "2015-12-19",
          "2015-12-20",
          "2015-12-21",
          "2015-12-22",
          "2015-12-23",
          "2015-12-24",
          "2015-12-25",
          "2015-12-26",
          "2015-12-27",
          "2015-12-28",
          "2015-12-29",
          "2015-12-30",
          "2015-12-31",
          "2016-01-01",
          "2016-01-02",
          "2016-01-03",
          "2016-01-04",
          "2016-01-05",
          "2016-01-06",
          "2016-01-07",
          "2016-01-08",
          "2016-01-09",
          "2016-01-10",
          "2016-01-11",
          "2016-01-12",
          "2016-01-13",
          "2016-01-14",
          "2016-01-15",
          "2016-01-16",
          "2016-01-17",
          "2016-01-18",
          "2016-01-19",
          "2016-01-20",
          "2016-01-21",
          "2016-01-22",
          "2016-01-23",
          "2016-01-24",
          "2016-01-25",
          "2016-01-26",
          "2016-01-27",
          "2016-01-28",
          "2016-01-29",
          "2016-01-30",
          "2016-01-31",
          "2016-02-01",
          "2016-02-02",
          "2016-02-03",
          "2016-02-04",
          "2016-02-05",
          "2016-02-06",
          "2016-02-07",
          "2016-02-08",
          "2016-02-09",
          "2016-02-10",
          "2016-02-11",
          "2016-02-12",
          "2016-02-13",
          "2016-02-14",
          "2016-02-15",
          "2016-02-16",
          "2016-02-17",
          "2016-02-18",
          "2016-02-19",
          "2016-02-20",
          "2016-02-21",
          "2016-02-22",
          "2016-02-23",
          "2016-02-24",
          "2016-02-25",
          "2016-02-26",
          "2016-02-27",
          "2016-02-28",
          "2016-02-29",
          "2016-03-01",
          "2016-03-02",
          "2016-03-03",
          "2016-03-04",
          "2016-03-05",
          "2016-03-06",
          "2016-03-07",
          "2016-03-08",
          "2016-03-09",
          "2016-03-10",
          "2016-03-11",
          "2016-03-12",
          "2016-03-13",
          "2016-03-14",
          "2016-03-15",
          "2016-03-16",
          "2016-03-17",
          "2016-03-18",
          "2016-03-19",
          "2016-03-20",
          "2016-03-21",
          "2016-03-22",
          "2016-03-23",
          "2016-03-24",
          "2016-03-25",
          "2016-03-26",
          "2016-03-27",
          "2016-03-28",
          "2016-03-29",
          "2016-03-30",
          "2016-03-31",
          "2016-04-01",
          "2016-04-02",
          "2016-04-03",
          "2016-04-04",
          "2016-04-05",
          "2016-04-06",
          "2016-04-07",
          "2016-04-08",
          "2016-04-09",
          "2016-04-10",
          "2016-04-11",
          "2016-04-12",
          "2016-04-13",
          "2016-04-14",
          "2016-04-15",
          "2016-04-16",
          "2016-04-17",
          "2016-04-18",
          "2016-04-19",
          "2016-04-20",
          "2016-04-21",
          "2016-04-22",
          "2016-04-23",
          "2016-04-24",
          "2016-04-25",
          "2016-04-26",
          "2016-04-27",
          "2016-04-28",
          "2016-04-29",
          "2016-04-30",
          "2016-05-01",
          "2016-05-02",
          "2016-05-03",
          "2016-05-04",
          "2016-05-05",
          "2016-05-06",
          "2016-05-07",
          "2016-05-08",
          "2016-05-09",
          "2016-05-10",
          "2016-05-11",
          "2016-05-12",
          "2016-05-13",
          "2016-05-14",
          "2016-05-15",
          "2016-05-16",
          "2016-05-17",
          "2016-05-18",
          "2016-05-19",
          "2016-05-20",
          "2016-05-21",
          "2016-05-22",
          "2016-05-23",
          "2016-05-24",
          "2016-05-25",
          "2016-05-26",
          "2016-05-27",
          "2016-05-28",
          "2016-05-29",
          "2016-05-30",
          "2016-05-31",
          "2016-06-01",
          "2016-06-02",
          "2016-06-03",
          "2016-06-04",
          "2016-06-05",
          "2016-06-06",
          "2016-06-07",
          "2016-06-08",
          "2016-06-09",
          "2016-06-10",
          "2016-06-11",
          "2016-06-12",
          "2016-06-13",
          "2016-06-14",
          "2016-06-15",
          "2016-06-16",
          "2016-06-17",
          "2016-06-18",
          "2016-06-19",
          "2016-06-20",
          "2016-06-21",
          "2016-06-22",
          "2016-06-23",
          "2016-06-24",
          "2016-06-25",
          "2016-06-26",
          "2016-06-27",
          "2016-06-28",
          "2016-06-29",
          "2016-06-30",
          "2016-07-01",
          "2016-07-02",
          "2016-07-03",
          "2016-07-04",
          "2016-07-05",
          "2016-07-06",
          "2016-07-07",
          "2016-07-08",
          "2016-07-09",
          "2016-07-10",
          "2016-07-11",
          "2016-07-12",
          "2016-07-13",
          "2016-07-14",
          "2016-07-15",
          "2016-07-16",
          "2016-07-17",
          "2016-07-18",
          "2016-07-19",
          "2016-07-20",
          "2016-07-21",
          "2016-07-22",
          "2016-07-23",
          "2016-07-24",
          "2016-07-25",
          "2016-07-26",
          "2016-07-27",
          "2016-07-28",
          "2016-07-29",
          "2016-07-30",
          "2016-07-31",
          "2016-08-01",
          "2016-08-02",
          "2016-08-03",
          "2016-08-04",
          "2016-08-05",
          "2016-08-06",
          "2016-08-07",
          "2016-08-08",
          "2016-08-09",
          "2016-08-10",
          "2016-08-11",
          "2016-08-12",
          "2016-08-13",
          "2016-08-14",
          "2016-08-15",
          "2016-08-16",
          "2016-08-17",
          "2016-08-18",
          "2016-08-19",
          "2016-08-20",
          "2016-08-21",
          "2016-08-22",
          "2016-08-23",
          "2016-08-24"
         ],
         "y": [
          57,
          186,
          189,
          190,
          222,
          195,
          192,
          166,
          164,
          123,
          148,
          225,
          195,
          177,
          186,
          179,
          168,
          189,
          216,
          181,
          183,
          167,
          172,
          194,
          184,
          198,
          197,
          200,
          199,
          193,
          201,
          201,
          201,
          202,
          185,
          200,
          239,
          171,
          166,
          182,
          224,
          193,
          177,
          175,
          197,
          250,
          218,
          208,
          204,
          193,
          203,
          168,
          168,
          178,
          232,
          177,
          171,
          190,
          176,
          159,
          186,
          189,
          228,
          207,
          188,
          158,
          159,
          208,
          210,
          177,
          166,
          201,
          191,
          184,
          183,
          163,
          197,
          202,
          186,
          196,
          172,
          179,
          213,
          178,
          186,
          181,
          156,
          167,
          202,
          204,
          203,
          211,
          191,
          208,
          195,
          202,
          193,
          181,
          199,
          203,
          186,
          159,
          199,
          172,
          198,
          183,
          205,
          146,
          162,
          186,
          190,
          179,
          194,
          231,
          186,
          158,
          197,
          164,
          202,
          207,
          203,
          162,
          179,
          219,
          133,
          220,
          166,
          188,
          193,
          166,
          194,
          205,
          191,
          190,
          201,
          186,
          190,
          203,
          197,
          198,
          207,
          179,
          165,
          82,
          173,
          177,
          174,
          208,
          176,
          183,
          181,
          187,
          186,
          211,
          190,
          214,
          187,
          144,
          187,
          186,
          177,
          195,
          194,
          171,
          180,
          196,
          188,
          199,
          224,
          226,
          184,
          205,
          169,
          180,
          203,
          197,
          179,
          194,
          148,
          224,
          207,
          164,
          185,
          204,
          189,
          191,
          204,
          182,
          180,
          192,
          221,
          191,
          167,
          173,
          228,
          194,
          203,
          174,
          181,
          159,
          196,
          209,
          185,
          196,
          214,
          162,
          179,
          162,
          175,
          197,
          189,
          215,
          174,
          178,
          217,
          184,
          200,
          208,
          207,
          195,
          182,
          190,
          224,
          199,
          194,
          188,
          196,
          173,
          198,
          207,
          215,
          210,
          216,
          180,
          201,
          190,
          215,
          186,
          208,
          211,
          205,
          187,
          202,
          176,
          164,
          208,
          209,
          214,
          188,
          192,
          213,
          184,
          152,
          209,
          159,
          165,
          182,
          218,
          71
         ]
        }
       ],
       "layout": {
        "legend": {
         "bgcolor": "#F5F6F9",
         "font": {
          "color": "#4D5663"
         }
        },
        "paper_bgcolor": "#F5F6F9",
        "plot_bgcolor": "#F5F6F9",
        "template": {
         "data": {
          "bar": [
           {
            "error_x": {
             "color": "#2a3f5f"
            },
            "error_y": {
             "color": "#2a3f5f"
            },
            "marker": {
             "line": {
              "color": "#E5ECF6",
              "width": 0.5
             },
             "pattern": {
              "fillmode": "overlay",
              "size": 10,
              "solidity": 0.2
             }
            },
            "type": "bar"
           }
          ],
          "barpolar": [
           {
            "marker": {
             "line": {
              "color": "#E5ECF6",
              "width": 0.5
             },
             "pattern": {
              "fillmode": "overlay",
              "size": 10,
              "solidity": 0.2
             }
            },
            "type": "barpolar"
           }
          ],
          "carpet": [
           {
            "aaxis": {
             "endlinecolor": "#2a3f5f",
             "gridcolor": "white",
             "linecolor": "white",
             "minorgridcolor": "white",
             "startlinecolor": "#2a3f5f"
            },
            "baxis": {
             "endlinecolor": "#2a3f5f",
             "gridcolor": "white",
             "linecolor": "white",
             "minorgridcolor": "white",
             "startlinecolor": "#2a3f5f"
            },
            "type": "carpet"
           }
          ],
          "choropleth": [
           {
            "colorbar": {
             "outlinewidth": 0,
             "ticks": ""
            },
            "type": "choropleth"
           }
          ],
          "contour": [
           {
            "colorbar": {
             "outlinewidth": 0,
             "ticks": ""
            },
            "colorscale": [
             [
              0,
              "#0d0887"
             ],
             [
              0.1111111111111111,
              "#46039f"
             ],
             [
              0.2222222222222222,
              "#7201a8"
             ],
             [
              0.3333333333333333,
              "#9c179e"
             ],
             [
              0.4444444444444444,
              "#bd3786"
             ],
             [
              0.5555555555555556,
              "#d8576b"
             ],
             [
              0.6666666666666666,
              "#ed7953"
             ],
             [
              0.7777777777777778,
              "#fb9f3a"
             ],
             [
              0.8888888888888888,
              "#fdca26"
             ],
             [
              1,
              "#f0f921"
             ]
            ],
            "type": "contour"
           }
          ],
          "contourcarpet": [
           {
            "colorbar": {
             "outlinewidth": 0,
             "ticks": ""
            },
            "type": "contourcarpet"
           }
          ],
          "heatmap": [
           {
            "colorbar": {
             "outlinewidth": 0,
             "ticks": ""
            },
            "colorscale": [
             [
              0,
              "#0d0887"
             ],
             [
              0.1111111111111111,
              "#46039f"
             ],
             [
              0.2222222222222222,
              "#7201a8"
             ],
             [
              0.3333333333333333,
              "#9c179e"
             ],
             [
              0.4444444444444444,
              "#bd3786"
             ],
             [
              0.5555555555555556,
              "#d8576b"
             ],
             [
              0.6666666666666666,
              "#ed7953"
             ],
             [
              0.7777777777777778,
              "#fb9f3a"
             ],
             [
              0.8888888888888888,
              "#fdca26"
             ],
             [
              1,
              "#f0f921"
             ]
            ],
            "type": "heatmap"
           }
          ],
          "heatmapgl": [
           {
            "colorbar": {
             "outlinewidth": 0,
             "ticks": ""
            },
            "colorscale": [
             [
              0,
              "#0d0887"
             ],
             [
              0.1111111111111111,
              "#46039f"
             ],
             [
              0.2222222222222222,
              "#7201a8"
             ],
             [
              0.3333333333333333,
              "#9c179e"
             ],
             [
              0.4444444444444444,
              "#bd3786"
             ],
             [
              0.5555555555555556,
              "#d8576b"
             ],
             [
              0.6666666666666666,
              "#ed7953"
             ],
             [
              0.7777777777777778,
              "#fb9f3a"
             ],
             [
              0.8888888888888888,
              "#fdca26"
             ],
             [
              1,
              "#f0f921"
             ]
            ],
            "type": "heatmapgl"
           }
          ],
          "histogram": [
           {
            "marker": {
             "pattern": {
              "fillmode": "overlay",
              "size": 10,
              "solidity": 0.2
             }
            },
            "type": "histogram"
           }
          ],
          "histogram2d": [
           {
            "colorbar": {
             "outlinewidth": 0,
             "ticks": ""
            },
            "colorscale": [
             [
              0,
              "#0d0887"
             ],
             [
              0.1111111111111111,
              "#46039f"
             ],
             [
              0.2222222222222222,
              "#7201a8"
             ],
             [
              0.3333333333333333,
              "#9c179e"
             ],
             [
              0.4444444444444444,
              "#bd3786"
             ],
             [
              0.5555555555555556,
              "#d8576b"
             ],
             [
              0.6666666666666666,
              "#ed7953"
             ],
             [
              0.7777777777777778,
              "#fb9f3a"
             ],
             [
              0.8888888888888888,
              "#fdca26"
             ],
             [
              1,
              "#f0f921"
             ]
            ],
            "type": "histogram2d"
           }
          ],
          "histogram2dcontour": [
           {
            "colorbar": {
             "outlinewidth": 0,
             "ticks": ""
            },
            "colorscale": [
             [
              0,
              "#0d0887"
             ],
             [
              0.1111111111111111,
              "#46039f"
             ],
             [
              0.2222222222222222,
              "#7201a8"
             ],
             [
              0.3333333333333333,
              "#9c179e"
             ],
             [
              0.4444444444444444,
              "#bd3786"
             ],
             [
              0.5555555555555556,
              "#d8576b"
             ],
             [
              0.6666666666666666,
              "#ed7953"
             ],
             [
              0.7777777777777778,
              "#fb9f3a"
             ],
             [
              0.8888888888888888,
              "#fdca26"
             ],
             [
              1,
              "#f0f921"
             ]
            ],
            "type": "histogram2dcontour"
           }
          ],
          "mesh3d": [
           {
            "colorbar": {
             "outlinewidth": 0,
             "ticks": ""
            },
            "type": "mesh3d"
           }
          ],
          "parcoords": [
           {
            "line": {
             "colorbar": {
              "outlinewidth": 0,
              "ticks": ""
             }
            },
            "type": "parcoords"
           }
          ],
          "pie": [
           {
            "automargin": true,
            "type": "pie"
           }
          ],
          "scatter": [
           {
            "fillpattern": {
             "fillmode": "overlay",
             "size": 10,
             "solidity": 0.2
            },
            "type": "scatter"
           }
          ],
          "scatter3d": [
           {
            "line": {
             "colorbar": {
              "outlinewidth": 0,
              "ticks": ""
             }
            },
            "marker": {
             "colorbar": {
              "outlinewidth": 0,
              "ticks": ""
             }
            },
            "type": "scatter3d"
           }
          ],
          "scattercarpet": [
           {
            "marker": {
             "colorbar": {
              "outlinewidth": 0,
              "ticks": ""
             }
            },
            "type": "scattercarpet"
           }
          ],
          "scattergeo": [
           {
            "marker": {
             "colorbar": {
              "outlinewidth": 0,
              "ticks": ""
             }
            },
            "type": "scattergeo"
           }
          ],
          "scattergl": [
           {
            "marker": {
             "colorbar": {
              "outlinewidth": 0,
              "ticks": ""
             }
            },
            "type": "scattergl"
           }
          ],
          "scattermapbox": [
           {
            "marker": {
             "colorbar": {
              "outlinewidth": 0,
              "ticks": ""
             }
            },
            "type": "scattermapbox"
           }
          ],
          "scatterpolar": [
           {
            "marker": {
             "colorbar": {
              "outlinewidth": 0,
              "ticks": ""
             }
            },
            "type": "scatterpolar"
           }
          ],
          "scatterpolargl": [
           {
            "marker": {
             "colorbar": {
              "outlinewidth": 0,
              "ticks": ""
             }
            },
            "type": "scatterpolargl"
           }
          ],
          "scatterternary": [
           {
            "marker": {
             "colorbar": {
              "outlinewidth": 0,
              "ticks": ""
             }
            },
            "type": "scatterternary"
           }
          ],
          "surface": [
           {
            "colorbar": {
             "outlinewidth": 0,
             "ticks": ""
            },
            "colorscale": [
             [
              0,
              "#0d0887"
             ],
             [
              0.1111111111111111,
              "#46039f"
             ],
             [
              0.2222222222222222,
              "#7201a8"
             ],
             [
              0.3333333333333333,
              "#9c179e"
             ],
             [
              0.4444444444444444,
              "#bd3786"
             ],
             [
              0.5555555555555556,
              "#d8576b"
             ],
             [
              0.6666666666666666,
              "#ed7953"
             ],
             [
              0.7777777777777778,
              "#fb9f3a"
             ],
             [
              0.8888888888888888,
              "#fdca26"
             ],
             [
              1,
              "#f0f921"
             ]
            ],
            "type": "surface"
           }
          ],
          "table": [
           {
            "cells": {
             "fill": {
              "color": "#EBF0F8"
             },
             "line": {
              "color": "white"
             }
            },
            "header": {
             "fill": {
              "color": "#C8D4E3"
             },
             "line": {
              "color": "white"
             }
            },
            "type": "table"
           }
          ]
         },
         "layout": {
          "annotationdefaults": {
           "arrowcolor": "#2a3f5f",
           "arrowhead": 0,
           "arrowwidth": 1
          },
          "autotypenumbers": "strict",
          "coloraxis": {
           "colorbar": {
            "outlinewidth": 0,
            "ticks": ""
           }
          },
          "colorscale": {
           "diverging": [
            [
             0,
             "#8e0152"
            ],
            [
             0.1,
             "#c51b7d"
            ],
            [
             0.2,
             "#de77ae"
            ],
            [
             0.3,
             "#f1b6da"
            ],
            [
             0.4,
             "#fde0ef"
            ],
            [
             0.5,
             "#f7f7f7"
            ],
            [
             0.6,
             "#e6f5d0"
            ],
            [
             0.7,
             "#b8e186"
            ],
            [
             0.8,
             "#7fbc41"
            ],
            [
             0.9,
             "#4d9221"
            ],
            [
             1,
             "#276419"
            ]
           ],
           "sequential": [
            [
             0,
             "#0d0887"
            ],
            [
             0.1111111111111111,
             "#46039f"
            ],
            [
             0.2222222222222222,
             "#7201a8"
            ],
            [
             0.3333333333333333,
             "#9c179e"
            ],
            [
             0.4444444444444444,
             "#bd3786"
            ],
            [
             0.5555555555555556,
             "#d8576b"
            ],
            [
             0.6666666666666666,
             "#ed7953"
            ],
            [
             0.7777777777777778,
             "#fb9f3a"
            ],
            [
             0.8888888888888888,
             "#fdca26"
            ],
            [
             1,
             "#f0f921"
            ]
           ],
           "sequentialminus": [
            [
             0,
             "#0d0887"
            ],
            [
             0.1111111111111111,
             "#46039f"
            ],
            [
             0.2222222222222222,
             "#7201a8"
            ],
            [
             0.3333333333333333,
             "#9c179e"
            ],
            [
             0.4444444444444444,
             "#bd3786"
            ],
            [
             0.5555555555555556,
             "#d8576b"
            ],
            [
             0.6666666666666666,
             "#ed7953"
            ],
            [
             0.7777777777777778,
             "#fb9f3a"
            ],
            [
             0.8888888888888888,
             "#fdca26"
            ],
            [
             1,
             "#f0f921"
            ]
           ]
          },
          "colorway": [
           "#636efa",
           "#EF553B",
           "#00cc96",
           "#ab63fa",
           "#FFA15A",
           "#19d3f3",
           "#FF6692",
           "#B6E880",
           "#FF97FF",
           "#FECB52"
          ],
          "font": {
           "color": "#2a3f5f"
          },
          "geo": {
           "bgcolor": "white",
           "lakecolor": "white",
           "landcolor": "#E5ECF6",
           "showlakes": true,
           "showland": true,
           "subunitcolor": "white"
          },
          "hoverlabel": {
           "align": "left"
          },
          "hovermode": "closest",
          "mapbox": {
           "style": "light"
          },
          "paper_bgcolor": "white",
          "plot_bgcolor": "#E5ECF6",
          "polar": {
           "angularaxis": {
            "gridcolor": "white",
            "linecolor": "white",
            "ticks": ""
           },
           "bgcolor": "#E5ECF6",
           "radialaxis": {
            "gridcolor": "white",
            "linecolor": "white",
            "ticks": ""
           }
          },
          "scene": {
           "xaxis": {
            "backgroundcolor": "#E5ECF6",
            "gridcolor": "white",
            "gridwidth": 2,
            "linecolor": "white",
            "showbackground": true,
            "ticks": "",
            "zerolinecolor": "white"
           },
           "yaxis": {
            "backgroundcolor": "#E5ECF6",
            "gridcolor": "white",
            "gridwidth": 2,
            "linecolor": "white",
            "showbackground": true,
            "ticks": "",
            "zerolinecolor": "white"
           },
           "zaxis": {
            "backgroundcolor": "#E5ECF6",
            "gridcolor": "white",
            "gridwidth": 2,
            "linecolor": "white",
            "showbackground": true,
            "ticks": "",
            "zerolinecolor": "white"
           }
          },
          "shapedefaults": {
           "line": {
            "color": "#2a3f5f"
           }
          },
          "ternary": {
           "aaxis": {
            "gridcolor": "white",
            "linecolor": "white",
            "ticks": ""
           },
           "baxis": {
            "gridcolor": "white",
            "linecolor": "white",
            "ticks": ""
           },
           "bgcolor": "#E5ECF6",
           "caxis": {
            "gridcolor": "white",
            "linecolor": "white",
            "ticks": ""
           }
          },
          "title": {
           "x": 0.05
          },
          "xaxis": {
           "automargin": true,
           "gridcolor": "white",
           "linecolor": "white",
           "ticks": "",
           "title": {
            "standoff": 15
           },
           "zerolinecolor": "white",
           "zerolinewidth": 2
          },
          "yaxis": {
           "automargin": true,
           "gridcolor": "white",
           "linecolor": "white",
           "ticks": "",
           "title": {
            "standoff": 15
           },
           "zerolinecolor": "white",
           "zerolinewidth": 2
          }
         }
        },
        "title": {
         "font": {
          "color": "#4D5663"
         },
         "text": "EMS Calls by Date"
        },
        "xaxis": {
         "gridcolor": "#E1E5ED",
         "showgrid": true,
         "tickfont": {
          "color": "#4D5663"
         },
         "title": {
          "font": {
           "color": "#4D5663"
          },
          "text": "Date"
         },
         "zerolinecolor": "#E1E5ED"
        },
        "yaxis": {
         "gridcolor": "#E1E5ED",
         "showgrid": true,
         "tickfont": {
          "color": "#4D5663"
         },
         "title": {
          "font": {
           "color": "#4D5663"
          },
          "text": "Count"
         },
         "zerolinecolor": "#E1E5ED"
        }
       }
      },
      "text/html": [
       "<div>                            <div id=\"e524b119-dc62-4e36-a849-9d811bb7d28f\" class=\"plotly-graph-div\" style=\"height:525px; width:100%;\"></div>            <script type=\"text/javascript\">                require([\"plotly\"], function(Plotly) {                    window.PLOTLYENV=window.PLOTLYENV || {};\n",
       "                    window.PLOTLYENV.BASE_URL='https://plot.ly';                                    if (document.getElementById(\"e524b119-dc62-4e36-a849-9d811bb7d28f\")) {                    Plotly.newPlot(                        \"e524b119-dc62-4e36-a849-9d811bb7d28f\",                        [{\"line\":{\"color\":\"rgba(255, 153, 51, 1.0)\",\"dash\":\"solid\",\"shape\":\"linear\",\"width\":1.3},\"mode\":\"lines\",\"name\":\"lat\",\"text\":\"\",\"x\":[\"2015-12-10\",\"2015-12-11\",\"2015-12-12\",\"2015-12-13\",\"2015-12-14\",\"2015-12-15\",\"2015-12-16\",\"2015-12-17\",\"2015-12-18\",\"2015-12-19\",\"2015-12-20\",\"2015-12-21\",\"2015-12-22\",\"2015-12-23\",\"2015-12-24\",\"2015-12-25\",\"2015-12-26\",\"2015-12-27\",\"2015-12-28\",\"2015-12-29\",\"2015-12-30\",\"2015-12-31\",\"2016-01-01\",\"2016-01-02\",\"2016-01-03\",\"2016-01-04\",\"2016-01-05\",\"2016-01-06\",\"2016-01-07\",\"2016-01-08\",\"2016-01-09\",\"2016-01-10\",\"2016-01-11\",\"2016-01-12\",\"2016-01-13\",\"2016-01-14\",\"2016-01-15\",\"2016-01-16\",\"2016-01-17\",\"2016-01-18\",\"2016-01-19\",\"2016-01-20\",\"2016-01-21\",\"2016-01-22\",\"2016-01-23\",\"2016-01-24\",\"2016-01-25\",\"2016-01-26\",\"2016-01-27\",\"2016-01-28\",\"2016-01-29\",\"2016-01-30\",\"2016-01-31\",\"2016-02-01\",\"2016-02-02\",\"2016-02-03\",\"2016-02-04\",\"2016-02-05\",\"2016-02-06\",\"2016-02-07\",\"2016-02-08\",\"2016-02-09\",\"2016-02-10\",\"2016-02-11\",\"2016-02-12\",\"2016-02-13\",\"2016-02-14\",\"2016-02-15\",\"2016-02-16\",\"2016-02-17\",\"2016-02-18\",\"2016-02-19\",\"2016-02-20\",\"2016-02-21\",\"2016-02-22\",\"2016-02-23\",\"2016-02-24\",\"2016-02-25\",\"2016-02-26\",\"2016-02-27\",\"2016-02-28\",\"2016-02-29\",\"2016-03-01\",\"2016-03-02\",\"2016-03-03\",\"2016-03-04\",\"2016-03-05\",\"2016-03-06\",\"2016-03-07\",\"2016-03-08\",\"2016-03-09\",\"2016-03-10\",\"2016-03-11\",\"2016-03-12\",\"2016-03-13\",\"2016-03-14\",\"2016-03-15\",\"2016-03-16\",\"2016-03-17\",\"2016-03-18\",\"2016-03-19\",\"2016-03-20\",\"2016-03-21\",\"2016-03-22\",\"2016-03-23\",\"2016-03-24\",\"2016-03-25\",\"2016-03-26\",\"2016-03-27\",\"2016-03-28\",\"2016-03-29\",\"2016-03-30\",\"2016-03-31\",\"2016-04-01\",\"2016-04-02\",\"2016-04-03\",\"2016-04-04\",\"2016-04-05\",\"2016-04-06\",\"2016-04-07\",\"2016-04-08\",\"2016-04-09\",\"2016-04-10\",\"2016-04-11\",\"2016-04-12\",\"2016-04-13\",\"2016-04-14\",\"2016-04-15\",\"2016-04-16\",\"2016-04-17\",\"2016-04-18\",\"2016-04-19\",\"2016-04-20\",\"2016-04-21\",\"2016-04-22\",\"2016-04-23\",\"2016-04-24\",\"2016-04-25\",\"2016-04-26\",\"2016-04-27\",\"2016-04-28\",\"2016-04-29\",\"2016-04-30\",\"2016-05-01\",\"2016-05-02\",\"2016-05-03\",\"2016-05-04\",\"2016-05-05\",\"2016-05-06\",\"2016-05-07\",\"2016-05-08\",\"2016-05-09\",\"2016-05-10\",\"2016-05-11\",\"2016-05-12\",\"2016-05-13\",\"2016-05-14\",\"2016-05-15\",\"2016-05-16\",\"2016-05-17\",\"2016-05-18\",\"2016-05-19\",\"2016-05-20\",\"2016-05-21\",\"2016-05-22\",\"2016-05-23\",\"2016-05-24\",\"2016-05-25\",\"2016-05-26\",\"2016-05-27\",\"2016-05-28\",\"2016-05-29\",\"2016-05-30\",\"2016-05-31\",\"2016-06-01\",\"2016-06-02\",\"2016-06-03\",\"2016-06-04\",\"2016-06-05\",\"2016-06-06\",\"2016-06-07\",\"2016-06-08\",\"2016-06-09\",\"2016-06-10\",\"2016-06-11\",\"2016-06-12\",\"2016-06-13\",\"2016-06-14\",\"2016-06-15\",\"2016-06-16\",\"2016-06-17\",\"2016-06-18\",\"2016-06-19\",\"2016-06-20\",\"2016-06-21\",\"2016-06-22\",\"2016-06-23\",\"2016-06-24\",\"2016-06-25\",\"2016-06-26\",\"2016-06-27\",\"2016-06-28\",\"2016-06-29\",\"2016-06-30\",\"2016-07-01\",\"2016-07-02\",\"2016-07-03\",\"2016-07-04\",\"2016-07-05\",\"2016-07-06\",\"2016-07-07\",\"2016-07-08\",\"2016-07-09\",\"2016-07-10\",\"2016-07-11\",\"2016-07-12\",\"2016-07-13\",\"2016-07-14\",\"2016-07-15\",\"2016-07-16\",\"2016-07-17\",\"2016-07-18\",\"2016-07-19\",\"2016-07-20\",\"2016-07-21\",\"2016-07-22\",\"2016-07-23\",\"2016-07-24\",\"2016-07-25\",\"2016-07-26\",\"2016-07-27\",\"2016-07-28\",\"2016-07-29\",\"2016-07-30\",\"2016-07-31\",\"2016-08-01\",\"2016-08-02\",\"2016-08-03\",\"2016-08-04\",\"2016-08-05\",\"2016-08-06\",\"2016-08-07\",\"2016-08-08\",\"2016-08-09\",\"2016-08-10\",\"2016-08-11\",\"2016-08-12\",\"2016-08-13\",\"2016-08-14\",\"2016-08-15\",\"2016-08-16\",\"2016-08-17\",\"2016-08-18\",\"2016-08-19\",\"2016-08-20\",\"2016-08-21\",\"2016-08-22\",\"2016-08-23\",\"2016-08-24\"],\"y\":[57,186,189,190,222,195,192,166,164,123,148,225,195,177,186,179,168,189,216,181,183,167,172,194,184,198,197,200,199,193,201,201,201,202,185,200,239,171,166,182,224,193,177,175,197,250,218,208,204,193,203,168,168,178,232,177,171,190,176,159,186,189,228,207,188,158,159,208,210,177,166,201,191,184,183,163,197,202,186,196,172,179,213,178,186,181,156,167,202,204,203,211,191,208,195,202,193,181,199,203,186,159,199,172,198,183,205,146,162,186,190,179,194,231,186,158,197,164,202,207,203,162,179,219,133,220,166,188,193,166,194,205,191,190,201,186,190,203,197,198,207,179,165,82,173,177,174,208,176,183,181,187,186,211,190,214,187,144,187,186,177,195,194,171,180,196,188,199,224,226,184,205,169,180,203,197,179,194,148,224,207,164,185,204,189,191,204,182,180,192,221,191,167,173,228,194,203,174,181,159,196,209,185,196,214,162,179,162,175,197,189,215,174,178,217,184,200,208,207,195,182,190,224,199,194,188,196,173,198,207,215,210,216,180,201,190,215,186,208,211,205,187,202,176,164,208,209,214,188,192,213,184,152,209,159,165,182,218,71],\"type\":\"scatter\"}],                        {\"legend\":{\"bgcolor\":\"#F5F6F9\",\"font\":{\"color\":\"#4D5663\"}},\"paper_bgcolor\":\"#F5F6F9\",\"plot_bgcolor\":\"#F5F6F9\",\"template\":{\"data\":{\"barpolar\":[{\"marker\":{\"line\":{\"color\":\"#E5ECF6\",\"width\":0.5},\"pattern\":{\"fillmode\":\"overlay\",\"size\":10,\"solidity\":0.2}},\"type\":\"barpolar\"}],\"bar\":[{\"error_x\":{\"color\":\"#2a3f5f\"},\"error_y\":{\"color\":\"#2a3f5f\"},\"marker\":{\"line\":{\"color\":\"#E5ECF6\",\"width\":0.5},\"pattern\":{\"fillmode\":\"overlay\",\"size\":10,\"solidity\":0.2}},\"type\":\"bar\"}],\"carpet\":[{\"aaxis\":{\"endlinecolor\":\"#2a3f5f\",\"gridcolor\":\"white\",\"linecolor\":\"white\",\"minorgridcolor\":\"white\",\"startlinecolor\":\"#2a3f5f\"},\"baxis\":{\"endlinecolor\":\"#2a3f5f\",\"gridcolor\":\"white\",\"linecolor\":\"white\",\"minorgridcolor\":\"white\",\"startlinecolor\":\"#2a3f5f\"},\"type\":\"carpet\"}],\"choropleth\":[{\"colorbar\":{\"outlinewidth\":0,\"ticks\":\"\"},\"type\":\"choropleth\"}],\"contourcarpet\":[{\"colorbar\":{\"outlinewidth\":0,\"ticks\":\"\"},\"type\":\"contourcarpet\"}],\"contour\":[{\"colorbar\":{\"outlinewidth\":0,\"ticks\":\"\"},\"colorscale\":[[0.0,\"#0d0887\"],[0.1111111111111111,\"#46039f\"],[0.2222222222222222,\"#7201a8\"],[0.3333333333333333,\"#9c179e\"],[0.4444444444444444,\"#bd3786\"],[0.5555555555555556,\"#d8576b\"],[0.6666666666666666,\"#ed7953\"],[0.7777777777777778,\"#fb9f3a\"],[0.8888888888888888,\"#fdca26\"],[1.0,\"#f0f921\"]],\"type\":\"contour\"}],\"heatmapgl\":[{\"colorbar\":{\"outlinewidth\":0,\"ticks\":\"\"},\"colorscale\":[[0.0,\"#0d0887\"],[0.1111111111111111,\"#46039f\"],[0.2222222222222222,\"#7201a8\"],[0.3333333333333333,\"#9c179e\"],[0.4444444444444444,\"#bd3786\"],[0.5555555555555556,\"#d8576b\"],[0.6666666666666666,\"#ed7953\"],[0.7777777777777778,\"#fb9f3a\"],[0.8888888888888888,\"#fdca26\"],[1.0,\"#f0f921\"]],\"type\":\"heatmapgl\"}],\"heatmap\":[{\"colorbar\":{\"outlinewidth\":0,\"ticks\":\"\"},\"colorscale\":[[0.0,\"#0d0887\"],[0.1111111111111111,\"#46039f\"],[0.2222222222222222,\"#7201a8\"],[0.3333333333333333,\"#9c179e\"],[0.4444444444444444,\"#bd3786\"],[0.5555555555555556,\"#d8576b\"],[0.6666666666666666,\"#ed7953\"],[0.7777777777777778,\"#fb9f3a\"],[0.8888888888888888,\"#fdca26\"],[1.0,\"#f0f921\"]],\"type\":\"heatmap\"}],\"histogram2dcontour\":[{\"colorbar\":{\"outlinewidth\":0,\"ticks\":\"\"},\"colorscale\":[[0.0,\"#0d0887\"],[0.1111111111111111,\"#46039f\"],[0.2222222222222222,\"#7201a8\"],[0.3333333333333333,\"#9c179e\"],[0.4444444444444444,\"#bd3786\"],[0.5555555555555556,\"#d8576b\"],[0.6666666666666666,\"#ed7953\"],[0.7777777777777778,\"#fb9f3a\"],[0.8888888888888888,\"#fdca26\"],[1.0,\"#f0f921\"]],\"type\":\"histogram2dcontour\"}],\"histogram2d\":[{\"colorbar\":{\"outlinewidth\":0,\"ticks\":\"\"},\"colorscale\":[[0.0,\"#0d0887\"],[0.1111111111111111,\"#46039f\"],[0.2222222222222222,\"#7201a8\"],[0.3333333333333333,\"#9c179e\"],[0.4444444444444444,\"#bd3786\"],[0.5555555555555556,\"#d8576b\"],[0.6666666666666666,\"#ed7953\"],[0.7777777777777778,\"#fb9f3a\"],[0.8888888888888888,\"#fdca26\"],[1.0,\"#f0f921\"]],\"type\":\"histogram2d\"}],\"histogram\":[{\"marker\":{\"pattern\":{\"fillmode\":\"overlay\",\"size\":10,\"solidity\":0.2}},\"type\":\"histogram\"}],\"mesh3d\":[{\"colorbar\":{\"outlinewidth\":0,\"ticks\":\"\"},\"type\":\"mesh3d\"}],\"parcoords\":[{\"line\":{\"colorbar\":{\"outlinewidth\":0,\"ticks\":\"\"}},\"type\":\"parcoords\"}],\"pie\":[{\"automargin\":true,\"type\":\"pie\"}],\"scatter3d\":[{\"line\":{\"colorbar\":{\"outlinewidth\":0,\"ticks\":\"\"}},\"marker\":{\"colorbar\":{\"outlinewidth\":0,\"ticks\":\"\"}},\"type\":\"scatter3d\"}],\"scattercarpet\":[{\"marker\":{\"colorbar\":{\"outlinewidth\":0,\"ticks\":\"\"}},\"type\":\"scattercarpet\"}],\"scattergeo\":[{\"marker\":{\"colorbar\":{\"outlinewidth\":0,\"ticks\":\"\"}},\"type\":\"scattergeo\"}],\"scattergl\":[{\"marker\":{\"colorbar\":{\"outlinewidth\":0,\"ticks\":\"\"}},\"type\":\"scattergl\"}],\"scattermapbox\":[{\"marker\":{\"colorbar\":{\"outlinewidth\":0,\"ticks\":\"\"}},\"type\":\"scattermapbox\"}],\"scatterpolargl\":[{\"marker\":{\"colorbar\":{\"outlinewidth\":0,\"ticks\":\"\"}},\"type\":\"scatterpolargl\"}],\"scatterpolar\":[{\"marker\":{\"colorbar\":{\"outlinewidth\":0,\"ticks\":\"\"}},\"type\":\"scatterpolar\"}],\"scatter\":[{\"fillpattern\":{\"fillmode\":\"overlay\",\"size\":10,\"solidity\":0.2},\"type\":\"scatter\"}],\"scatterternary\":[{\"marker\":{\"colorbar\":{\"outlinewidth\":0,\"ticks\":\"\"}},\"type\":\"scatterternary\"}],\"surface\":[{\"colorbar\":{\"outlinewidth\":0,\"ticks\":\"\"},\"colorscale\":[[0.0,\"#0d0887\"],[0.1111111111111111,\"#46039f\"],[0.2222222222222222,\"#7201a8\"],[0.3333333333333333,\"#9c179e\"],[0.4444444444444444,\"#bd3786\"],[0.5555555555555556,\"#d8576b\"],[0.6666666666666666,\"#ed7953\"],[0.7777777777777778,\"#fb9f3a\"],[0.8888888888888888,\"#fdca26\"],[1.0,\"#f0f921\"]],\"type\":\"surface\"}],\"table\":[{\"cells\":{\"fill\":{\"color\":\"#EBF0F8\"},\"line\":{\"color\":\"white\"}},\"header\":{\"fill\":{\"color\":\"#C8D4E3\"},\"line\":{\"color\":\"white\"}},\"type\":\"table\"}]},\"layout\":{\"annotationdefaults\":{\"arrowcolor\":\"#2a3f5f\",\"arrowhead\":0,\"arrowwidth\":1},\"autotypenumbers\":\"strict\",\"coloraxis\":{\"colorbar\":{\"outlinewidth\":0,\"ticks\":\"\"}},\"colorscale\":{\"diverging\":[[0,\"#8e0152\"],[0.1,\"#c51b7d\"],[0.2,\"#de77ae\"],[0.3,\"#f1b6da\"],[0.4,\"#fde0ef\"],[0.5,\"#f7f7f7\"],[0.6,\"#e6f5d0\"],[0.7,\"#b8e186\"],[0.8,\"#7fbc41\"],[0.9,\"#4d9221\"],[1,\"#276419\"]],\"sequential\":[[0.0,\"#0d0887\"],[0.1111111111111111,\"#46039f\"],[0.2222222222222222,\"#7201a8\"],[0.3333333333333333,\"#9c179e\"],[0.4444444444444444,\"#bd3786\"],[0.5555555555555556,\"#d8576b\"],[0.6666666666666666,\"#ed7953\"],[0.7777777777777778,\"#fb9f3a\"],[0.8888888888888888,\"#fdca26\"],[1.0,\"#f0f921\"]],\"sequentialminus\":[[0.0,\"#0d0887\"],[0.1111111111111111,\"#46039f\"],[0.2222222222222222,\"#7201a8\"],[0.3333333333333333,\"#9c179e\"],[0.4444444444444444,\"#bd3786\"],[0.5555555555555556,\"#d8576b\"],[0.6666666666666666,\"#ed7953\"],[0.7777777777777778,\"#fb9f3a\"],[0.8888888888888888,\"#fdca26\"],[1.0,\"#f0f921\"]]},\"colorway\":[\"#636efa\",\"#EF553B\",\"#00cc96\",\"#ab63fa\",\"#FFA15A\",\"#19d3f3\",\"#FF6692\",\"#B6E880\",\"#FF97FF\",\"#FECB52\"],\"font\":{\"color\":\"#2a3f5f\"},\"geo\":{\"bgcolor\":\"white\",\"lakecolor\":\"white\",\"landcolor\":\"#E5ECF6\",\"showlakes\":true,\"showland\":true,\"subunitcolor\":\"white\"},\"hoverlabel\":{\"align\":\"left\"},\"hovermode\":\"closest\",\"mapbox\":{\"style\":\"light\"},\"paper_bgcolor\":\"white\",\"plot_bgcolor\":\"#E5ECF6\",\"polar\":{\"angularaxis\":{\"gridcolor\":\"white\",\"linecolor\":\"white\",\"ticks\":\"\"},\"bgcolor\":\"#E5ECF6\",\"radialaxis\":{\"gridcolor\":\"white\",\"linecolor\":\"white\",\"ticks\":\"\"}},\"scene\":{\"xaxis\":{\"backgroundcolor\":\"#E5ECF6\",\"gridcolor\":\"white\",\"gridwidth\":2,\"linecolor\":\"white\",\"showbackground\":true,\"ticks\":\"\",\"zerolinecolor\":\"white\"},\"yaxis\":{\"backgroundcolor\":\"#E5ECF6\",\"gridcolor\":\"white\",\"gridwidth\":2,\"linecolor\":\"white\",\"showbackground\":true,\"ticks\":\"\",\"zerolinecolor\":\"white\"},\"zaxis\":{\"backgroundcolor\":\"#E5ECF6\",\"gridcolor\":\"white\",\"gridwidth\":2,\"linecolor\":\"white\",\"showbackground\":true,\"ticks\":\"\",\"zerolinecolor\":\"white\"}},\"shapedefaults\":{\"line\":{\"color\":\"#2a3f5f\"}},\"ternary\":{\"aaxis\":{\"gridcolor\":\"white\",\"linecolor\":\"white\",\"ticks\":\"\"},\"baxis\":{\"gridcolor\":\"white\",\"linecolor\":\"white\",\"ticks\":\"\"},\"bgcolor\":\"#E5ECF6\",\"caxis\":{\"gridcolor\":\"white\",\"linecolor\":\"white\",\"ticks\":\"\"}},\"title\":{\"x\":0.05},\"xaxis\":{\"automargin\":true,\"gridcolor\":\"white\",\"linecolor\":\"white\",\"ticks\":\"\",\"title\":{\"standoff\":15},\"zerolinecolor\":\"white\",\"zerolinewidth\":2},\"yaxis\":{\"automargin\":true,\"gridcolor\":\"white\",\"linecolor\":\"white\",\"ticks\":\"\",\"title\":{\"standoff\":15},\"zerolinecolor\":\"white\",\"zerolinewidth\":2}}},\"title\":{\"font\":{\"color\":\"#4D5663\"},\"text\":\"EMS Calls by Date\"},\"xaxis\":{\"gridcolor\":\"#E1E5ED\",\"showgrid\":true,\"tickfont\":{\"color\":\"#4D5663\"},\"title\":{\"font\":{\"color\":\"#4D5663\"},\"text\":\"Date\"},\"zerolinecolor\":\"#E1E5ED\"},\"yaxis\":{\"gridcolor\":\"#E1E5ED\",\"showgrid\":true,\"tickfont\":{\"color\":\"#4D5663\"},\"title\":{\"font\":{\"color\":\"#4D5663\"},\"text\":\"Count\"},\"zerolinecolor\":\"#E1E5ED\"}},                        {\"showLink\": true, \"linkText\": \"Export to plot.ly\", \"plotlyServerURL\": \"https://plot.ly\", \"responsive\": true}                    ).then(function(){\n",
       "                            \n",
       "var gd = document.getElementById('e524b119-dc62-4e36-a849-9d811bb7d28f');\n",
       "var x = new MutationObserver(function (mutations, observer) {{\n",
       "        var display = window.getComputedStyle(gd).display;\n",
       "        if (!display || display === 'none') {{\n",
       "            console.log([gd, 'removed!']);\n",
       "            Plotly.purge(gd);\n",
       "            observer.disconnect();\n",
       "        }}\n",
       "}});\n",
       "\n",
       "// Listen for the removal of the full notebook cells\n",
       "var notebookContainer = gd.closest('#notebook-container');\n",
       "if (notebookContainer) {{\n",
       "    x.observe(notebookContainer, {childList: true});\n",
       "}}\n",
       "\n",
       "// Listen for the clearing of the current output cell\n",
       "var outputEl = gd.closest('.output');\n",
       "if (outputEl) {{\n",
       "    x.observe(outputEl, {childList: true});\n",
       "}}\n",
       "\n",
       "                        })                };                });            </script>        </div>"
      ]
     },
     "metadata": {},
     "output_type": "display_data"
    }
   ],
   "source": [
    "#Calls by EMS reason\n",
    "calls_by_date_ems = df[df['reason'] == 'EMS'].groupby('date').count()['lat']\n",
    "print(\"EMS Calls by Date:\\n\",calls_by_date_ems)\n",
    "calls_by_date_ems.iplot(title='EMS Calls by Date',\n",
    "                        xTitle='Date', yTitle='Count')\n",
    "#EMS incidents are showing peaks on certain dates not just 23rd Jan 2016\n",
    "#there must be traffic issues on 23rd Jan 2016 not as much as EMS incidents"
   ]
  },
  {
   "cell_type": "code",
   "execution_count": null,
   "metadata": {},
   "outputs": [
    {
     "data": {
      "image/png": "[encoded data removed]",
      "text/plain": [
       "<Figure size 640x480 with 1 Axes>"
      ]
     },
     "metadata": {},
     "output_type": "display_data"
    }
   ],
   "source": [
    "#Lets plot the latitudes and longitudes of the calls for january 23, 2016\n",
    "df[df['date'] == '2016-01-23'][['lat', 'lng']].plot(kind='scatter', x='lng', y='lat')\n",
    "plt.title('911 Calls on January 23, 2016')\n",
    "plt.xlabel('Longitude') \n",
    "plt.ylabel('Latitude')\n",
    "plt.tight_layout()\n",
    "plt.show()\n"
   ]
  },
  {
   "cell_type": "code",
   "execution_count": null,
   "metadata": {},
   "outputs": [
    {
     "data": {
      "application/vnd.plotly.v1+json": {
       "config": {
        "plotlyServerURL": "https://plot.ly"
       },
       "data": [
        {
         "hovertemplate": "lat=%{lat}<br>lng=%{lon}<extra></extra>",
         "lat": [
          40.121497,
          40.129538,
          40.1617404,
          40.1913534,
          40.0876167,
          40.1036125,
          40.12264,
          40.0972222,
          40.0972222,
          40.0782759,
          40.0782759,
          40.0972222,
          40.1681702,
          40.1681702,
          40.3232172,
          40.1120824,
          40.3232172,
          40.1501003,
          40.071386,
          40.1193872,
          40.1193872,
          40.0672961,
          40.0490606,
          40.0254631,
          40.0375675,
          40.0698321,
          40.1153111,
          40.0878981,
          40.1790926,
          40.1153111,
          40.0929049,
          40.2122959,
          40.1163132,
          40.2806101,
          40.3118142,
          40.1247752,
          40.033578,
          40.1364039,
          40.0829813,
          40.1715184,
          39.9844205,
          40.2603879,
          40.1833317,
          40.1336453,
          40.0991848,
          40.1494562,
          40.1364039,
          40.0279994,
          39.9991481,
          40.2353731,
          40.0972222,
          40.2290075,
          40.0614174,
          40.2471241,
          40.1857688,
          39.995439,
          40.2469205,
          40.1370566,
          40.1164676,
          40.1364039,
          40.2122959,
          40.0022955,
          40.2394356,
          40.129521,
          40.1490433,
          40.0715455,
          40.0846057,
          40.113372,
          40.1136924,
          40.1793752,
          40.1793752,
          40.0800158,
          40.0800158,
          40.1182493,
          40.1723141,
          40.2540519,
          40.2563601,
          40.2605317,
          40.0774952,
          40.0774952,
          40.2367422,
          40.1568677,
          40.2290075,
          40.1239384,
          40.130354,
          40.1066644,
          40.119061,
          40.1457373,
          40.1181086,
          40.1004231,
          40.1892793,
          40.2685653,
          40.2323933,
          40.2434353,
          40.0761932,
          40.1901343,
          40.3096342,
          40.3096342,
          40.1002385,
          40.2694794,
          40.186436,
          40.0972222,
          40.0972222,
          40.1266532,
          40.1508958,
          40.127131,
          40.2313546,
          40.105657,
          40.1213879,
          40.1513014,
          40.1848554,
          40.1451648,
          40.0972222,
          40.0972222,
          40.1442234,
          40.010006,
          40.1367163,
          40.130354,
          40.111435,
          40.1867665,
          40.2442013,
          40.2511067,
          40.0754961,
          40.115692,
          40.0762963,
          40.2290075,
          40.2290075,
          40.1913788,
          40.2539536,
          40.111435,
          40.0762963,
          40.1621502,
          40.0762963,
          40.1867665,
          40.2290075,
          40.1330371,
          40.1598433,
          40.1829511,
          40.083589,
          40.1464006,
          40.1464006,
          40.171473,
          40.2291921,
          40.206392,
          40.189531,
          40.176204,
          40.0698321,
          40.1234522,
          40.222489,
          40.1366029,
          40.1704848,
          40.1143861,
          40.2849118,
          40.1928288,
          40.2308504,
          40.1400898,
          40.1511988,
          40.2643269,
          40.1511988,
          40.2864378,
          40.2643269,
          40.0415248,
          39.993011,
          40.1444087,
          40.1761025,
          40.0698321,
          40.2076023,
          40.1366029,
          40.2849118,
          40.129223,
          40.1723141,
          40.1238069,
          40.2644743,
          40.2644743,
          40.3016377,
          40.2662707,
          40.1761025,
          40.0760631,
          40.1463007,
          40.0917361,
          40.072065,
          40.067533,
          40.222489,
          40.0008782,
          40.00868,
          40.1224741,
          40.2233585,
          40.144953,
          40.1925336,
          40.1004231,
          40.2473287,
          40.1004231,
          40.0809133,
          40.2664704,
          40.0923521,
          40.0738876,
          40.0746954,
          40.2574668,
          40.149741,
          40.2655501,
          40.1139096,
          40.1537535,
          40.1783009,
          40.2644743,
          40.3363776,
          40.1723141,
          40.2630565,
          40.2649681,
          40.066937,
          40.1757112,
          40.2133461,
          40.2776519,
          40.1685378,
          40.259852,
          40.3479697,
          40.1723141,
          40.1118752,
          40.1363661,
          40.0092598,
          40.2384788,
          40.0249667,
          40.2574281,
          40.1417319,
          40.2637345,
          40.1363661,
          40.0731227,
          40.0949634,
          40.2484237,
          40.2644844,
          40.2113626,
          40.1583249,
          40.168211,
          40.1600044,
          40.2147671,
          40.1198332,
          40.2571357,
          40.1563852,
          40.1144158,
          39.9991037,
          40.1049161,
          40.1483375,
          40.1449757,
          40.2274312,
          40.2883557,
          40.122828,
          40.2859406,
          40.2585502,
          40.1240295,
          40.2652643,
          40.2530015,
          40.2290075,
          40.1855167,
          40.1024241,
          40.2290075,
          40.2510757,
          40.0909805,
          40.2101703,
          40.2510757,
          39.9956287,
          40.172407,
          40.0819503,
          40.1660423,
          40.253638,
          40.1325208,
          40.1300998,
          40.1785498,
          40.1886977,
          40.1886977,
          40.1485628,
          40.0972222,
          40.0972222,
          40.1300998,
          39.990677,
          40.3091078,
          40.1503338,
          40.2394356,
          40.2536697,
          40.1294478,
          40.0530265,
          40.1485628,
          40.0049697,
          40.2843338,
          40.2422576,
          40.2290075,
          40.0218815,
          40.0972222,
          40.252089,
          40.089029,
          40.2552707,
          40.2552707,
          40.2115508,
          40.2843338,
          40.3207335,
          40.2109404,
          40.2528819,
          40.0875677,
          40.2328443,
          40.2328443,
          40.1430391,
          40.0073462,
          40.1192546,
          40.3077588,
          40.2411098,
          40.3173211,
          40.2605317,
          40.2410527,
          40.0978732,
          40.1195583,
          40.1653934,
          40.0089595,
          40.1274625,
          40.1784422,
          40.1784422,
          40.2252404,
          39.9866944,
          40.2309343,
          40.121497,
          40.1211857,
          40.2157491,
          40.2459704,
          40.1784422,
          40.2459704,
          40.0971212,
          40.1807822,
          40.1873139,
          40.0930758,
          40.232727,
          40.2020634,
          40.1566208,
          40.2374907,
          40.1047525,
          40.1566208,
          40.0848436,
          40.1793752,
          40.089973,
          40.1433257,
          40.1855167,
          40.2894124,
          40.1221773,
          40.2894124,
          40.128482,
          40.1370469,
          40.0812601,
          40.1653934,
          40.1118752,
          40.1653934,
          40.0249667,
          40.1653564,
          40.1169103,
          40.1318786,
          40.2470749,
          40.0961719,
          40.0949358,
          40.1318786,
          40.2694794,
          40.2694794,
          40.0988044,
          40.1784422,
          40.081794,
          40.1198332,
          40.128482,
          40.1170929,
          40.0068112,
          40.2354089,
          40.1641285,
          40.2351093,
          40.1211857,
          40.1601724,
          40.207694,
          40.2576508,
          40.1601724,
          40.207694,
          40.2476756,
          40.2105169,
          40.1957631,
          40.0854888,
          40.0214341,
          40.2095201,
          40.2095201,
          40.1477448,
          40.2131422,
          40.2334153,
          40.3278047,
          40.3278047,
          40.217039,
          40.2412769,
          40.1431269,
          40.1040774,
          40.1040774,
          40.1050577,
          40.1178535,
          40.1051084,
          40.2511041,
          40.2319919,
          40.1617404,
          40.0699737,
          40.2351093,
          40.2294901,
          40.1508958,
          40.2070553,
          40.0870977,
          40.2994905,
          40.2442402,
          40.1957631,
          40.2290075,
          40.0823019,
          40.2470749,
          40.125059,
          40.1924225,
          40.1924225,
          40.180467,
          40.0754961,
          40.0754961,
          40.2358106,
          40.2459704,
          40.2095201,
          40.1596629,
          40.2309343,
          39.9866944,
          40.1755341,
          40.1437087,
          40.2023975,
          40.2969919,
          40.2566279,
          40.2566279,
          40.2572826,
          40.2572826,
          40.1057,
          40.1053039,
          40.1566208,
          40.1022274,
          40.2943565,
          39.9866944,
          40.2943565,
          40.232727,
          40.2978759,
          40.2978759,
          40.2586444,
          40.2690613,
          40.1988084,
          40.2774679,
          40.1723141,
          40.1566208,
          40.1040774,
          40.1040774,
          40.1759563,
          40.1635044,
          40.2605355,
          40.2413204,
          40.08205,
          40.1805757,
          40.2445036,
          40.1316807,
          40.1163352,
          40.0258806,
          40.1326363,
          40.1389911,
          40.3400721,
          40.1475414,
          40.1452231,
          40.1042412,
          40.2492382,
          40.1098306,
          40.102004,
          40.1670212,
          40.1822908,
          40.0760631,
          40.1821003,
          40.0054256,
          40.1680491,
          40.1680491,
          40.2509971,
          40.1556129,
          40.1016257,
          40.092636,
          40.1195583,
          40.2452499,
          40.2527138,
          40.1665145,
          40.1361694,
          40.1353474,
          40.2916205,
          40.2916205,
          40.256448,
          40.2307426,
          40.2574281,
          40.2213289,
          40.1475414,
          40.2088428,
          40.1989921,
          40.0583675,
          40.1346357,
          40.1353474,
          40.2281549,
          40.1242047,
          40.1989921,
          40.1153655,
          40.1325208,
          40.0972222,
          40.0972222,
          40.1626231,
          40.1606096,
          40.1626231,
          40.1040774,
          40.1040774,
          40.2910476,
          40.1452388,
          40.1687171,
          40.2492382,
          40.1993611,
          40.1357247,
          40.0886837,
          40.139849,
          40.2529375,
          40.070183,
          40.0956518,
          40.1007482,
          40.086567,
          40.1295515,
          40.2799028,
          40.166666,
          40.2444238,
          40.1007482,
          40.070183,
          40.2513703,
          40.0972222,
          40.2529375,
          40.0972222,
          40.0007087,
          40.2121679,
          40.1868393,
          40.3648628,
          40.1458295,
          40.1242047,
          40.1518132,
          40.1518132,
          40.2476052,
          40.1867529,
          40.1452231,
          40.1414199,
          40.1793752,
          40.3110388,
          40.2053096,
          40.2452499,
          40.2750651,
          40.1130986,
          40.2449296,
          40.083246,
          40.2358106,
          40.1482838,
          40.2750651,
          40.3377933,
          40.2978759,
          40.111435,
          40.1198332,
          40.1198332,
          40.0111973,
          40.3403008,
          40.2358106,
          40.2296013,
          40.0972222,
          40.1517741,
          40.0972222,
          40.1472239,
          40.0238641,
          40.0222096,
          40.1198332,
          40.1805757,
          40.0252735,
          40.1445255,
          40.1514671,
          40.1166906,
          40.0252735,
          40.128223,
          40.128223,
          40.0249667,
          40.1846553,
          40.1378264,
          40.0037284,
          40.0752896,
          40.0051853,
          40.1297673,
          40.1788598,
          40.1346357,
          40.0921788,
          40.3400721,
          40.1821038,
          40.1297673,
          40.1208069,
          40.1208069,
          40.222489,
          40.2309343,
          40.256249,
          40.1846553,
          40.3377933,
          40.1198332,
          40.2288917,
          40.274455,
          40.2978759,
          40.2526719,
          40.1425995,
          40.1552341,
          40.1505083,
          40.0239486,
          40.2213289,
          40.073014,
          40.2489269,
          40.1102914,
          40.1550603,
          40.1022274,
          40.1609874,
          40.1137107,
          40.1580254,
          40.1821038,
          40.1609874,
          40.2489269,
          40.1263076,
          40.1112565,
          40.155987,
          40.0212729,
          40.2526719,
          40.180288,
          40.1286494,
          40.256213,
          40.1587484,
          40.1666116,
          40.1165258,
          40.1214175,
          40.0926859,
          40.3039829,
          40.2449582,
          40.0070074,
          40.2449582,
          40.3039829,
          40.1596629,
          40.1857365,
          40.1648791,
          40.2476169,
          40.0985313,
          40.1992724,
          40.1566208,
          40.0070074,
          40.1620494,
          40.117605,
          40.2574281,
          40.2394356,
          40.1300506,
          40.0972222,
          40.0972222,
          40.2031133,
          40.2165609,
          40.0698321,
          40.1328695,
          40.1287222,
          40.1805757,
          40.2100258,
          40.2697532,
          40.2391632,
          40.2391632,
          40.2430067,
          40.0367806,
          40.0728313,
          40.3846582,
          40.2411423,
          40.1390461,
          40.0969036,
          40.0906668,
          40.2885119,
          40.0001687,
          40.1156913,
          40.2540352,
          40.0915536,
          40.2268517,
          40.1434113,
          40.2427395,
          40.2961048,
          40.1463007,
          40.1237694,
          40.2476632,
          40.1295515,
          40.1325208,
          40.2447967,
          40.18499,
          40.1824507,
          40.1216904,
          40.1414828,
          40.0972222,
          40.0972222,
          40.0972222,
          40.0584387,
          40.1451088,
          40.0982946,
          40.2331206,
          40.2172151,
          40.1613994,
          40.1372479,
          40.2290075,
          40.2213289,
          40.1856597,
          40.1816167,
          40.1856597,
          40.0901928,
          40.1816167,
          40.1158257,
          40.129398,
          40.2459704,
          40.1068386,
          40.1143861,
          40.2881198,
          40.2122959,
          40.1017205,
          40.1245477,
          40.2310256,
          39.99393,
          40.222882,
          40.0972222,
          40.1216904,
          40.1451088,
          40.0972222,
          40.3331487,
          39.9846647,
          40.1405049,
          40.1363661,
          40.2525792,
          40.2466476,
          40.2140243,
          40.0873427,
          40.2140243,
          40.1140871,
          40.113254,
          40.3816976,
          40.3816976,
          40.1402757,
          40.113254,
          40.3547459,
          40.1435722,
          40.1285891,
          40.1873139,
          40.1363661,
          40.1285891,
          40.1363661,
          40.2583796,
          40.4367534,
          40.0873427,
          40.2617844,
          40.1847975,
          40.2617844,
          40.1216904,
          40.1785195,
          40.1676037,
          40.2451166,
          40.077425,
          40.2892706,
          40.2892706,
          40.2693757,
          40.2693757,
          40.2583796,
          40.105657,
          40.0811951,
          40.2890267,
          40.2890267,
          40.1477448,
          40.2470021,
          40.0803951,
          40.1192546,
          40.1140871,
          40.0809133,
          40.3063655,
          40.1220852,
          40.1220852,
          40.1169617,
          40.2415348,
          40.1140871,
          40.1465615,
          40.1538717,
          40.0687419,
          40.1203219,
          40.1216904,
          40.2750408,
          40.190053,
          40.1590918,
          40.075306,
          40.1048104,
          40.174204,
          40.1282883,
          40.1765338,
          40.2345091,
          40.1546507,
          40.2594148,
          40.1015898,
          40.114404,
          40.1492857,
          40.2649886,
          40.1914251,
          40.2537958,
          40.1318786,
          40.1287009,
          40.1163715,
          40.1143861,
          40.1423881,
          40.1287009,
          40.2580665,
          40.1046666,
          40.0032856,
          40.2389857,
          40.1803086,
          40.1797712,
          40.0336492,
          40.1163715,
          40.2598808,
          40.0939327,
          40.1346887,
          40.1335723,
          40.1953359,
          40.0429364,
          40.2535265,
          40.2154142,
          40.1231771,
          40.149132,
          40.2332127,
          40.149132,
          40.1249437,
          40.2337131,
          40.1346887,
          40.3364322,
          40.1128929,
          40.0871206,
          40.1558981,
          40.1908071,
          40.1406088,
          40.1784422,
          40.092636,
          40.2779468,
          40.1400408,
          40.2486503,
          40.1104723,
          40.2711177,
          40.1511988,
          40.1538717,
          40.1689616,
          40.1602281,
          40.0972222,
          40.1022274,
          40.2711177,
          40.2572826,
          40.1122924,
          40.113372,
          40.1337714,
          40.1290004,
          40.2607838,
          40.0788783,
          40.0788783,
          40.1873139,
          40.2086528,
          40.2428706,
          40.2572826,
          40.0878981,
          40.1378264,
          40.2336286,
          40.1074003,
          40.0917167,
          40.2231291,
          40.1193291,
          40.3072448,
          40.3072448,
          40.1545535,
          40.0903967,
          40.2369964,
          40.2403629,
          40.1193291,
          40.0921365,
          40.2414863,
          40.0926859,
          40.1553689,
          40.2290075,
          40.0434234,
          40.2414863,
          40.2215922,
          40.1624365,
          40.1048104,
          40.1844955,
          40.1776075,
          40.2498948,
          40.2498948,
          40.2369964,
          40.1016257,
          40.2516828,
          40.2528311,
          40.1082672,
          40.1082672,
          40.1723141,
          40.1082672,
          40.0803951,
          40.0110155,
          40.0110155,
          40.1134184,
          40.1481619,
          40.1757211,
          40.1393938,
          40.1762989,
          40.2270387,
          40.1161351,
          40.0698321,
          40.1328621,
          40.127514,
          40.127514,
          40.0655201,
          40.2324472,
          40.2458659,
          40.0022955,
          40.0022955,
          40.1214175,
          40.2404265
         ],
         "legendgroup": "",
         "lon": [
          -75.3399048,
          -75.3246363,
          -75.1238208,
          -75.4548472,
          -75.2619607,
          -75.1255003,
          -75.3901126,
          -75.3761952,
          -75.3761952,
          -75.2498518,
          -75.2498518,
          -75.3761952,
          -75.2210094,
          -75.2210094,
          -75.3571303,
          -75.3298582,
          -75.3571303,
          -75.3974394,
          -75.133738,
          -75.391923,
          -75.391923,
          -75.31866,
          -75.3367685,
          -75.3148342,
          -75.2539423,
          -75.3162951,
          -75.1761487,
          -75.2629699,
          -75.1830602,
          -75.1761487,
          -75.2617156,
          -75.5445674,
          -75.3279105,
          -75.2924128,
          -75.3153816,
          -75.2931878,
          -75.2670955,
          -75.1593945,
          -75.2063031,
          -75.528502,
          -75.2792854,
          -75.4648555,
          -75.542291,
          -75.1575214,
          -75.1680179,
          -75.1813163,
          -75.1593945,
          -75.3122906,
          -75.2308974,
          -75.2247509,
          -75.3761952,
          -75.3878525,
          -75.1238771,
          -75.6455851,
          -75.5425927,
          -75.238908,
          -75.6876821,
          -75.1213913,
          -75.1379964,
          -75.1593945,
          -75.5445674,
          -75.2385895,
          -75.2362381,
          -75.11677,
          -75.3560769,
          -75.3165672,
          -75.2032207,
          -75.3413966,
          -75.3336847,
          -75.2362381,
          -75.2362381,
          -75.2988095,
          -75.2988095,
          -75.0553954,
          -75.4927278,
          -75.5845613,
          -75.6400219,
          -75.3995089,
          -75.3620325,
          -75.3620325,
          -75.326613,
          -75.222891,
          -75.3878525,
          -75.3286873,
          -75.4068501,
          -75.1083474,
          -75.353854,
          -75.0524556,
          -75.3357946,
          -75.2070644,
          -75.3688342,
          -75.6244597,
          -75.555117,
          -75.6211784,
          -75.1496152,
          -75.1702188,
          -75.3157512,
          -75.3157512,
          -75.1521518,
          -75.3311661,
          -75.1198283,
          -75.3761952,
          -75.3761952,
          -75.074781,
          -75.1274376,
          -75.3501839,
          -75.632964,
          -75.344377,
          -75.0726703,
          -75.1110384,
          -75.1043323,
          -75.3935796,
          -75.3761952,
          -75.3761952,
          -75.252924,
          -75.29509,
          -75.1661474,
          -75.4068501,
          -75.0759539,
          -75.1711685,
          -75.582403,
          -75.6484443,
          -75.1503016,
          -75.347573,
          -75.2472545,
          -75.3878525,
          -75.3878525,
          -75.3310159,
          -75.4254533,
          -75.0759539,
          -75.2472545,
          -75.1237556,
          -75.2472545,
          -75.1711685,
          -75.3878525,
          -75.4084631,
          -75.1118215,
          -75.1160776,
          -75.2544698,
          -75.3550755,
          -75.3550755,
          -75.1278731,
          -75.2821657,
          -75.139851,
          -75.103344,
          -75.128116,
          -75.3162951,
          -75.350889,
          -75.2667775,
          -75.1090388,
          -75.0883465,
          -75.169668,
          -75.337397,
          -75.1346684,
          -75.2976496,
          -75.1082735,
          -75.3979909,
          -75.5343072,
          -75.3979909,
          -75.2637619,
          -75.5343072,
          -75.260974,
          -75.2783818,
          -75.4006245,
          -75.458245,
          -75.3162951,
          -75.3359587,
          -75.1090388,
          -75.337397,
          -75.0249003,
          -75.4927278,
          -75.3344628,
          -75.4860635,
          -75.4860635,
          -75.3522959,
          -75.6356034,
          -75.458245,
          -75.1233062,
          -75.0600812,
          -75.2875958,
          -75.12652,
          -75.146564,
          -75.2667775,
          -75.2753565,
          -75.2107603,
          -75.3586461,
          -75.2659048,
          -75.11675,
          -75.1529228,
          -75.2070644,
          -75.6472085,
          -75.2070644,
          -75.2026651,
          -75.6414531,
          -75.1255257,
          -75.3062628,
          -75.3054689,
          -75.615321,
          -75.114669,
          -75.6073749,
          -75.3356171,
          -75.1216041,
          -75.1790833,
          -75.4860635,
          -75.4732317,
          -75.4927278,
          -75.6099803,
          -75.6080139,
          -75.093341,
          -75.5312636,
          -75.4403583,
          -75.6466533,
          -75.4982005,
          -75.6060066,
          -75.5420764,
          -75.4927278,
          -75.2850076,
          -75.5010489,
          -75.2869257,
          -75.2297196,
          -75.2829046,
          -75.2141491,
          -75.3126075,
          -75.2465756,
          -75.5010489,
          -75.1273055,
          -75.3522473,
          -75.6864058,
          -75.6492695,
          -75.2599481,
          -75.1156789,
          -75.35047,
          -77.686813,
          -75.2741084,
          -75.1253492,
          -75.2396929,
          -75.1124763,
          -75.418554,
          -75.2375615,
          -75.1249119,
          -75.0977475,
          -75.195725,
          -75.2958728,
          -75.3785374,
          -75.117202,
          -75.6382657,
          -75.599422,
          -75.3136104,
          -75.6497679,
          -75.6824957,
          -75.3878525,
          -75.2277666,
          -75.0912968,
          -75.3878525,
          -75.6535248,
          -75.2589524,
          -75.2174953,
          -75.6535248,
          -75.2640678,
          -75.378256,
          -75.1717099,
          -75.0867478,
          -75.6819588,
          -75.1526926,
          -75.0548315,
          -75.2663056,
          -75.4407307,
          -75.4407307,
          -75.1425161,
          -75.3761952,
          -75.3761952,
          -75.0548315,
          -75.280901,
          -75.3113373,
          -75.1413287,
          -75.2362381,
          -75.649227,
          -75.3120097,
          -75.112439,
          -75.1425161,
          -75.2455193,
          -75.6357293,
          -75.4727764,
          -75.3878525,
          -75.319176,
          -75.3761952,
          -75.6236351,
          -75.358512,
          -75.3407218,
          -75.3407218,
          -75.2681885,
          -75.6357293,
          -75.5964283,
          -75.2782317,
          -75.2534245,
          -75.4055591,
          -75.2187676,
          -75.2187676,
          -75.0966987,
          -75.2818436,
          -75.2362381,
          -75.3220827,
          -75.5285367,
          -75.5980778,
          -75.3995089,
          -75.2688808,
          -75.2594139,
          -75.3470376,
          -75.2829046,
          -75.2904232,
          -75.3695856,
          -75.1285061,
          -75.1285061,
          -75.2696446,
          -75.2569627,
          -75.5221245,
          -75.3399048,
          -75.3416914,
          -75.5454891,
          -75.652817,
          -75.1285061,
          -75.652817,
          -75.1132779,
          -75.4289877,
          -75.1846099,
          -75.1619148,
          -75.5272978,
          -75.5125452,
          -75.4113257,
          -75.2886834,
          -75.0889416,
          -75.4113257,
          -75.0935116,
          -75.2362381,
          -75.1410849,
          -75.422819,
          -75.2277666,
          -75.636541,
          -75.4047554,
          -75.636541,
          -75.346848,
          -75.3171588,
          -75.1370254,
          -75.2829046,
          -75.2850076,
          -75.2829046,
          -75.2829046,
          -75.2187019,
          -75.355377,
          -75.3660508,
          -75.3054358,
          -75.296142,
          -75.3617596,
          -75.3660508,
          -75.3311661,
          -75.3311661,
          -75.212824,
          -75.1285061,
          -75.1163974,
          -75.1253492,
          -75.346848,
          -75.3463087,
          -75.2929334,
          -75.2401008,
          -75.476484,
          -75.2400449,
          -75.3416914,
          -75.4011933,
          -75.2758769,
          -75.6622418,
          -75.4011933,
          -75.2758769,
          -75.6820255,
          -75.664821,
          -75.1583518,
          -75.1250203,
          -75.3159372,
          -75.5051759,
          -75.5051759,
          -75.3538543,
          -75.2786115,
          -75.6540215,
          -75.5580235,
          -75.5580235,
          -75.2289634,
          -75.3024172,
          -75.2075824,
          -75.4220931,
          -75.4220931,
          -75.3472265,
          -75.3548065,
          -75.3451838,
          -75.6510537,
          -75.5247242,
          -75.1238208,
          -75.1107191,
          -75.2400449,
          -75.314377,
          -75.1274376,
          -75.3179522,
          -75.1278274,
          -75.585159,
          -75.6277451,
          -75.1583518,
          -75.3878525,
          -75.0870676,
          -75.3054358,
          -75.0678664,
          -75.4728297,
          -75.4728297,
          -75.130527,
          -75.1503016,
          -75.1503016,
          -75.6248657,
          -75.652817,
          -75.5051759,
          -75.4082221,
          -75.5221245,
          -75.2569627,
          -75.2028952,
          -75.4973729,
          -75.4069427,
          -75.3323498,
          -75.2612699,
          -75.2612699,
          -75.6006575,
          -75.6006575,
          -75.1816867,
          -75.1440235,
          -75.4113257,
          -75.3915443,
          -75.3885413,
          -75.2569627,
          -75.3885413,
          -75.5272978,
          -75.5812935,
          -75.5812935,
          -75.2651996,
          -75.69959,
          -75.5065441,
          -75.2604622,
          -75.4927278,
          -75.4113257,
          -75.4220931,
          -75.4220931,
          -75.4359812,
          -75.1154977,
          -75.3666079,
          -75.2428276,
          -75.2512022,
          -75.1333253,
          -75.2808201,
          -75.3898062,
          -75.1450415,
          -75.2332649,
          -75.378327,
          -75.2442522,
          -75.5917092,
          -75.327944,
          -75.3186843,
          -75.2624006,
          -75.6546633,
          -75.2433906,
          -75.1502697,
          -75.2902532,
          -75.1628084,
          -75.1233062,
          -75.2177447,
          -75.2400436,
          -75.4491412,
          -75.4491412,
          -75.3333998,
          -75.2248385,
          -75.1525702,
          -75.361325,
          -75.3470376,
          -75.1968952,
          -75.6521727,
          -75.4721505,
          -75.1479849,
          -75.3638196,
          -75.5703268,
          -75.5703268,
          -75.667244,
          -75.5078129,
          -75.2141491,
          -75.294496,
          -75.327944,
          -75.2142054,
          -75.4762927,
          -75.1218811,
          -75.2135784,
          -75.3638196,
          -75.5330076,
          -75.3521328,
          -75.4762927,
          -75.1169975,
          -75.1526926,
          -75.3761952,
          -75.3761952,
          -75.4134177,
          -75.1794303,
          -75.4134177,
          -75.4220931,
          -75.4220931,
          -75.6439513,
          -75.1122687,
          -75.1444611,
          -75.6546633,
          -75.1715752,
          -75.1600335,
          -75.2917999,
          -75.165148,
          -75.6436098,
          -75.098695,
          -75.244877,
          -75.2151078,
          -75.166432,
          -75.3785172,
          -75.3504209,
          -75.2321997,
          -75.6478337,
          -75.2151078,
          -75.098695,
          -75.4657098,
          -75.3761952,
          -75.6436098,
          -75.3761952,
          -75.2749635,
          -75.1859089,
          -75.1540666,
          -75.5925381,
          -75.3265207,
          -75.3521328,
          -75.0557591,
          -75.0557591,
          -75.4578796,
          -75.1433734,
          -75.3186843,
          -75.3945363,
          -75.2362381,
          -75.3236929,
          -75.17441,
          -75.1968952,
          -75.4593382,
          -75.1544583,
          -75.5970443,
          -75.127689,
          -75.6248657,
          -75.0591681,
          -75.4593382,
          -75.5489713,
          -75.5812935,
          -75.0759539,
          -75.1253492,
          -75.1253492,
          -75.2976091,
          -75.5712826,
          -75.6248657,
          -75.2558548,
          -75.3761952,
          -75.3365695,
          -75.3761952,
          -75.3271471,
          -75.3142199,
          -75.2768064,
          -75.1253492,
          -75.1333253,
          -75.3082958,
          -75.1160469,
          -75.1176975,
          -75.3244025,
          -75.3082958,
          -75.432117,
          -75.432117,
          -75.2829046,
          -75.1491057,
          -75.2123089,
          -75.2870945,
          -75.3113571,
          -75.2879272,
          -75.3572348,
          -75.134576,
          -75.2135784,
          -75.3609945,
          -75.5917092,
          -75.1491699,
          -75.3572348,
          -75.3308999,
          -75.3308999,
          -75.2667775,
          -75.5221245,
          -75.2153057,
          -75.1491057,
          -75.5489713,
          -75.1253492,
          -75.2367048,
          -75.4545829,
          -75.5812935,
          -75.6757448,
          -75.0471582,
          -75.0685602,
          -75.28311,
          -75.3233966,
          -75.294496,
          -75.131626,
          -75.6404302,
          -75.2440825,
          -75.1022513,
          -75.3915443,
          -75.3488294,
          -75.1594438,
          -75.2992999,
          -75.1491699,
          -75.3488294,
          -75.6404302,
          -75.118768,
          -75.3809259,
          -75.122054,
          -75.3178979,
          -75.6757448,
          -75.1187955,
          -75.3313296,
          -75.4637876,
          -75.341934,
          -75.0678298,
          -75.3405524,
          -75.3345939,
          -75.1371067,
          -75.3184914,
          -75.4495597,
          -75.2535996,
          -75.4495597,
          -75.3184914,
          -75.4082221,
          -75.1417291,
          -75.4482428,
          -75.6415844,
          -75.3003538,
          -75.1186243,
          -75.4113257,
          -75.2535996,
          -75.3198575,
          -75.120243,
          -75.2141491,
          -75.2362381,
          -75.2802639,
          -75.3761952,
          -75.3761952,
          -75.2242714,
          -75.2922808,
          -75.3162951,
          -75.3335153,
          -75.2780173,
          -75.1333253,
          -75.1823507,
          -75.3794836,
          -75.3045683,
          -75.3045683,
          -75.4670834,
          -75.3023619,
          -75.3058758,
          -75.5710108,
          -75.2840637,
          -75.1450176,
          -75.0918213,
          -75.2196631,
          -75.5766543,
          -75.2623318,
          -75.3451747,
          -75.5719853,
          -75.1875184,
          -75.5316722,
          -75.4074847,
          -75.217067,
          -75.3854929,
          -75.0600812,
          -75.3573579,
          -75.6764465,
          -75.3785172,
          -75.1526926,
          -75.3957902,
          -75.43476,
          -75.1317333,
          -75.3644004,
          -75.117142,
          -75.3761952,
          -75.3761952,
          -75.3761952,
          -75.1016078,
          -75.138816,
          -75.375152,
          -75.2260846,
          -75.4716173,
          -75.4070711,
          -75.1365066,
          -75.3878525,
          -75.294496,
          -75.451571,
          -75.2312638,
          -75.451571,
          -75.0940004,
          -75.2312638,
          -75.3071398,
          -75.3322134,
          -75.652817,
          -75.1238039,
          -75.169668,
          -75.639508,
          -75.5445674,
          -75.1390376,
          -75.3487262,
          -75.5221306,
          -75.284888,
          -75.3987889,
          -75.3761952,
          -75.3644004,
          -75.138816,
          -75.3761952,
          -75.6379471,
          -75.2719626,
          -75.3108737,
          -75.5010489,
          -75.5709077,
          -75.6417829,
          -75.4610727,
          -75.1396861,
          -75.4610727,
          -75.3382695,
          -75.336043,
          -75.4829256,
          -75.4829256,
          -75.5012726,
          -75.336043,
          -75.4762918,
          -75.1347754,
          -75.3157664,
          -75.1846099,
          -75.5010489,
          -75.3157664,
          -75.5010489,
          -75.6288533,
          -75.5264624,
          -75.1396861,
          -75.2611098,
          -75.286879,
          -75.2611098,
          -75.3644004,
          -75.3707976,
          -75.0895191,
          -75.6460071,
          -75.3939014,
          -75.6345399,
          -75.6345399,
          -75.38437,
          -75.38437,
          -75.6288533,
          -75.344377,
          -75.1332615,
          -75.3995896,
          -75.3995896,
          -75.3538543,
          -75.6525972,
          -75.1344416,
          -75.2362381,
          -75.3382695,
          -75.2026651,
          -75.4238445,
          -75.3810988,
          -75.3810988,
          -75.1472731,
          -75.2836785,
          -75.3382695,
          -75.1745292,
          -75.3548757,
          -75.1023695,
          -75.3569373,
          -75.3644004,
          -75.476455,
          -75.1030392,
          -75.30946,
          -75.3086424,
          -75.3349789,
          -75.128195,
          -75.3225266,
          -75.2852759,
          -75.2337327,
          -75.1027077,
          -75.3246196,
          -75.3981855,
          -75.12176,
          -75.213961,
          -75.2452386,
          -75.1755456,
          -75.5883229,
          -75.3660508,
          -75.3392923,
          -75.3238406,
          -75.169668,
          -75.112976,
          -75.3392923,
          -75.6321575,
          -75.3332221,
          -75.2281053,
          -75.2793659,
          -75.451949,
          -75.1302136,
          -75.2727566,
          -75.3238406,
          -75.6064751,
          -75.1279154,
          -75.1495806,
          -75.4515182,
          -75.2197692,
          -75.3065302,
          -75.651502,
          -75.4242865,
          -75.3337165,
          -75.2199045,
          -75.2314028,
          -75.2199045,
          -75.0416005,
          -75.4636031,
          -75.1495806,
          -75.6346987,
          -75.2711795,
          -75.0937403,
          -75.1219183,
          -75.1690635,
          -75.030502,
          -75.1285061,
          -75.361325,
          -75.5943081,
          -75.0294612,
          -75.2382969,
          -75.3360546,
          -75.3580083,
          -75.3979909,
          -75.3548757,
          -75.1305438,
          -75.1887569,
          -75.3761952,
          -75.3915443,
          -75.3580083,
          -75.6006575,
          -75.1260413,
          -75.3413966,
          -75.2055002,
          -75.3416729,
          -75.6294118,
          -75.292351,
          -75.292351,
          -75.1846099,
          -75.2703696,
          -75.6328364,
          -75.6006575,
          -75.2629699,
          -75.2123089,
          -75.6684212,
          -75.113206,
          -75.3722775,
          -75.5391928,
          -75.3428575,
          -75.5631399,
          -75.5631399,
          -75.2215651,
          -75.3957327,
          -75.5432342,
          -75.2325979,
          -75.3428575,
          -75.1620346,
          -75.5327685,
          -75.1371067,
          -75.1243525,
          -75.3878525,
          -75.3288689,
          -75.5327685,
          -75.5111464,
          -75.3583044,
          -75.3349789,
          -75.5153242,
          -75.1283564,
          -75.2509907,
          -75.2509907,
          -75.5432342,
          -75.1525702,
          -75.2511448,
          -75.6550757,
          -75.3062326,
          -75.3062326,
          -75.4927278,
          -75.3062326,
          -75.1344416,
          -75.2972504,
          -75.2972504,
          -75.1702092,
          -75.1154833,
          -75.0846612,
          -75.0488604,
          -75.0855669,
          -75.5351666,
          -75.3342572,
          -75.3162951,
          -75.1309896,
          -75.3329731,
          -75.3329731,
          -75.1430752,
          -75.640354,
          -75.6475425,
          -75.2385895,
          -75.2385895,
          -75.3345939,
          -75.281824
         ],
         "marker": {
          "color": "#636efa"
         },
         "mode": "markers",
         "name": "",
         "showlegend": false,
         "subplot": "mapbox",
         "type": "scattermapbox"
        }
       ],
       "layout": {
        "height": 300,
        "legend": {
         "tracegroupgap": 0
        },
        "mapbox": {
         "center": {
          "lat": 40.16483814928806,
          "lon": -75.3277892067908
         },
         "domain": {
          "x": [
           0,
           1
          ],
          "y": [
           0,
           1
          ]
         },
         "style": "open-street-map",
         "zoom": 6
        },
        "margin": {
         "b": 0,
         "l": 0,
         "r": 0,
         "t": 0
        },
        "template": {
         "data": {
          "bar": [
           {
            "error_x": {
             "color": "#2a3f5f"
            },
            "error_y": {
             "color": "#2a3f5f"
            },
            "marker": {
             "line": {
              "color": "#E5ECF6",
              "width": 0.5
             },
             "pattern": {
              "fillmode": "overlay",
              "size": 10,
              "solidity": 0.2
             }
            },
            "type": "bar"
           }
          ],
          "barpolar": [
           {
            "marker": {
             "line": {
              "color": "#E5ECF6",
              "width": 0.5
             },
             "pattern": {
              "fillmode": "overlay",
              "size": 10,
              "solidity": 0.2
             }
            },
            "type": "barpolar"
           }
          ],
          "carpet": [
           {
            "aaxis": {
             "endlinecolor": "#2a3f5f",
             "gridcolor": "white",
             "linecolor": "white",
             "minorgridcolor": "white",
             "startlinecolor": "#2a3f5f"
            },
            "baxis": {
             "endlinecolor": "#2a3f5f",
             "gridcolor": "white",
             "linecolor": "white",
             "minorgridcolor": "white",
             "startlinecolor": "#2a3f5f"
            },
            "type": "carpet"
           }
          ],
          "choropleth": [
           {
            "colorbar": {
             "outlinewidth": 0,
             "ticks": ""
            },
            "type": "choropleth"
           }
          ],
          "contour": [
           {
            "colorbar": {
             "outlinewidth": 0,
             "ticks": ""
            },
            "colorscale": [
             [
              0,
              "#0d0887"
             ],
             [
              0.1111111111111111,
              "#46039f"
             ],
             [
              0.2222222222222222,
              "#7201a8"
             ],
             [
              0.3333333333333333,
              "#9c179e"
             ],
             [
              0.4444444444444444,
              "#bd3786"
             ],
             [
              0.5555555555555556,
              "#d8576b"
             ],
             [
              0.6666666666666666,
              "#ed7953"
             ],
             [
              0.7777777777777778,
              "#fb9f3a"
             ],
             [
              0.8888888888888888,
              "#fdca26"
             ],
             [
              1,
              "#f0f921"
             ]
            ],
            "type": "contour"
           }
          ],
          "contourcarpet": [
           {
            "colorbar": {
             "outlinewidth": 0,
             "ticks": ""
            },
            "type": "contourcarpet"
           }
          ],
          "heatmap": [
           {
            "colorbar": {
             "outlinewidth": 0,
             "ticks": ""
            },
            "colorscale": [
             [
              0,
              "#0d0887"
             ],
             [
              0.1111111111111111,
              "#46039f"
             ],
             [
              0.2222222222222222,
              "#7201a8"
             ],
             [
              0.3333333333333333,
              "#9c179e"
             ],
             [
              0.4444444444444444,
              "#bd3786"
             ],
             [
              0.5555555555555556,
              "#d8576b"
             ],
             [
              0.6666666666666666,
              "#ed7953"
             ],
             [
              0.7777777777777778,
              "#fb9f3a"
             ],
             [
              0.8888888888888888,
              "#fdca26"
             ],
             [
              1,
              "#f0f921"
             ]
            ],
            "type": "heatmap"
           }
          ],
          "heatmapgl": [
           {
            "colorbar": {
             "outlinewidth": 0,
             "ticks": ""
            },
            "colorscale": [
             [
              0,
              "#0d0887"
             ],
             [
              0.1111111111111111,
              "#46039f"
             ],
             [
              0.2222222222222222,
              "#7201a8"
             ],
             [
              0.3333333333333333,
              "#9c179e"
             ],
             [
              0.4444444444444444,
              "#bd3786"
             ],
             [
              0.5555555555555556,
              "#d8576b"
             ],
             [
              0.6666666666666666,
              "#ed7953"
             ],
             [
              0.7777777777777778,
              "#fb9f3a"
             ],
             [
              0.8888888888888888,
              "#fdca26"
             ],
             [
              1,
              "#f0f921"
             ]
            ],
            "type": "heatmapgl"
           }
          ],
          "histogram": [
           {
            "marker": {
             "pattern": {
              "fillmode": "overlay",
              "size": 10,
              "solidity": 0.2
             }
            },
            "type": "histogram"
           }
          ],
          "histogram2d": [
           {
            "colorbar": {
             "outlinewidth": 0,
             "ticks": ""
            },
            "colorscale": [
             [
              0,
              "#0d0887"
             ],
             [
              0.1111111111111111,
              "#46039f"
             ],
             [
              0.2222222222222222,
              "#7201a8"
             ],
             [
              0.3333333333333333,
              "#9c179e"
             ],
             [
              0.4444444444444444,
              "#bd3786"
             ],
             [
              0.5555555555555556,
              "#d8576b"
             ],
             [
              0.6666666666666666,
              "#ed7953"
             ],
             [
              0.7777777777777778,
              "#fb9f3a"
             ],
             [
              0.8888888888888888,
              "#fdca26"
             ],
             [
              1,
              "#f0f921"
             ]
            ],
            "type": "histogram2d"
           }
          ],
          "histogram2dcontour": [
           {
            "colorbar": {
             "outlinewidth": 0,
             "ticks": ""
            },
            "colorscale": [
             [
              0,
              "#0d0887"
             ],
             [
              0.1111111111111111,
              "#46039f"
             ],
             [
              0.2222222222222222,
              "#7201a8"
             ],
             [
              0.3333333333333333,
              "#9c179e"
             ],
             [
              0.4444444444444444,
              "#bd3786"
             ],
             [
              0.5555555555555556,
              "#d8576b"
             ],
             [
              0.6666666666666666,
              "#ed7953"
             ],
             [
              0.7777777777777778,
              "#fb9f3a"
             ],
             [
              0.8888888888888888,
              "#fdca26"
             ],
             [
              1,
              "#f0f921"
             ]
            ],
            "type": "histogram2dcontour"
           }
          ],
          "mesh3d": [
           {
            "colorbar": {
             "outlinewidth": 0,
             "ticks": ""
            },
            "type": "mesh3d"
           }
          ],
          "parcoords": [
           {
            "line": {
             "colorbar": {
              "outlinewidth": 0,
              "ticks": ""
             }
            },
            "type": "parcoords"
           }
          ],
          "pie": [
           {
            "automargin": true,
            "type": "pie"
           }
          ],
          "scatter": [
           {
            "fillpattern": {
             "fillmode": "overlay",
             "size": 10,
             "solidity": 0.2
            },
            "type": "scatter"
           }
          ],
          "scatter3d": [
           {
            "line": {
             "colorbar": {
              "outlinewidth": 0,
              "ticks": ""
             }
            },
            "marker": {
             "colorbar": {
              "outlinewidth": 0,
              "ticks": ""
             }
            },
            "type": "scatter3d"
           }
          ],
          "scattercarpet": [
           {
            "marker": {
             "colorbar": {
              "outlinewidth": 0,
              "ticks": ""
             }
            },
            "type": "scattercarpet"
           }
          ],
          "scattergeo": [
           {
            "marker": {
             "colorbar": {
              "outlinewidth": 0,
              "ticks": ""
             }
            },
            "type": "scattergeo"
           }
          ],
          "scattergl": [
           {
            "marker": {
             "colorbar": {
              "outlinewidth": 0,
              "ticks": ""
             }
            },
            "type": "scattergl"
           }
          ],
          "scattermapbox": [
           {
            "marker": {
             "colorbar": {
              "outlinewidth": 0,
              "ticks": ""
             }
            },
            "type": "scattermapbox"
           }
          ],
          "scatterpolar": [
           {
            "marker": {
             "colorbar": {
              "outlinewidth": 0,
              "ticks": ""
             }
            },
            "type": "scatterpolar"
           }
          ],
          "scatterpolargl": [
           {
            "marker": {
             "colorbar": {
              "outlinewidth": 0,
              "ticks": ""
             }
            },
            "type": "scatterpolargl"
           }
          ],
          "scatterternary": [
           {
            "marker": {
             "colorbar": {
              "outlinewidth": 0,
              "ticks": ""
             }
            },
            "type": "scatterternary"
           }
          ],
          "surface": [
           {
            "colorbar": {
             "outlinewidth": 0,
             "ticks": ""
            },
            "colorscale": [
             [
              0,
              "#0d0887"
             ],
             [
              0.1111111111111111,
              "#46039f"
             ],
             [
              0.2222222222222222,
              "#7201a8"
             ],
             [
              0.3333333333333333,
              "#9c179e"
             ],
             [
              0.4444444444444444,
              "#bd3786"
             ],
             [
              0.5555555555555556,
              "#d8576b"
             ],
             [
              0.6666666666666666,
              "#ed7953"
             ],
             [
              0.7777777777777778,
              "#fb9f3a"
             ],
             [
              0.8888888888888888,
              "#fdca26"
             ],
             [
              1,
              "#f0f921"
             ]
            ],
            "type": "surface"
           }
          ],
          "table": [
           {
            "cells": {
             "fill": {
              "color": "#EBF0F8"
             },
             "line": {
              "color": "white"
             }
            },
            "header": {
             "fill": {
              "color": "#C8D4E3"
             },
             "line": {
              "color": "white"
             }
            },
            "type": "table"
           }
          ]
         },
         "layout": {
          "annotationdefaults": {
           "arrowcolor": "#2a3f5f",
           "arrowhead": 0,
           "arrowwidth": 1
          },
          "autotypenumbers": "strict",
          "coloraxis": {
           "colorbar": {
            "outlinewidth": 0,
            "ticks": ""
           }
          },
          "colorscale": {
           "diverging": [
            [
             0,
             "#8e0152"
            ],
            [
             0.1,
             "#c51b7d"
            ],
            [
             0.2,
             "#de77ae"
            ],
            [
             0.3,
             "#f1b6da"
            ],
            [
             0.4,
             "#fde0ef"
            ],
            [
             0.5,
             "#f7f7f7"
            ],
            [
             0.6,
             "#e6f5d0"
            ],
            [
             0.7,
             "#b8e186"
            ],
            [
             0.8,
             "#7fbc41"
            ],
            [
             0.9,
             "#4d9221"
            ],
            [
             1,
             "#276419"
            ]
           ],
           "sequential": [
            [
             0,
             "#0d0887"
            ],
            [
             0.1111111111111111,
             "#46039f"
            ],
            [
             0.2222222222222222,
             "#7201a8"
            ],
            [
             0.3333333333333333,
             "#9c179e"
            ],
            [
             0.4444444444444444,
             "#bd3786"
            ],
            [
             0.5555555555555556,
             "#d8576b"
            ],
            [
             0.6666666666666666,
             "#ed7953"
            ],
            [
             0.7777777777777778,
             "#fb9f3a"
            ],
            [
             0.8888888888888888,
             "#fdca26"
            ],
            [
             1,
             "#f0f921"
            ]
           ],
           "sequentialminus": [
            [
             0,
             "#0d0887"
            ],
            [
             0.1111111111111111,
             "#46039f"
            ],
            [
             0.2222222222222222,
             "#7201a8"
            ],
            [
             0.3333333333333333,
             "#9c179e"
            ],
            [
             0.4444444444444444,
             "#bd3786"
            ],
            [
             0.5555555555555556,
             "#d8576b"
            ],
            [
             0.6666666666666666,
             "#ed7953"
            ],
            [
             0.7777777777777778,
             "#fb9f3a"
            ],
            [
             0.8888888888888888,
             "#fdca26"
            ],
            [
             1,
             "#f0f921"
            ]
           ]
          },
          "colorway": [
           "#636efa",
           "#EF553B",
           "#00cc96",
           "#ab63fa",
           "#FFA15A",
           "#19d3f3",
           "#FF6692",
           "#B6E880",
           "#FF97FF",
           "#FECB52"
          ],
          "font": {
           "color": "#2a3f5f"
          },
          "geo": {
           "bgcolor": "white",
           "lakecolor": "white",
           "landcolor": "#E5ECF6",
           "showlakes": true,
           "showland": true,
           "subunitcolor": "white"
          },
          "hoverlabel": {
           "align": "left"
          },
          "hovermode": "closest",
          "mapbox": {
           "style": "light"
          },
          "paper_bgcolor": "white",
          "plot_bgcolor": "#E5ECF6",
          "polar": {
           "angularaxis": {
            "gridcolor": "white",
            "linecolor": "white",
            "ticks": ""
           },
           "bgcolor": "#E5ECF6",
           "radialaxis": {
            "gridcolor": "white",
            "linecolor": "white",
            "ticks": ""
           }
          },
          "scene": {
           "xaxis": {
            "backgroundcolor": "#E5ECF6",
            "gridcolor": "white",
            "gridwidth": 2,
            "linecolor": "white",
            "showbackground": true,
            "ticks": "",
            "zerolinecolor": "white"
           },
           "yaxis": {
            "backgroundcolor": "#E5ECF6",
            "gridcolor": "white",
            "gridwidth": 2,
            "linecolor": "white",
            "showbackground": true,
            "ticks": "",
            "zerolinecolor": "white"
           },
           "zaxis": {
            "backgroundcolor": "#E5ECF6",
            "gridcolor": "white",
            "gridwidth": 2,
            "linecolor": "white",
            "showbackground": true,
            "ticks": "",
            "zerolinecolor": "white"
           }
          },
          "shapedefaults": {
           "line": {
            "color": "#2a3f5f"
           }
          },
          "ternary": {
           "aaxis": {
            "gridcolor": "white",
            "linecolor": "white",
            "ticks": ""
           },
           "baxis": {
            "gridcolor": "white",
            "linecolor": "white",
            "ticks": ""
           },
           "bgcolor": "#E5ECF6",
           "caxis": {
            "gridcolor": "white",
            "linecolor": "white",
            "ticks": ""
           }
          },
          "title": {
           "x": 0.05
          },
          "xaxis": {
           "automargin": true,
           "gridcolor": "white",
           "linecolor": "white",
           "ticks": "",
           "title": {
            "standoff": 15
           },
           "zerolinecolor": "white",
           "zerolinewidth": 2
          },
          "yaxis": {
           "automargin": true,
           "gridcolor": "white",
           "linecolor": "white",
           "ticks": "",
           "title": {
            "standoff": 15
           },
           "zerolinecolor": "white",
           "zerolinewidth": 2
          }
         }
        },
        "title": {
         "text": "911 Calls on January 23, 2016"
        }
       }
      },
      "text/html": [
       "<div>                            <div id=\"4563a696-3d29-4cd9-b1a2-fa427fce382d\" class=\"plotly-graph-div\" style=\"height:300px; width:100%;\"></div>            <script type=\"text/javascript\">                require([\"plotly\"], function(Plotly) {                    window.PLOTLYENV=window.PLOTLYENV || {};                                    if (document.getElementById(\"4563a696-3d29-4cd9-b1a2-fa427fce382d\")) {                    Plotly.newPlot(                        \"4563a696-3d29-4cd9-b1a2-fa427fce382d\",                        [{\"hovertemplate\":\"lat=%{lat}\\u003cbr\\u003elng=%{lon}\\u003cextra\\u003e\\u003c\\u002fextra\\u003e\",\"lat\":[40.121497,40.129538,40.1617404,40.1913534,40.0876167,40.1036125,40.12264,40.0972222,40.0972222,40.0782759,40.0782759,40.0972222,40.1681702,40.1681702,40.3232172,40.1120824,40.3232172,40.1501003,40.071386,40.1193872,40.1193872,40.0672961,40.0490606,40.0254631,40.0375675,40.0698321,40.1153111,40.0878981,40.1790926,40.1153111,40.0929049,40.2122959,40.1163132,40.2806101,40.3118142,40.1247752,40.033578,40.1364039,40.0829813,40.1715184,39.9844205,40.2603879,40.1833317,40.1336453,40.0991848,40.1494562,40.1364039,40.0279994,39.9991481,40.2353731,40.0972222,40.2290075,40.0614174,40.2471241,40.1857688,39.995439,40.2469205,40.1370566,40.1164676,40.1364039,40.2122959,40.0022955,40.2394356,40.129521,40.1490433,40.0715455,40.0846057,40.113372,40.1136924,40.1793752,40.1793752,40.0800158,40.0800158,40.1182493,40.1723141,40.2540519,40.2563601,40.2605317,40.0774952,40.0774952,40.2367422,40.1568677,40.2290075,40.1239384,40.130354,40.1066644,40.119061,40.1457373,40.1181086,40.1004231,40.1892793,40.2685653,40.2323933,40.2434353,40.0761932,40.1901343,40.3096342,40.3096342,40.1002385,40.2694794,40.186436,40.0972222,40.0972222,40.1266532,40.1508958,40.127131,40.2313546,40.105657,40.1213879,40.1513014,40.1848554,40.1451648,40.0972222,40.0972222,40.1442234,40.010006,40.1367163,40.130354,40.111435,40.1867665,40.2442013,40.2511067,40.0754961,40.115692,40.0762963,40.2290075,40.2290075,40.1913788,40.2539536,40.111435,40.0762963,40.1621502,40.0762963,40.1867665,40.2290075,40.1330371,40.1598433,40.1829511,40.083589,40.1464006,40.1464006,40.171473,40.2291921,40.206392,40.189531,40.176204,40.0698321,40.1234522,40.222489,40.1366029,40.1704848,40.1143861,40.2849118,40.1928288,40.2308504,40.1400898,40.1511988,40.2643269,40.1511988,40.2864378,40.2643269,40.0415248,39.993011,40.1444087,40.1761025,40.0698321,40.2076023,40.1366029,40.2849118,40.129223,40.1723141,40.1238069,40.2644743,40.2644743,40.3016377,40.2662707,40.1761025,40.0760631,40.1463007,40.0917361,40.072065,40.067533,40.222489,40.0008782,40.00868,40.1224741,40.2233585,40.144953,40.1925336,40.1004231,40.2473287,40.1004231,40.0809133,40.2664704,40.0923521,40.0738876,40.0746954,40.2574668,40.149741,40.2655501,40.1139096,40.1537535,40.1783009,40.2644743,40.3363776,40.1723141,40.2630565,40.2649681,40.066937,40.1757112,40.2133461,40.2776519,40.1685378,40.259852,40.3479697,40.1723141,40.1118752,40.1363661,40.0092598,40.2384788,40.0249667,40.2574281,40.1417319,40.2637345,40.1363661,40.0731227,40.0949634,40.2484237,40.2644844,40.2113626,40.1583249,40.168211,40.1600044,40.2147671,40.1198332,40.2571357,40.1563852,40.1144158,39.9991037,40.1049161,40.1483375,40.1449757,40.2274312,40.2883557,40.122828,40.2859406,40.2585502,40.1240295,40.2652643,40.2530015,40.2290075,40.1855167,40.1024241,40.2290075,40.2510757,40.0909805,40.2101703,40.2510757,39.9956287,40.172407,40.0819503,40.1660423,40.253638,40.1325208,40.1300998,40.1785498,40.1886977,40.1886977,40.1485628,40.0972222,40.0972222,40.1300998,39.990677,40.3091078,40.1503338,40.2394356,40.2536697,40.1294478,40.0530265,40.1485628,40.0049697,40.2843338,40.2422576,40.2290075,40.0218815,40.0972222,40.252089,40.089029,40.2552707,40.2552707,40.2115508,40.2843338,40.3207335,40.2109404,40.2528819,40.0875677,40.2328443,40.2328443,40.1430391,40.0073462,40.1192546,40.3077588,40.2411098,40.3173211,40.2605317,40.2410527,40.0978732,40.1195583,40.1653934,40.0089595,40.1274625,40.1784422,40.1784422,40.2252404,39.9866944,40.2309343,40.121497,40.1211857,40.2157491,40.2459704,40.1784422,40.2459704,40.0971212,40.1807822,40.1873139,40.0930758,40.232727,40.2020634,40.1566208,40.2374907,40.1047525,40.1566208,40.0848436,40.1793752,40.089973,40.1433257,40.1855167,40.2894124,40.1221773,40.2894124,40.128482,40.1370469,40.0812601,40.1653934,40.1118752,40.1653934,40.0249667,40.1653564,40.1169103,40.1318786,40.2470749,40.0961719,40.0949358,40.1318786,40.2694794,40.2694794,40.0988044,40.1784422,40.081794,40.1198332,40.128482,40.1170929,40.0068112,40.2354089,40.1641285,40.2351093,40.1211857,40.1601724,40.207694,40.2576508,40.1601724,40.207694,40.2476756,40.2105169,40.1957631,40.0854888,40.0214341,40.2095201,40.2095201,40.1477448,40.2131422,40.2334153,40.3278047,40.3278047,40.217039,40.2412769,40.1431269,40.1040774,40.1040774,40.1050577,40.1178535,40.1051084,40.2511041,40.2319919,40.1617404,40.0699737,40.2351093,40.2294901,40.1508958,40.2070553,40.0870977,40.2994905,40.2442402,40.1957631,40.2290075,40.0823019,40.2470749,40.125059,40.1924225,40.1924225,40.180467,40.0754961,40.0754961,40.2358106,40.2459704,40.2095201,40.1596629,40.2309343,39.9866944,40.1755341,40.1437087,40.2023975,40.2969919,40.2566279,40.2566279,40.2572826,40.2572826,40.1057,40.1053039,40.1566208,40.1022274,40.2943565,39.9866944,40.2943565,40.232727,40.2978759,40.2978759,40.2586444,40.2690613,40.1988084,40.2774679,40.1723141,40.1566208,40.1040774,40.1040774,40.1759563,40.1635044,40.2605355,40.2413204,40.08205,40.1805757,40.2445036,40.1316807,40.1163352,40.0258806,40.1326363,40.1389911,40.3400721,40.1475414,40.1452231,40.1042412,40.2492382,40.1098306,40.102004,40.1670212,40.1822908,40.0760631,40.1821003,40.0054256,40.1680491,40.1680491,40.2509971,40.1556129,40.1016257,40.092636,40.1195583,40.2452499,40.2527138,40.1665145,40.1361694,40.1353474,40.2916205,40.2916205,40.256448,40.2307426,40.2574281,40.2213289,40.1475414,40.2088428,40.1989921,40.0583675,40.1346357,40.1353474,40.2281549,40.1242047,40.1989921,40.1153655,40.1325208,40.0972222,40.0972222,40.1626231,40.1606096,40.1626231,40.1040774,40.1040774,40.2910476,40.1452388,40.1687171,40.2492382,40.1993611,40.1357247,40.0886837,40.139849,40.2529375,40.070183,40.0956518,40.1007482,40.086567,40.1295515,40.2799028,40.166666,40.2444238,40.1007482,40.070183,40.2513703,40.0972222,40.2529375,40.0972222,40.0007087,40.2121679,40.1868393,40.3648628,40.1458295,40.1242047,40.1518132,40.1518132,40.2476052,40.1867529,40.1452231,40.1414199,40.1793752,40.3110388,40.2053096,40.2452499,40.2750651,40.1130986,40.2449296,40.083246,40.2358106,40.1482838,40.2750651,40.3377933,40.2978759,40.111435,40.1198332,40.1198332,40.0111973,40.3403008,40.2358106,40.2296013,40.0972222,40.1517741,40.0972222,40.1472239,40.0238641,40.0222096,40.1198332,40.1805757,40.0252735,40.1445255,40.1514671,40.1166906,40.0252735,40.128223,40.128223,40.0249667,40.1846553,40.1378264,40.0037284,40.0752896,40.0051853,40.1297673,40.1788598,40.1346357,40.0921788,40.3400721,40.1821038,40.1297673,40.1208069,40.1208069,40.222489,40.2309343,40.256249,40.1846553,40.3377933,40.1198332,40.2288917,40.274455,40.2978759,40.2526719,40.1425995,40.1552341,40.1505083,40.0239486,40.2213289,40.073014,40.2489269,40.1102914,40.1550603,40.1022274,40.1609874,40.1137107,40.1580254,40.1821038,40.1609874,40.2489269,40.1263076,40.1112565,40.155987,40.0212729,40.2526719,40.180288,40.1286494,40.256213,40.1587484,40.1666116,40.1165258,40.1214175,40.0926859,40.3039829,40.2449582,40.0070074,40.2449582,40.3039829,40.1596629,40.1857365,40.1648791,40.2476169,40.0985313,40.1992724,40.1566208,40.0070074,40.1620494,40.117605,40.2574281,40.2394356,40.1300506,40.0972222,40.0972222,40.2031133,40.2165609,40.0698321,40.1328695,40.1287222,40.1805757,40.2100258,40.2697532,40.2391632,40.2391632,40.2430067,40.0367806,40.0728313,40.3846582,40.2411423,40.1390461,40.0969036,40.0906668,40.2885119,40.0001687,40.1156913,40.2540352,40.0915536,40.2268517,40.1434113,40.2427395,40.2961048,40.1463007,40.1237694,40.2476632,40.1295515,40.1325208,40.2447967,40.18499,40.1824507,40.1216904,40.1414828,40.0972222,40.0972222,40.0972222,40.0584387,40.1451088,40.0982946,40.2331206,40.2172151,40.1613994,40.1372479,40.2290075,40.2213289,40.1856597,40.1816167,40.1856597,40.0901928,40.1816167,40.1158257,40.129398,40.2459704,40.1068386,40.1143861,40.2881198,40.2122959,40.1017205,40.1245477,40.2310256,39.99393,40.222882,40.0972222,40.1216904,40.1451088,40.0972222,40.3331487,39.9846647,40.1405049,40.1363661,40.2525792,40.2466476,40.2140243,40.0873427,40.2140243,40.1140871,40.113254,40.3816976,40.3816976,40.1402757,40.113254,40.3547459,40.1435722,40.1285891,40.1873139,40.1363661,40.1285891,40.1363661,40.2583796,40.4367534,40.0873427,40.2617844,40.1847975,40.2617844,40.1216904,40.1785195,40.1676037,40.2451166,40.077425,40.2892706,40.2892706,40.2693757,40.2693757,40.2583796,40.105657,40.0811951,40.2890267,40.2890267,40.1477448,40.2470021,40.0803951,40.1192546,40.1140871,40.0809133,40.3063655,40.1220852,40.1220852,40.1169617,40.2415348,40.1140871,40.1465615,40.1538717,40.0687419,40.1203219,40.1216904,40.2750408,40.190053,40.1590918,40.075306,40.1048104,40.174204,40.1282883,40.1765338,40.2345091,40.1546507,40.2594148,40.1015898,40.114404,40.1492857,40.2649886,40.1914251,40.2537958,40.1318786,40.1287009,40.1163715,40.1143861,40.1423881,40.1287009,40.2580665,40.1046666,40.0032856,40.2389857,40.1803086,40.1797712,40.0336492,40.1163715,40.2598808,40.0939327,40.1346887,40.1335723,40.1953359,40.0429364,40.2535265,40.2154142,40.1231771,40.149132,40.2332127,40.149132,40.1249437,40.2337131,40.1346887,40.3364322,40.1128929,40.0871206,40.1558981,40.1908071,40.1406088,40.1784422,40.092636,40.2779468,40.1400408,40.2486503,40.1104723,40.2711177,40.1511988,40.1538717,40.1689616,40.1602281,40.0972222,40.1022274,40.2711177,40.2572826,40.1122924,40.113372,40.1337714,40.1290004,40.2607838,40.0788783,40.0788783,40.1873139,40.2086528,40.2428706,40.2572826,40.0878981,40.1378264,40.2336286,40.1074003,40.0917167,40.2231291,40.1193291,40.3072448,40.3072448,40.1545535,40.0903967,40.2369964,40.2403629,40.1193291,40.0921365,40.2414863,40.0926859,40.1553689,40.2290075,40.0434234,40.2414863,40.2215922,40.1624365,40.1048104,40.1844955,40.1776075,40.2498948,40.2498948,40.2369964,40.1016257,40.2516828,40.2528311,40.1082672,40.1082672,40.1723141,40.1082672,40.0803951,40.0110155,40.0110155,40.1134184,40.1481619,40.1757211,40.1393938,40.1762989,40.2270387,40.1161351,40.0698321,40.1328621,40.127514,40.127514,40.0655201,40.2324472,40.2458659,40.0022955,40.0022955,40.1214175,40.2404265],\"legendgroup\":\"\",\"lon\":[-75.3399048,-75.3246363,-75.1238208,-75.4548472,-75.2619607,-75.1255003,-75.3901126,-75.3761952,-75.3761952,-75.2498518,-75.2498518,-75.3761952,-75.2210094,-75.2210094,-75.3571303,-75.3298582,-75.3571303,-75.3974394,-75.133738,-75.391923,-75.391923,-75.31866,-75.3367685,-75.3148342,-75.2539423,-75.3162951,-75.1761487,-75.2629699,-75.1830602,-75.1761487,-75.2617156,-75.5445674,-75.3279105,-75.2924128,-75.3153816,-75.2931878,-75.2670955,-75.1593945,-75.2063031,-75.528502,-75.2792854,-75.4648555,-75.542291,-75.1575214,-75.1680179,-75.1813163,-75.1593945,-75.3122906,-75.2308974,-75.2247509,-75.3761952,-75.3878525,-75.1238771,-75.6455851,-75.5425927,-75.238908,-75.6876821,-75.1213913,-75.1379964,-75.1593945,-75.5445674,-75.2385895,-75.2362381,-75.11677,-75.3560769,-75.3165672,-75.2032207,-75.3413966,-75.3336847,-75.2362381,-75.2362381,-75.2988095,-75.2988095,-75.0553954,-75.4927278,-75.5845613,-75.6400219,-75.3995089,-75.3620325,-75.3620325,-75.326613,-75.222891,-75.3878525,-75.3286873,-75.4068501,-75.1083474,-75.353854,-75.0524556,-75.3357946,-75.2070644,-75.3688342,-75.6244597,-75.555117,-75.6211784,-75.1496152,-75.1702188,-75.3157512,-75.3157512,-75.1521518,-75.3311661,-75.1198283,-75.3761952,-75.3761952,-75.074781,-75.1274376,-75.3501839,-75.632964,-75.344377,-75.0726703,-75.1110384,-75.1043323,-75.3935796,-75.3761952,-75.3761952,-75.252924,-75.29509,-75.1661474,-75.4068501,-75.0759539,-75.1711685,-75.582403,-75.6484443,-75.1503016,-75.347573,-75.2472545,-75.3878525,-75.3878525,-75.3310159,-75.4254533,-75.0759539,-75.2472545,-75.1237556,-75.2472545,-75.1711685,-75.3878525,-75.4084631,-75.1118215,-75.1160776,-75.2544698,-75.3550755,-75.3550755,-75.1278731,-75.2821657,-75.139851,-75.103344,-75.128116,-75.3162951,-75.350889,-75.2667775,-75.1090388,-75.0883465,-75.169668,-75.337397,-75.1346684,-75.2976496,-75.1082735,-75.3979909,-75.5343072,-75.3979909,-75.2637619,-75.5343072,-75.260974,-75.2783818,-75.4006245,-75.458245,-75.3162951,-75.3359587,-75.1090388,-75.337397,-75.0249003,-75.4927278,-75.3344628,-75.4860635,-75.4860635,-75.3522959,-75.6356034,-75.458245,-75.1233062,-75.0600812,-75.2875958,-75.12652,-75.146564,-75.2667775,-75.2753565,-75.2107603,-75.3586461,-75.2659048,-75.11675,-75.1529228,-75.2070644,-75.6472085,-75.2070644,-75.2026651,-75.6414531,-75.1255257,-75.3062628,-75.3054689,-75.615321,-75.114669,-75.6073749,-75.3356171,-75.1216041,-75.1790833,-75.4860635,-75.4732317,-75.4927278,-75.6099803,-75.6080139,-75.093341,-75.5312636,-75.4403583,-75.6466533,-75.4982005,-75.6060066,-75.5420764,-75.4927278,-75.2850076,-75.5010489,-75.2869257,-75.2297196,-75.2829046,-75.2141491,-75.3126075,-75.2465756,-75.5010489,-75.1273055,-75.3522473,-75.6864058,-75.6492695,-75.2599481,-75.1156789,-75.35047,-77.686813,-75.2741084,-75.1253492,-75.2396929,-75.1124763,-75.418554,-75.2375615,-75.1249119,-75.0977475,-75.195725,-75.2958728,-75.3785374,-75.117202,-75.6382657,-75.599422,-75.3136104,-75.6497679,-75.6824957,-75.3878525,-75.2277666,-75.0912968,-75.3878525,-75.6535248,-75.2589524,-75.2174953,-75.6535248,-75.2640678,-75.378256,-75.1717099,-75.0867478,-75.6819588,-75.1526926,-75.0548315,-75.2663056,-75.4407307,-75.4407307,-75.1425161,-75.3761952,-75.3761952,-75.0548315,-75.280901,-75.3113373,-75.1413287,-75.2362381,-75.649227,-75.3120097,-75.112439,-75.1425161,-75.2455193,-75.6357293,-75.4727764,-75.3878525,-75.319176,-75.3761952,-75.6236351,-75.358512,-75.3407218,-75.3407218,-75.2681885,-75.6357293,-75.5964283,-75.2782317,-75.2534245,-75.4055591,-75.2187676,-75.2187676,-75.0966987,-75.2818436,-75.2362381,-75.3220827,-75.5285367,-75.5980778,-75.3995089,-75.2688808,-75.2594139,-75.3470376,-75.2829046,-75.2904232,-75.3695856,-75.1285061,-75.1285061,-75.2696446,-75.2569627,-75.5221245,-75.3399048,-75.3416914,-75.5454891,-75.652817,-75.1285061,-75.652817,-75.1132779,-75.4289877,-75.1846099,-75.1619148,-75.5272978,-75.5125452,-75.4113257,-75.2886834,-75.0889416,-75.4113257,-75.0935116,-75.2362381,-75.1410849,-75.422819,-75.2277666,-75.636541,-75.4047554,-75.636541,-75.346848,-75.3171588,-75.1370254,-75.2829046,-75.2850076,-75.2829046,-75.2829046,-75.2187019,-75.355377,-75.3660508,-75.3054358,-75.296142,-75.3617596,-75.3660508,-75.3311661,-75.3311661,-75.212824,-75.1285061,-75.1163974,-75.1253492,-75.346848,-75.3463087,-75.2929334,-75.2401008,-75.476484,-75.2400449,-75.3416914,-75.4011933,-75.2758769,-75.6622418,-75.4011933,-75.2758769,-75.6820255,-75.664821,-75.1583518,-75.1250203,-75.3159372,-75.5051759,-75.5051759,-75.3538543,-75.2786115,-75.6540215,-75.5580235,-75.5580235,-75.2289634,-75.3024172,-75.2075824,-75.4220931,-75.4220931,-75.3472265,-75.3548065,-75.3451838,-75.6510537,-75.5247242,-75.1238208,-75.1107191,-75.2400449,-75.314377,-75.1274376,-75.3179522,-75.1278274,-75.585159,-75.6277451,-75.1583518,-75.3878525,-75.0870676,-75.3054358,-75.0678664,-75.4728297,-75.4728297,-75.130527,-75.1503016,-75.1503016,-75.6248657,-75.652817,-75.5051759,-75.4082221,-75.5221245,-75.2569627,-75.2028952,-75.4973729,-75.4069427,-75.3323498,-75.2612699,-75.2612699,-75.6006575,-75.6006575,-75.1816867,-75.1440235,-75.4113257,-75.3915443,-75.3885413,-75.2569627,-75.3885413,-75.5272978,-75.5812935,-75.5812935,-75.2651996,-75.69959,-75.5065441,-75.2604622,-75.4927278,-75.4113257,-75.4220931,-75.4220931,-75.4359812,-75.1154977,-75.3666079,-75.2428276,-75.2512022,-75.1333253,-75.2808201,-75.3898062,-75.1450415,-75.2332649,-75.378327,-75.2442522,-75.5917092,-75.327944,-75.3186843,-75.2624006,-75.6546633,-75.2433906,-75.1502697,-75.2902532,-75.1628084,-75.1233062,-75.2177447,-75.2400436,-75.4491412,-75.4491412,-75.3333998,-75.2248385,-75.1525702,-75.361325,-75.3470376,-75.1968952,-75.6521727,-75.4721505,-75.1479849,-75.3638196,-75.5703268,-75.5703268,-75.667244,-75.5078129,-75.2141491,-75.294496,-75.327944,-75.2142054,-75.4762927,-75.1218811,-75.2135784,-75.3638196,-75.5330076,-75.3521328,-75.4762927,-75.1169975,-75.1526926,-75.3761952,-75.3761952,-75.4134177,-75.1794303,-75.4134177,-75.4220931,-75.4220931,-75.6439513,-75.1122687,-75.1444611,-75.6546633,-75.1715752,-75.1600335,-75.2917999,-75.165148,-75.6436098,-75.098695,-75.244877,-75.2151078,-75.166432,-75.3785172,-75.3504209,-75.2321997,-75.6478337,-75.2151078,-75.098695,-75.4657098,-75.3761952,-75.6436098,-75.3761952,-75.2749635,-75.1859089,-75.1540666,-75.5925381,-75.3265207,-75.3521328,-75.0557591,-75.0557591,-75.4578796,-75.1433734,-75.3186843,-75.3945363,-75.2362381,-75.3236929,-75.17441,-75.1968952,-75.4593382,-75.1544583,-75.5970443,-75.127689,-75.6248657,-75.0591681,-75.4593382,-75.5489713,-75.5812935,-75.0759539,-75.1253492,-75.1253492,-75.2976091,-75.5712826,-75.6248657,-75.2558548,-75.3761952,-75.3365695,-75.3761952,-75.3271471,-75.3142199,-75.2768064,-75.1253492,-75.1333253,-75.3082958,-75.1160469,-75.1176975,-75.3244025,-75.3082958,-75.432117,-75.432117,-75.2829046,-75.1491057,-75.2123089,-75.2870945,-75.3113571,-75.2879272,-75.3572348,-75.134576,-75.2135784,-75.3609945,-75.5917092,-75.1491699,-75.3572348,-75.3308999,-75.3308999,-75.2667775,-75.5221245,-75.2153057,-75.1491057,-75.5489713,-75.1253492,-75.2367048,-75.4545829,-75.5812935,-75.6757448,-75.0471582,-75.0685602,-75.28311,-75.3233966,-75.294496,-75.131626,-75.6404302,-75.2440825,-75.1022513,-75.3915443,-75.3488294,-75.1594438,-75.2992999,-75.1491699,-75.3488294,-75.6404302,-75.118768,-75.3809259,-75.122054,-75.3178979,-75.6757448,-75.1187955,-75.3313296,-75.4637876,-75.341934,-75.0678298,-75.3405524,-75.3345939,-75.1371067,-75.3184914,-75.4495597,-75.2535996,-75.4495597,-75.3184914,-75.4082221,-75.1417291,-75.4482428,-75.6415844,-75.3003538,-75.1186243,-75.4113257,-75.2535996,-75.3198575,-75.120243,-75.2141491,-75.2362381,-75.2802639,-75.3761952,-75.3761952,-75.2242714,-75.2922808,-75.3162951,-75.3335153,-75.2780173,-75.1333253,-75.1823507,-75.3794836,-75.3045683,-75.3045683,-75.4670834,-75.3023619,-75.3058758,-75.5710108,-75.2840637,-75.1450176,-75.0918213,-75.2196631,-75.5766543,-75.2623318,-75.3451747,-75.5719853,-75.1875184,-75.5316722,-75.4074847,-75.217067,-75.3854929,-75.0600812,-75.3573579,-75.6764465,-75.3785172,-75.1526926,-75.3957902,-75.43476,-75.1317333,-75.3644004,-75.117142,-75.3761952,-75.3761952,-75.3761952,-75.1016078,-75.138816,-75.375152,-75.2260846,-75.4716173,-75.4070711,-75.1365066,-75.3878525,-75.294496,-75.451571,-75.2312638,-75.451571,-75.0940004,-75.2312638,-75.3071398,-75.3322134,-75.652817,-75.1238039,-75.169668,-75.639508,-75.5445674,-75.1390376,-75.3487262,-75.5221306,-75.284888,-75.3987889,-75.3761952,-75.3644004,-75.138816,-75.3761952,-75.6379471,-75.2719626,-75.3108737,-75.5010489,-75.5709077,-75.6417829,-75.4610727,-75.1396861,-75.4610727,-75.3382695,-75.336043,-75.4829256,-75.4829256,-75.5012726,-75.336043,-75.4762918,-75.1347754,-75.3157664,-75.1846099,-75.5010489,-75.3157664,-75.5010489,-75.6288533,-75.5264624,-75.1396861,-75.2611098,-75.286879,-75.2611098,-75.3644004,-75.3707976,-75.0895191,-75.6460071,-75.3939014,-75.6345399,-75.6345399,-75.38437,-75.38437,-75.6288533,-75.344377,-75.1332615,-75.3995896,-75.3995896,-75.3538543,-75.6525972,-75.1344416,-75.2362381,-75.3382695,-75.2026651,-75.4238445,-75.3810988,-75.3810988,-75.1472731,-75.2836785,-75.3382695,-75.1745292,-75.3548757,-75.1023695,-75.3569373,-75.3644004,-75.476455,-75.1030392,-75.30946,-75.3086424,-75.3349789,-75.128195,-75.3225266,-75.2852759,-75.2337327,-75.1027077,-75.3246196,-75.3981855,-75.12176,-75.213961,-75.2452386,-75.1755456,-75.5883229,-75.3660508,-75.3392923,-75.3238406,-75.169668,-75.112976,-75.3392923,-75.6321575,-75.3332221,-75.2281053,-75.2793659,-75.451949,-75.1302136,-75.2727566,-75.3238406,-75.6064751,-75.1279154,-75.1495806,-75.4515182,-75.2197692,-75.3065302,-75.651502,-75.4242865,-75.3337165,-75.2199045,-75.2314028,-75.2199045,-75.0416005,-75.4636031,-75.1495806,-75.6346987,-75.2711795,-75.0937403,-75.1219183,-75.1690635,-75.030502,-75.1285061,-75.361325,-75.5943081,-75.0294612,-75.2382969,-75.3360546,-75.3580083,-75.3979909,-75.3548757,-75.1305438,-75.1887569,-75.3761952,-75.3915443,-75.3580083,-75.6006575,-75.1260413,-75.3413966,-75.2055002,-75.3416729,-75.6294118,-75.292351,-75.292351,-75.1846099,-75.2703696,-75.6328364,-75.6006575,-75.2629699,-75.2123089,-75.6684212,-75.113206,-75.3722775,-75.5391928,-75.3428575,-75.5631399,-75.5631399,-75.2215651,-75.3957327,-75.5432342,-75.2325979,-75.3428575,-75.1620346,-75.5327685,-75.1371067,-75.1243525,-75.3878525,-75.3288689,-75.5327685,-75.5111464,-75.3583044,-75.3349789,-75.5153242,-75.1283564,-75.2509907,-75.2509907,-75.5432342,-75.1525702,-75.2511448,-75.6550757,-75.3062326,-75.3062326,-75.4927278,-75.3062326,-75.1344416,-75.2972504,-75.2972504,-75.1702092,-75.1154833,-75.0846612,-75.0488604,-75.0855669,-75.5351666,-75.3342572,-75.3162951,-75.1309896,-75.3329731,-75.3329731,-75.1430752,-75.640354,-75.6475425,-75.2385895,-75.2385895,-75.3345939,-75.281824],\"marker\":{\"color\":\"#636efa\"},\"mode\":\"markers\",\"name\":\"\",\"showlegend\":false,\"subplot\":\"mapbox\",\"type\":\"scattermapbox\"}],                        {\"template\":{\"data\":{\"histogram2dcontour\":[{\"type\":\"histogram2dcontour\",\"colorbar\":{\"outlinewidth\":0,\"ticks\":\"\"},\"colorscale\":[[0.0,\"#0d0887\"],[0.1111111111111111,\"#46039f\"],[0.2222222222222222,\"#7201a8\"],[0.3333333333333333,\"#9c179e\"],[0.4444444444444444,\"#bd3786\"],[0.5555555555555556,\"#d8576b\"],[0.6666666666666666,\"#ed7953\"],[0.7777777777777778,\"#fb9f3a\"],[0.8888888888888888,\"#fdca26\"],[1.0,\"#f0f921\"]]}],\"choropleth\":[{\"type\":\"choropleth\",\"colorbar\":{\"outlinewidth\":0,\"ticks\":\"\"}}],\"histogram2d\":[{\"type\":\"histogram2d\",\"colorbar\":{\"outlinewidth\":0,\"ticks\":\"\"},\"colorscale\":[[0.0,\"#0d0887\"],[0.1111111111111111,\"#46039f\"],[0.2222222222222222,\"#7201a8\"],[0.3333333333333333,\"#9c179e\"],[0.4444444444444444,\"#bd3786\"],[0.5555555555555556,\"#d8576b\"],[0.6666666666666666,\"#ed7953\"],[0.7777777777777778,\"#fb9f3a\"],[0.8888888888888888,\"#fdca26\"],[1.0,\"#f0f921\"]]}],\"heatmap\":[{\"type\":\"heatmap\",\"colorbar\":{\"outlinewidth\":0,\"ticks\":\"\"},\"colorscale\":[[0.0,\"#0d0887\"],[0.1111111111111111,\"#46039f\"],[0.2222222222222222,\"#7201a8\"],[0.3333333333333333,\"#9c179e\"],[0.4444444444444444,\"#bd3786\"],[0.5555555555555556,\"#d8576b\"],[0.6666666666666666,\"#ed7953\"],[0.7777777777777778,\"#fb9f3a\"],[0.8888888888888888,\"#fdca26\"],[1.0,\"#f0f921\"]]}],\"heatmapgl\":[{\"type\":\"heatmapgl\",\"colorbar\":{\"outlinewidth\":0,\"ticks\":\"\"},\"colorscale\":[[0.0,\"#0d0887\"],[0.1111111111111111,\"#46039f\"],[0.2222222222222222,\"#7201a8\"],[0.3333333333333333,\"#9c179e\"],[0.4444444444444444,\"#bd3786\"],[0.5555555555555556,\"#d8576b\"],[0.6666666666666666,\"#ed7953\"],[0.7777777777777778,\"#fb9f3a\"],[0.8888888888888888,\"#fdca26\"],[1.0,\"#f0f921\"]]}],\"contourcarpet\":[{\"type\":\"contourcarpet\",\"colorbar\":{\"outlinewidth\":0,\"ticks\":\"\"}}],\"contour\":[{\"type\":\"contour\",\"colorbar\":{\"outlinewidth\":0,\"ticks\":\"\"},\"colorscale\":[[0.0,\"#0d0887\"],[0.1111111111111111,\"#46039f\"],[0.2222222222222222,\"#7201a8\"],[0.3333333333333333,\"#9c179e\"],[0.4444444444444444,\"#bd3786\"],[0.5555555555555556,\"#d8576b\"],[0.6666666666666666,\"#ed7953\"],[0.7777777777777778,\"#fb9f3a\"],[0.8888888888888888,\"#fdca26\"],[1.0,\"#f0f921\"]]}],\"surface\":[{\"type\":\"surface\",\"colorbar\":{\"outlinewidth\":0,\"ticks\":\"\"},\"colorscale\":[[0.0,\"#0d0887\"],[0.1111111111111111,\"#46039f\"],[0.2222222222222222,\"#7201a8\"],[0.3333333333333333,\"#9c179e\"],[0.4444444444444444,\"#bd3786\"],[0.5555555555555556,\"#d8576b\"],[0.6666666666666666,\"#ed7953\"],[0.7777777777777778,\"#fb9f3a\"],[0.8888888888888888,\"#fdca26\"],[1.0,\"#f0f921\"]]}],\"mesh3d\":[{\"type\":\"mesh3d\",\"colorbar\":{\"outlinewidth\":0,\"ticks\":\"\"}}],\"scatter\":[{\"fillpattern\":{\"fillmode\":\"overlay\",\"size\":10,\"solidity\":0.2},\"type\":\"scatter\"}],\"parcoords\":[{\"type\":\"parcoords\",\"line\":{\"colorbar\":{\"outlinewidth\":0,\"ticks\":\"\"}}}],\"scatterpolargl\":[{\"type\":\"scatterpolargl\",\"marker\":{\"colorbar\":{\"outlinewidth\":0,\"ticks\":\"\"}}}],\"bar\":[{\"error_x\":{\"color\":\"#2a3f5f\"},\"error_y\":{\"color\":\"#2a3f5f\"},\"marker\":{\"line\":{\"color\":\"#E5ECF6\",\"width\":0.5},\"pattern\":{\"fillmode\":\"overlay\",\"size\":10,\"solidity\":0.2}},\"type\":\"bar\"}],\"scattergeo\":[{\"type\":\"scattergeo\",\"marker\":{\"colorbar\":{\"outlinewidth\":0,\"ticks\":\"\"}}}],\"scatterpolar\":[{\"type\":\"scatterpolar\",\"marker\":{\"colorbar\":{\"outlinewidth\":0,\"ticks\":\"\"}}}],\"histogram\":[{\"marker\":{\"pattern\":{\"fillmode\":\"overlay\",\"size\":10,\"solidity\":0.2}},\"type\":\"histogram\"}],\"scattergl\":[{\"type\":\"scattergl\",\"marker\":{\"colorbar\":{\"outlinewidth\":0,\"ticks\":\"\"}}}],\"scatter3d\":[{\"type\":\"scatter3d\",\"line\":{\"colorbar\":{\"outlinewidth\":0,\"ticks\":\"\"}},\"marker\":{\"colorbar\":{\"outlinewidth\":0,\"ticks\":\"\"}}}],\"scattermapbox\":[{\"type\":\"scattermapbox\",\"marker\":{\"colorbar\":{\"outlinewidth\":0,\"ticks\":\"\"}}}],\"scatterternary\":[{\"type\":\"scatterternary\",\"marker\":{\"colorbar\":{\"outlinewidth\":0,\"ticks\":\"\"}}}],\"scattercarpet\":[{\"type\":\"scattercarpet\",\"marker\":{\"colorbar\":{\"outlinewidth\":0,\"ticks\":\"\"}}}],\"carpet\":[{\"aaxis\":{\"endlinecolor\":\"#2a3f5f\",\"gridcolor\":\"white\",\"linecolor\":\"white\",\"minorgridcolor\":\"white\",\"startlinecolor\":\"#2a3f5f\"},\"baxis\":{\"endlinecolor\":\"#2a3f5f\",\"gridcolor\":\"white\",\"linecolor\":\"white\",\"minorgridcolor\":\"white\",\"startlinecolor\":\"#2a3f5f\"},\"type\":\"carpet\"}],\"table\":[{\"cells\":{\"fill\":{\"color\":\"#EBF0F8\"},\"line\":{\"color\":\"white\"}},\"header\":{\"fill\":{\"color\":\"#C8D4E3\"},\"line\":{\"color\":\"white\"}},\"type\":\"table\"}],\"barpolar\":[{\"marker\":{\"line\":{\"color\":\"#E5ECF6\",\"width\":0.5},\"pattern\":{\"fillmode\":\"overlay\",\"size\":10,\"solidity\":0.2}},\"type\":\"barpolar\"}],\"pie\":[{\"automargin\":true,\"type\":\"pie\"}]},\"layout\":{\"autotypenumbers\":\"strict\",\"colorway\":[\"#636efa\",\"#EF553B\",\"#00cc96\",\"#ab63fa\",\"#FFA15A\",\"#19d3f3\",\"#FF6692\",\"#B6E880\",\"#FF97FF\",\"#FECB52\"],\"font\":{\"color\":\"#2a3f5f\"},\"hovermode\":\"closest\",\"hoverlabel\":{\"align\":\"left\"},\"paper_bgcolor\":\"white\",\"plot_bgcolor\":\"#E5ECF6\",\"polar\":{\"bgcolor\":\"#E5ECF6\",\"angularaxis\":{\"gridcolor\":\"white\",\"linecolor\":\"white\",\"ticks\":\"\"},\"radialaxis\":{\"gridcolor\":\"white\",\"linecolor\":\"white\",\"ticks\":\"\"}},\"ternary\":{\"bgcolor\":\"#E5ECF6\",\"aaxis\":{\"gridcolor\":\"white\",\"linecolor\":\"white\",\"ticks\":\"\"},\"baxis\":{\"gridcolor\":\"white\",\"linecolor\":\"white\",\"ticks\":\"\"},\"caxis\":{\"gridcolor\":\"white\",\"linecolor\":\"white\",\"ticks\":\"\"}},\"coloraxis\":{\"colorbar\":{\"outlinewidth\":0,\"ticks\":\"\"}},\"colorscale\":{\"sequential\":[[0.0,\"#0d0887\"],[0.1111111111111111,\"#46039f\"],[0.2222222222222222,\"#7201a8\"],[0.3333333333333333,\"#9c179e\"],[0.4444444444444444,\"#bd3786\"],[0.5555555555555556,\"#d8576b\"],[0.6666666666666666,\"#ed7953\"],[0.7777777777777778,\"#fb9f3a\"],[0.8888888888888888,\"#fdca26\"],[1.0,\"#f0f921\"]],\"sequentialminus\":[[0.0,\"#0d0887\"],[0.1111111111111111,\"#46039f\"],[0.2222222222222222,\"#7201a8\"],[0.3333333333333333,\"#9c179e\"],[0.4444444444444444,\"#bd3786\"],[0.5555555555555556,\"#d8576b\"],[0.6666666666666666,\"#ed7953\"],[0.7777777777777778,\"#fb9f3a\"],[0.8888888888888888,\"#fdca26\"],[1.0,\"#f0f921\"]],\"diverging\":[[0,\"#8e0152\"],[0.1,\"#c51b7d\"],[0.2,\"#de77ae\"],[0.3,\"#f1b6da\"],[0.4,\"#fde0ef\"],[0.5,\"#f7f7f7\"],[0.6,\"#e6f5d0\"],[0.7,\"#b8e186\"],[0.8,\"#7fbc41\"],[0.9,\"#4d9221\"],[1,\"#276419\"]]},\"xaxis\":{\"gridcolor\":\"white\",\"linecolor\":\"white\",\"ticks\":\"\",\"title\":{\"standoff\":15},\"zerolinecolor\":\"white\",\"automargin\":true,\"zerolinewidth\":2},\"yaxis\":{\"gridcolor\":\"white\",\"linecolor\":\"white\",\"ticks\":\"\",\"title\":{\"standoff\":15},\"zerolinecolor\":\"white\",\"automargin\":true,\"zerolinewidth\":2},\"scene\":{\"xaxis\":{\"backgroundcolor\":\"#E5ECF6\",\"gridcolor\":\"white\",\"linecolor\":\"white\",\"showbackground\":true,\"ticks\":\"\",\"zerolinecolor\":\"white\",\"gridwidth\":2},\"yaxis\":{\"backgroundcolor\":\"#E5ECF6\",\"gridcolor\":\"white\",\"linecolor\":\"white\",\"showbackground\":true,\"ticks\":\"\",\"zerolinecolor\":\"white\",\"gridwidth\":2},\"zaxis\":{\"backgroundcolor\":\"#E5ECF6\",\"gridcolor\":\"white\",\"linecolor\":\"white\",\"showbackground\":true,\"ticks\":\"\",\"zerolinecolor\":\"white\",\"gridwidth\":2}},\"shapedefaults\":{\"line\":{\"color\":\"#2a3f5f\"}},\"annotationdefaults\":{\"arrowcolor\":\"#2a3f5f\",\"arrowhead\":0,\"arrowwidth\":1},\"geo\":{\"bgcolor\":\"white\",\"landcolor\":\"#E5ECF6\",\"subunitcolor\":\"white\",\"showland\":true,\"showlakes\":true,\"lakecolor\":\"white\"},\"title\":{\"x\":0.05},\"mapbox\":{\"style\":\"light\"}}},\"mapbox\":{\"domain\":{\"x\":[0.0,1.0],\"y\":[0.0,1.0]},\"center\":{\"lat\":40.16483814928806,\"lon\":-75.3277892067908},\"zoom\":6,\"style\":\"open-street-map\"},\"legend\":{\"tracegroupgap\":0},\"margin\":{\"t\":0,\"r\":0,\"l\":0,\"b\":0},\"height\":300,\"title\":{\"text\":\"911 Calls on January 23, 2016\"}},                        {\"responsive\": true}                    ).then(function(){\n",
       "                            \n",
       "var gd = document.getElementById('4563a696-3d29-4cd9-b1a2-fa427fce382d');\n",
       "var x = new MutationObserver(function (mutations, observer) {{\n",
       "        var display = window.getComputedStyle(gd).display;\n",
       "        if (!display || display === 'none') {{\n",
       "            console.log([gd, 'removed!']);\n",
       "            Plotly.purge(gd);\n",
       "            observer.disconnect();\n",
       "        }}\n",
       "}});\n",
       "\n",
       "// Listen for the removal of the full notebook cells\n",
       "var notebookContainer = gd.closest('#notebook-container');\n",
       "if (notebookContainer) {{\n",
       "    x.observe(notebookContainer, {childList: true});\n",
       "}}\n",
       "\n",
       "// Listen for the clearing of the current output cell\n",
       "var outputEl = gd.closest('.output');\n",
       "if (outputEl) {{\n",
       "    x.observe(outputEl, {childList: true});\n",
       "}}\n",
       "\n",
       "                        })                };                });            </script>        </div>"
      ]
     },
     "metadata": {},
     "output_type": "display_data"
    }
   ],
   "source": [
    "#Can we superimpose this on the map of USA?\n",
    "#Yes, we can use plotly for this\n",
    "from plotly import express as px\n",
    "fig = px.scatter_mapbox(df[df['date'] == '2016-01-23'], lat='lat', lon='lng',\n",
    "                        zoom=6, height=300)\n",
    "fig.update_layout(mapbox_style='open-street-map')\n",
    "fig.update_layout(margin={'r':0, 't':0, 'l':0, 'b':0})\n",
    "\n",
    "\n",
    "fig.update_layout(title='911 Calls on January 23, 2016')\n",
    "\n",
    "fig.show()\n",
    "\n",
    "#This looks like an issue of a particular area in the USA\n",
    "#Yes, wikipedia tells us that there was a blizzard on 23rd Jan 2016 \n",
    "# in the northeast USA which caused a lot of accidents and emergencies\n",
    "#This explains the spike in the number of calls on this date"
   ]
  },
  {
   "cell_type": "code",
   "execution_count": 93,
   "metadata": {},
   "outputs": [
    {
     "name": "stdout",
     "output_type": "stream",
     "text": [
      "Calls by Hour and Day:\n",
      " hour          0    1    2    3    4    5    6    7    8    9   ...   14   15  \\\n",
      "day_of_week                                                    ...             \n",
      "Fri          275  235  191  175  201  194  372  598  742  752  ...  932  980   \n",
      "Mon          282  221  201  194  204  267  397  653  819  786  ...  869  913   \n",
      "Sat          375  301  263  260  224  231  257  391  459  640  ...  789  796   \n",
      "Sun          383  306  286  268  242  240  300  402  483  620  ...  684  691   \n",
      "Thu          278  202  233  159  182  203  362  570  777  828  ...  876  969   \n",
      "Tue          269  240  186  170  209  239  415  655  889  880  ...  943  938   \n",
      "Wed          250  216  189  209  156  255  410  701  875  808  ...  904  867   \n",
      "\n",
      "hour           16    17   18   19   20   21   22   23  \n",
      "day_of_week                                            \n",
      "Fri          1039   980  820  696  667  559  514  474  \n",
      "Mon           989   997  885  746  613  497  472  325  \n",
      "Sat           848   757  778  696  628  572  506  467  \n",
      "Sun           663   714  670  655  537  461  415  330  \n",
      "Thu           935  1013  810  698  617  553  424  354  \n",
      "Tue          1026  1019  905  731  647  571  462  274  \n",
      "Wed           990  1037  894  686  668  575  490  335  \n",
      "\n",
      "[7 rows x 24 columns]\n"
     ]
    }
   ],
   "source": [
    "calls_by_hour_day = df.groupby(['day_of_week', 'hour']).count()['reason'].unstack()\n",
    "print(\"Calls by Hour and Day:\\n\",calls_by_hour_day)\n"
   ]
  },
  {
   "cell_type": "code",
   "execution_count": null,
   "metadata": {},
   "outputs": [
    {
     "data": {
      "application/vnd.plotly.v1+json": {
       "config": {
        "linkText": "Export to plot.ly",
        "plotlyServerURL": "https://plot.ly",
        "showLink": true
       },
       "data": [
        {
         "colorscale": [
          [
           0,
           "rgb(255, 153, 51)"
          ],
          [
           0.1111111111111111,
           "rgb(55, 128, 191)"
          ],
          [
           0.2222222222222222,
           "rgb(50, 171, 96)"
          ],
          [
           0.3333333333333333,
           "rgb(128, 0, 128)"
          ],
          [
           0.4444444444444444,
           "rgb(219, 64, 82)"
          ],
          [
           0.5555555555555556,
           "rgb(0, 128, 128)"
          ],
          [
           0.6666666666666666,
           "rgb(255, 255, 51)"
          ],
          [
           0.7777777777777778,
           "rgb(128, 128, 0)"
          ],
          [
           0.8888888888888888,
           "rgb(251, 128, 114)"
          ],
          [
           1,
           "rgb(128, 177, 211)"
          ]
         ],
         "type": "heatmap",
         "x": [
          "Fri",
          "Mon",
          "Sat",
          "Sun",
          "Thu",
          "Tue",
          "Wed"
         ],
         "y": [
          0,
          1,
          2,
          3,
          4,
          5,
          6,
          7,
          8,
          9,
          10,
          11,
          12,
          13,
          14,
          15,
          16,
          17,
          18,
          19,
          20,
          21,
          22,
          23
         ],
         "z": [
          [
           275,
           282,
           375,
           383,
           278,
           269,
           250
          ],
          [
           235,
           221,
           301,
           306,
           202,
           240,
           216
          ],
          [
           191,
           201,
           263,
           286,
           233,
           186,
           189
          ],
          [
           175,
           194,
           260,
           268,
           159,
           170,
           209
          ],
          [
           201,
           204,
           224,
           242,
           182,
           209,
           156
          ],
          [
           194,
           267,
           231,
           240,
           203,
           239,
           255
          ],
          [
           372,
           397,
           257,
           300,
           362,
           415,
           410
          ],
          [
           598,
           653,
           391,
           402,
           570,
           655,
           701
          ],
          [
           742,
           819,
           459,
           483,
           777,
           889,
           875
          ],
          [
           752,
           786,
           640,
           620,
           828,
           880,
           808
          ],
          [
           803,
           793,
           697,
           643,
           837,
           840,
           800
          ],
          [
           859,
           822,
           769,
           693,
           773,
           838,
           789
          ],
          [
           885,
           893,
           801,
           771,
           889,
           887,
           903
          ],
          [
           890,
           842,
           831,
           679,
           936,
           917,
           872
          ],
          [
           932,
           869,
           789,
           684,
           876,
           943,
           904
          ],
          [
           980,
           913,
           796,
           691,
           969,
           938,
           867
          ],
          [
           1039,
           989,
           848,
           663,
           935,
           1026,
           990
          ],
          [
           980,
           997,
           757,
           714,
           1013,
           1019,
           1037
          ],
          [
           820,
           885,
           778,
           670,
           810,
           905,
           894
          ],
          [
           696,
           746,
           696,
           655,
           698,
           731,
           686
          ],
          [
           667,
           613,
           628,
           537,
           617,
           647,
           668
          ],
          [
           559,
           497,
           572,
           461,
           553,
           571,
           575
          ],
          [
           514,
           472,
           506,
           415,
           424,
           462,
           490
          ],
          [
           474,
           325,
           467,
           330,
           354,
           274,
           335
          ]
         ],
         "zmax": 1039,
         "zmin": 156
        }
       ],
       "layout": {
        "legend": {
         "bgcolor": "#F5F6F9",
         "font": {
          "color": "#4D5663"
         }
        },
        "paper_bgcolor": "#F5F6F9",
        "plot_bgcolor": "#F5F6F9",
        "template": {
         "data": {
          "bar": [
           {
            "error_x": {
             "color": "#2a3f5f"
            },
            "error_y": {
             "color": "#2a3f5f"
            },
            "marker": {
             "line": {
              "color": "#E5ECF6",
              "width": 0.5
             },
             "pattern": {
              "fillmode": "overlay",
              "size": 10,
              "solidity": 0.2
             }
            },
            "type": "bar"
           }
          ],
          "barpolar": [
           {
            "marker": {
             "line": {
              "color": "#E5ECF6",
              "width": 0.5
             },
             "pattern": {
              "fillmode": "overlay",
              "size": 10,
              "solidity": 0.2
             }
            },
            "type": "barpolar"
           }
          ],
          "carpet": [
           {
            "aaxis": {
             "endlinecolor": "#2a3f5f",
             "gridcolor": "white",
             "linecolor": "white",
             "minorgridcolor": "white",
             "startlinecolor": "#2a3f5f"
            },
            "baxis": {
             "endlinecolor": "#2a3f5f",
             "gridcolor": "white",
             "linecolor": "white",
             "minorgridcolor": "white",
             "startlinecolor": "#2a3f5f"
            },
            "type": "carpet"
           }
          ],
          "choropleth": [
           {
            "colorbar": {
             "outlinewidth": 0,
             "ticks": ""
            },
            "type": "choropleth"
           }
          ],
          "contour": [
           {
            "colorbar": {
             "outlinewidth": 0,
             "ticks": ""
            },
            "colorscale": [
             [
              0,
              "#0d0887"
             ],
             [
              0.1111111111111111,
              "#46039f"
             ],
             [
              0.2222222222222222,
              "#7201a8"
             ],
             [
              0.3333333333333333,
              "#9c179e"
             ],
             [
              0.4444444444444444,
              "#bd3786"
             ],
             [
              0.5555555555555556,
              "#d8576b"
             ],
             [
              0.6666666666666666,
              "#ed7953"
             ],
             [
              0.7777777777777778,
              "#fb9f3a"
             ],
             [
              0.8888888888888888,
              "#fdca26"
             ],
             [
              1,
              "#f0f921"
             ]
            ],
            "type": "contour"
           }
          ],
          "contourcarpet": [
           {
            "colorbar": {
             "outlinewidth": 0,
             "ticks": ""
            },
            "type": "contourcarpet"
           }
          ],
          "heatmap": [
           {
            "colorbar": {
             "outlinewidth": 0,
             "ticks": ""
            },
            "colorscale": [
             [
              0,
              "#0d0887"
             ],
             [
              0.1111111111111111,
              "#46039f"
             ],
             [
              0.2222222222222222,
              "#7201a8"
             ],
             [
              0.3333333333333333,
              "#9c179e"
             ],
             [
              0.4444444444444444,
              "#bd3786"
             ],
             [
              0.5555555555555556,
              "#d8576b"
             ],
             [
              0.6666666666666666,
              "#ed7953"
             ],
             [
              0.7777777777777778,
              "#fb9f3a"
             ],
             [
              0.8888888888888888,
              "#fdca26"
             ],
             [
              1,
              "#f0f921"
             ]
            ],
            "type": "heatmap"
           }
          ],
          "heatmapgl": [
           {
            "colorbar": {
             "outlinewidth": 0,
             "ticks": ""
            },
            "colorscale": [
             [
              0,
              "#0d0887"
             ],
             [
              0.1111111111111111,
              "#46039f"
             ],
             [
              0.2222222222222222,
              "#7201a8"
             ],
             [
              0.3333333333333333,
              "#9c179e"
             ],
             [
              0.4444444444444444,
              "#bd3786"
             ],
             [
              0.5555555555555556,
              "#d8576b"
             ],
             [
              0.6666666666666666,
              "#ed7953"
             ],
             [
              0.7777777777777778,
              "#fb9f3a"
             ],
             [
              0.8888888888888888,
              "#fdca26"
             ],
             [
              1,
              "#f0f921"
             ]
            ],
            "type": "heatmapgl"
           }
          ],
          "histogram": [
           {
            "marker": {
             "pattern": {
              "fillmode": "overlay",
              "size": 10,
              "solidity": 0.2
             }
            },
            "type": "histogram"
           }
          ],
          "histogram2d": [
           {
            "colorbar": {
             "outlinewidth": 0,
             "ticks": ""
            },
            "colorscale": [
             [
              0,
              "#0d0887"
             ],
             [
              0.1111111111111111,
              "#46039f"
             ],
             [
              0.2222222222222222,
              "#7201a8"
             ],
             [
              0.3333333333333333,
              "#9c179e"
             ],
             [
              0.4444444444444444,
              "#bd3786"
             ],
             [
              0.5555555555555556,
              "#d8576b"
             ],
             [
              0.6666666666666666,
              "#ed7953"
             ],
             [
              0.7777777777777778,
              "#fb9f3a"
             ],
             [
              0.8888888888888888,
              "#fdca26"
             ],
             [
              1,
              "#f0f921"
             ]
            ],
            "type": "histogram2d"
           }
          ],
          "histogram2dcontour": [
           {
            "colorbar": {
             "outlinewidth": 0,
             "ticks": ""
            },
            "colorscale": [
             [
              0,
              "#0d0887"
             ],
             [
              0.1111111111111111,
              "#46039f"
             ],
             [
              0.2222222222222222,
              "#7201a8"
             ],
             [
              0.3333333333333333,
              "#9c179e"
             ],
             [
              0.4444444444444444,
              "#bd3786"
             ],
             [
              0.5555555555555556,
              "#d8576b"
             ],
             [
              0.6666666666666666,
              "#ed7953"
             ],
             [
              0.7777777777777778,
              "#fb9f3a"
             ],
             [
              0.8888888888888888,
              "#fdca26"
             ],
             [
              1,
              "#f0f921"
             ]
            ],
            "type": "histogram2dcontour"
           }
          ],
          "mesh3d": [
           {
            "colorbar": {
             "outlinewidth": 0,
             "ticks": ""
            },
            "type": "mesh3d"
           }
          ],
          "parcoords": [
           {
            "line": {
             "colorbar": {
              "outlinewidth": 0,
              "ticks": ""
             }
            },
            "type": "parcoords"
           }
          ],
          "pie": [
           {
            "automargin": true,
            "type": "pie"
           }
          ],
          "scatter": [
           {
            "fillpattern": {
             "fillmode": "overlay",
             "size": 10,
             "solidity": 0.2
            },
            "type": "scatter"
           }
          ],
          "scatter3d": [
           {
            "line": {
             "colorbar": {
              "outlinewidth": 0,
              "ticks": ""
             }
            },
            "marker": {
             "colorbar": {
              "outlinewidth": 0,
              "ticks": ""
             }
            },
            "type": "scatter3d"
           }
          ],
          "scattercarpet": [
           {
            "marker": {
             "colorbar": {
              "outlinewidth": 0,
              "ticks": ""
             }
            },
            "type": "scattercarpet"
           }
          ],
          "scattergeo": [
           {
            "marker": {
             "colorbar": {
              "outlinewidth": 0,
              "ticks": ""
             }
            },
            "type": "scattergeo"
           }
          ],
          "scattergl": [
           {
            "marker": {
             "colorbar": {
              "outlinewidth": 0,
              "ticks": ""
             }
            },
            "type": "scattergl"
           }
          ],
          "scattermapbox": [
           {
            "marker": {
             "colorbar": {
              "outlinewidth": 0,
              "ticks": ""
             }
            },
            "type": "scattermapbox"
           }
          ],
          "scatterpolar": [
           {
            "marker": {
             "colorbar": {
              "outlinewidth": 0,
              "ticks": ""
             }
            },
            "type": "scatterpolar"
           }
          ],
          "scatterpolargl": [
           {
            "marker": {
             "colorbar": {
              "outlinewidth": 0,
              "ticks": ""
             }
            },
            "type": "scatterpolargl"
           }
          ],
          "scatterternary": [
           {
            "marker": {
             "colorbar": {
              "outlinewidth": 0,
              "ticks": ""
             }
            },
            "type": "scatterternary"
           }
          ],
          "surface": [
           {
            "colorbar": {
             "outlinewidth": 0,
             "ticks": ""
            },
            "colorscale": [
             [
              0,
              "#0d0887"
             ],
             [
              0.1111111111111111,
              "#46039f"
             ],
             [
              0.2222222222222222,
              "#7201a8"
             ],
             [
              0.3333333333333333,
              "#9c179e"
             ],
             [
              0.4444444444444444,
              "#bd3786"
             ],
             [
              0.5555555555555556,
              "#d8576b"
             ],
             [
              0.6666666666666666,
              "#ed7953"
             ],
             [
              0.7777777777777778,
              "#fb9f3a"
             ],
             [
              0.8888888888888888,
              "#fdca26"
             ],
             [
              1,
              "#f0f921"
             ]
            ],
            "type": "surface"
           }
          ],
          "table": [
           {
            "cells": {
             "fill": {
              "color": "#EBF0F8"
             },
             "line": {
              "color": "white"
             }
            },
            "header": {
             "fill": {
              "color": "#C8D4E3"
             },
             "line": {
              "color": "white"
             }
            },
            "type": "table"
           }
          ]
         },
         "layout": {
          "annotationdefaults": {
           "arrowcolor": "#2a3f5f",
           "arrowhead": 0,
           "arrowwidth": 1
          },
          "autotypenumbers": "strict",
          "coloraxis": {
           "colorbar": {
            "outlinewidth": 0,
            "ticks": ""
           }
          },
          "colorscale": {
           "diverging": [
            [
             0,
             "#8e0152"
            ],
            [
             0.1,
             "#c51b7d"
            ],
            [
             0.2,
             "#de77ae"
            ],
            [
             0.3,
             "#f1b6da"
            ],
            [
             0.4,
             "#fde0ef"
            ],
            [
             0.5,
             "#f7f7f7"
            ],
            [
             0.6,
             "#e6f5d0"
            ],
            [
             0.7,
             "#b8e186"
            ],
            [
             0.8,
             "#7fbc41"
            ],
            [
             0.9,
             "#4d9221"
            ],
            [
             1,
             "#276419"
            ]
           ],
           "sequential": [
            [
             0,
             "#0d0887"
            ],
            [
             0.1111111111111111,
             "#46039f"
            ],
            [
             0.2222222222222222,
             "#7201a8"
            ],
            [
             0.3333333333333333,
             "#9c179e"
            ],
            [
             0.4444444444444444,
             "#bd3786"
            ],
            [
             0.5555555555555556,
             "#d8576b"
            ],
            [
             0.6666666666666666,
             "#ed7953"
            ],
            [
             0.7777777777777778,
             "#fb9f3a"
            ],
            [
             0.8888888888888888,
             "#fdca26"
            ],
            [
             1,
             "#f0f921"
            ]
           ],
           "sequentialminus": [
            [
             0,
             "#0d0887"
            ],
            [
             0.1111111111111111,
             "#46039f"
            ],
            [
             0.2222222222222222,
             "#7201a8"
            ],
            [
             0.3333333333333333,
             "#9c179e"
            ],
            [
             0.4444444444444444,
             "#bd3786"
            ],
            [
             0.5555555555555556,
             "#d8576b"
            ],
            [
             0.6666666666666666,
             "#ed7953"
            ],
            [
             0.7777777777777778,
             "#fb9f3a"
            ],
            [
             0.8888888888888888,
             "#fdca26"
            ],
            [
             1,
             "#f0f921"
            ]
           ]
          },
          "colorway": [
           "#636efa",
           "#EF553B",
           "#00cc96",
           "#ab63fa",
           "#FFA15A",
           "#19d3f3",
           "#FF6692",
           "#B6E880",
           "#FF97FF",
           "#FECB52"
          ],
          "font": {
           "color": "#2a3f5f"
          },
          "geo": {
           "bgcolor": "white",
           "lakecolor": "white",
           "landcolor": "#E5ECF6",
           "showlakes": true,
           "showland": true,
           "subunitcolor": "white"
          },
          "hoverlabel": {
           "align": "left"
          },
          "hovermode": "closest",
          "mapbox": {
           "style": "light"
          },
          "paper_bgcolor": "white",
          "plot_bgcolor": "#E5ECF6",
          "polar": {
           "angularaxis": {
            "gridcolor": "white",
            "linecolor": "white",
            "ticks": ""
           },
           "bgcolor": "#E5ECF6",
           "radialaxis": {
            "gridcolor": "white",
            "linecolor": "white",
            "ticks": ""
           }
          },
          "scene": {
           "xaxis": {
            "backgroundcolor": "#E5ECF6",
            "gridcolor": "white",
            "gridwidth": 2,
            "linecolor": "white",
            "showbackground": true,
            "ticks": "",
            "zerolinecolor": "white"
           },
           "yaxis": {
            "backgroundcolor": "#E5ECF6",
            "gridcolor": "white",
            "gridwidth": 2,
            "linecolor": "white",
            "showbackground": true,
            "ticks": "",
            "zerolinecolor": "white"
           },
           "zaxis": {
            "backgroundcolor": "#E5ECF6",
            "gridcolor": "white",
            "gridwidth": 2,
            "linecolor": "white",
            "showbackground": true,
            "ticks": "",
            "zerolinecolor": "white"
           }
          },
          "shapedefaults": {
           "line": {
            "color": "#2a3f5f"
           }
          },
          "ternary": {
           "aaxis": {
            "gridcolor": "white",
            "linecolor": "white",
            "ticks": ""
           },
           "baxis": {
            "gridcolor": "white",
            "linecolor": "white",
            "ticks": ""
           },
           "bgcolor": "#E5ECF6",
           "caxis": {
            "gridcolor": "white",
            "linecolor": "white",
            "ticks": ""
           }
          },
          "title": {
           "x": 0.05
          },
          "xaxis": {
           "automargin": true,
           "gridcolor": "white",
           "linecolor": "white",
           "ticks": "",
           "title": {
            "standoff": 15
           },
           "zerolinecolor": "white",
           "zerolinewidth": 2
          },
          "yaxis": {
           "automargin": true,
           "gridcolor": "white",
           "linecolor": "white",
           "ticks": "",
           "title": {
            "standoff": 15
           },
           "zerolinecolor": "white",
           "zerolinewidth": 2
          }
         }
        },
        "title": {
         "font": {
          "color": "#4D5663"
         },
         "text": "Calls by Hour and Day"
        },
        "xaxis": {
         "gridcolor": "#E1E5ED",
         "showgrid": true,
         "tickfont": {
          "color": "#4D5663"
         },
         "title": {
          "font": {
           "color": "#4D5663"
          },
          "text": "Hour"
         },
         "zerolinecolor": "#E1E5ED"
        },
        "yaxis": {
         "gridcolor": "#E1E5ED",
         "showgrid": true,
         "tickfont": {
          "color": "#4D5663"
         },
         "title": {
          "font": {
           "color": "#4D5663"
          },
          "text": "Day of Week"
         },
         "zerolinecolor": "#E1E5ED"
        }
       }
      },
      "text/html": [
       "<div>                            <div id=\"09ae6e02-2b78-4045-946b-40167deffa7f\" class=\"plotly-graph-div\" style=\"height:525px; width:100%;\"></div>            <script type=\"text/javascript\">                require([\"plotly\"], function(Plotly) {                    window.PLOTLYENV=window.PLOTLYENV || {};\n",
       "                    window.PLOTLYENV.BASE_URL='https://plot.ly';                                    if (document.getElementById(\"09ae6e02-2b78-4045-946b-40167deffa7f\")) {                    Plotly.newPlot(                        \"09ae6e02-2b78-4045-946b-40167deffa7f\",                        [{\"colorscale\":[[0.0,\"rgb(255, 153, 51)\"],[0.1111111111111111,\"rgb(55, 128, 191)\"],[0.2222222222222222,\"rgb(50, 171, 96)\"],[0.3333333333333333,\"rgb(128, 0, 128)\"],[0.4444444444444444,\"rgb(219, 64, 82)\"],[0.5555555555555556,\"rgb(0, 128, 128)\"],[0.6666666666666666,\"rgb(255, 255, 51)\"],[0.7777777777777778,\"rgb(128, 128, 0)\"],[0.8888888888888888,\"rgb(251, 128, 114)\"],[1.0,\"rgb(128, 177, 211)\"]],\"x\":[\"Fri\",\"Mon\",\"Sat\",\"Sun\",\"Thu\",\"Tue\",\"Wed\"],\"y\":[0,1,2,3,4,5,6,7,8,9,10,11,12,13,14,15,16,17,18,19,20,21,22,23],\"z\":[[275,282,375,383,278,269,250],[235,221,301,306,202,240,216],[191,201,263,286,233,186,189],[175,194,260,268,159,170,209],[201,204,224,242,182,209,156],[194,267,231,240,203,239,255],[372,397,257,300,362,415,410],[598,653,391,402,570,655,701],[742,819,459,483,777,889,875],[752,786,640,620,828,880,808],[803,793,697,643,837,840,800],[859,822,769,693,773,838,789],[885,893,801,771,889,887,903],[890,842,831,679,936,917,872],[932,869,789,684,876,943,904],[980,913,796,691,969,938,867],[1039,989,848,663,935,1026,990],[980,997,757,714,1013,1019,1037],[820,885,778,670,810,905,894],[696,746,696,655,698,731,686],[667,613,628,537,617,647,668],[559,497,572,461,553,571,575],[514,472,506,415,424,462,490],[474,325,467,330,354,274,335]],\"zmax\":1039,\"zmin\":156,\"type\":\"heatmap\"}],                        {\"legend\":{\"bgcolor\":\"#F5F6F9\",\"font\":{\"color\":\"#4D5663\"}},\"paper_bgcolor\":\"#F5F6F9\",\"plot_bgcolor\":\"#F5F6F9\",\"template\":{\"data\":{\"barpolar\":[{\"marker\":{\"line\":{\"color\":\"#E5ECF6\",\"width\":0.5},\"pattern\":{\"fillmode\":\"overlay\",\"size\":10,\"solidity\":0.2}},\"type\":\"barpolar\"}],\"bar\":[{\"error_x\":{\"color\":\"#2a3f5f\"},\"error_y\":{\"color\":\"#2a3f5f\"},\"marker\":{\"line\":{\"color\":\"#E5ECF6\",\"width\":0.5},\"pattern\":{\"fillmode\":\"overlay\",\"size\":10,\"solidity\":0.2}},\"type\":\"bar\"}],\"carpet\":[{\"aaxis\":{\"endlinecolor\":\"#2a3f5f\",\"gridcolor\":\"white\",\"linecolor\":\"white\",\"minorgridcolor\":\"white\",\"startlinecolor\":\"#2a3f5f\"},\"baxis\":{\"endlinecolor\":\"#2a3f5f\",\"gridcolor\":\"white\",\"linecolor\":\"white\",\"minorgridcolor\":\"white\",\"startlinecolor\":\"#2a3f5f\"},\"type\":\"carpet\"}],\"choropleth\":[{\"colorbar\":{\"outlinewidth\":0,\"ticks\":\"\"},\"type\":\"choropleth\"}],\"contourcarpet\":[{\"colorbar\":{\"outlinewidth\":0,\"ticks\":\"\"},\"type\":\"contourcarpet\"}],\"contour\":[{\"colorbar\":{\"outlinewidth\":0,\"ticks\":\"\"},\"colorscale\":[[0.0,\"#0d0887\"],[0.1111111111111111,\"#46039f\"],[0.2222222222222222,\"#7201a8\"],[0.3333333333333333,\"#9c179e\"],[0.4444444444444444,\"#bd3786\"],[0.5555555555555556,\"#d8576b\"],[0.6666666666666666,\"#ed7953\"],[0.7777777777777778,\"#fb9f3a\"],[0.8888888888888888,\"#fdca26\"],[1.0,\"#f0f921\"]],\"type\":\"contour\"}],\"heatmapgl\":[{\"colorbar\":{\"outlinewidth\":0,\"ticks\":\"\"},\"colorscale\":[[0.0,\"#0d0887\"],[0.1111111111111111,\"#46039f\"],[0.2222222222222222,\"#7201a8\"],[0.3333333333333333,\"#9c179e\"],[0.4444444444444444,\"#bd3786\"],[0.5555555555555556,\"#d8576b\"],[0.6666666666666666,\"#ed7953\"],[0.7777777777777778,\"#fb9f3a\"],[0.8888888888888888,\"#fdca26\"],[1.0,\"#f0f921\"]],\"type\":\"heatmapgl\"}],\"heatmap\":[{\"colorbar\":{\"outlinewidth\":0,\"ticks\":\"\"},\"colorscale\":[[0.0,\"#0d0887\"],[0.1111111111111111,\"#46039f\"],[0.2222222222222222,\"#7201a8\"],[0.3333333333333333,\"#9c179e\"],[0.4444444444444444,\"#bd3786\"],[0.5555555555555556,\"#d8576b\"],[0.6666666666666666,\"#ed7953\"],[0.7777777777777778,\"#fb9f3a\"],[0.8888888888888888,\"#fdca26\"],[1.0,\"#f0f921\"]],\"type\":\"heatmap\"}],\"histogram2dcontour\":[{\"colorbar\":{\"outlinewidth\":0,\"ticks\":\"\"},\"colorscale\":[[0.0,\"#0d0887\"],[0.1111111111111111,\"#46039f\"],[0.2222222222222222,\"#7201a8\"],[0.3333333333333333,\"#9c179e\"],[0.4444444444444444,\"#bd3786\"],[0.5555555555555556,\"#d8576b\"],[0.6666666666666666,\"#ed7953\"],[0.7777777777777778,\"#fb9f3a\"],[0.8888888888888888,\"#fdca26\"],[1.0,\"#f0f921\"]],\"type\":\"histogram2dcontour\"}],\"histogram2d\":[{\"colorbar\":{\"outlinewidth\":0,\"ticks\":\"\"},\"colorscale\":[[0.0,\"#0d0887\"],[0.1111111111111111,\"#46039f\"],[0.2222222222222222,\"#7201a8\"],[0.3333333333333333,\"#9c179e\"],[0.4444444444444444,\"#bd3786\"],[0.5555555555555556,\"#d8576b\"],[0.6666666666666666,\"#ed7953\"],[0.7777777777777778,\"#fb9f3a\"],[0.8888888888888888,\"#fdca26\"],[1.0,\"#f0f921\"]],\"type\":\"histogram2d\"}],\"histogram\":[{\"marker\":{\"pattern\":{\"fillmode\":\"overlay\",\"size\":10,\"solidity\":0.2}},\"type\":\"histogram\"}],\"mesh3d\":[{\"colorbar\":{\"outlinewidth\":0,\"ticks\":\"\"},\"type\":\"mesh3d\"}],\"parcoords\":[{\"line\":{\"colorbar\":{\"outlinewidth\":0,\"ticks\":\"\"}},\"type\":\"parcoords\"}],\"pie\":[{\"automargin\":true,\"type\":\"pie\"}],\"scatter3d\":[{\"line\":{\"colorbar\":{\"outlinewidth\":0,\"ticks\":\"\"}},\"marker\":{\"colorbar\":{\"outlinewidth\":0,\"ticks\":\"\"}},\"type\":\"scatter3d\"}],\"scattercarpet\":[{\"marker\":{\"colorbar\":{\"outlinewidth\":0,\"ticks\":\"\"}},\"type\":\"scattercarpet\"}],\"scattergeo\":[{\"marker\":{\"colorbar\":{\"outlinewidth\":0,\"ticks\":\"\"}},\"type\":\"scattergeo\"}],\"scattergl\":[{\"marker\":{\"colorbar\":{\"outlinewidth\":0,\"ticks\":\"\"}},\"type\":\"scattergl\"}],\"scattermapbox\":[{\"marker\":{\"colorbar\":{\"outlinewidth\":0,\"ticks\":\"\"}},\"type\":\"scattermapbox\"}],\"scatterpolargl\":[{\"marker\":{\"colorbar\":{\"outlinewidth\":0,\"ticks\":\"\"}},\"type\":\"scatterpolargl\"}],\"scatterpolar\":[{\"marker\":{\"colorbar\":{\"outlinewidth\":0,\"ticks\":\"\"}},\"type\":\"scatterpolar\"}],\"scatter\":[{\"fillpattern\":{\"fillmode\":\"overlay\",\"size\":10,\"solidity\":0.2},\"type\":\"scatter\"}],\"scatterternary\":[{\"marker\":{\"colorbar\":{\"outlinewidth\":0,\"ticks\":\"\"}},\"type\":\"scatterternary\"}],\"surface\":[{\"colorbar\":{\"outlinewidth\":0,\"ticks\":\"\"},\"colorscale\":[[0.0,\"#0d0887\"],[0.1111111111111111,\"#46039f\"],[0.2222222222222222,\"#7201a8\"],[0.3333333333333333,\"#9c179e\"],[0.4444444444444444,\"#bd3786\"],[0.5555555555555556,\"#d8576b\"],[0.6666666666666666,\"#ed7953\"],[0.7777777777777778,\"#fb9f3a\"],[0.8888888888888888,\"#fdca26\"],[1.0,\"#f0f921\"]],\"type\":\"surface\"}],\"table\":[{\"cells\":{\"fill\":{\"color\":\"#EBF0F8\"},\"line\":{\"color\":\"white\"}},\"header\":{\"fill\":{\"color\":\"#C8D4E3\"},\"line\":{\"color\":\"white\"}},\"type\":\"table\"}]},\"layout\":{\"annotationdefaults\":{\"arrowcolor\":\"#2a3f5f\",\"arrowhead\":0,\"arrowwidth\":1},\"autotypenumbers\":\"strict\",\"coloraxis\":{\"colorbar\":{\"outlinewidth\":0,\"ticks\":\"\"}},\"colorscale\":{\"diverging\":[[0,\"#8e0152\"],[0.1,\"#c51b7d\"],[0.2,\"#de77ae\"],[0.3,\"#f1b6da\"],[0.4,\"#fde0ef\"],[0.5,\"#f7f7f7\"],[0.6,\"#e6f5d0\"],[0.7,\"#b8e186\"],[0.8,\"#7fbc41\"],[0.9,\"#4d9221\"],[1,\"#276419\"]],\"sequential\":[[0.0,\"#0d0887\"],[0.1111111111111111,\"#46039f\"],[0.2222222222222222,\"#7201a8\"],[0.3333333333333333,\"#9c179e\"],[0.4444444444444444,\"#bd3786\"],[0.5555555555555556,\"#d8576b\"],[0.6666666666666666,\"#ed7953\"],[0.7777777777777778,\"#fb9f3a\"],[0.8888888888888888,\"#fdca26\"],[1.0,\"#f0f921\"]],\"sequentialminus\":[[0.0,\"#0d0887\"],[0.1111111111111111,\"#46039f\"],[0.2222222222222222,\"#7201a8\"],[0.3333333333333333,\"#9c179e\"],[0.4444444444444444,\"#bd3786\"],[0.5555555555555556,\"#d8576b\"],[0.6666666666666666,\"#ed7953\"],[0.7777777777777778,\"#fb9f3a\"],[0.8888888888888888,\"#fdca26\"],[1.0,\"#f0f921\"]]},\"colorway\":[\"#636efa\",\"#EF553B\",\"#00cc96\",\"#ab63fa\",\"#FFA15A\",\"#19d3f3\",\"#FF6692\",\"#B6E880\",\"#FF97FF\",\"#FECB52\"],\"font\":{\"color\":\"#2a3f5f\"},\"geo\":{\"bgcolor\":\"white\",\"lakecolor\":\"white\",\"landcolor\":\"#E5ECF6\",\"showlakes\":true,\"showland\":true,\"subunitcolor\":\"white\"},\"hoverlabel\":{\"align\":\"left\"},\"hovermode\":\"closest\",\"mapbox\":{\"style\":\"light\"},\"paper_bgcolor\":\"white\",\"plot_bgcolor\":\"#E5ECF6\",\"polar\":{\"angularaxis\":{\"gridcolor\":\"white\",\"linecolor\":\"white\",\"ticks\":\"\"},\"bgcolor\":\"#E5ECF6\",\"radialaxis\":{\"gridcolor\":\"white\",\"linecolor\":\"white\",\"ticks\":\"\"}},\"scene\":{\"xaxis\":{\"backgroundcolor\":\"#E5ECF6\",\"gridcolor\":\"white\",\"gridwidth\":2,\"linecolor\":\"white\",\"showbackground\":true,\"ticks\":\"\",\"zerolinecolor\":\"white\"},\"yaxis\":{\"backgroundcolor\":\"#E5ECF6\",\"gridcolor\":\"white\",\"gridwidth\":2,\"linecolor\":\"white\",\"showbackground\":true,\"ticks\":\"\",\"zerolinecolor\":\"white\"},\"zaxis\":{\"backgroundcolor\":\"#E5ECF6\",\"gridcolor\":\"white\",\"gridwidth\":2,\"linecolor\":\"white\",\"showbackground\":true,\"ticks\":\"\",\"zerolinecolor\":\"white\"}},\"shapedefaults\":{\"line\":{\"color\":\"#2a3f5f\"}},\"ternary\":{\"aaxis\":{\"gridcolor\":\"white\",\"linecolor\":\"white\",\"ticks\":\"\"},\"baxis\":{\"gridcolor\":\"white\",\"linecolor\":\"white\",\"ticks\":\"\"},\"bgcolor\":\"#E5ECF6\",\"caxis\":{\"gridcolor\":\"white\",\"linecolor\":\"white\",\"ticks\":\"\"}},\"title\":{\"x\":0.05},\"xaxis\":{\"automargin\":true,\"gridcolor\":\"white\",\"linecolor\":\"white\",\"ticks\":\"\",\"title\":{\"standoff\":15},\"zerolinecolor\":\"white\",\"zerolinewidth\":2},\"yaxis\":{\"automargin\":true,\"gridcolor\":\"white\",\"linecolor\":\"white\",\"ticks\":\"\",\"title\":{\"standoff\":15},\"zerolinecolor\":\"white\",\"zerolinewidth\":2}}},\"title\":{\"font\":{\"color\":\"#4D5663\"},\"text\":\"Calls by Hour and Day\"},\"xaxis\":{\"gridcolor\":\"#E1E5ED\",\"showgrid\":true,\"tickfont\":{\"color\":\"#4D5663\"},\"title\":{\"font\":{\"color\":\"#4D5663\"},\"text\":\"Hour\"},\"zerolinecolor\":\"#E1E5ED\"},\"yaxis\":{\"gridcolor\":\"#E1E5ED\",\"showgrid\":true,\"tickfont\":{\"color\":\"#4D5663\"},\"title\":{\"font\":{\"color\":\"#4D5663\"},\"text\":\"Day of Week\"},\"zerolinecolor\":\"#E1E5ED\"}},                        {\"showLink\": true, \"linkText\": \"Export to plot.ly\", \"plotlyServerURL\": \"https://plot.ly\", \"responsive\": true}                    ).then(function(){\n",
       "                            \n",
       "var gd = document.getElementById('09ae6e02-2b78-4045-946b-40167deffa7f');\n",
       "var x = new MutationObserver(function (mutations, observer) {{\n",
       "        var display = window.getComputedStyle(gd).display;\n",
       "        if (!display || display === 'none') {{\n",
       "            console.log([gd, 'removed!']);\n",
       "            Plotly.purge(gd);\n",
       "            observer.disconnect();\n",
       "        }}\n",
       "}});\n",
       "\n",
       "// Listen for the removal of the full notebook cells\n",
       "var notebookContainer = gd.closest('#notebook-container');\n",
       "if (notebookContainer) {{\n",
       "    x.observe(notebookContainer, {childList: true});\n",
       "}}\n",
       "\n",
       "// Listen for the clearing of the current output cell\n",
       "var outputEl = gd.closest('.output');\n",
       "if (outputEl) {{\n",
       "    x.observe(outputEl, {childList: true});\n",
       "}}\n",
       "\n",
       "                        })                };                });            </script>        </div>"
      ]
     },
     "metadata": {},
     "output_type": "display_data"
    }
   ],
   "source": [
    "calls_by_hour_day.iplot(kind='heatmap', title='Calls by Hour and Day',\n",
    "                         xTitle='Hour', yTitle='Day of Week')\n",
    "#heatmap of the calls by hour and day of the week\n",
    "#we can see that most calls are made during the day time on weekdays\n",
    "#and there are fewer calls during the night time on weekdays"
   ]
  },
  {
   "cell_type": "code",
   "execution_count": null,
   "metadata": {},
   "outputs": [],
   "source": [
    "#Hence, our effort on EDA is complete!\n",
    "#We have visualized the data to understand the patterns in the 911 calls\n",
    "#We have also found some interesting insights from the data\n",
    "#We have also used plotly to make our plots more interactive and informative\n",
    "#We have also used plotly to plot the 911 calls on the map of USA\n",
    "#We have also used plotly to plot the heatmap of the calls by hour and day of the week"
   ]
  }
 ],
 "metadata": {
  "kernelspec": {
   "display_name": "base",
   "language": "python",
   "name": "python3"
  },
  "language_info": {
   "codemirror_mode": {
    "name": "ipython",
    "version": 3
   },
   "file_extension": ".py",
   "mimetype": "text/x-python",
   "name": "python",
   "nbconvert_exporter": "python",
   "pygments_lexer": "ipython3",
   "version": "3.12.7"
  }
 },
 "nbformat": 4,
 "nbformat_minor": 2
}
